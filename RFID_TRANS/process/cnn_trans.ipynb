{
 "cells": [
  {
   "cell_type": "markdown",
   "metadata": {},
   "source": [
    "## CTT模型"
   ]
  },
  {
   "cell_type": "code",
   "execution_count": 1,
   "metadata": {
    "collapsed": false,
    "jupyter": {
     "outputs_hidden": false
    }
   },
   "outputs": [],
   "source": [
    "import copy\n",
    "import torch\n",
    "import math\n",
    "import numpy as np\n",
    "import pandas as pd\n",
    "import geatpy as ea\n",
    "from tqdm import tqdm\n",
    "from multiprocessing.dummy import Pool as ThreadPool\n",
    "from torch import nn\n",
    "from torch import optim\n",
    "import torch.nn.functional as F\n",
    "import matplotlib.pyplot as plt\n",
    "import utils.calculate_param as cp\n",
    "from dataset import data_read\n",
    "from torch.utils.data import TensorDataset\n",
    "from torch.utils.data import DataLoader\n",
    "from sklearn.metrics import mean_absolute_error, explained_variance_score, r2_score, mean_squared_error"
   ]
  },
  {
   "cell_type": "code",
   "execution_count": 55,
   "outputs": [
    {
     "data": {
      "text/plain": "device(type='cpu')"
     },
     "execution_count": 55,
     "metadata": {},
     "output_type": "execute_result"
    }
   ],
   "source": [
    "device = torch.device(\"cuda:0\" if torch.cuda.is_available() else \"cpu\")\n",
    "device"
   ],
   "metadata": {
    "collapsed": false
   }
  },
  {
   "cell_type": "code",
   "execution_count": 56,
   "outputs": [
    {
     "data": {
      "text/plain": "(2000, 50)"
     },
     "execution_count": 56,
     "metadata": {},
     "output_type": "execute_result"
    }
   ],
   "source": [
    "X_train, y_train = data_read.load_data('train')\n",
    "X_test, y_test = data_read.load_data('test')\n",
    "\n",
    "X_train.shape"
   ],
   "metadata": {
    "collapsed": false
   }
  },
  {
   "cell_type": "code",
   "execution_count": 57,
   "outputs": [
    {
     "data": {
      "text/plain": "torch.Size([2000, 50])"
     },
     "execution_count": 57,
     "metadata": {},
     "output_type": "execute_result"
    }
   ],
   "source": [
    "X_train = torch.from_numpy(X_train).float().to(device) # [len * feature]\n",
    "y_train = torch.from_numpy(y_train).float().to(device)\n",
    "X_test = torch.from_numpy(X_test).float().to(device) # [len * feature]\n",
    "y_test = torch.from_numpy(y_test).float().to(device)\n",
    "\n",
    "X_train.shape"
   ],
   "metadata": {
    "collapsed": false
   }
  },
  {
   "cell_type": "code",
   "execution_count": 58,
   "outputs": [],
   "source": [
    "train_data_loader = DataLoader(TensorDataset(X_train, y_train), batch_size=100, shuffle=False)\n",
    "test_data_loader = DataLoader(TensorDataset(X_test, y_test), batch_size=100, shuffle=False)"
   ],
   "metadata": {
    "collapsed": false
   }
  },
  {
   "cell_type": "code",
   "execution_count": 79,
   "outputs": [],
   "source": [
    "# CNN\n",
    "class CNN(nn.Module):\n",
    "    def __init__(self):\n",
    "        super(CNN,self).__init__()\n",
    "        self.conv1 = nn.Sequential(\n",
    "            nn.Conv2d(in_channels=1, out_channels=3, kernel_size=7),\n",
    "            nn.ReLU(),\n",
    "            nn.MaxPool2d(kernel_size=2)\n",
    "        )\n",
    "        self.conv2 = nn.Sequential(\n",
    "            nn.Conv2d(in_channels=3, out_channels=6, kernel_size=7),\n",
    "            nn.ReLU(),\n",
    "            nn.MaxPool2d(kernel_size=2)\n",
    "        )\n",
    "        self.out=nn.Linear(960, 50)\n",
    "\n",
    "    def forward(self, x):\n",
    "        x= self.conv1(x)\n",
    "        # print(x.shape)\n",
    "        x= self.conv2(x)\n",
    "        # print(x.shape)\n",
    "        x= x.view(-1, x.size(0) * x.size(1) * x.size(2))\n",
    "        # print(x.shape)\n",
    "        out = self.out(x)\n",
    "        return out\n",
    "\n",
    "# 位置编码类\n",
    "class PositionalEncoding(nn.Module):\n",
    "    def __init__(self, d_model, max_len=5000):\n",
    "        super(PositionalEncoding, self).__init__()\n",
    "        pe = torch.zeros(max_len, d_model)\n",
    "        position = torch.arange(0, max_len, dtype=torch.float).unsqueeze(1)\n",
    "        div_term = torch.exp(torch.arange(0, d_model, 2).float() * (-math.log(10000.0) / d_model))\n",
    "        pe[:, 0::2] = torch.sin(position * div_term)\n",
    "        pe[:, 1::2] = torch.cos(position * div_term)\n",
    "        pe = pe.unsqueeze(0).transpose(0, 1)\n",
    "        self.register_buffer('pe', pe)\n",
    "\n",
    "    def forward(self, x):\n",
    "        out = x + self.pe[:x.size(0), :]\n",
    "        return out\n",
    "\n",
    "# 教师模型类\n",
    "class TeacherTransformer(nn.Module):\n",
    "    def __init__(self):\n",
    "        super(TeacherTransformer, self).__init__()\n",
    "        self.cnn = CNN()\n",
    "        self.d_model = 128  # 词向量维度\n",
    "        self.embedding_enc = nn.Linear(50, self.d_model)\n",
    "        self.embedding_dec = nn.Linear(2, self.d_model)\n",
    "        self.pos_encoding = PositionalEncoding(self.d_model)\n",
    "        self.Transformer_layer = nn.Transformer(d_model=128, num_encoder_layers=3, num_decoder_layers=3, batch_first=True)\n",
    "        self.FC_layer = nn.Linear(128, 2)\n",
    "\n",
    "    def forward(self, src, tgt):\n",
    "        # rssi进行cnn特征提取\n",
    "        src = src.unsqueeze(0)\n",
    "        src = self.cnn(src)\n",
    "        # print(src.shape)\n",
    "\n",
    "        # 使用线性层代替embedding\n",
    "        src = self.embedding_enc(src).unsqueeze(0)\n",
    "        tgt = self.embedding_dec(tgt).unsqueeze(0)\n",
    "        src = self.pos_encoding(src)\n",
    "        out = self.Transformer_layer(src, tgt)\n",
    "        out = self.FC_layer(out)\n",
    "        return out\n",
    "\n"
   ],
   "metadata": {
    "collapsed": false
   }
  },
  {
   "cell_type": "code",
   "execution_count": 80,
   "outputs": [],
   "source": [
    "model = TeacherTransformer().to(device)\n",
    "criterion = nn.MSELoss()\n",
    "optimizer = optim.SGD(model.parameters(), lr=1e-3, momentum=0.99)"
   ],
   "metadata": {
    "collapsed": false
   }
  },
  {
   "cell_type": "code",
   "execution_count": 81,
   "outputs": [
    {
     "name": "stdout",
     "output_type": "stream",
     "text": [
      "torchinfo信息如下：\n",
      "===============================================================================================\n",
      "Layer (type:depth-idx)                                                 Param #\n",
      "===============================================================================================\n",
      "TeacherTransformer                                                     --\n",
      "├─CNN: 1-1                                                             --\n",
      "│    └─Sequential: 2-1                                                 --\n",
      "│    │    └─Conv2d: 3-1                                                150\n",
      "│    │    └─ReLU: 3-2                                                  --\n",
      "│    │    └─MaxPool2d: 3-3                                             --\n",
      "│    └─Sequential: 2-2                                                 --\n",
      "│    │    └─Conv2d: 3-4                                                888\n",
      "│    │    └─ReLU: 3-5                                                  --\n",
      "│    │    └─MaxPool2d: 3-6                                             --\n",
      "│    └─Linear: 2-3                                                     48,050\n",
      "├─Linear: 1-2                                                          6,528\n",
      "├─Linear: 1-3                                                          384\n",
      "├─PositionalEncoding: 1-4                                              --\n",
      "├─Transformer: 1-5                                                     --\n",
      "│    └─TransformerEncoder: 2-4                                         --\n",
      "│    │    └─ModuleList: 3-7                                            1,779,072\n",
      "│    │    └─LayerNorm: 3-8                                             256\n",
      "│    └─TransformerDecoder: 2-5                                         --\n",
      "│    │    └─ModuleList: 3-9                                            1,977,984\n",
      "│    │    └─LayerNorm: 3-10                                            256\n",
      "├─Linear: 1-6                                                          258\n",
      "===============================================================================================\n",
      "Total params: 3,813,826\n",
      "Trainable params: 3,813,826\n",
      "Non-trainable params: 0\n",
      "===============================================================================================\n"
     ]
    }
   ],
   "source": [
    "# 输出模型的参数信息\n",
    "cp.get_summary(model, input_size=None)"
   ],
   "metadata": {
    "collapsed": false
   }
  },
  {
   "cell_type": "code",
   "execution_count": 70,
   "outputs": [
    {
     "name": "stdout",
     "output_type": "stream",
     "text": [
      "Epoch: 0001 loss = 144.026774\n",
      "Epoch: 0002 loss = 48.555862\n",
      "Epoch: 0003 loss = 47.365445\n",
      "Epoch: 0004 loss = 40.471405\n",
      "Epoch: 0005 loss = 39.706557\n",
      "Epoch: 0006 loss = 34.525169\n",
      "Epoch: 0007 loss = 26.731574\n",
      "Epoch: 0008 loss = 17.818293\n",
      "Epoch: 0009 loss = 9.911003\n",
      "Epoch: 0010 loss = 9.740151\n",
      "Epoch: 0011 loss = 8.207179\n",
      "Epoch: 0012 loss = 7.761693\n",
      "Epoch: 0013 loss = 7.263524\n",
      "Epoch: 0014 loss = 5.981133\n",
      "Epoch: 0015 loss = 5.030740\n",
      "Epoch: 0016 loss = 4.302530\n",
      "Epoch: 0017 loss = 3.582561\n",
      "Epoch: 0018 loss = 3.175193\n",
      "Epoch: 0019 loss = 2.693963\n",
      "Epoch: 0020 loss = 2.512721\n",
      "Epoch: 0021 loss = 2.279676\n",
      "Epoch: 0022 loss = 2.378457\n",
      "Epoch: 0023 loss = 2.321902\n",
      "Epoch: 0024 loss = 2.332634\n",
      "Epoch: 0025 loss = 1.807863\n",
      "Epoch: 0026 loss = 2.071731\n",
      "Epoch: 0027 loss = 2.090234\n",
      "Epoch: 0028 loss = 2.499338\n",
      "Epoch: 0029 loss = 2.676956\n",
      "Epoch: 0030 loss = 1.879897\n",
      "Epoch: 0031 loss = 1.733085\n",
      "Epoch: 0032 loss = 1.730593\n",
      "Epoch: 0033 loss = 1.439644\n",
      "Epoch: 0034 loss = 1.592946\n",
      "Epoch: 0035 loss = 1.463387\n",
      "Epoch: 0036 loss = 1.356328\n",
      "Epoch: 0037 loss = 1.296150\n",
      "Epoch: 0038 loss = 1.203819\n",
      "Epoch: 0039 loss = 1.460941\n",
      "Epoch: 0040 loss = 1.120152\n",
      "Epoch: 0041 loss = 1.136654\n",
      "Epoch: 0042 loss = 1.173973\n",
      "Epoch: 0043 loss = 1.054384\n",
      "Epoch: 0044 loss = 1.075333\n",
      "Epoch: 0045 loss = 1.269443\n",
      "Epoch: 0046 loss = 1.129768\n",
      "Epoch: 0047 loss = 1.057528\n",
      "Epoch: 0048 loss = 1.074324\n",
      "Epoch: 0049 loss = 0.891966\n",
      "Epoch: 0050 loss = 0.979272\n",
      "Epoch: 0051 loss = 0.960970\n",
      "Epoch: 0052 loss = 1.010135\n",
      "Epoch: 0053 loss = 1.437408\n",
      "Epoch: 0054 loss = 0.956960\n",
      "Epoch: 0055 loss = 1.140287\n",
      "Epoch: 0056 loss = 0.854364\n",
      "Epoch: 0057 loss = 0.917055\n",
      "Epoch: 0058 loss = 1.092098\n",
      "Epoch: 0059 loss = 0.765341\n",
      "Epoch: 0060 loss = 0.688108\n",
      "Epoch: 0061 loss = 0.751159\n",
      "Epoch: 0062 loss = 0.732269\n",
      "Epoch: 0063 loss = 0.686125\n",
      "Epoch: 0064 loss = 0.687596\n",
      "Epoch: 0065 loss = 0.743554\n",
      "Epoch: 0066 loss = 0.817090\n",
      "Epoch: 0067 loss = 0.658768\n",
      "Epoch: 0068 loss = 0.757964\n",
      "Epoch: 0069 loss = 0.855065\n",
      "Epoch: 0070 loss = 0.758819\n",
      "Epoch: 0071 loss = 0.757534\n",
      "Epoch: 0072 loss = 0.686211\n",
      "Epoch: 0073 loss = 0.669622\n",
      "Epoch: 0074 loss = 0.932498\n",
      "Epoch: 0075 loss = 0.928153\n",
      "Epoch: 0076 loss = 1.061704\n",
      "Epoch: 0077 loss = 0.750076\n",
      "Epoch: 0078 loss = 0.776155\n",
      "Epoch: 0079 loss = 0.761425\n",
      "Epoch: 0080 loss = 0.648082\n",
      "Epoch: 0081 loss = 0.929438\n",
      "Epoch: 0082 loss = 0.669299\n",
      "Epoch: 0083 loss = 0.781324\n",
      "Epoch: 0084 loss = 0.637667\n",
      "Epoch: 0085 loss = 0.845556\n",
      "Epoch: 0086 loss = 0.822298\n",
      "Epoch: 0087 loss = 1.073949\n",
      "Epoch: 0088 loss = 1.213794\n",
      "Epoch: 0089 loss = 1.381480\n",
      "Epoch: 0090 loss = 0.967409\n",
      "Epoch: 0091 loss = 0.937625\n",
      "Epoch: 0092 loss = 0.686711\n",
      "Epoch: 0093 loss = 0.829343\n",
      "Epoch: 0094 loss = 0.635636\n",
      "Epoch: 0095 loss = 0.671014\n",
      "Epoch: 0096 loss = 0.693300\n",
      "Epoch: 0097 loss = 0.660639\n",
      "Epoch: 0098 loss = 0.653068\n",
      "Epoch: 0099 loss = 0.575902\n",
      "Epoch: 0100 loss = 0.515650\n",
      "best_loss::| 0.5156497228890657 ---best_epoch::| 99\n",
      "CPU times: user 5min 26s, sys: 46.4 s, total: 6min 12s\n",
      "Wall time: 3min 51s\n"
     ]
    }
   ],
   "source": [
    "%%time\n",
    "\n",
    "best_loss = 100000\n",
    "best_epoch = 0\n",
    "for epoch in range(100):\n",
    "    epoch_loss = 0\n",
    "    for X, y in train_data_loader:  # enc_inputs : [len * feature]->[2000 * 50]\n",
    "        # print(X.shape)  # [100 * 50]\n",
    "        # print(y.shape)  # [100 * 50]\n",
    "        outputs = model(X, y)\n",
    "        outputs = outputs.squeeze()  # [100 * 2]\n",
    "        # print(outputs.shape)\n",
    "        loss = criterion(outputs, y)\n",
    "        loss_num = loss.item()\n",
    "        epoch_loss += loss_num\n",
    "        optimizer.zero_grad()\n",
    "        loss.backward()\n",
    "        torch.nn.utils.clip_grad_norm_(model.parameters(), 0.5)\n",
    "        optimizer.step()\n",
    "\n",
    "    if epoch_loss < best_loss:\n",
    "        best_loss = epoch_loss\n",
    "        best_epoch = epoch\n",
    "        best_model_wts = copy.deepcopy(model.state_dict())\n",
    "        torch.save(best_model_wts, './result/cnn_weight.pth')\n",
    "\n",
    "    print('Epoch:', '%04d' % (epoch + 1), 'loss =', '{:.6f}'.format(epoch_loss))\n",
    "\n",
    "# 打印最佳的结果\n",
    "print('best_loss::|',best_loss,'---best_epoch::|',best_epoch)\n"
   ],
   "metadata": {
    "collapsed": false
   }
  },
  {
   "cell_type": "code",
   "execution_count": 95,
   "outputs": [
    {
     "name": "stdout",
     "output_type": "stream",
     "text": [
      "{'mae': 0.14421527, 'mse': 0.034506127, 'rmse': 0.1857582494487758, 'evs': 0.9924837350845337, 'r2': 0.9833298001558972, 'mmax': 0.41511703, 'mmin': 0.0030628443}\n",
      "       X     y        PX        Py\n",
      "0   0.21  3.47  0.163818  3.608673\n",
      "1   1.13  1.96  1.152956  1.988453\n",
      "2   3.38  2.58  3.411692  2.642722\n",
      "3   4.07  2.72  4.307161  2.855770\n",
      "4   1.58  2.47  1.606111  2.486304\n",
      "5   3.43  1.61  3.513378  1.662431\n",
      "6   1.22  0.74  1.197480  0.739431\n",
      "7   2.33  1.97  2.297016  2.020132\n",
      "8   0.33  3.56  0.278251  3.719915\n",
      "9   3.53  4.28  3.785691  4.641196\n",
      "10  4.42  3.69  4.771204  3.983682\n",
      "11  3.67  0.34  3.864224  0.277744\n",
      "12  2.57  0.37  2.624993  0.388600\n",
      "13  3.14  3.22  3.205686  3.290687\n",
      "14  4.76  3.34  5.058994  3.540279\n",
      "15  1.70  3.71  1.698522  3.835127\n",
      "16  3.50  1.20  3.660272  1.212354\n",
      "17  0.68  4.65  0.654991  4.754219\n",
      "18  1.09  4.59  1.051207  4.763106\n",
      "19  0.25  3.70  0.206386  3.857233\n"
     ]
    }
   ],
   "source": [
    "model = TeacherTransformer().to(device)\n",
    "# 暂存教师模型为teacher_model\n",
    "teacher_model = model\n",
    "model.load_state_dict(torch.load('./result/cnn_weight.pth'))\n",
    "model.eval()\n",
    "\n",
    "pxy_all = []\n",
    "y_all = []\n",
    "for X, y in test_data_loader:\n",
    "    pxy = model(X, y)\n",
    "    pxy = pxy.cpu().detach().numpy().squeeze(0)\n",
    "    y = y.cpu().detach().numpy()\n",
    "    pxy_all.append(pxy)\n",
    "    y_all.append(y)\n",
    "\n",
    "# 计算指标\n",
    "pxy_all = np.array(pxy_all).reshape(-1, 2)\n",
    "y_all = np.array(y_all).reshape(-1, 2)\n",
    "mae = mean_absolute_error(y_all, pxy_all)\n",
    "mse = mean_squared_error(y_all, pxy_all)\n",
    "rmse = mse ** 0.5\n",
    "evs = explained_variance_score(y_all, pxy_all)\n",
    "r2 = r2_score(y_all, pxy_all)\n",
    "\n",
    "mmax = 0\n",
    "mmin = 10000\n",
    "for i in range(len(pxy_all)):\n",
    "    mmax = max(mean_absolute_error(y_all[i], pxy_all[i]), mmax)\n",
    "    mmin = min(mean_absolute_error(y_all[i], pxy_all[i]), mmin)\n",
    "\n",
    "print({'mae': mae, 'mse': mse, 'rmse': rmse, 'evs': evs, 'r2': r2, 'mmax': mmax, 'mmin': mmin})\n",
    "\n",
    "y_teacher = y_all[:20]\n",
    "pxy = pxy_all[:20]\n",
    "coor1 = pd.DataFrame(y_teacher)\n",
    "coor1.columns = ['X', 'y']\n",
    "\n",
    "coor2 = pd.DataFrame(pxy)\n",
    "coor2.columns = ['PX', 'Py']\n",
    "\n",
    "coor = pd.concat([coor1, coor2], axis=1)\n",
    "coor.to_csv('./result/coordinate_all_cnn.csv')\n",
    "print(coor)"
   ],
   "metadata": {
    "collapsed": false
   }
  },
  {
   "cell_type": "code",
   "execution_count": 101,
   "outputs": [
    {
     "data": {
      "text/plain": "<Figure size 720x720 with 1 Axes>",
      "image/png": "[encoded data removed]"
     },
     "metadata": {
      "needs_background": "light"
     },
     "output_type": "display_data"
    }
   ],
   "source": [
    "plt.figure(figsize=[10, 10])\n",
    "plt.xlim((0, 6))\n",
    "plt.ylim((0, 6))\n",
    "plt.ylabel('RFID reader')\n",
    "plt.title('Coordinate Comparison')\n",
    "# 画图-标准坐标\n",
    "plt.scatter(y_teacher[:, 0], y_teacher[:, 1], c='black', marker='^', label='real position of RFID tag')\n",
    "\n",
    "# 画图-预测EA坐标\n",
    "plt.scatter(pxy[:, 0], pxy[:, 1], c='red', marker='x', label = 'predict position with CNN-Transformer')\n",
    "\n",
    "plt.legend()\n",
    "plt.grid('True')\n",
    "plt.savefig('./result/compare_coordinate_cnn.jpg', dpi=750, bbox_inches = 'tight')"
   ],
   "metadata": {
    "collapsed": false
   }
  },
  {
   "cell_type": "code",
   "execution_count": null,
   "outputs": [],
   "source": [],
   "metadata": {
    "collapsed": false
   }
  }
 ],
 "metadata": {
  "kernelspec": {
   "display_name": "pytorch",
   "language": "python",
   "name": "pytorch"
  },
  "language_info": {
   "codemirror_mode": {
    "name": "ipython",
    "version": 3
   },
   "file_extension": ".py",
   "mimetype": "text/x-python",
   "name": "python",
   "nbconvert_exporter": "python",
   "pygments_lexer": "ipython3",
   "version": "3.8.5"
  }
 },
 "nbformat": 4,
 "nbformat_minor": 4
}
