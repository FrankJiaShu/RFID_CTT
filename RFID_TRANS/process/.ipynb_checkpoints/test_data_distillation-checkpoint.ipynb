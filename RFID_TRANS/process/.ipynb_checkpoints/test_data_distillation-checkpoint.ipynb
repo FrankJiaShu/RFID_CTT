{
 "cells": [
  {
   "cell_type": "markdown",
   "source": [
    "## 知识蒸馏的基本使用样例"
   ],
   "metadata": {
    "collapsed": false,
    "pycharm": {
     "name": "#%% md\n"
    }
   }
  },
  {
   "cell_type": "code",
   "execution_count": 1,
   "outputs": [],
   "source": [
    "import torch\n",
    "from torch import nn\n",
    "from torch.utils.data import DataLoader\n",
    "from torchvision import datasets\n",
    "from torchvision.transforms import ToTensor\n",
    "import utils.calculate_param as cp"
   ],
   "metadata": {
    "collapsed": false,
    "pycharm": {
     "name": "#%%\n"
    }
   }
  },
  {
   "cell_type": "markdown",
   "source": [
    "### 数据准备"
   ],
   "metadata": {
    "collapsed": false,
    "pycharm": {
     "name": "#%% md\n"
    }
   }
  },
  {
   "cell_type": "code",
   "execution_count": 2,
   "outputs": [],
   "source": [
    "# 下载手写数据集\n",
    "training_data = datasets.FashionMNIST(\n",
    "    root=\"data\",\n",
    "    train=True,\n",
    "    download=True,\n",
    "    transform=ToTensor(),\n",
    ")\n",
    "\n",
    "test_data = datasets.FashionMNIST(\n",
    "    root=\"data\",\n",
    "    train=False,\n",
    "    download=True,\n",
    "    transform=ToTensor(),\n",
    ")"
   ],
   "metadata": {
    "collapsed": false,
    "pycharm": {
     "name": "#%%\n"
    }
   }
  },
  {
   "cell_type": "code",
   "execution_count": 3,
   "outputs": [
    {
     "name": "stdout",
     "output_type": "stream",
     "text": [
      "Shape of X [N, C, H, W]: torch.Size([64, 1, 28, 28])\n",
      "Shape of y: torch.Size([64]) torch.int64\n"
     ]
    }
   ],
   "source": [
    "batch_size = 64\n",
    "# Create data loaders.\n",
    "train_dataloader = DataLoader(training_data, batch_size=batch_size)\n",
    "test_dataloader = DataLoader(test_data, batch_size=batch_size)\n",
    "for X, y in test_dataloader:\n",
    "    print(f\"Shape of X [N, C, H, W]: {X.shape}\")\n",
    "    print(f\"Shape of y: {y.shape} {y.dtype}\")\n",
    "    break\n"
   ],
   "metadata": {
    "collapsed": false,
    "pycharm": {
     "name": "#%%\n"
    }
   }
  },
  {
   "cell_type": "markdown",
   "source": [
    "### 设备准备"
   ],
   "metadata": {
    "collapsed": false,
    "pycharm": {
     "name": "#%% md\n"
    }
   }
  },
  {
   "cell_type": "code",
   "execution_count": 4,
   "outputs": [
    {
     "name": "stdout",
     "output_type": "stream",
     "text": [
      "Using cpu device\n"
     ]
    }
   ],
   "source": [
    "# 获取设备类型\n",
    "device = \"cuda\" if torch.cuda.is_available() else \"cpu\"\n",
    "print(f\"Using {device} device\")"
   ],
   "metadata": {
    "collapsed": false,
    "pycharm": {
     "name": "#%%\n"
    }
   }
  },
  {
   "cell_type": "markdown",
   "source": [
    "### 模型准备"
   ],
   "metadata": {
    "collapsed": false,
    "pycharm": {
     "name": "#%% md\n"
    }
   }
  },
  {
   "cell_type": "code",
   "execution_count": 5,
   "outputs": [],
   "source": [
    "# 定义模型-CNN-Transformer\n",
    "class RFID_CNN_Transformer(nn.Module):\n",
    "    def __init__(self):\n",
    "        super(RFID_CNN_Transformer, self).__init__()\n",
    "        self.transformer = nn.Transformer(num_decoder_layers=3, num_encoder_layers=3)\n",
    "        self.flatten = nn.Flatten()\n",
    "        self.linear_relu_stack = nn.Sequential(\n",
    "            nn.Linear(28*28, 512),\n",
    "            nn.ReLU(),\n",
    "            nn.Linear(512, 512),\n",
    "            nn.ReLU(),\n",
    "            nn.Linear(512, 10)\n",
    "        )\n",
    "    # 前向传播\n",
    "    def forward(self, x):\n",
    "        x = self.flatten(x)\n",
    "        logits = self.linear_relu_stack(x)\n",
    "        return logits\n"
   ],
   "metadata": {
    "collapsed": false,
    "pycharm": {
     "name": "#%%\n"
    }
   }
  },
  {
   "cell_type": "code",
   "execution_count": 6,
   "outputs": [],
   "source": [
    "# 得到模型\n",
    "model = RFID_CNN_Transformer().to(device)"
   ],
   "metadata": {
    "collapsed": false,
    "pycharm": {
     "name": "#%%\n"
    }
   }
  },
  {
   "cell_type": "markdown",
   "source": [
    "### 模型评估"
   ],
   "metadata": {
    "collapsed": false,
    "pycharm": {
     "name": "#%% md\n"
    }
   }
  },
  {
   "cell_type": "code",
   "execution_count": 7,
   "outputs": [
    {
     "name": "stdout",
     "output_type": "stream",
     "text": [
      "模型的参数信息如下：\n",
      "linear_relu_stack.0.weight : torch.Size([512, 784])\n",
      "linear_relu_stack.0.bias : torch.Size([512])\n",
      "linear_relu_stack.2.weight : torch.Size([512, 512])\n",
      "linear_relu_stack.2.bias : torch.Size([512])\n",
      "linear_relu_stack.4.weight : torch.Size([10, 512])\n",
      "linear_relu_stack.4.bias : torch.Size([10])\n",
      "{'总数': 669706, '可训练数': 669706}\n",
      "第三方检查如下：\n",
      "[MAdd]: Flatten is not supported!\n",
      "[Flops]: Flatten is not supported!\n",
      "[Memory]: Flatten is not supported!\n",
      "               module name  input shape output shape    params memory(MB)         MAdd      Flops  MemRead(B)  MemWrite(B) duration[%]  MemR+W(B)\n",
      "0                  flatten    1  28  28          784       0.0       0.00          0.0        0.0         0.0          0.0      12.72%        0.0\n",
      "1      linear_relu_stack.0          784          512  401920.0       0.00    802,304.0  401,408.0   1610816.0       2048.0      41.83%  1612864.0\n",
      "2      linear_relu_stack.1          512          512       0.0       0.00        512.0      512.0      2048.0       2048.0      11.82%     4096.0\n",
      "3      linear_relu_stack.2          512          512  262656.0       0.00    523,776.0  262,144.0   1052672.0       2048.0      12.30%  1054720.0\n",
      "4      linear_relu_stack.3          512          512       0.0       0.00        512.0      512.0      2048.0       2048.0      11.64%     4096.0\n",
      "5      linear_relu_stack.4          512           10    5130.0       0.00     10,230.0    5,120.0     22568.0         40.0       9.69%    22608.0\n",
      "total                                                 669706.0       0.01  1,337,334.0  669,696.0     22568.0         40.0      99.99%  2698384.0\n",
      "=================================================================================================================================================\n",
      "Total params: 669,706\n",
      "-------------------------------------------------------------------------------------------------------------------------------------------------\n",
      "Total memory: 0.01MB\n",
      "Total MAdd: 1.34MMAdd\n",
      "Total Flops: 669.7KFlops\n",
      "Total MemR+W: 2.57MB\n",
      "\n"
     ]
    }
   ],
   "source": [
    "# 输出模型的参数信息\n",
    "cp.get_info(model)\n",
    "cp.get_parameter_number(model)\n",
    "cp.get_from_stat(model, 1, 28, 28)"
   ],
   "metadata": {
    "collapsed": false,
    "pycharm": {
     "name": "#%%\n"
    }
   }
  },
  {
   "cell_type": "markdown",
   "source": [
    "### 训练准备"
   ],
   "metadata": {
    "collapsed": false,
    "pycharm": {
     "name": "#%% md\n"
    }
   }
  },
  {
   "cell_type": "code",
   "execution_count": 7,
   "outputs": [],
   "source": [
    "# 定义模型的损失函数和优化器\n",
    "loss_fn = nn.CrossEntropyLoss()\n",
    "optimizer = torch.optim.SGD(model.parameters(), lr=1e-3)"
   ],
   "metadata": {
    "collapsed": false,
    "pycharm": {
     "name": "#%%\n"
    }
   }
  },
  {
   "cell_type": "code",
   "execution_count": 8,
   "outputs": [],
   "source": [
    "# 定义训练函数\n",
    "def train(dataloader, model, loss_fn, optimizer):\n",
    "    size = len(dataloader.dataset)\n",
    "    model.train()\n",
    "    for batch, (X, y) in enumerate(dataloader):\n",
    "        X, y = X.to(device), y.to(device)\n",
    "        pred = model(X)\n",
    "        loss = loss_fn(pred, y)\n",
    "\n",
    "        # 反向传播\n",
    "        optimizer.zero_grad()\n",
    "        loss.backward()\n",
    "        optimizer.step()\n",
    "\n",
    "        if batch % 100 == 0:\n",
    "            loss, current = loss.item(), batch * len(X)\n",
    "            print(f\"loss: {loss:>7f}  [{current:>5d}/{size:>5d}]\")\n"
   ],
   "metadata": {
    "collapsed": false,
    "pycharm": {
     "name": "#%%\n"
    }
   }
  },
  {
   "cell_type": "markdown",
   "source": [
    "### 测试准备"
   ],
   "metadata": {
    "collapsed": false,
    "pycharm": {
     "name": "#%% md\n"
    }
   }
  },
  {
   "cell_type": "code",
   "execution_count": 9,
   "outputs": [],
   "source": [
    "# 定义测试函数\n",
    "def test(dataloader, model, loss_fn):\n",
    "    size = len(dataloader.dataset)\n",
    "    num_batches = len(dataloader)\n",
    "    model.eval()\n",
    "    test_loss, correct = 0, 0\n",
    "    with torch.no_grad():\n",
    "        for X, y in dataloader:\n",
    "            X, y = X.to(device), y.to(device)\n",
    "            pred = model(X)\n",
    "            test_loss += loss_fn(pred, y).item()\n",
    "            correct += (pred.argmax(1) == y).type(torch.float).sum().item()\n",
    "    test_loss /= num_batches\n",
    "    correct /= size\n",
    "    print(f\"Test Error: \\n Accuracy: {(100*correct):>0.1f}%, Avg loss: {test_loss:>8f} \\n\")\n"
   ],
   "metadata": {
    "collapsed": false,
    "pycharm": {
     "name": "#%%\n"
    }
   }
  },
  {
   "cell_type": "markdown",
   "source": [
    "### 开始训练"
   ],
   "metadata": {
    "collapsed": false,
    "pycharm": {
     "name": "#%% md\n"
    }
   }
  },
  {
   "cell_type": "code",
   "execution_count": 10,
   "outputs": [
    {
     "name": "stdout",
     "output_type": "stream",
     "text": [
      "Epoch 1\n",
      "-------------------------------\n",
      "loss: 2.296340  [    0/60000]\n",
      "loss: 2.288544  [ 6400/60000]\n",
      "loss: 2.280983  [12800/60000]\n",
      "loss: 2.277236  [19200/60000]\n",
      "loss: 2.256437  [25600/60000]\n",
      "loss: 2.227510  [32000/60000]\n",
      "loss: 2.233088  [38400/60000]\n",
      "loss: 2.202694  [44800/60000]\n",
      "loss: 2.198067  [51200/60000]\n",
      "loss: 2.165753  [57600/60000]\n",
      "Test Error: \n",
      " Accuracy: 38.6%, Avg loss: 2.167834 \n",
      "\n",
      "Epoch 2\n",
      "-------------------------------\n",
      "loss: 2.176130  [    0/60000]\n",
      "loss: 2.170117  [ 6400/60000]\n",
      "loss: 2.126794  [12800/60000]\n",
      "loss: 2.139754  [19200/60000]\n",
      "loss: 2.091230  [25600/60000]\n",
      "loss: 2.035142  [32000/60000]\n",
      "loss: 2.051143  [38400/60000]\n",
      "loss: 1.986106  [44800/60000]\n",
      "loss: 1.987640  [51200/60000]\n",
      "loss: 1.907547  [57600/60000]\n",
      "Test Error: \n",
      " Accuracy: 55.4%, Avg loss: 1.919869 \n",
      "\n",
      "Done!\n"
     ]
    }
   ],
   "source": [
    "# 开始训练\n",
    "epochs = 2\n",
    "for t in range(epochs):\n",
    "    print(f\"Epoch {t+1}\\n-------------------------------\")\n",
    "    train(train_dataloader, model, loss_fn, optimizer)\n",
    "    test(test_dataloader, model, loss_fn)\n",
    "print(\"Done!\")"
   ],
   "metadata": {
    "collapsed": false,
    "pycharm": {
     "name": "#%%\n"
    }
   }
  },
  {
   "cell_type": "markdown",
   "source": [
    "### 模型保存"
   ],
   "metadata": {
    "collapsed": false,
    "pycharm": {
     "name": "#%% md\n"
    }
   }
  },
  {
   "cell_type": "code",
   "execution_count": 11,
   "outputs": [
    {
     "name": "stdout",
     "output_type": "stream",
     "text": [
      "Saved PyTorch Model State to model.pth\n"
     ]
    }
   ],
   "source": [
    "# 保存模型\n",
    "torch.save(model.state_dict(), \"./models/model.pth\")\n",
    "print(\"Saved PyTorch Model State to model.pth\")"
   ],
   "metadata": {
    "collapsed": false,
    "pycharm": {
     "name": "#%%\n"
    }
   }
  },
  {
   "cell_type": "code",
   "execution_count": null,
   "outputs": [],
   "source": [],
   "metadata": {
    "collapsed": false,
    "pycharm": {
     "name": "#%%\n"
    }
   }
  }
 ],
 "metadata": {
  "kernelspec": {
   "name": "pytorch",
   "language": "python",
   "display_name": "pytorch"
  },
  "language_info": {
   "codemirror_mode": {
    "name": "ipython",
    "version": 2
   },
   "file_extension": ".py",
   "mimetype": "text/x-python",
   "name": "python",
   "nbconvert_exporter": "python",
   "pygments_lexer": "ipython2",
   "version": "2.7.6"
  }
 },
 "nbformat": 4,
 "nbformat_minor": 0
}