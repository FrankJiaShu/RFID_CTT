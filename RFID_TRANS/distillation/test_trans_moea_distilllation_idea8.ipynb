{
 "cells": [
  {
   "cell_type": "markdown",
   "metadata": {},
   "source": [
    "## 知识蒸馏-CTT teacher->small trans student"
   ]
  },
  {
   "cell_type": "code",
   "execution_count": 24,
   "metadata": {
    "collapsed": false,
    "jupyter": {
     "outputs_hidden": false
    }
   },
   "outputs": [],
   "source": [
    "import copy\n",
    "import math\n",
    "import torch\n",
    "import pickle\n",
    "import numpy as np\n",
    "import pandas as pd\n",
    "import geatpy as ea\n",
    "from tqdm import tqdm\n",
    "from torch import nn\n",
    "from torch import optim\n",
    "from fill.hot_filling import hot_fill\n",
    "from fill.neighbour_filling import neighbour_fill\n",
    "from filter.w_mean_filter import *\n",
    "from filter.rssi_guass_filter import filter_guass\n",
    "from filter.kalman_filter import filter_kalman\n",
    "import torch.nn.functional as F\n",
    "import matplotlib.pyplot as plt\n",
    "import utils.calculate_param as cp\n",
    "from dataset import data_read\n",
    "from torch.utils.data import TensorDataset\n",
    "from torch.utils.data import DataLoader\n",
    "from multiprocessing.dummy import Pool as ThreadPool\n",
    "from sklearn.metrics import mean_absolute_error, explained_variance_score, r2_score, mean_squared_error"
   ]
  },
  {
   "cell_type": "markdown",
   "metadata": {},
   "source": [
    "### 硬件设备准备"
   ]
  },
  {
   "cell_type": "code",
   "execution_count": 25,
   "metadata": {
    "collapsed": false,
    "jupyter": {
     "outputs_hidden": false
    }
   },
   "outputs": [
    {
     "data": {
      "text/plain": "device(type='cpu')"
     },
     "execution_count": 25,
     "metadata": {},
     "output_type": "execute_result"
    }
   ],
   "source": [
    "device = torch.device(\"cuda:0\" if torch.cuda.is_available() else \"cpu\")\n",
    "device"
   ]
  },
  {
   "cell_type": "markdown",
   "source": [
    "### 加载数据集 近邻填充+高斯滤波"
   ],
   "metadata": {
    "collapsed": false
   }
  },
  {
   "cell_type": "code",
   "execution_count": 26,
   "outputs": [],
   "source": [
    "X_train_0, y_train_0 = data_read.load_data('train')\n",
    "X_test_0, y_test_0 = data_read.load_data('test')"
   ],
   "metadata": {
    "collapsed": false
   }
  },
  {
   "cell_type": "code",
   "execution_count": 27,
   "outputs": [
    {
     "data": {
      "text/plain": "(2000, 50)"
     },
     "execution_count": 27,
     "metadata": {},
     "output_type": "execute_result"
    }
   ],
   "source": [
    "X_train_neighbour = [neighbour_fill(xi) for xi in X_train_0]\n",
    "X_test_neighbour = [neighbour_fill(xi) for xi in X_test_0]\n",
    "X_train_guass = [filter_guass(xi) for xi in X_train_neighbour]\n",
    "X_test_guass = [filter_guass(xi) for xi in X_test_neighbour]\n",
    "X_train_guass = np.array(X_train_guass)\n",
    "X_test_guass = np.array(X_test_guass)\n",
    "\n",
    "X_train_guass.shape"
   ],
   "metadata": {
    "collapsed": false
   }
  },
  {
   "cell_type": "code",
   "execution_count": 28,
   "outputs": [
    {
     "data": {
      "text/plain": "torch.Size([2000, 50])"
     },
     "execution_count": 28,
     "metadata": {},
     "output_type": "execute_result"
    }
   ],
   "source": [
    "X_train = torch.from_numpy(X_train_guass).float().to(device) # [len * feature]\n",
    "y_train = torch.from_numpy(y_train_0).float().to(device)\n",
    "X_test = torch.from_numpy(X_test_guass).float().to(device) # [len * feature]\n",
    "y_test = torch.from_numpy(y_test_0).float().to(device)\n",
    "\n",
    "X_train.shape\n"
   ],
   "metadata": {
    "collapsed": false
   }
  },
  {
   "cell_type": "code",
   "execution_count": 29,
   "outputs": [],
   "source": [
    "train_data_loader = DataLoader(TensorDataset(X_train, y_train), batch_size=100, shuffle=False)\n",
    "test_data_loader = DataLoader(TensorDataset(X_test, y_test), batch_size=100, shuffle=False)"
   ],
   "metadata": {
    "collapsed": false
   }
  },
  {
   "cell_type": "markdown",
   "metadata": {},
   "source": [
    "### 定义教师模型-CTT"
   ]
  },
  {
   "cell_type": "code",
   "execution_count": 30,
   "metadata": {
    "collapsed": false,
    "jupyter": {
     "outputs_hidden": false
    }
   },
   "outputs": [],
   "source": [
    "# CNN\n",
    "class CNN(nn.Module):\n",
    "    def __init__(self):\n",
    "        super(CNN,self).__init__()\n",
    "        self.conv1 = nn.Sequential(\n",
    "            nn.Conv2d(in_channels=1, out_channels=3, kernel_size=7),\n",
    "            nn.ReLU(),\n",
    "            nn.MaxPool2d(kernel_size=2)\n",
    "        )\n",
    "        self.conv2 = nn.Sequential(\n",
    "            nn.Conv2d(in_channels=3, out_channels=6, kernel_size=7),\n",
    "            nn.ReLU(),\n",
    "            nn.MaxPool2d(kernel_size=2)\n",
    "        )\n",
    "        self.out=nn.Linear(960, 50)\n",
    "\n",
    "    def forward(self, x):\n",
    "        x= self.conv1(x)\n",
    "        # print(x.shape)\n",
    "        x= self.conv2(x)\n",
    "        # print(x.shape)\n",
    "        x= x.view(-1, x.size(0) * x.size(1) * x.size(2))\n",
    "        # print(x.shape)\n",
    "        out = self.out(x)\n",
    "        return out\n",
    "\n",
    "\n",
    "# 位置编码类\n",
    "class PositionalEncoding(nn.Module):\n",
    "    def __init__(self, d_model, max_len=5000):\n",
    "        super(PositionalEncoding, self).__init__()\n",
    "        pe = torch.zeros(max_len, d_model)\n",
    "        position = torch.arange(0, max_len, dtype=torch.float).unsqueeze(1)\n",
    "        div_term = torch.exp(torch.arange(0, d_model, 2).float() * (-math.log(10000.0) / d_model))\n",
    "        pe[:, 0::2] = torch.sin(position * div_term)\n",
    "        pe[:, 1::2] = torch.cos(position * div_term)\n",
    "        pe = pe.unsqueeze(0).transpose(0, 1)\n",
    "        self.register_buffer('pe', pe)\n",
    "\n",
    "    def forward(self, x):\n",
    "        out = x + self.pe[:x.size(0), :]\n",
    "        return out\n",
    "\n",
    "\n",
    "# 教师模型类\n",
    "class TeacherTransformer(nn.Module):\n",
    "    def __init__(self):\n",
    "        super(TeacherTransformer, self).__init__()\n",
    "        self.cnn = CNN()\n",
    "        self.d_model = 128  # 词向量维度\n",
    "        self.embedding_enc = nn.Linear(50, self.d_model)\n",
    "        self.embedding_dec = nn.Linear(2, self.d_model)\n",
    "        self.pos_encoding = PositionalEncoding(self.d_model)\n",
    "        self.Transformer_layer = nn.Transformer(d_model=128, num_encoder_layers=3, num_decoder_layers=3, batch_first=True)\n",
    "        self.FC_layer = nn.Linear(128, 2)\n",
    "\n",
    "    def forward(self, src, tgt):\n",
    "        # rssi进行cnn特征提取\n",
    "        src = src.unsqueeze(0)\n",
    "        src = self.cnn(src)\n",
    "        # print(src.shape)\n",
    "        # 使用线性层代替embedding\n",
    "        src = self.embedding_enc(src).unsqueeze(0)\n",
    "        tgt = self.embedding_dec(tgt).unsqueeze(0)\n",
    "        src = self.pos_encoding(src)\n",
    "        out = self.Transformer_layer(src, tgt)\n",
    "        out = self.FC_layer(out)\n",
    "        return out\n"
   ]
  },
  {
   "cell_type": "markdown",
   "metadata": {},
   "source": [
    "### 教师模型设置"
   ]
  },
  {
   "cell_type": "code",
   "execution_count": 31,
   "metadata": {
    "collapsed": false,
    "jupyter": {
     "outputs_hidden": false
    }
   },
   "outputs": [],
   "source": [
    "model = TeacherTransformer().to(device)\n",
    "criterion = nn.MSELoss()\n",
    "optimizer = optim.SGD(model.parameters(), lr=1e-3, momentum=0.99)"
   ]
  },
  {
   "cell_type": "markdown",
   "metadata": {},
   "source": [
    "### 教师模型信息"
   ]
  },
  {
   "cell_type": "code",
   "execution_count": 32,
   "metadata": {
    "collapsed": false,
    "jupyter": {
     "outputs_hidden": false
    }
   },
   "outputs": [
    {
     "name": "stdout",
     "output_type": "stream",
     "text": [
      "torchinfo信息如下：\n",
      "===============================================================================================\n",
      "Layer (type:depth-idx)                                                 Param #\n",
      "===============================================================================================\n",
      "TeacherTransformer                                                     --\n",
      "├─CNN: 1-1                                                             --\n",
      "│    └─Sequential: 2-1                                                 --\n",
      "│    │    └─Conv2d: 3-1                                                150\n",
      "│    │    └─ReLU: 3-2                                                  --\n",
      "│    │    └─MaxPool2d: 3-3                                             --\n",
      "│    └─Sequential: 2-2                                                 --\n",
      "│    │    └─Conv2d: 3-4                                                888\n",
      "│    │    └─ReLU: 3-5                                                  --\n",
      "│    │    └─MaxPool2d: 3-6                                             --\n",
      "│    └─Linear: 2-3                                                     48,050\n",
      "├─Linear: 1-2                                                          6,528\n",
      "├─Linear: 1-3                                                          384\n",
      "├─PositionalEncoding: 1-4                                              --\n",
      "├─Transformer: 1-5                                                     --\n",
      "│    └─TransformerEncoder: 2-4                                         --\n",
      "│    │    └─ModuleList: 3-7                                            1,779,072\n",
      "│    │    └─LayerNorm: 3-8                                             256\n",
      "│    └─TransformerDecoder: 2-5                                         --\n",
      "│    │    └─ModuleList: 3-9                                            1,977,984\n",
      "│    │    └─LayerNorm: 3-10                                            256\n",
      "├─Linear: 1-6                                                          258\n",
      "===============================================================================================\n",
      "Total params: 3,813,826\n",
      "Trainable params: 3,813,826\n",
      "Non-trainable params: 0\n",
      "===============================================================================================\n"
     ]
    }
   ],
   "source": [
    "# 输出教师模型的参数信息-380w参数\n",
    "cp.get_summary(model, input_size=None)"
   ]
  },
  {
   "cell_type": "markdown",
   "metadata": {},
   "source": [
    "### 教师模型训练"
   ]
  },
  {
   "cell_type": "code",
   "execution_count": 33,
   "metadata": {
    "collapsed": false,
    "jupyter": {
     "outputs_hidden": false
    }
   },
   "outputs": [
    {
     "name": "stdout",
     "output_type": "stream",
     "text": [
      "Epoch: 0001 loss = 114.933321\n",
      "Epoch: 0002 loss = 47.243885\n",
      "Epoch: 0003 loss = 41.376316\n",
      "Epoch: 0004 loss = 36.598534\n",
      "Epoch: 0005 loss = 30.789119\n",
      "Epoch: 0006 loss = 22.612607\n",
      "Epoch: 0007 loss = 17.256760\n",
      "Epoch: 0008 loss = 10.981723\n",
      "Epoch: 0009 loss = 10.560892\n",
      "Epoch: 0010 loss = 7.594215\n",
      "Epoch: 0011 loss = 6.543450\n",
      "Epoch: 0012 loss = 6.437701\n",
      "Epoch: 0013 loss = 5.233739\n",
      "Epoch: 0014 loss = 3.879714\n",
      "Epoch: 0015 loss = 3.389900\n",
      "Epoch: 0016 loss = 4.068332\n",
      "Epoch: 0017 loss = 3.318165\n",
      "Epoch: 0018 loss = 3.141448\n",
      "Epoch: 0019 loss = 2.967243\n",
      "Epoch: 0020 loss = 2.508851\n",
      "Epoch: 0021 loss = 2.698781\n",
      "Epoch: 0022 loss = 2.334202\n",
      "Epoch: 0023 loss = 2.641943\n",
      "Epoch: 0024 loss = 1.906896\n",
      "Epoch: 0025 loss = 2.207703\n",
      "Epoch: 0026 loss = 2.251671\n",
      "Epoch: 0027 loss = 2.638180\n",
      "Epoch: 0028 loss = 1.880355\n",
      "Epoch: 0029 loss = 2.307016\n",
      "Epoch: 0030 loss = 1.862615\n",
      "Epoch: 0031 loss = 1.948171\n",
      "Epoch: 0032 loss = 1.695661\n",
      "Epoch: 0033 loss = 1.456084\n",
      "Epoch: 0034 loss = 1.989753\n",
      "Epoch: 0035 loss = 1.478812\n",
      "Epoch: 0036 loss = 1.754559\n",
      "Epoch: 0037 loss = 1.387706\n",
      "Epoch: 0038 loss = 1.956172\n",
      "Epoch: 0039 loss = 1.432406\n",
      "Epoch: 0040 loss = 1.937169\n",
      "Epoch: 0041 loss = 1.378685\n",
      "Epoch: 0042 loss = 1.548077\n",
      "Epoch: 0043 loss = 1.356238\n",
      "Epoch: 0044 loss = 1.833002\n",
      "Epoch: 0045 loss = 1.329005\n",
      "Epoch: 0046 loss = 2.025091\n",
      "Epoch: 0047 loss = 1.518464\n",
      "Epoch: 0048 loss = 2.066982\n",
      "Epoch: 0049 loss = 1.743502\n",
      "Epoch: 0050 loss = 1.694750\n",
      "Epoch: 0051 loss = 1.862299\n",
      "Epoch: 0052 loss = 1.330646\n",
      "Epoch: 0053 loss = 1.399368\n",
      "Epoch: 0054 loss = 1.120162\n",
      "Epoch: 0055 loss = 1.550799\n",
      "Epoch: 0056 loss = 1.150591\n",
      "Epoch: 0057 loss = 1.632415\n",
      "Epoch: 0058 loss = 1.254254\n",
      "Epoch: 0059 loss = 1.597650\n",
      "Epoch: 0060 loss = 0.990100\n",
      "Epoch: 0061 loss = 1.218073\n",
      "Epoch: 0062 loss = 0.954302\n",
      "Epoch: 0063 loss = 1.358447\n",
      "Epoch: 0064 loss = 1.068040\n",
      "Epoch: 0065 loss = 1.257618\n",
      "Epoch: 0066 loss = 1.022884\n",
      "Epoch: 0067 loss = 1.147746\n",
      "Epoch: 0068 loss = 1.057924\n",
      "Epoch: 0069 loss = 0.903218\n",
      "Epoch: 0070 loss = 0.775770\n",
      "Epoch: 0071 loss = 1.090777\n",
      "Epoch: 0072 loss = 0.831875\n",
      "Epoch: 0073 loss = 1.034195\n",
      "Epoch: 0074 loss = 0.676817\n",
      "Epoch: 0075 loss = 0.856177\n",
      "Epoch: 0076 loss = 0.673200\n",
      "Epoch: 0077 loss = 0.733431\n",
      "Epoch: 0078 loss = 0.826677\n",
      "Epoch: 0079 loss = 0.707446\n",
      "Epoch: 0080 loss = 0.877168\n",
      "Epoch: 0081 loss = 0.681808\n",
      "Epoch: 0082 loss = 0.771122\n",
      "Epoch: 0083 loss = 0.823574\n",
      "Epoch: 0084 loss = 0.863807\n",
      "Epoch: 0085 loss = 0.905900\n",
      "Epoch: 0086 loss = 0.716185\n",
      "Epoch: 0087 loss = 0.793697\n",
      "Epoch: 0088 loss = 0.672426\n",
      "Epoch: 0089 loss = 0.763540\n",
      "Epoch: 0090 loss = 0.748843\n",
      "Epoch: 0091 loss = 0.667586\n",
      "Epoch: 0092 loss = 0.811880\n",
      "Epoch: 0093 loss = 0.614245\n",
      "Epoch: 0094 loss = 0.732883\n",
      "Epoch: 0095 loss = 0.776630\n",
      "Epoch: 0096 loss = 0.541113\n",
      "Epoch: 0097 loss = 0.749135\n",
      "Epoch: 0098 loss = 0.618461\n",
      "Epoch: 0099 loss = 0.583713\n",
      "Epoch: 0100 loss = 0.653311\n",
      "Epoch: 0101 loss = 0.622634\n",
      "Epoch: 0102 loss = 0.559413\n",
      "Epoch: 0103 loss = 0.622097\n",
      "Epoch: 0104 loss = 0.515620\n",
      "Epoch: 0105 loss = 0.515395\n",
      "Epoch: 0106 loss = 0.767820\n",
      "Epoch: 0107 loss = 0.590217\n",
      "Epoch: 0108 loss = 0.653020\n",
      "Epoch: 0109 loss = 0.603473\n",
      "Epoch: 0110 loss = 0.529298\n",
      "Epoch: 0111 loss = 0.580746\n",
      "Epoch: 0112 loss = 0.538845\n",
      "Epoch: 0113 loss = 0.607564\n",
      "Epoch: 0114 loss = 0.524062\n",
      "Epoch: 0115 loss = 0.611841\n",
      "Epoch: 0116 loss = 0.619459\n",
      "Epoch: 0117 loss = 0.520973\n",
      "Epoch: 0118 loss = 0.606649\n",
      "Epoch: 0119 loss = 0.676880\n",
      "Epoch: 0120 loss = 0.550947\n",
      "Epoch: 0121 loss = 0.601413\n",
      "Epoch: 0122 loss = 0.547554\n",
      "Epoch: 0123 loss = 0.438023\n",
      "Epoch: 0124 loss = 0.453829\n",
      "Epoch: 0125 loss = 0.465971\n",
      "Epoch: 0126 loss = 0.558506\n",
      "Epoch: 0127 loss = 0.460088\n",
      "Epoch: 0128 loss = 0.633865\n",
      "Epoch: 0129 loss = 0.599550\n",
      "Epoch: 0130 loss = 0.586955\n",
      "Epoch: 0131 loss = 0.490747\n",
      "Epoch: 0132 loss = 0.553820\n",
      "Epoch: 0133 loss = 0.439419\n",
      "Epoch: 0134 loss = 0.585707\n",
      "Epoch: 0135 loss = 0.540710\n",
      "Epoch: 0136 loss = 0.660758\n",
      "Epoch: 0137 loss = 0.682243\n",
      "Epoch: 0138 loss = 0.672408\n",
      "Epoch: 0139 loss = 0.707136\n",
      "Epoch: 0140 loss = 0.533414\n",
      "Epoch: 0141 loss = 0.688515\n",
      "Epoch: 0142 loss = 0.469067\n",
      "Epoch: 0143 loss = 0.453896\n",
      "Epoch: 0144 loss = 0.559285\n",
      "Epoch: 0145 loss = 0.527251\n",
      "Epoch: 0146 loss = 0.649037\n",
      "Epoch: 0147 loss = 0.542113\n",
      "Epoch: 0148 loss = 0.460063\n",
      "Epoch: 0149 loss = 0.542892\n",
      "Epoch: 0150 loss = 0.431313\n",
      "best_loss::| 0.4313127677887678 ---best_epoch::| 149\n",
      "CPU times: user 4min 10s, sys: 31 s, total: 4min 41s\n",
      "Wall time: 2min 31s\n"
     ]
    }
   ],
   "source": [
    "%%time\n",
    "\n",
    "best_loss = 100000\n",
    "best_epoch = 0\n",
    "for epoch in range(150):\n",
    "    epoch_loss = 0\n",
    "    for X, y in train_data_loader:  # enc_inputs : [len * feature]->[2000 * 50]\n",
    "        # print(X.shape)  # [100 * 50]\n",
    "        # print(y.shape)  # [100 * 50]\n",
    "        outputs = model(X, y)\n",
    "        outputs = outputs.squeeze()  # [100 * 2]\n",
    "        # print(outputs.shape)\n",
    "        loss = criterion(outputs, y)\n",
    "        loss_num = loss.item()\n",
    "        epoch_loss += loss_num\n",
    "        optimizer.zero_grad()\n",
    "        loss.backward()\n",
    "        torch.nn.utils.clip_grad_norm_(model.parameters(), 0.5)\n",
    "        optimizer.step()\n",
    "\n",
    "    if epoch_loss < best_loss:\n",
    "        best_loss = epoch_loss\n",
    "        best_epoch = epoch\n",
    "        best_model_wts = copy.deepcopy(model.state_dict())\n",
    "        torch.save(best_model_wts, './result/ctt_weight.pth')\n",
    "\n",
    "    print('Epoch:', '%04d' % (epoch + 1), 'loss =', '{:.6f}'.format(epoch_loss))\n",
    "\n",
    "# 打印最佳的结果\n",
    "print('best_loss::|',best_loss,'---best_epoch::|',best_epoch)\n"
   ]
  },
  {
   "cell_type": "markdown",
   "source": [
    "### 教师模型评估"
   ],
   "metadata": {
    "collapsed": false
   }
  },
  {
   "cell_type": "code",
   "execution_count": 34,
   "outputs": [
    {
     "name": "stdout",
     "output_type": "stream",
     "text": [
      "{'mae': 0.2209796, 'mse': 0.06312461, 'rmse': 0.25124611832576144, 'evs': 0.9934675693511963, 'r2': 0.9695773876517584, 'mmax': 0.45413423, 'mmin': 0.057038873}\n",
      "       X     y        PX        Py\n",
      "0   0.21  3.47  0.294601  3.696306\n",
      "1   1.13  1.96  1.299862  2.042639\n",
      "2   3.38  2.58  3.585525  2.688818\n",
      "3   4.07  2.72  4.425142  2.877703\n",
      "4   1.58  2.47  1.811197  2.550823\n",
      "5   3.43  1.61  3.658894  1.695402\n",
      "6   1.22  0.74  1.330237  0.746678\n",
      "7   2.33  1.97  2.522204  2.079491\n",
      "8   0.33  3.56  0.409038  3.809333\n",
      "9   3.53  4.28  3.958375  4.701740\n",
      "10  4.42  3.69  4.923515  4.021600\n",
      "11  3.67  0.34  3.958481  0.293415\n",
      "12  2.57  0.37  2.730343  0.381621\n",
      "13  3.14  3.22  3.383884  3.368960\n",
      "14  4.76  3.34  5.196709  3.567758\n",
      "15  1.70  3.71  1.913327  3.925443\n",
      "16  3.50  1.20  3.772293  1.237659\n",
      "17  0.68  4.65  0.784790  4.915176\n",
      "18  1.09  4.59  1.222545  4.923513\n",
      "19  0.25  3.70  0.324451  3.954156\n"
     ]
    }
   ],
   "source": [
    "model = TeacherTransformer().to(device)\n",
    "# 暂存教师模型为teacher_model\n",
    "teacher_model = model\n",
    "model.load_state_dict(torch.load('./result/ctt_weight.pth'))\n",
    "model.eval()\n",
    "\n",
    "pxy_all = []\n",
    "y_all = []\n",
    "for X, y in test_data_loader:\n",
    "    pxy = model(X, y)\n",
    "    pxy = pxy.cpu().detach().numpy().squeeze(0)\n",
    "    y = y.cpu().detach().numpy()\n",
    "    pxy_all.append(pxy)\n",
    "    y_all.append(y)\n",
    "\n",
    "# 计算指标\n",
    "pxy_all = np.array(pxy_all).reshape(-1, 2)\n",
    "y_all = np.array(y_all).reshape(-1, 2)\n",
    "mae = mean_absolute_error(y_all, pxy_all)\n",
    "mse = mean_squared_error(y_all, pxy_all)\n",
    "rmse = mse ** 0.5\n",
    "evs = explained_variance_score(y_all, pxy_all)\n",
    "r2 = r2_score(y_all, pxy_all)\n",
    "\n",
    "mmax = 0\n",
    "mmin = 10000\n",
    "for i in range(len(pxy_all)):\n",
    "    mmax = max(mean_absolute_error(y_all[i], pxy_all[i]), mmax)\n",
    "    mmin = min(mean_absolute_error(y_all[i], pxy_all[i]), mmin)\n",
    "\n",
    "print({'mae': mae, 'mse': mse, 'rmse': rmse, 'evs': evs, 'r2': r2, 'mmax': mmax, 'mmin': mmin})\n",
    "\n",
    "y_teacher = y_all[:20]\n",
    "pxy = pxy_all[:20]\n",
    "coor1 = pd.DataFrame(y_teacher)\n",
    "coor1.columns = ['X', 'y']\n",
    "\n",
    "coor2 = pd.DataFrame(pxy)\n",
    "coor2.columns = ['PX', 'Py']\n",
    "\n",
    "coor = pd.concat([coor1, coor2], axis=1)\n",
    "coor.to_csv('./result/coordinate_all_ctt.csv')\n",
    "print(coor)"
   ],
   "metadata": {
    "collapsed": false
   }
  },
  {
   "cell_type": "markdown",
   "source": [
    "### 教师模型定位效果可视化"
   ],
   "metadata": {
    "collapsed": false
   }
  },
  {
   "cell_type": "code",
   "execution_count": 35,
   "outputs": [
    {
     "data": {
      "text/plain": "<Figure size 720x720 with 1 Axes>",
      "image/png": "[encoded data removed]"
     },
     "metadata": {
      "needs_background": "light"
     },
     "output_type": "display_data"
    }
   ],
   "source": [
    "plt.figure(figsize=[10, 10])\n",
    "plt.xlim((0, 6))\n",
    "plt.ylim((0, 6))\n",
    "plt.ylabel('RFID reader')\n",
    "plt.title('Coordinate Comparison')\n",
    "# 画图-标准坐标\n",
    "plt.scatter(y_teacher[:, 0], y_teacher[:, 1], c='black', marker='^', label='real position of RFID tag')\n",
    "\n",
    "# 画图-预测EA坐标\n",
    "plt.scatter(pxy[:, 0], pxy[:, 1], c='red', marker='x', label = 'predict position with CTT-Transformer')\n",
    "\n",
    "plt.legend()\n",
    "plt.grid('True')\n",
    "plt.savefig('./result/compare_coordinate_ctt.jpg', dpi=750, bbox_inches = 'tight')"
   ],
   "metadata": {
    "collapsed": false
   }
  },
  {
   "cell_type": "markdown",
   "metadata": {},
   "source": [
    "### 定义学生模型-GRU模型"
   ]
  },
  {
   "cell_type": "code",
   "execution_count": 36,
   "metadata": {
    "collapsed": false,
    "jupyter": {
     "outputs_hidden": false
    }
   },
   "outputs": [],
   "source": [
    "class StudentTransformer(nn.Module):\n",
    "    def __init__(self):\n",
    "        super(StudentTransformer, self).__init__()\n",
    "        self.d_model = 8  # 词向量维度\n",
    "        self.embedding_enc = nn.Linear(50, self.d_model)\n",
    "        self.embedding_dec = nn.Linear(2, self.d_model)\n",
    "        self.Transformer_layer = nn.Transformer(d_model=8, num_encoder_layers=1, num_decoder_layers=1, batch_first=True)\n",
    "        self.FC_layer = nn.Linear(8, 2)\n",
    "\n",
    "    def forward(self, src, tgt):\n",
    "        # 使用线性层代替embedding\n",
    "        src = self.embedding_enc(src).unsqueeze(0)\n",
    "        tgt = self.embedding_dec(tgt).unsqueeze(0)\n",
    "        out = self.Transformer_layer(src, tgt)\n",
    "        out = self.FC_layer(out)\n",
    "        return out"
   ]
  },
  {
   "cell_type": "markdown",
   "metadata": {},
   "source": [
    "### 学生模型设置"
   ]
  },
  {
   "cell_type": "code",
   "execution_count": 37,
   "metadata": {
    "collapsed": false,
    "jupyter": {
     "outputs_hidden": false
    }
   },
   "outputs": [],
   "source": [
    "# 从头先训练一下学生模型\n",
    "model = StudentTransformer().to(device)\n",
    "criterion = torch.nn.MSELoss()\n",
    "optimizer = optim.Adam(model.parameters(), lr=1e-3)"
   ]
  },
  {
   "cell_type": "markdown",
   "metadata": {},
   "source": [
    "### 学生模型信息"
   ]
  },
  {
   "cell_type": "code",
   "execution_count": 38,
   "metadata": {
    "collapsed": false,
    "jupyter": {
     "outputs_hidden": false
    }
   },
   "outputs": [
    {
     "name": "stdout",
     "output_type": "stream",
     "text": [
      "torchinfo信息如下：\n",
      "===============================================================================================\n",
      "Layer (type:depth-idx)                                                 Param #\n",
      "===============================================================================================\n",
      "StudentTransformer                                                     --\n",
      "├─Linear: 1-1                                                          408\n",
      "├─Linear: 1-2                                                          24\n",
      "├─Transformer: 1-3                                                     --\n",
      "│    └─TransformerEncoder: 2-1                                         --\n",
      "│    │    └─ModuleList: 3-1                                            35,144\n",
      "│    │    └─LayerNorm: 3-2                                             16\n",
      "│    └─TransformerDecoder: 2-2                                         --\n",
      "│    │    └─ModuleList: 3-3                                            35,448\n",
      "│    │    └─LayerNorm: 3-4                                             16\n",
      "├─Linear: 1-4                                                          18\n",
      "===============================================================================================\n",
      "Total params: 71,074\n",
      "Trainable params: 71,074\n",
      "Non-trainable params: 0\n",
      "===============================================================================================\n"
     ]
    }
   ],
   "source": [
    "# 输出学生模型的参数信息-1w参数\n",
    "cp.get_summary(model, input_size=None)"
   ]
  },
  {
   "cell_type": "markdown",
   "metadata": {},
   "source": [
    "### 学生模型训练"
   ]
  },
  {
   "cell_type": "code",
   "execution_count": 39,
   "metadata": {
    "collapsed": false,
    "jupyter": {
     "outputs_hidden": false
    }
   },
   "outputs": [
    {
     "name": "stdout",
     "output_type": "stream",
     "text": [
      "Epoch: 0001 loss = 97.425208\n",
      "Epoch: 0002 loss = 74.946672\n",
      "Epoch: 0003 loss = 61.553363\n",
      "Epoch: 0004 loss = 49.937539\n",
      "Epoch: 0005 loss = 38.949105\n",
      "Epoch: 0006 loss = 29.230773\n",
      "Epoch: 0007 loss = 21.207660\n",
      "Epoch: 0008 loss = 14.705779\n",
      "Epoch: 0009 loss = 9.853942\n",
      "Epoch: 0010 loss = 6.685368\n",
      "Epoch: 0011 loss = 5.015908\n",
      "Epoch: 0012 loss = 3.941434\n",
      "Epoch: 0013 loss = 3.210615\n",
      "Epoch: 0014 loss = 2.739520\n",
      "Epoch: 0015 loss = 2.473237\n",
      "Epoch: 0016 loss = 1.955490\n",
      "Epoch: 0017 loss = 1.835502\n",
      "Epoch: 0018 loss = 1.721146\n",
      "Epoch: 0019 loss = 1.557169\n",
      "Epoch: 0020 loss = 1.380881\n",
      "Epoch: 0021 loss = 1.326255\n",
      "Epoch: 0022 loss = 1.229699\n",
      "Epoch: 0023 loss = 1.145412\n",
      "Epoch: 0024 loss = 1.090148\n",
      "Epoch: 0025 loss = 1.060913\n",
      "Epoch: 0026 loss = 0.930441\n",
      "Epoch: 0027 loss = 0.870441\n",
      "Epoch: 0028 loss = 0.849304\n",
      "Epoch: 0029 loss = 0.883269\n",
      "Epoch: 0030 loss = 0.841389\n",
      "Epoch: 0031 loss = 0.727630\n",
      "Epoch: 0032 loss = 0.669589\n",
      "Epoch: 0033 loss = 0.680737\n",
      "Epoch: 0034 loss = 0.666580\n",
      "Epoch: 0035 loss = 0.649022\n",
      "Epoch: 0036 loss = 0.630819\n",
      "Epoch: 0037 loss = 0.613413\n",
      "Epoch: 0038 loss = 0.604010\n",
      "Epoch: 0039 loss = 0.575564\n",
      "Epoch: 0040 loss = 0.480111\n",
      "Epoch: 0041 loss = 0.471306\n",
      "Epoch: 0042 loss = 0.503156\n",
      "Epoch: 0043 loss = 0.481031\n",
      "Epoch: 0044 loss = 0.433044\n",
      "Epoch: 0045 loss = 0.477839\n",
      "Epoch: 0046 loss = 0.489505\n",
      "Epoch: 0047 loss = 0.463328\n",
      "Epoch: 0048 loss = 0.456950\n",
      "Epoch: 0049 loss = 0.425970\n",
      "Epoch: 0050 loss = 0.402688\n",
      "Epoch: 0051 loss = 0.446102\n",
      "Epoch: 0052 loss = 0.359135\n",
      "Epoch: 0053 loss = 0.371548\n",
      "Epoch: 0054 loss = 0.359852\n",
      "Epoch: 0055 loss = 0.356813\n",
      "Epoch: 0056 loss = 0.358848\n",
      "Epoch: 0057 loss = 0.341799\n",
      "Epoch: 0058 loss = 0.326903\n",
      "Epoch: 0059 loss = 0.310273\n",
      "Epoch: 0060 loss = 0.304914\n",
      "Epoch: 0061 loss = 0.283532\n",
      "Epoch: 0062 loss = 0.282908\n",
      "Epoch: 0063 loss = 0.287513\n",
      "Epoch: 0064 loss = 0.255495\n",
      "Epoch: 0065 loss = 0.262497\n",
      "Epoch: 0066 loss = 0.246010\n",
      "Epoch: 0067 loss = 0.232581\n",
      "Epoch: 0068 loss = 0.251932\n",
      "Epoch: 0069 loss = 0.243094\n",
      "Epoch: 0070 loss = 0.247684\n",
      "Epoch: 0071 loss = 0.279205\n",
      "Epoch: 0072 loss = 0.280653\n",
      "Epoch: 0073 loss = 0.255654\n",
      "Epoch: 0074 loss = 0.221925\n",
      "Epoch: 0075 loss = 0.197865\n",
      "Epoch: 0076 loss = 0.209020\n",
      "Epoch: 0077 loss = 0.209515\n",
      "Epoch: 0078 loss = 0.224757\n",
      "Epoch: 0079 loss = 0.189596\n",
      "Epoch: 0080 loss = 0.200056\n",
      "Epoch: 0081 loss = 0.210986\n",
      "Epoch: 0082 loss = 0.181731\n",
      "Epoch: 0083 loss = 0.188162\n",
      "Epoch: 0084 loss = 0.186611\n",
      "Epoch: 0085 loss = 0.221740\n",
      "Epoch: 0086 loss = 0.162382\n",
      "Epoch: 0087 loss = 0.193967\n",
      "Epoch: 0088 loss = 0.198419\n",
      "Epoch: 0089 loss = 0.214689\n",
      "Epoch: 0090 loss = 0.186521\n",
      "Epoch: 0091 loss = 0.169469\n",
      "Epoch: 0092 loss = 0.175339\n",
      "Epoch: 0093 loss = 0.149332\n",
      "Epoch: 0094 loss = 0.155094\n",
      "Epoch: 0095 loss = 0.140135\n",
      "Epoch: 0096 loss = 0.139156\n",
      "Epoch: 0097 loss = 0.135251\n",
      "Epoch: 0098 loss = 0.161900\n",
      "Epoch: 0099 loss = 0.152054\n",
      "Epoch: 0100 loss = 0.148290\n",
      "best_loss::| 0.135251107160002 ---best_epoch::| 96\n",
      "CPU times: user 45 s, sys: 2.79 s, total: 47.8 s\n",
      "Wall time: 25.8 s\n"
     ]
    }
   ],
   "source": [
    "%%time\n",
    "best_loss = 100000\n",
    "best_epoch = 0\n",
    "for epoch in range(100):\n",
    "    epoch_loss = 0\n",
    "    for X, y in train_data_loader:  # enc_inputs : [len * feature]->[2000 * 50]\n",
    "        outputs = model(X, y)\n",
    "        outputs = outputs.squeeze()  # [100 * 2]\n",
    "        loss = criterion(outputs, y)\n",
    "        loss_num = loss.item()\n",
    "        epoch_loss += loss_num\n",
    "        optimizer.zero_grad()\n",
    "        loss.backward()\n",
    "        torch.nn.utils.clip_grad_norm_(model.parameters(), 0.5)\n",
    "        optimizer.step()\n",
    "\n",
    "    if epoch_loss < best_loss:\n",
    "        best_loss = epoch_loss\n",
    "        best_epoch = epoch\n",
    "        best_model_wts = copy.deepcopy(model.state_dict())\n",
    "        torch.save(best_model_wts, './result/student_weight.pth')\n",
    "\n",
    "    print('Epoch:', '%04d' % (epoch + 1), 'loss =', '{:.6f}'.format(epoch_loss))\n",
    "\n",
    "# 打印最佳的结果\n",
    "print('best_loss::|', best_loss, '---best_epoch::|', best_epoch)\n"
   ]
  },
  {
   "cell_type": "markdown",
   "source": [
    "### 学生模型评估"
   ],
   "metadata": {
    "collapsed": false
   }
  },
  {
   "cell_type": "code",
   "execution_count": 40,
   "outputs": [
    {
     "name": "stdout",
     "output_type": "stream",
     "text": [
      "{'mae': 0.05158282, 'mse': 0.0037240083, 'rmse': 0.06102465348478397, 'evs': 0.9994794726371765, 'r2': 0.9982142694535272, 'mmax': 0.10083842, 'mmin': 0.0075686574}\n",
      "       X     y        PX        Py\n",
      "0   0.21  3.47  0.214352  3.516622\n",
      "1   1.13  1.96  1.176725  2.006839\n",
      "2   3.38  2.58  3.492976  2.634973\n",
      "3   4.07  2.72  4.172066  2.756692\n",
      "4   1.58  2.47  1.633556  2.534563\n",
      "5   3.43  1.61  3.531901  1.629317\n",
      "6   1.22  0.74  1.272189  0.746094\n",
      "7   2.33  1.97  2.423188  2.011565\n",
      "8   0.33  3.56  0.333884  3.607262\n",
      "9   3.53  4.28  3.608165  4.354222\n",
      "10  4.42  3.69  4.527300  3.752100\n",
      "11  3.67  0.34  3.768396  0.332821\n",
      "12  2.57  0.37  2.663971  0.363503\n",
      "13  3.14  3.22  3.221797  3.284269\n",
      "14  4.76  3.34  4.844142  3.366425\n",
      "15  1.70  3.71  1.744137  3.770640\n",
      "16  3.50  1.20  3.601701  1.214695\n",
      "17  0.68  4.65  0.696840  4.673195\n",
      "18  1.09  4.59  1.122365  4.634685\n",
      "19  0.25  3.70  0.254776  3.745439\n"
     ]
    }
   ],
   "source": [
    "model = StudentTransformer().to(device)\n",
    "student_model = model\n",
    "model.load_state_dict(torch.load('./result/student_weight.pth'))\n",
    "model.eval()\n",
    "\n",
    "pxy_all = []\n",
    "y_all = []\n",
    "for X, y in test_data_loader:\n",
    "    pxy = model(X, y)\n",
    "    pxy = pxy.cpu().detach().numpy().squeeze(0)\n",
    "    y = y.cpu().detach().numpy()\n",
    "    pxy_all.append(pxy)\n",
    "    y_all.append(y)\n",
    "\n",
    "# 计算指标\n",
    "pxy_all = np.array(pxy_all).reshape(-1, 2)\n",
    "y_all = np.array(y_all).reshape(-1, 2)\n",
    "mae = mean_absolute_error(y_all, pxy_all)\n",
    "mse = mean_squared_error(y_all, pxy_all)\n",
    "rmse = mse ** 0.5\n",
    "evs = explained_variance_score(y_all, pxy_all)\n",
    "r2 = r2_score(y_all, pxy_all)\n",
    "\n",
    "mmax = 0\n",
    "mmin = 10000\n",
    "for i in range(len(pxy_all)):\n",
    "    mmax = max(mean_absolute_error(y_all[i], pxy_all[i]), mmax)\n",
    "    mmin = min(mean_absolute_error(y_all[i], pxy_all[i]), mmin)\n",
    "\n",
    "print({'mae': mae, 'mse': mse, 'rmse': rmse, 'evs': evs, 'r2': r2, 'mmax': mmax, 'mmin': mmin})\n",
    "\n",
    "y_student = y_all[:20]\n",
    "pxy = pxy_all[:20]\n",
    "coor1 = pd.DataFrame(y_student)\n",
    "coor1.columns = ['X', 'y']\n",
    "\n",
    "coor2 = pd.DataFrame(pxy)\n",
    "coor2.columns = ['PX', 'Py']\n",
    "\n",
    "coor = pd.concat([coor1, coor2], axis=1)\n",
    "coor.to_csv('./result/coordinate_all_student.csv')\n",
    "print(coor)\n"
   ],
   "metadata": {
    "collapsed": false
   }
  },
  {
   "cell_type": "markdown",
   "source": [
    "### 学生模型定位效果可视化"
   ],
   "metadata": {
    "collapsed": false
   }
  },
  {
   "cell_type": "code",
   "execution_count": 41,
   "outputs": [
    {
     "data": {
      "text/plain": "<Figure size 720x720 with 1 Axes>",
      "image/png": "[encoded data removed]"
     },
     "metadata": {
      "needs_background": "light"
     },
     "output_type": "display_data"
    }
   ],
   "source": [
    "plt.figure(figsize=[10, 10])\n",
    "plt.xlim((0, 5))\n",
    "plt.ylim((0, 5))\n",
    "plt.ylabel('RFID reader')\n",
    "plt.title('Coordinate Comparison')\n",
    "# 画图-标准坐标\n",
    "plt.scatter(y_student[:, 0], y_student[:, 1], c='black', marker='^', label='real position of RFID tag')\n",
    "\n",
    "# 画图-预测EA坐标\n",
    "plt.scatter(pxy[:, 0], pxy[:, 1], c='red', marker='x', label = 'predict position with student')\n",
    "\n",
    "plt.legend()\n",
    "plt.grid('True')\n",
    "plt.savefig('./result/compare_coordinate_student.jpg', dpi=750, bbox_inches = 'tight')"
   ],
   "metadata": {
    "collapsed": false
   }
  },
  {
   "cell_type": "markdown",
   "metadata": {},
   "source": [
    "### 知识蒸馏准备与设置"
   ]
  },
  {
   "cell_type": "code",
   "execution_count": 42,
   "metadata": {
    "collapsed": false,
    "jupyter": {
     "outputs_hidden": false
    }
   },
   "outputs": [],
   "source": [
    "# 准备预训练好的教师模型\n",
    "student_model.eval()\n",
    "\n",
    "# 准备新的学生模型\n",
    "model = TeacherTransformer().to(device)\n",
    "\n",
    "# 蒸馏温度\n",
    "T = 7\n",
    "\n",
    "# 参数设置\n",
    "# hard_loss\n",
    "hard_loss = nn.MSELoss()\n",
    "# soft_loss kl散度\n",
    "soft_loss = nn.KLDivLoss(reduction='batchmean')\n",
    "\n",
    "alpha = 0.5\n",
    "beta = 0.7\n",
    "m = 0.9\n",
    "\n",
    "# 回归分析的损失函数设置 = 平滑l1loss + beta * 范围loss\n",
    "# loss = smoothl1loss + alpha * boundloss\n",
    "loss1 = nn.SmoothL1Loss()\n",
    "loss2 = nn.MSELoss()\n",
    "\n",
    "optimizer = torch.optim.Adam(model.parameters(), lr=1e-3)"
   ]
  },
  {
   "cell_type": "markdown",
   "metadata": {},
   "source": [
    "### 知识蒸馏训练"
   ]
  },
  {
   "cell_type": "code",
   "execution_count": 43,
   "metadata": {
    "collapsed": false,
    "jupyter": {
     "outputs_hidden": false
    }
   },
   "outputs": [
    {
     "name": "stderr",
     "output_type": "stream",
     "text": [
      "/Users/frank/anaconda3/envs/pytorch/lib/python3.8/site-packages/torch/nn/modules/loss.py:530: UserWarning: Using a target size (torch.Size([100, 2])) that is different to the input size (torch.Size([1, 100, 2])). This will likely lead to incorrect results due to broadcasting. Please ensure they have the same size.\n",
      "  return F.mse_loss(input, target, reduction=self.reduction)\n",
      "/Users/frank/anaconda3/envs/pytorch/lib/python3.8/site-packages/torch/nn/modules/loss.py:922: UserWarning: Using a target size (torch.Size([100, 2])) that is different to the input size (torch.Size([1, 100, 2])). This will likely lead to incorrect results due to broadcasting. Please ensure they have the same size.\n",
      "  return F.smooth_l1_loss(input, target, reduction=self.reduction, beta=self.beta)\n"
     ]
    },
    {
     "name": "stdout",
     "output_type": "stream",
     "text": [
      "Epoch: 0001 loss = 49.410118\n",
      "Epoch: 0002 loss = 9.519409\n",
      "Epoch: 0003 loss = 6.064211\n",
      "Epoch: 0004 loss = 4.357071\n",
      "Epoch: 0005 loss = 3.183529\n",
      "Epoch: 0006 loss = 3.189025\n",
      "Epoch: 0007 loss = 3.510865\n",
      "Epoch: 0008 loss = 2.630510\n",
      "Epoch: 0009 loss = 2.627011\n",
      "Epoch: 0010 loss = 3.593883\n",
      "Epoch: 0011 loss = 2.173680\n",
      "Epoch: 0012 loss = 2.776508\n",
      "Epoch: 0013 loss = 2.512714\n",
      "Epoch: 0014 loss = 2.372250\n",
      "Epoch: 0015 loss = 1.983997\n",
      "Epoch: 0016 loss = 2.434419\n",
      "Epoch: 0017 loss = 1.950612\n",
      "Epoch: 0018 loss = 2.664018\n",
      "Epoch: 0019 loss = 1.580068\n",
      "Epoch: 0020 loss = 1.466298\n",
      "Epoch: 0021 loss = 1.522767\n",
      "Epoch: 0022 loss = 1.002535\n",
      "Epoch: 0023 loss = 1.708065\n",
      "Epoch: 0024 loss = 2.310927\n",
      "Epoch: 0025 loss = 1.406789\n",
      "Epoch: 0026 loss = 1.381452\n",
      "Epoch: 0027 loss = 1.315291\n",
      "Epoch: 0028 loss = 1.354102\n",
      "Epoch: 0029 loss = 1.453748\n",
      "Epoch: 0030 loss = 2.009758\n",
      "Epoch: 0031 loss = 1.308298\n",
      "Epoch: 0032 loss = 1.374751\n",
      "Epoch: 0033 loss = 1.371861\n",
      "Epoch: 0034 loss = 1.159481\n",
      "Epoch: 0035 loss = 1.158402\n",
      "Epoch: 0036 loss = 1.176485\n",
      "Epoch: 0037 loss = 1.214551\n",
      "Epoch: 0038 loss = 1.449573\n",
      "Epoch: 0039 loss = 1.194904\n",
      "Epoch: 0040 loss = 1.210009\n",
      "Epoch: 0041 loss = 1.393093\n",
      "Epoch: 0042 loss = 1.908874\n",
      "Epoch: 0043 loss = 1.418527\n",
      "Epoch: 0044 loss = 1.271291\n",
      "Epoch: 0045 loss = 1.461633\n",
      "Epoch: 0046 loss = 0.994228\n",
      "Epoch: 0047 loss = 1.133872\n",
      "Epoch: 0048 loss = 1.104395\n",
      "Epoch: 0049 loss = 0.851167\n",
      "Epoch: 0050 loss = 0.923382\n",
      "Epoch: 0051 loss = 1.021518\n",
      "Epoch: 0052 loss = 1.410762\n",
      "Epoch: 0053 loss = 0.836657\n",
      "Epoch: 0054 loss = 1.133275\n",
      "Epoch: 0055 loss = 0.829278\n",
      "Epoch: 0056 loss = 1.280603\n",
      "Epoch: 0057 loss = 1.211321\n",
      "Epoch: 0058 loss = 1.075945\n",
      "Epoch: 0059 loss = 0.986533\n",
      "Epoch: 0060 loss = 1.154636\n",
      "Epoch: 0061 loss = 0.758563\n",
      "Epoch: 0062 loss = 0.897959\n",
      "Epoch: 0063 loss = 0.951514\n",
      "Epoch: 0064 loss = 1.047532\n",
      "Epoch: 0065 loss = 0.738600\n",
      "Epoch: 0066 loss = 0.905117\n",
      "Epoch: 0067 loss = 0.783308\n",
      "Epoch: 0068 loss = 0.904557\n",
      "Epoch: 0069 loss = 0.702968\n",
      "Epoch: 0070 loss = 0.730813\n",
      "Epoch: 0071 loss = 1.124571\n",
      "Epoch: 0072 loss = 0.802940\n",
      "Epoch: 0073 loss = 0.928809\n",
      "Epoch: 0074 loss = 0.698206\n",
      "Epoch: 0075 loss = 0.898849\n",
      "Epoch: 0076 loss = 1.154370\n",
      "Epoch: 0077 loss = 0.890714\n",
      "Epoch: 0078 loss = 1.104766\n",
      "Epoch: 0079 loss = 1.271477\n",
      "Epoch: 0080 loss = 0.951727\n",
      "Epoch: 0081 loss = 0.989936\n",
      "Epoch: 0082 loss = 0.737568\n",
      "Epoch: 0083 loss = 0.698150\n",
      "Epoch: 0084 loss = 0.828822\n",
      "Epoch: 0085 loss = 0.802297\n",
      "Epoch: 0086 loss = 0.726567\n",
      "Epoch: 0087 loss = 0.793479\n",
      "Epoch: 0088 loss = 0.740043\n",
      "Epoch: 0089 loss = 0.881452\n",
      "Epoch: 0090 loss = 0.899540\n",
      "Epoch: 0091 loss = 0.606939\n",
      "Epoch: 0092 loss = 0.609368\n",
      "Epoch: 0093 loss = 0.745453\n",
      "Epoch: 0094 loss = 0.663233\n",
      "Epoch: 0095 loss = 0.702733\n",
      "Epoch: 0096 loss = 0.779885\n",
      "Epoch: 0097 loss = 0.863023\n",
      "Epoch: 0098 loss = 0.577813\n",
      "Epoch: 0099 loss = 0.548180\n",
      "Epoch: 0100 loss = 0.526393\n",
      "Epoch: 0101 loss = 0.532860\n",
      "Epoch: 0102 loss = 0.688328\n",
      "Epoch: 0103 loss = 0.704597\n",
      "Epoch: 0104 loss = 0.624932\n",
      "Epoch: 0105 loss = 0.671660\n",
      "Epoch: 0106 loss = 0.718748\n",
      "Epoch: 0107 loss = 0.590511\n",
      "Epoch: 0108 loss = 0.550949\n",
      "Epoch: 0109 loss = 0.581986\n",
      "Epoch: 0110 loss = 0.612868\n",
      "Epoch: 0111 loss = 0.507556\n",
      "Epoch: 0112 loss = 0.473020\n",
      "Epoch: 0113 loss = 0.462084\n",
      "Epoch: 0114 loss = 0.718248\n",
      "Epoch: 0115 loss = 0.589264\n",
      "Epoch: 0116 loss = 0.514803\n",
      "Epoch: 0117 loss = 0.444886\n",
      "Epoch: 0118 loss = 0.805192\n",
      "Epoch: 0119 loss = 0.609961\n",
      "Epoch: 0120 loss = 0.593490\n",
      "Epoch: 0121 loss = 0.482406\n",
      "Epoch: 0122 loss = 0.439136\n",
      "Epoch: 0123 loss = 0.419045\n",
      "Epoch: 0124 loss = 0.728586\n",
      "Epoch: 0125 loss = 0.704587\n",
      "Epoch: 0126 loss = 0.550803\n",
      "Epoch: 0127 loss = 0.727503\n",
      "Epoch: 0128 loss = 0.671942\n",
      "Epoch: 0129 loss = 0.422465\n",
      "Epoch: 0130 loss = 0.623552\n",
      "Epoch: 0131 loss = 0.587900\n",
      "Epoch: 0132 loss = 0.740908\n",
      "Epoch: 0133 loss = 0.618847\n",
      "Epoch: 0134 loss = 0.713085\n",
      "Epoch: 0135 loss = 0.578001\n",
      "Epoch: 0136 loss = 0.453313\n",
      "Epoch: 0137 loss = 0.474105\n",
      "Epoch: 0138 loss = 0.523466\n",
      "Epoch: 0139 loss = 0.618525\n",
      "Epoch: 0140 loss = 0.495261\n",
      "Epoch: 0141 loss = 0.419001\n",
      "Epoch: 0142 loss = 0.626273\n",
      "Epoch: 0143 loss = 0.598671\n",
      "Epoch: 0144 loss = 0.390428\n",
      "Epoch: 0145 loss = 0.434255\n",
      "Epoch: 0146 loss = 0.515697\n",
      "Epoch: 0147 loss = 0.390206\n",
      "Epoch: 0148 loss = 0.519097\n",
      "Epoch: 0149 loss = 0.371178\n",
      "Epoch: 0150 loss = 0.390271\n",
      "best_loss::| 0.37117801513522863 ---best_epoch::| 148\n",
      "CPU times: user 6min 1s, sys: 32.1 s, total: 6min 33s\n",
      "Wall time: 3min 27s\n"
     ]
    }
   ],
   "source": [
    "%%time\n",
    "best_loss = 100000\n",
    "best_epoch = 0\n",
    "for epoch in range(150):\n",
    "    epoch_loss = 0\n",
    "    for X, y in train_data_loader:\n",
    "        X, y = X.to(device), y.to(device)\n",
    "        # 教师模型预测\n",
    "        with torch.no_grad():\n",
    "            teacher_outputs = student_model(X, y)\n",
    "            teacher_outputs = teacher_outputs.squeeze(0)\n",
    "        # 学生模型预测\n",
    "        student_outputs = model(X, y)\n",
    "        # student_outputs = student_outputs[0]\n",
    "\n",
    "        # student_loss = hard_loss(student_outputs, y)\n",
    "        # # 计算蒸馏后的预测结果及soft_loss\n",
    "        # distillation_loss = soft_loss(\n",
    "        #     F.softmax(student_outputs/T, dim=1),\n",
    "        #     F.softmax(teacher_outputs/T, dim=1)\n",
    "        # )\n",
    "        # # 将 hard_loss 和 soft_loss 加权求和\n",
    "        # loss = alpha * student_loss + (1-alpha) * distillation_loss\n",
    "        # 回归损失\n",
    "        ls = loss2(student_outputs, y)\n",
    "        lt = loss2(teacher_outputs, y)\n",
    "        loss = loss1(student_outputs, y)  # smooth loss\n",
    "        if ls.item() + m > lt.item():  # bound loss\n",
    "            loss += beta * ls\n",
    "        # 反向传播,优化权重\n",
    "        optimizer.zero_grad()\n",
    "        epoch_loss += loss.item()\n",
    "        loss.backward()\n",
    "        torch.nn.utils.clip_grad_norm_(model.parameters(), 0.5)\n",
    "        optimizer.step()\n",
    "\n",
    "    if epoch_loss < best_loss:\n",
    "        best_loss = epoch_loss\n",
    "        best_epoch = epoch\n",
    "        best_model_wts = copy.deepcopy(model.state_dict())\n",
    "        torch.save(best_model_wts, './result/distillation_weight.pth')\n",
    "\n",
    "    print('Epoch:', '%04d' % (epoch + 1), 'loss =', '{:.6f}'.format(epoch_loss))\n",
    "\n",
    "# 打印最佳的结果\n",
    "print('best_loss::|',best_loss,'---best_epoch::|',best_epoch)\n"
   ]
  },
  {
   "cell_type": "markdown",
   "metadata": {},
   "source": [
    "### 蒸馏模型评估"
   ]
  },
  {
   "cell_type": "code",
   "execution_count": 49,
   "outputs": [
    {
     "name": "stdout",
     "output_type": "stream",
     "text": [
      "{'mae': 0.061879992, 'mse': 0.0065870406, 'rmse': 0.08116058532693957, 'evs': 0.9969604313373566, 'r2': 0.9968297096389482, 'mmax': 0.18723989, 'mmin': 0.004595846}\n",
      "       X     y        PX        Py\n",
      "0   0.21  3.47  0.221880  3.589653\n",
      "1   1.13  1.96  1.116641  2.046043\n",
      "2   3.38  2.58  3.413541  2.604744\n",
      "3   4.07  2.72  4.109475  2.686967\n",
      "4   1.58  2.47  1.588358  2.554302\n",
      "5   3.43  1.61  3.467085  1.604080\n",
      "6   1.22  0.74  1.206932  0.779382\n",
      "7   2.33  1.97  2.327988  2.027594\n",
      "8   0.33  3.56  0.318267  3.671216\n",
      "9   3.53  4.28  3.324207  4.247671\n",
      "10  4.42  3.69  4.368871  3.709913\n",
      "11  3.67  0.34  3.773809  0.254404\n",
      "12  2.57  0.37  2.581911  0.321741\n",
      "13  3.14  3.22  3.112594  3.281999\n",
      "14  4.76  3.34  4.804377  3.354832\n",
      "15  1.70  3.71  1.681882  3.807045\n",
      "16  3.50  1.20  3.480013  1.136148\n",
      "17  0.68  4.65  0.628556  4.731640\n",
      "18  1.09  4.59  0.997411  4.682291\n",
      "19  0.25  3.70  0.257120  3.820674\n"
     ]
    }
   ],
   "source": [
    "model = TeacherTransformer().to(device)\n",
    "model.load_state_dict(torch.load('./result/distillation_weight.pth'))\n",
    "model.eval()\n",
    "\n",
    "pxy_all = []\n",
    "y_all = []\n",
    "for X, y in test_data_loader:\n",
    "    pxy = model(X, y)\n",
    "    pxy = pxy.cpu().detach().numpy().squeeze(0)\n",
    "    y = y.cpu().detach().numpy()\n",
    "    pxy_all.append(pxy)\n",
    "    y_all.append(y)\n",
    "\n",
    "# 计算指标\n",
    "pxy_all = np.array(pxy_all).reshape(-1, 2)\n",
    "y_all = np.array(y_all).reshape(-1, 2)\n",
    "mae = mean_absolute_error(y_all, pxy_all)\n",
    "mse = mean_squared_error(y_all, pxy_all)\n",
    "rmse = mse ** 0.5\n",
    "evs = explained_variance_score(y_all, pxy_all)\n",
    "r2 = r2_score(y_all, pxy_all)\n",
    "\n",
    "mmax = 0\n",
    "mmin = 10000\n",
    "for i in range(len(pxy_all)):\n",
    "    mmax = max(mean_absolute_error(y_all[i], pxy_all[i]), mmax)\n",
    "    mmin = min(mean_absolute_error(y_all[i], pxy_all[i]), mmin)\n",
    "\n",
    "print({'mae': mae, 'mse': mse, 'rmse': rmse, 'evs': evs, 'r2': r2, 'mmax': mmax, 'mmin': mmin})\n",
    "\n",
    "y_distill = y_all[:20]\n",
    "pxy = pxy_all[:20]\n",
    "coor1 = pd.DataFrame(y_distill)\n",
    "coor1.columns = ['X', 'y']\n",
    "\n",
    "coor2 = pd.DataFrame(pxy)\n",
    "coor2.columns = ['PX', 'Py']\n",
    "\n",
    "coor = pd.concat([coor1, coor2], axis=1)\n",
    "coor.to_csv('./result/coordinate_all_distill.csv')\n",
    "print(coor)"
   ],
   "metadata": {
    "collapsed": false
   }
  },
  {
   "cell_type": "markdown",
   "source": [
    "### 蒸馏模型定位效果可视化"
   ],
   "metadata": {
    "collapsed": false
   }
  },
  {
   "cell_type": "code",
   "execution_count": 50,
   "outputs": [
    {
     "data": {
      "text/plain": "<Figure size 720x720 with 1 Axes>",
      "image/png": "[encoded data removed]"
     },
     "metadata": {
      "needs_background": "light"
     },
     "output_type": "display_data"
    }
   ],
   "source": [
    "plt.figure(figsize=[10, 10])\n",
    "plt.xlim((0, 6))\n",
    "plt.ylim((0, 6))\n",
    "plt.ylabel('RFID reader')\n",
    "plt.title('Coordinate Comparison')\n",
    "# 画图-标准坐标\n",
    "plt.scatter(y_distill[:, 0], y_distill[:, 1], c='black', marker='^', label='real position of RFID tag')\n",
    "\n",
    "# 画图-预测EA坐标\n",
    "plt.scatter(pxy[:, 0], pxy[:, 1], c='red', marker='x', label = 'predict position with student GRU')\n",
    "\n",
    "plt.legend()\n",
    "plt.grid('True')\n",
    "plt.savefig('./result/compare_coordinate_distill.jpg', dpi=750, bbox_inches = 'tight')"
   ],
   "metadata": {
    "collapsed": false
   }
  },
  {
   "cell_type": "markdown",
   "source": [
    "|### 定义问题类"
   ],
   "metadata": {
    "collapsed": false
   }
  },
  {
   "cell_type": "code",
   "execution_count": 19,
   "metadata": {
    "collapsed": false,
    "jupyter": {
     "outputs_hidden": false
    }
   },
   "outputs": [],
   "source": [
    "class MOEA(ea.Problem):\n",
    "    def __init__(self, train_data_loader, test_data_loader):\n",
    "        name = 'MOEA'\n",
    "        M = 1 # 初始化M（目标维数）\n",
    "        maxormins = [-1] # 初始化maxormins（目标最小最大化标记列表，1：最小化该目标；-1：最大化该目标）\n",
    "        Dim = 2 # 初始化Dim（决策变量维数）\n",
    "        varTypes = np.array([0] * Dim) # 初始化varTypes 0-连续\n",
    "        lb = [5, 0.1] # 决策变量下界\n",
    "        ub = [10, 0.9] # 决策变量上界\n",
    "        lbin = [1] * Dim # 决策变量下边界（0表示不包含该变量的下边界，1表示包含）\n",
    "        ubin = [1] * Dim # 决策变量上边界（0表示不包含该变量的上边界，1表示包含）\n",
    "        # 调用父类构造方法完成实例化\n",
    "        ea.Problem.__init__(self, name, M, maxormins, Dim, varTypes, lb, ub, lbin, ubin)\n",
    "        # 数据设置\n",
    "        self.train_data_loader = train_data_loader\n",
    "        self.test_data_loader = test_data_loader\n",
    "\n",
    "\n",
    "    # 目标函数，采用多线程加速计算\n",
    "    def aimFunc(self, pop):\n",
    "        Vars = pop.Phen # 得到决策变量矩阵\n",
    "        # print(Vars)\n",
    "        pop.ObjV = np.zeros((pop.sizes, 1)) # 初始化种群个体目标函数值列向量\n",
    "        def subAimFunc(i):\n",
    "            epochs, alpha = int(Vars[i, 0]), float(Vars[i, 1])\n",
    "            print(epochs, alpha)\n",
    "            final_loss = 0\n",
    "            for epoch in range(epochs):\n",
    "                for data,targets in tqdm(train_data_loader):\n",
    "                    data, targets = data.to(device), targets.to(device)\n",
    "                    # 教师模型预测\n",
    "                    with torch.no_grad():\n",
    "                        teacher_outputs = teacher_model(data)\n",
    "                    # 学生模型预测\n",
    "                    student_outputs = model(data)\n",
    "                    student_loss = hard_loss(student_outputs, targets)\n",
    "                    # 计算蒸馏后的预测结果及soft_loss\n",
    "                    distillation_loss = soft_loss(\n",
    "                        F.softmax(student_outputs/T, dim=1),\n",
    "                        F.softmax(teacher_outputs/T, dim=1)\n",
    "                    )\n",
    "                    # 将 hard_loss 和 soft_loss 加权求和\n",
    "                    loss = alpha * student_loss + (1-alpha) * distillation_loss\n",
    "                    final_loss = loss.item()\n",
    "                    # 反向传播,优化权重\n",
    "                    optimizer.zero_grad()\n",
    "                    loss.backward()\n",
    "                    optimizer.step()\n",
    "\n",
    "            pop.ObjV[i] = final_loss # 最小化最终的损失作为目标函数\n",
    "        pool = ThreadPool(processes=2) # 设置池的大小\n",
    "        pool.map(subAimFunc, list(range(pop.sizes))) # 散列种群每个个体进行加速计算\n",
    "\n",
    "\n",
    "    # 代入优化后的参数先训练再对测试集进行检验，计算指标\n",
    "    def test(self, epochs, alpha):\n",
    "        for epoch in range(epochs):\n",
    "            for data,targets in tqdm(train_data_loader):\n",
    "                data, targets = data.to(device), targets.to(device)\n",
    "                # 教师模型预测\n",
    "                with torch.no_grad():\n",
    "                    teacher_outputs = teacher_model(data)\n",
    "                # 学生模型预测\n",
    "                student_outputs = model(data)\n",
    "                student_loss = hard_loss(student_outputs, targets)\n",
    "                # 计算蒸馏后的预测结果及soft_loss\n",
    "                distillation_loss = soft_loss(\n",
    "                    F.softmax(student_outputs/T, dim=1),\n",
    "                    F.softmax(teacher_outputs/T, dim=1)\n",
    "                )\n",
    "                # 将 hard_loss 和 soft_loss 加权求和\n",
    "                loss = alpha * student_loss + (1-alpha) * distillation_loss\n",
    "                # 反向传播,优化权重\n",
    "                optimizer.zero_grad()\n",
    "                loss.backward()\n",
    "                optimizer.step()\n",
    "\n",
    "            # 测试集上评估性能\n",
    "            model.eval()\n",
    "            num_correct = 0\n",
    "            num_samples = 0\n",
    "\n",
    "            with torch.no_grad():\n",
    "                for x,y in test_data_loader:\n",
    "                    x, y = x.to(device), y.to(device)\n",
    "                    outputs = model(x)\n",
    "                    pred = outputs.max(1).indices\n",
    "                    num_correct += (pred == y).sum()\n",
    "                    num_samples += pred.size(0)\n",
    "                acc = (num_correct/num_samples).item()\n",
    "\n",
    "            model.train()\n",
    "            print(\"Epoch:{}\\t Accuracy:{:4f}\".format(epoch + 1, acc))\n",
    "\n",
    "        torch.save(model.state_dict(), \"./models/moea_distillation.pth\")\n",
    "\n"
   ]
  },
  {
   "cell_type": "markdown",
   "source": [
    "### 参数调优"
   ],
   "metadata": {
    "collapsed": false
   }
  },
  {
   "cell_type": "code",
   "execution_count": 20,
   "outputs": [
    {
     "name": "stdout",
     "output_type": "stream",
     "text": [
      "7 0.3189171239733696\n"
     ]
    },
    {
     "name": "stderr",
     "output_type": "stream",
     "text": [
      "\n"
     ]
    },
    {
     "name": "stdout",
     "output_type": "stream",
     "text": [
      "6 0.2855765145272017\n"
     ]
    },
    {
     "name": "stderr",
     "output_type": "stream",
     "text": [
      "  0%|          | 0/938 [00:00<?, ?it/s]\u001B[A\n",
      "\n",
      "  0%|          | 2/938 [00:00<00:54, 17.05it/s]\n"
     ]
    },
    {
     "name": "stdout",
     "output_type": "stream",
     "text": [
      "6 0.8424268286675215\n"
     ]
    },
    {
     "name": "stderr",
     "output_type": "stream",
     "text": [
      "\n",
      "  0%|          | 0/938 [00:00<?, ?it/s]\u001B[A\n",
      "\n",
      "  0%|          | 3/938 [00:00<00:39, 23.75it/s]\u001B[A\u001B[A\n",
      "  0%|          | 2/938 [00:00<00:52, 17.78it/s]\u001B[A\n",
      "\n",
      "  1%|          | 6/938 [00:00<00:44, 20.86it/s]\u001B[A\u001B[A\n",
      "  0%|          | 4/938 [00:00<00:51, 18.15it/s]\u001B[A\n",
      "\n",
      " 94%|█████████▎| 878/938 [00:08<00:01, 36.62it/s]A\u001B[A\n",
      " 94%|█████████▎| 878/938 [00:08<00:00, 102.62it/s]\n",
      "\n",
      "\n",
      "  1%|          | 9/938 [00:00<00:48, 19.11it/s]]\u001B[A\u001B[A\n"
     ]
    },
    {
     "name": "stdout",
     "output_type": "stream",
     "text": [
      "6 0.8656420316547155\n"
     ]
    },
    {
     "name": "stderr",
     "output_type": "stream",
     "text": [
      "  0%|          | 0/938 [00:00<?, ?it/s]\n",
      "\n",
      "  0%|          | 1/938 [00:00<01:05, 14.39it/s]]\u001B[A\u001B[A\n"
     ]
    },
    {
     "name": "stdout",
     "output_type": "stream",
     "text": [
      "9 0.6277091335505247\n"
     ]
    },
    {
     "name": "stderr",
     "output_type": "stream",
     "text": [
      "  0%|          | 0/938 [00:00<?, ?it/s]\n",
      "\n",
      "  0%|          | 4/938 [00:00<00:25, 37.06it/s]]\u001B[A\u001B[A\n",
      "\n",
      "  1%|          | 10/938 [00:00<00:26, 34.80it/s]\u001B[A\u001B[A\n",
      "\n",
      "\n",
      "  3%|▎         | 31/938 [00:00<00:23, 38.58it/s]\u001B[A\u001B[A\n",
      "\n",
      "  4%|▍         | 38/938 [00:01<00:19, 45.81it/s]\u001B[A\u001B[A\n",
      "\n",
      "  5%|▍         | 46/938 [00:01<00:16, 54.51it/s]\u001B[A\u001B[A\n",
      "\n",
      "  6%|▌         | 54/938 [00:01<00:14, 61.32it/s]\u001B[A\u001B[A\n",
      "\n",
      "  7%|▋         | 65/938 [00:01<00:11, 74.37it/s]\u001B[A\u001B[A\n",
      "\n",
      "  8%|▊         | 76/938 [00:01<00:10, 83.75it/s]\u001B[A\u001B[A\n",
      "\n",
      "  9%|▉         | 86/938 [00:01<00:09, 88.29it/s]\u001B[A\u001B[A\n",
      "\n",
      " 10%|█         | 96/938 [00:01<00:09, 89.71it/s]\u001B[A\u001B[A\n",
      "\n",
      " 11%|█▏        | 106/938 [00:01<00:09, 85.26it/s]\u001B[A\u001B[A\n",
      "\n",
      " 12%|█▏        | 116/938 [00:01<00:09, 87.53it/s]\u001B[A\u001B[A\n",
      "\n",
      " 13%|█▎        | 125/938 [00:02<00:09, 87.56it/s]\u001B[A\u001B[A\n",
      "\n",
      " 14%|█▍        | 134/938 [00:02<00:09, 86.86it/s]\u001B[A\u001B[A\n",
      "\n",
      " 15%|█▌        | 143/938 [00:02<00:09, 87.52it/s]\u001B[A\u001B[A\n",
      "\n",
      " 16%|█▌        | 152/938 [00:02<00:09, 86.56it/s]\u001B[A\u001B[A\n",
      "\n",
      " 17%|█▋        | 163/938 [00:02<00:08, 92.49it/s]\u001B[A\u001B[A\n",
      "\n",
      " 19%|█▊        | 174/938 [00:02<00:08, 95.28it/s]\u001B[A\u001B[A\n",
      "\n",
      " 20%|█▉        | 184/938 [00:02<00:08, 92.35it/s]\u001B[A\u001B[A\n",
      "\n",
      " 21%|██        | 194/938 [00:02<00:08, 92.09it/s]\u001B[A\u001B[A\n",
      "\n",
      " 22%|██▏       | 205/938 [00:02<00:07, 96.28it/s]\u001B[A\u001B[A\n",
      "\n",
      " 23%|██▎       | 216/938 [00:03<00:07, 99.24it/s]\u001B[A\u001B[A\n",
      "\n",
      " 24%|██▍       | 226/938 [00:03<00:07, 97.81it/s]\u001B[A\u001B[A\n",
      "\n",
      " 25%|██▌       | 237/938 [00:03<00:07, 100.07it/s]\u001B[A\u001B[A\n",
      "\n",
      " 26%|██▋       | 248/938 [00:03<00:06, 101.80it/s]\u001B[A\u001B[A\n",
      "\n",
      " 28%|██▊       | 260/938 [00:03<00:06, 104.55it/s]\u001B[A\u001B[A\n",
      "\n",
      " 29%|██▉       | 272/938 [00:03<00:06, 106.73it/s]\u001B[A\u001B[A\n",
      "\n",
      " 30%|███       | 283/938 [00:03<00:06, 105.86it/s]\u001B[A\u001B[A\n",
      "\n",
      " 31%|███▏      | 295/938 [00:03<00:05, 107.48it/s]\u001B[A\u001B[A\n",
      "\n",
      " 33%|███▎      | 306/938 [00:03<00:05, 107.78it/s]\u001B[A\u001B[A\n",
      "\n",
      " 34%|███▍      | 317/938 [00:03<00:05, 106.38it/s]\u001B[A\u001B[A\n",
      "\n",
      " 35%|███▍      | 328/938 [00:04<00:05, 105.85it/s]\u001B[A\u001B[A\n",
      "\n",
      " 36%|███▌      | 339/938 [00:04<00:05, 107.02it/s]\u001B[A\u001B[A\n",
      "\n",
      " 37%|███▋      | 351/938 [00:04<00:05, 108.31it/s]\u001B[A\u001B[A\n",
      "\n",
      " 39%|███▊      | 362/938 [00:04<00:05, 106.19it/s]\u001B[A\u001B[A\n",
      "\n",
      " 40%|███▉      | 374/938 [00:04<00:05, 107.98it/s]\u001B[A\u001B[A\n",
      "\n",
      " 41%|████      | 385/938 [00:04<00:05, 106.42it/s]\u001B[A\u001B[A\n",
      "\n",
      " 42%|████▏     | 397/938 [00:04<00:04, 108.32it/s]\u001B[A\u001B[A\n",
      "\n",
      " 44%|████▎     | 409/938 [00:04<00:04, 109.17it/s]\u001B[A\u001B[A\n",
      "\n",
      " 45%|████▍     | 421/938 [00:04<00:04, 111.22it/s]\u001B[A\u001B[A\n",
      "\n",
      " 46%|████▌     | 433/938 [00:05<00:04, 112.78it/s]\u001B[A\u001B[A\n",
      "\n",
      " 47%|████▋     | 445/938 [00:05<00:04, 111.32it/s]\u001B[A\u001B[A\n",
      "\n",
      " 49%|████▊     | 457/938 [00:05<00:04, 112.26it/s]\u001B[A\u001B[A\n",
      "\n",
      " 50%|█████     | 469/938 [00:05<00:04, 108.13it/s]\u001B[A\u001B[A\n",
      "\n",
      " 51%|█████▏    | 481/938 [00:05<00:04, 110.86it/s]\u001B[A\u001B[A\n",
      "\n",
      " 53%|█████▎    | 493/938 [00:05<00:03, 111.45it/s]\u001B[A\u001B[A\n",
      "\n",
      " 54%|█████▍    | 505/938 [00:05<00:03, 111.51it/s]\u001B[A\u001B[A\n",
      "\n",
      " 55%|█████▌    | 517/938 [00:05<00:03, 112.92it/s]\u001B[A\u001B[A\n",
      "\n",
      " 56%|█████▋    | 529/938 [00:05<00:03, 113.03it/s]\u001B[A\u001B[A\n",
      "\n",
      " 58%|█████▊    | 541/938 [00:05<00:03, 113.82it/s]\u001B[A\u001B[A\n",
      "\n",
      " 59%|█████▉    | 553/938 [00:06<00:03, 112.10it/s]\u001B[A\u001B[A\n",
      "\n",
      " 60%|██████    | 565/938 [00:06<00:03, 113.01it/s]\u001B[A\u001B[A\n",
      "\n",
      " 62%|██████▏   | 577/938 [00:06<00:03, 113.99it/s]\u001B[A\u001B[A\n",
      "\n",
      " 63%|██████▎   | 589/938 [00:06<00:03, 114.94it/s]\u001B[A\u001B[A\n",
      "\n",
      " 64%|██████▍   | 601/938 [00:06<00:02, 115.34it/s]\u001B[A\u001B[A\n",
      "\n",
      " 65%|██████▌   | 613/938 [00:06<00:02, 112.19it/s]\u001B[A\u001B[A\n",
      "\n",
      " 67%|██████▋   | 625/938 [00:06<00:02, 113.47it/s]\u001B[A\u001B[A\n",
      "\n",
      " 68%|██████▊   | 637/938 [00:06<00:02, 114.37it/s]\u001B[A\u001B[A\n",
      "\n",
      " 69%|██████▉   | 649/938 [00:06<00:02, 114.63it/s]\u001B[A\u001B[A\n",
      "\n",
      " 70%|███████   | 661/938 [00:07<00:02, 115.88it/s]\u001B[A\u001B[A\n",
      "\n",
      " 72%|███████▏  | 673/938 [00:07<00:02, 115.04it/s]\u001B[A\u001B[A\n",
      "\n",
      " 73%|███████▎  | 685/938 [00:07<00:02, 106.64it/s]\u001B[A\u001B[A\n",
      "\n",
      " 74%|███████▍  | 696/938 [00:07<00:02, 105.78it/s]\u001B[A\u001B[A\n",
      "\n",
      " 75%|███████▌  | 708/938 [00:07<00:02, 109.10it/s]\u001B[A\u001B[A\n",
      "\n",
      " 77%|███████▋  | 719/938 [00:07<00:02, 106.84it/s]\u001B[A\u001B[A\n",
      "\n",
      " 78%|███████▊  | 731/938 [00:07<00:01, 109.64it/s]\u001B[A\u001B[A\n",
      "\n",
      " 79%|███████▉  | 743/938 [00:07<00:01, 112.57it/s]\u001B[A\u001B[A\n",
      "\n",
      " 80%|████████  | 755/938 [00:07<00:01, 113.94it/s]\u001B[A\u001B[A\n",
      "\n",
      " 82%|████████▏ | 767/938 [00:08<00:01, 110.85it/s]\u001B[A\u001B[A\n",
      "\n",
      " 83%|████████▎ | 779/938 [00:08<00:01, 109.68it/s]\u001B[A\u001B[A\n",
      "\n",
      " 84%|████████▍ | 791/938 [00:08<00:01, 112.01it/s]\u001B[A\u001B[A\n",
      "\n",
      " 86%|████████▌ | 803/938 [00:08<00:01, 105.82it/s]\u001B[A\u001B[A\n",
      "\n",
      " 87%|████████▋ | 814/938 [00:08<00:01, 103.05it/s]\u001B[A\u001B[A\n",
      "\n",
      " 88%|████████▊ | 825/938 [00:08<00:01, 103.50it/s]\u001B[A\u001B[A\n",
      "\n",
      " 89%|████████▉ | 836/938 [00:08<00:00, 104.69it/s]\u001B[A\u001B[A\n",
      "\n",
      " 90%|█████████ | 848/938 [00:08<00:00, 106.85it/s]\u001B[A\u001B[A\n",
      "\n",
      " 92%|█████████▏| 859/938 [00:08<00:00, 106.82it/s]\u001B[A\u001B[A\n",
      "\n",
      " 93%|█████████▎| 871/938 [00:09<00:00, 108.03it/s]\u001B[A\u001B[A\n",
      "\n",
      " 94%|█████████▍| 882/938 [00:09<00:00, 104.92it/s]\u001B[A\u001B[A\n",
      "\n",
      " 95%|█████████▌| 893/938 [00:09<00:00, 104.17it/s]\u001B[A\u001B[A\n",
      "\n",
      " 96%|█████████▋| 904/938 [00:09<00:00, 99.99it/s] \u001B[A\u001B[A\n",
      "\n",
      " 98%|█████████▊| 915/938 [00:09<00:00, 100.10it/s]\u001B[A\u001B[A\n",
      "\n",
      " 99%|█████████▊| 926/938 [00:09<00:00, 101.01it/s]\u001B[A\u001B[A\n",
      "\n",
      "100%|██████████| 938/938 [00:09<00:00, 96.68it/s] \u001B[A\u001B[A\n",
      "100%|██████████| 938/938 [00:08<00:00, 114.38it/s]\n",
      "100%|██████████| 938/938 [00:08<00:00, 105.10it/s]\n",
      "100%|██████████| 938/938 [00:08<00:00, 112.47it/s]\n",
      "100%|██████████| 938/938 [00:08<00:00, 114.13it/s]\n",
      "100%|██████████| 938/938 [00:08<00:00, 110.99it/s]\n"
     ]
    },
    {
     "name": "stdout",
     "output_type": "stream",
     "text": [
      "8 0.2740337282419205\n"
     ]
    },
    {
     "name": "stderr",
     "output_type": "stream",
     "text": [
      "100%|██████████| 938/938 [00:08<00:00, 109.97it/s]\n",
      "100%|██████████| 938/938 [00:07<00:00, 118.57it/s]\n",
      "100%|██████████| 938/938 [00:08<00:00, 108.56it/s]\n",
      "100%|██████████| 938/938 [00:08<00:00, 114.24it/s]\n",
      "100%|██████████| 938/938 [00:08<00:00, 104.54it/s]\n",
      "100%|██████████| 938/938 [00:08<00:00, 114.32it/s]\n",
      "100%|██████████| 938/938 [00:08<00:00, 106.33it/s]\n",
      "100%|██████████| 938/938 [00:08<00:00, 116.82it/s]\n"
     ]
    },
    {
     "ename": "RuntimeError",
     "evalue": "one of the variables needed for gradient computation has been modified by an inplace operation: [torch.FloatTensor [20, 10]], which is output 0 of AsStridedBackward0, is at version 23416; expected version 23415 instead. Hint: enable anomaly detection to find the operation that failed to compute its gradient, with torch.autograd.set_detect_anomaly(True).",
     "output_type": "error",
     "traceback": [
      "\u001B[0;31m---------------------------------------------------------------------------\u001B[0m",
      "\u001B[0;31mRuntimeError\u001B[0m                              Traceback (most recent call last)",
      "\u001B[0;32m<ipython-input-20-e006b3843ce3>\u001B[0m in \u001B[0;36m<module>\u001B[0;34m\u001B[0m\n\u001B[1;32m     22\u001B[0m \u001B[0;34m\"\"\"===========================调用算法模板进行种群进化=======================\"\"\"\u001B[0m\u001B[0;34m\u001B[0m\u001B[0;34m\u001B[0m\u001B[0m\n\u001B[1;32m     23\u001B[0m \u001B[0;34m\u001B[0m\u001B[0m\n\u001B[0;32m---> 24\u001B[0;31m \u001B[0;34m[\u001B[0m\u001B[0mBestIndi\u001B[0m\u001B[0;34m,\u001B[0m \u001B[0mpopulation\u001B[0m\u001B[0;34m]\u001B[0m \u001B[0;34m=\u001B[0m \u001B[0mmyAlgorithm\u001B[0m\u001B[0;34m.\u001B[0m\u001B[0mrun\u001B[0m\u001B[0;34m(\u001B[0m\u001B[0;34m)\u001B[0m  \u001B[0;31m# 执行算法模板，得到最优个体以及最后一代种群\u001B[0m\u001B[0;34m\u001B[0m\u001B[0;34m\u001B[0m\u001B[0m\n\u001B[0m\u001B[1;32m     25\u001B[0m \u001B[0mBestIndi\u001B[0m\u001B[0;34m.\u001B[0m\u001B[0msave\u001B[0m\u001B[0;34m(\u001B[0m\u001B[0;34m)\u001B[0m  \u001B[0;31m# 把最优个体的信息保存到文件中\u001B[0m\u001B[0;34m\u001B[0m\u001B[0;34m\u001B[0m\u001B[0m\n\u001B[1;32m     26\u001B[0m \u001B[0;34m\u001B[0m\u001B[0m\n",
      "\u001B[0;32m~/anaconda3/envs/pytorch/lib/python3.8/site-packages/geatpy/templates/soeas/DE/DE_rand_1_bin/soea_DE_rand_1_bin_templet.py\u001B[0m in \u001B[0;36mrun\u001B[0;34m(self, prophetPop)\u001B[0m\n\u001B[1;32m     47\u001B[0m         \u001B[0;31m# ===========================准备进化============================\u001B[0m\u001B[0;34m\u001B[0m\u001B[0;34m\u001B[0m\u001B[0;34m\u001B[0m\u001B[0m\n\u001B[1;32m     48\u001B[0m         \u001B[0mpopulation\u001B[0m\u001B[0;34m.\u001B[0m\u001B[0minitChrom\u001B[0m\u001B[0;34m(\u001B[0m\u001B[0mNIND\u001B[0m\u001B[0;34m)\u001B[0m  \u001B[0;31m# 初始化种群染色体矩阵\u001B[0m\u001B[0;34m\u001B[0m\u001B[0;34m\u001B[0m\u001B[0m\n\u001B[0;32m---> 49\u001B[0;31m         \u001B[0mself\u001B[0m\u001B[0;34m.\u001B[0m\u001B[0mcall_aimFunc\u001B[0m\u001B[0;34m(\u001B[0m\u001B[0mpopulation\u001B[0m\u001B[0;34m)\u001B[0m  \u001B[0;31m# 计算种群的目标函数值\u001B[0m\u001B[0;34m\u001B[0m\u001B[0;34m\u001B[0m\u001B[0m\n\u001B[0m\u001B[1;32m     50\u001B[0m         \u001B[0;31m# 插入先验知识（注意：这里不会对先知种群prophetPop的合法性进行检查，故应确保prophetPop是一个种群类且拥有合法的Chrom、ObjV、Phen等属性）\u001B[0m\u001B[0;34m\u001B[0m\u001B[0;34m\u001B[0m\u001B[0;34m\u001B[0m\u001B[0m\n\u001B[1;32m     51\u001B[0m         \u001B[0;32mif\u001B[0m \u001B[0mprophetPop\u001B[0m \u001B[0;32mis\u001B[0m \u001B[0;32mnot\u001B[0m \u001B[0;32mNone\u001B[0m\u001B[0;34m:\u001B[0m\u001B[0;34m\u001B[0m\u001B[0;34m\u001B[0m\u001B[0m\n",
      "\u001B[0;32m~/anaconda3/envs/pytorch/lib/python3.8/site-packages/geatpy/Algorithm.py\u001B[0m in \u001B[0;36mcall_aimFunc\u001B[0;34m(self, pop)\u001B[0m\n\u001B[1;32m    172\u001B[0m         \u001B[0;32mif\u001B[0m \u001B[0mself\u001B[0m\u001B[0;34m.\u001B[0m\u001B[0mproblem\u001B[0m \u001B[0;32mis\u001B[0m \u001B[0;32mNone\u001B[0m\u001B[0;34m:\u001B[0m\u001B[0;34m\u001B[0m\u001B[0;34m\u001B[0m\u001B[0m\n\u001B[1;32m    173\u001B[0m             \u001B[0;32mraise\u001B[0m \u001B[0mRuntimeError\u001B[0m\u001B[0;34m(\u001B[0m\u001B[0;34m'error: problem has not been initialized. (算法模板中的问题对象未被初始化。)'\u001B[0m\u001B[0;34m)\u001B[0m\u001B[0;34m\u001B[0m\u001B[0;34m\u001B[0m\u001B[0m\n\u001B[0;32m--> 174\u001B[0;31m         \u001B[0mself\u001B[0m\u001B[0;34m.\u001B[0m\u001B[0mproblem\u001B[0m\u001B[0;34m.\u001B[0m\u001B[0maimFunc\u001B[0m\u001B[0;34m(\u001B[0m\u001B[0mpop\u001B[0m\u001B[0;34m)\u001B[0m  \u001B[0;31m# 调用问题类的aimFunc()\u001B[0m\u001B[0;34m\u001B[0m\u001B[0;34m\u001B[0m\u001B[0m\n\u001B[0m\u001B[1;32m    175\u001B[0m         \u001B[0mself\u001B[0m\u001B[0;34m.\u001B[0m\u001B[0mevalsNum\u001B[0m \u001B[0;34m=\u001B[0m \u001B[0mself\u001B[0m\u001B[0;34m.\u001B[0m\u001B[0mevalsNum\u001B[0m \u001B[0;34m+\u001B[0m \u001B[0mpop\u001B[0m\u001B[0;34m.\u001B[0m\u001B[0msizes\u001B[0m \u001B[0;32mif\u001B[0m \u001B[0mself\u001B[0m\u001B[0;34m.\u001B[0m\u001B[0mevalsNum\u001B[0m \u001B[0;32mis\u001B[0m \u001B[0;32mnot\u001B[0m \u001B[0;32mNone\u001B[0m \u001B[0;32melse\u001B[0m \u001B[0mpop\u001B[0m\u001B[0;34m.\u001B[0m\u001B[0msizes\u001B[0m  \u001B[0;31m# 更新评价次数\u001B[0m\u001B[0;34m\u001B[0m\u001B[0;34m\u001B[0m\u001B[0m\n\u001B[1;32m    176\u001B[0m         \u001B[0;31m# 格式检查\u001B[0m\u001B[0;34m\u001B[0m\u001B[0;34m\u001B[0m\u001B[0;34m\u001B[0m\u001B[0m\n",
      "\u001B[0;32m<ipython-input-19-29ea1f645391>\u001B[0m in \u001B[0;36maimFunc\u001B[0;34m(self, pop)\u001B[0m\n\u001B[1;32m     50\u001B[0m             \u001B[0mpop\u001B[0m\u001B[0;34m.\u001B[0m\u001B[0mObjV\u001B[0m\u001B[0;34m[\u001B[0m\u001B[0mi\u001B[0m\u001B[0;34m]\u001B[0m \u001B[0;34m=\u001B[0m \u001B[0mfinal_loss\u001B[0m \u001B[0;31m# 最小化最终的损失作为目标函数\u001B[0m\u001B[0;34m\u001B[0m\u001B[0;34m\u001B[0m\u001B[0m\n\u001B[1;32m     51\u001B[0m         \u001B[0mpool\u001B[0m \u001B[0;34m=\u001B[0m \u001B[0mThreadPool\u001B[0m\u001B[0;34m(\u001B[0m\u001B[0mprocesses\u001B[0m\u001B[0;34m=\u001B[0m\u001B[0;36m2\u001B[0m\u001B[0;34m)\u001B[0m \u001B[0;31m# 设置池的大小\u001B[0m\u001B[0;34m\u001B[0m\u001B[0;34m\u001B[0m\u001B[0m\n\u001B[0;32m---> 52\u001B[0;31m         \u001B[0mpool\u001B[0m\u001B[0;34m.\u001B[0m\u001B[0mmap\u001B[0m\u001B[0;34m(\u001B[0m\u001B[0msubAimFunc\u001B[0m\u001B[0;34m,\u001B[0m \u001B[0mlist\u001B[0m\u001B[0;34m(\u001B[0m\u001B[0mrange\u001B[0m\u001B[0;34m(\u001B[0m\u001B[0mpop\u001B[0m\u001B[0;34m.\u001B[0m\u001B[0msizes\u001B[0m\u001B[0;34m)\u001B[0m\u001B[0;34m)\u001B[0m\u001B[0;34m)\u001B[0m \u001B[0;31m# 散列种群每个个体进行加速计算\u001B[0m\u001B[0;34m\u001B[0m\u001B[0;34m\u001B[0m\u001B[0m\n\u001B[0m\u001B[1;32m     53\u001B[0m \u001B[0;34m\u001B[0m\u001B[0m\n\u001B[1;32m     54\u001B[0m \u001B[0;34m\u001B[0m\u001B[0m\n",
      "\u001B[0;32m~/anaconda3/envs/pytorch/lib/python3.8/multiprocessing/pool.py\u001B[0m in \u001B[0;36mmap\u001B[0;34m(self, func, iterable, chunksize)\u001B[0m\n\u001B[1;32m    362\u001B[0m         \u001B[0;32min\u001B[0m \u001B[0ma\u001B[0m \u001B[0mlist\u001B[0m \u001B[0mthat\u001B[0m \u001B[0;32mis\u001B[0m \u001B[0mreturned\u001B[0m\u001B[0;34m.\u001B[0m\u001B[0;34m\u001B[0m\u001B[0;34m\u001B[0m\u001B[0m\n\u001B[1;32m    363\u001B[0m         '''\n\u001B[0;32m--> 364\u001B[0;31m         \u001B[0;32mreturn\u001B[0m \u001B[0mself\u001B[0m\u001B[0;34m.\u001B[0m\u001B[0m_map_async\u001B[0m\u001B[0;34m(\u001B[0m\u001B[0mfunc\u001B[0m\u001B[0;34m,\u001B[0m \u001B[0miterable\u001B[0m\u001B[0;34m,\u001B[0m \u001B[0mmapstar\u001B[0m\u001B[0;34m,\u001B[0m \u001B[0mchunksize\u001B[0m\u001B[0;34m)\u001B[0m\u001B[0;34m.\u001B[0m\u001B[0mget\u001B[0m\u001B[0;34m(\u001B[0m\u001B[0;34m)\u001B[0m\u001B[0;34m\u001B[0m\u001B[0;34m\u001B[0m\u001B[0m\n\u001B[0m\u001B[1;32m    365\u001B[0m \u001B[0;34m\u001B[0m\u001B[0m\n\u001B[1;32m    366\u001B[0m     \u001B[0;32mdef\u001B[0m \u001B[0mstarmap\u001B[0m\u001B[0;34m(\u001B[0m\u001B[0mself\u001B[0m\u001B[0;34m,\u001B[0m \u001B[0mfunc\u001B[0m\u001B[0;34m,\u001B[0m \u001B[0miterable\u001B[0m\u001B[0;34m,\u001B[0m \u001B[0mchunksize\u001B[0m\u001B[0;34m=\u001B[0m\u001B[0;32mNone\u001B[0m\u001B[0;34m)\u001B[0m\u001B[0;34m:\u001B[0m\u001B[0;34m\u001B[0m\u001B[0;34m\u001B[0m\u001B[0m\n",
      "\u001B[0;32m~/anaconda3/envs/pytorch/lib/python3.8/multiprocessing/pool.py\u001B[0m in \u001B[0;36mget\u001B[0;34m(self, timeout)\u001B[0m\n\u001B[1;32m    769\u001B[0m             \u001B[0;32mreturn\u001B[0m \u001B[0mself\u001B[0m\u001B[0;34m.\u001B[0m\u001B[0m_value\u001B[0m\u001B[0;34m\u001B[0m\u001B[0;34m\u001B[0m\u001B[0m\n\u001B[1;32m    770\u001B[0m         \u001B[0;32melse\u001B[0m\u001B[0;34m:\u001B[0m\u001B[0;34m\u001B[0m\u001B[0;34m\u001B[0m\u001B[0m\n\u001B[0;32m--> 771\u001B[0;31m             \u001B[0;32mraise\u001B[0m \u001B[0mself\u001B[0m\u001B[0;34m.\u001B[0m\u001B[0m_value\u001B[0m\u001B[0;34m\u001B[0m\u001B[0;34m\u001B[0m\u001B[0m\n\u001B[0m\u001B[1;32m    772\u001B[0m \u001B[0;34m\u001B[0m\u001B[0m\n\u001B[1;32m    773\u001B[0m     \u001B[0;32mdef\u001B[0m \u001B[0m_set\u001B[0m\u001B[0;34m(\u001B[0m\u001B[0mself\u001B[0m\u001B[0;34m,\u001B[0m \u001B[0mi\u001B[0m\u001B[0;34m,\u001B[0m \u001B[0mobj\u001B[0m\u001B[0;34m)\u001B[0m\u001B[0;34m:\u001B[0m\u001B[0;34m\u001B[0m\u001B[0;34m\u001B[0m\u001B[0m\n",
      "\u001B[0;32m~/anaconda3/envs/pytorch/lib/python3.8/multiprocessing/pool.py\u001B[0m in \u001B[0;36mworker\u001B[0;34m(inqueue, outqueue, initializer, initargs, maxtasks, wrap_exception)\u001B[0m\n\u001B[1;32m    123\u001B[0m         \u001B[0mjob\u001B[0m\u001B[0;34m,\u001B[0m \u001B[0mi\u001B[0m\u001B[0;34m,\u001B[0m \u001B[0mfunc\u001B[0m\u001B[0;34m,\u001B[0m \u001B[0margs\u001B[0m\u001B[0;34m,\u001B[0m \u001B[0mkwds\u001B[0m \u001B[0;34m=\u001B[0m \u001B[0mtask\u001B[0m\u001B[0;34m\u001B[0m\u001B[0;34m\u001B[0m\u001B[0m\n\u001B[1;32m    124\u001B[0m         \u001B[0;32mtry\u001B[0m\u001B[0;34m:\u001B[0m\u001B[0;34m\u001B[0m\u001B[0;34m\u001B[0m\u001B[0m\n\u001B[0;32m--> 125\u001B[0;31m             \u001B[0mresult\u001B[0m \u001B[0;34m=\u001B[0m \u001B[0;34m(\u001B[0m\u001B[0;32mTrue\u001B[0m\u001B[0;34m,\u001B[0m \u001B[0mfunc\u001B[0m\u001B[0;34m(\u001B[0m\u001B[0;34m*\u001B[0m\u001B[0margs\u001B[0m\u001B[0;34m,\u001B[0m \u001B[0;34m**\u001B[0m\u001B[0mkwds\u001B[0m\u001B[0;34m)\u001B[0m\u001B[0;34m)\u001B[0m\u001B[0;34m\u001B[0m\u001B[0;34m\u001B[0m\u001B[0m\n\u001B[0m\u001B[1;32m    126\u001B[0m         \u001B[0;32mexcept\u001B[0m \u001B[0mException\u001B[0m \u001B[0;32mas\u001B[0m \u001B[0me\u001B[0m\u001B[0;34m:\u001B[0m\u001B[0;34m\u001B[0m\u001B[0;34m\u001B[0m\u001B[0m\n\u001B[1;32m    127\u001B[0m             \u001B[0;32mif\u001B[0m \u001B[0mwrap_exception\u001B[0m \u001B[0;32mand\u001B[0m \u001B[0mfunc\u001B[0m \u001B[0;32mis\u001B[0m \u001B[0;32mnot\u001B[0m \u001B[0m_helper_reraises_exception\u001B[0m\u001B[0;34m:\u001B[0m\u001B[0;34m\u001B[0m\u001B[0;34m\u001B[0m\u001B[0m\n",
      "\u001B[0;32m~/anaconda3/envs/pytorch/lib/python3.8/multiprocessing/pool.py\u001B[0m in \u001B[0;36mmapstar\u001B[0;34m(args)\u001B[0m\n\u001B[1;32m     46\u001B[0m \u001B[0;34m\u001B[0m\u001B[0m\n\u001B[1;32m     47\u001B[0m \u001B[0;32mdef\u001B[0m \u001B[0mmapstar\u001B[0m\u001B[0;34m(\u001B[0m\u001B[0margs\u001B[0m\u001B[0;34m)\u001B[0m\u001B[0;34m:\u001B[0m\u001B[0;34m\u001B[0m\u001B[0;34m\u001B[0m\u001B[0m\n\u001B[0;32m---> 48\u001B[0;31m     \u001B[0;32mreturn\u001B[0m \u001B[0mlist\u001B[0m\u001B[0;34m(\u001B[0m\u001B[0mmap\u001B[0m\u001B[0;34m(\u001B[0m\u001B[0;34m*\u001B[0m\u001B[0margs\u001B[0m\u001B[0;34m)\u001B[0m\u001B[0;34m)\u001B[0m\u001B[0;34m\u001B[0m\u001B[0;34m\u001B[0m\u001B[0m\n\u001B[0m\u001B[1;32m     49\u001B[0m \u001B[0;34m\u001B[0m\u001B[0m\n\u001B[1;32m     50\u001B[0m \u001B[0;32mdef\u001B[0m \u001B[0mstarmapstar\u001B[0m\u001B[0;34m(\u001B[0m\u001B[0margs\u001B[0m\u001B[0;34m)\u001B[0m\u001B[0;34m:\u001B[0m\u001B[0;34m\u001B[0m\u001B[0;34m\u001B[0m\u001B[0m\n",
      "\u001B[0;32m<ipython-input-19-29ea1f645391>\u001B[0m in \u001B[0;36msubAimFunc\u001B[0;34m(i)\u001B[0m\n\u001B[1;32m     45\u001B[0m                     \u001B[0;31m# 反向传播,优化权重\u001B[0m\u001B[0;34m\u001B[0m\u001B[0;34m\u001B[0m\u001B[0;34m\u001B[0m\u001B[0m\n\u001B[1;32m     46\u001B[0m                     \u001B[0moptimizer\u001B[0m\u001B[0;34m.\u001B[0m\u001B[0mzero_grad\u001B[0m\u001B[0;34m(\u001B[0m\u001B[0;34m)\u001B[0m\u001B[0;34m\u001B[0m\u001B[0;34m\u001B[0m\u001B[0m\n\u001B[0;32m---> 47\u001B[0;31m                     \u001B[0mloss\u001B[0m\u001B[0;34m.\u001B[0m\u001B[0mbackward\u001B[0m\u001B[0;34m(\u001B[0m\u001B[0;34m)\u001B[0m\u001B[0;34m\u001B[0m\u001B[0;34m\u001B[0m\u001B[0m\n\u001B[0m\u001B[1;32m     48\u001B[0m                     \u001B[0moptimizer\u001B[0m\u001B[0;34m.\u001B[0m\u001B[0mstep\u001B[0m\u001B[0;34m(\u001B[0m\u001B[0;34m)\u001B[0m\u001B[0;34m\u001B[0m\u001B[0;34m\u001B[0m\u001B[0m\n\u001B[1;32m     49\u001B[0m \u001B[0;34m\u001B[0m\u001B[0m\n",
      "\u001B[0;32m~/anaconda3/envs/pytorch/lib/python3.8/site-packages/torch/_tensor.py\u001B[0m in \u001B[0;36mbackward\u001B[0;34m(self, gradient, retain_graph, create_graph, inputs)\u001B[0m\n\u001B[1;32m    394\u001B[0m                 \u001B[0mcreate_graph\u001B[0m\u001B[0;34m=\u001B[0m\u001B[0mcreate_graph\u001B[0m\u001B[0;34m,\u001B[0m\u001B[0;34m\u001B[0m\u001B[0;34m\u001B[0m\u001B[0m\n\u001B[1;32m    395\u001B[0m                 inputs=inputs)\n\u001B[0;32m--> 396\u001B[0;31m         \u001B[0mtorch\u001B[0m\u001B[0;34m.\u001B[0m\u001B[0mautograd\u001B[0m\u001B[0;34m.\u001B[0m\u001B[0mbackward\u001B[0m\u001B[0;34m(\u001B[0m\u001B[0mself\u001B[0m\u001B[0;34m,\u001B[0m \u001B[0mgradient\u001B[0m\u001B[0;34m,\u001B[0m \u001B[0mretain_graph\u001B[0m\u001B[0;34m,\u001B[0m \u001B[0mcreate_graph\u001B[0m\u001B[0;34m,\u001B[0m \u001B[0minputs\u001B[0m\u001B[0;34m=\u001B[0m\u001B[0minputs\u001B[0m\u001B[0;34m)\u001B[0m\u001B[0;34m\u001B[0m\u001B[0;34m\u001B[0m\u001B[0m\n\u001B[0m\u001B[1;32m    397\u001B[0m \u001B[0;34m\u001B[0m\u001B[0m\n\u001B[1;32m    398\u001B[0m     \u001B[0;32mdef\u001B[0m \u001B[0mregister_hook\u001B[0m\u001B[0;34m(\u001B[0m\u001B[0mself\u001B[0m\u001B[0;34m,\u001B[0m \u001B[0mhook\u001B[0m\u001B[0;34m)\u001B[0m\u001B[0;34m:\u001B[0m\u001B[0;34m\u001B[0m\u001B[0;34m\u001B[0m\u001B[0m\n",
      "\u001B[0;32m~/anaconda3/envs/pytorch/lib/python3.8/site-packages/torch/autograd/__init__.py\u001B[0m in \u001B[0;36mbackward\u001B[0;34m(tensors, grad_tensors, retain_graph, create_graph, grad_variables, inputs)\u001B[0m\n\u001B[1;32m    171\u001B[0m     \u001B[0;31m# some Python versions print out the first line of a multi-line function\u001B[0m\u001B[0;34m\u001B[0m\u001B[0;34m\u001B[0m\u001B[0;34m\u001B[0m\u001B[0m\n\u001B[1;32m    172\u001B[0m     \u001B[0;31m# calls in the traceback and some print out the last line\u001B[0m\u001B[0;34m\u001B[0m\u001B[0;34m\u001B[0m\u001B[0;34m\u001B[0m\u001B[0m\n\u001B[0;32m--> 173\u001B[0;31m     Variable._execution_engine.run_backward(  # Calls into the C++ engine to run the backward pass\n\u001B[0m\u001B[1;32m    174\u001B[0m         \u001B[0mtensors\u001B[0m\u001B[0;34m,\u001B[0m \u001B[0mgrad_tensors_\u001B[0m\u001B[0;34m,\u001B[0m \u001B[0mretain_graph\u001B[0m\u001B[0;34m,\u001B[0m \u001B[0mcreate_graph\u001B[0m\u001B[0;34m,\u001B[0m \u001B[0minputs\u001B[0m\u001B[0;34m,\u001B[0m\u001B[0;34m\u001B[0m\u001B[0;34m\u001B[0m\u001B[0m\n\u001B[1;32m    175\u001B[0m         allow_unreachable=True, accumulate_grad=True)  # Calls into the C++ engine to run the backward pass\n",
      "\u001B[0;31mRuntimeError\u001B[0m: one of the variables needed for gradient computation has been modified by an inplace operation: [torch.FloatTensor [20, 10]], which is output 0 of AsStridedBackward0, is at version 23416; expected version 23415 instead. Hint: enable anomaly detection to find the operation that failed to compute its gradient, with torch.autograd.set_detect_anomaly(True)."
     ]
    }
   ],
   "source": [
    "\"\"\"===============================实例化问题对象===========================\"\"\"\n",
    "\n",
    "problem = MOEA(train_data_loader, test_data_loader) # 生成问题对象\n",
    "\n",
    "\"\"\"=================================种群设置===============================\"\"\"\n",
    "\n",
    "Encoding = 'RI'       # 编码方式\n",
    "NIND = 10             # 种群规模\n",
    "Field = ea.crtfld(Encoding, problem.varTypes, problem.ranges, problem.borders) # 创建区域描述器\n",
    "population = ea.Population(Encoding, Field, NIND) # 实例化种群对象（此时种群还没被初始化，仅仅是完成种群对象的实例化）\n",
    "\n",
    "\"\"\"===============================算法参数设置=============================\"\"\"\n",
    "\n",
    "myAlgorithm = ea.soea_DE_rand_1_bin_templet(problem, population) # 实例化一个算法模板对象\n",
    "myAlgorithm.MAXGEN = 10 # 最大进化代数\n",
    "myAlgorithm.trappedValue = 1e-6 # “进化停滞”判断阈值\n",
    "myAlgorithm.maxTrappedCount = 10 # 进化停滞计数器最大上限值，如果连续maxTrappedCount代被判定进化陷入停滞，则终止进化\n",
    "myAlgorithm.logTras = 1  # 设置每隔多少代记录日志，若设置成0则表示不记录日志\n",
    "myAlgorithm.verbose = True  # 设置是否打印输出日志信息\n",
    "myAlgorithm.drawing = 1  # 设置绘图方式（0：不绘图；1：绘制结果图；2：绘制目标空间过程动画；3：绘制决策空间过程动画）\n",
    "\n",
    "\"\"\"===========================调用算法模板进行种群进化=======================\"\"\"\n",
    "\n",
    "[BestIndi, population] = myAlgorithm.run()  # 执行算法模板，得到最优个体以及最后一代种群\n",
    "BestIndi.save()  # 把最优个体的信息保存到文件中\n",
    "\n",
    "\"\"\"==================================输出结果=============================\"\"\"\n",
    "\n",
    "print('用时：%f 秒' % myAlgorithm.passTime)\n",
    "print('评价次数：%d 次' % myAlgorithm.evalsNum)\n",
    "if BestIndi.sizes != 0:\n",
    "    print('最优的目标函数值为：%s' % BestIndi.ObjV[0][0])\n",
    "    print('最优的控制变量值为：')\n",
    "    for i in range(BestIndi.Phen.shape[1]):\n",
    "        print(BestIndi.Phen[0, i])\n",
    "else:\n",
    "    print('没找到可行解。')\n",
    "\n",
    "\"\"\"=================================检验结果===============================\"\"\"\n",
    "\n",
    "problem.test(epochs= int(BestIndi.Phen[0][0]), alpha= float(BestIndi.Phen[0][1]))\n"
   ],
   "metadata": {
    "collapsed": false
   }
  },
  {
   "cell_type": "code",
   "execution_count": null,
   "outputs": [],
   "source": [],
   "metadata": {
    "collapsed": false
   }
  }
 ],
 "metadata": {
  "kernelspec": {
   "display_name": "pytorch",
   "language": "python",
   "name": "pytorch"
  },
  "language_info": {
   "codemirror_mode": {
    "name": "ipython",
    "version": 3
   },
   "file_extension": ".py",
   "mimetype": "text/x-python",
   "name": "python",
   "nbconvert_exporter": "python",
   "pygments_lexer": "ipython3",
   "version": "3.8.5"
  }
 },
 "nbformat": 4,
 "nbformat_minor": 4
}
