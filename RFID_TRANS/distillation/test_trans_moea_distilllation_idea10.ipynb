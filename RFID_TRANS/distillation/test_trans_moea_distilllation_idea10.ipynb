{
 "cells": [
  {
   "cell_type": "markdown",
   "metadata": {},
   "source": [
    "## 知识蒸馏-ctt teacher->trans student 最终版"
   ]
  },
  {
   "cell_type": "code",
   "execution_count": 1,
   "metadata": {
    "collapsed": false,
    "jupyter": {
     "outputs_hidden": false
    }
   },
   "outputs": [
    {
     "name": "stdout",
     "output_type": "stream",
     "text": [
      "/Users/frank/Desktop/jupyter/RFID_TRANS/filter/\n"
     ]
    },
    {
     "data": {
      "text/plain": "<Figure size 432x288 with 0 Axes>"
     },
     "metadata": {},
     "output_type": "display_data"
    },
    {
     "data": {
      "text/plain": "<Figure size 432x288 with 0 Axes>"
     },
     "metadata": {},
     "output_type": "display_data"
    }
   ],
   "source": [
    "import copy\n",
    "import math\n",
    "import torch\n",
    "import pickle\n",
    "import numpy as np\n",
    "import pandas as pd\n",
    "import geatpy as ea\n",
    "from tqdm import tqdm\n",
    "from torch import nn\n",
    "from torch import optim\n",
    "from fill.hot_filling import hot_fill\n",
    "from fill.neighbour_filling import neighbour_fill\n",
    "from filter.w_mean_filter import *\n",
    "from filter.rssi_guass_filter import filter_guass\n",
    "from filter.kalman_filter import filter_kalman\n",
    "import torch.nn.functional as F\n",
    "import matplotlib.pyplot as plt\n",
    "import utils.calculate_param as cp\n",
    "from dataset import data_read\n",
    "from torch.utils.data import TensorDataset\n",
    "from torch.utils.data import DataLoader\n",
    "from multiprocessing.dummy import Pool as ThreadPool\n",
    "from sklearn.metrics import mean_absolute_error, explained_variance_score, r2_score, mean_squared_error"
   ]
  },
  {
   "cell_type": "markdown",
   "metadata": {},
   "source": [
    "### 硬件设备准备"
   ]
  },
  {
   "cell_type": "code",
   "execution_count": 2,
   "metadata": {
    "collapsed": false,
    "jupyter": {
     "outputs_hidden": false
    }
   },
   "outputs": [
    {
     "data": {
      "text/plain": "device(type='cpu')"
     },
     "execution_count": 2,
     "metadata": {},
     "output_type": "execute_result"
    }
   ],
   "source": [
    "device = torch.device(\"cuda:0\" if torch.cuda.is_available() else \"cpu\")\n",
    "device"
   ]
  },
  {
   "cell_type": "markdown",
   "source": [
    "### 加载数据集 近邻填充+高斯滤波"
   ],
   "metadata": {
    "collapsed": false
   }
  },
  {
   "cell_type": "code",
   "execution_count": 3,
   "outputs": [],
   "source": [
    "X_train_0, y_train_0 = data_read.load_data('train')\n",
    "X_test_0, y_test_0 = data_read.load_data('test')"
   ],
   "metadata": {
    "collapsed": false
   }
  },
  {
   "cell_type": "code",
   "execution_count": 4,
   "outputs": [
    {
     "data": {
      "text/plain": "(2000, 50)"
     },
     "execution_count": 4,
     "metadata": {},
     "output_type": "execute_result"
    }
   ],
   "source": [
    "X_train_neighbour = [neighbour_fill(xi) for xi in X_train_0]\n",
    "X_test_neighbour = [neighbour_fill(xi) for xi in X_test_0]\n",
    "X_train_guass = [filter_guass(xi) for xi in X_train_neighbour]\n",
    "X_test_guass = [filter_guass(xi) for xi in X_test_neighbour]\n",
    "X_train_guass = np.array(X_train_guass)\n",
    "X_test_guass = np.array(X_test_guass)\n",
    "\n",
    "X_train_guass.shape"
   ],
   "metadata": {
    "collapsed": false
   }
  },
  {
   "cell_type": "code",
   "execution_count": 5,
   "outputs": [
    {
     "data": {
      "text/plain": "torch.Size([2000, 50])"
     },
     "execution_count": 5,
     "metadata": {},
     "output_type": "execute_result"
    }
   ],
   "source": [
    "X_train = torch.from_numpy(X_train_guass).float().to(device) # [len * feature]\n",
    "y_train = torch.from_numpy(y_train_0).float().to(device)\n",
    "X_test = torch.from_numpy(X_test_guass).float().to(device) # [len * feature]\n",
    "y_test = torch.from_numpy(y_test_0).float().to(device)\n",
    "\n",
    "X_train.shape\n"
   ],
   "metadata": {
    "collapsed": false
   }
  },
  {
   "cell_type": "code",
   "execution_count": 6,
   "outputs": [],
   "source": [
    "train_data_loader = DataLoader(TensorDataset(X_train, y_train), batch_size=100, shuffle=False)\n",
    "test_data_loader = DataLoader(TensorDataset(X_test, y_test), batch_size=100, shuffle=False)"
   ],
   "metadata": {
    "collapsed": false
   }
  },
  {
   "cell_type": "markdown",
   "metadata": {},
   "source": [
    "### 定义教师模型-CTT"
   ]
  },
  {
   "cell_type": "code",
   "execution_count": 7,
   "metadata": {
    "collapsed": false,
    "jupyter": {
     "outputs_hidden": false
    }
   },
   "outputs": [],
   "source": [
    "# CNN\n",
    "class CNN(nn.Module):\n",
    "    def __init__(self):\n",
    "        super(CNN,self).__init__()\n",
    "        self.conv1 = nn.Sequential(\n",
    "            nn.Conv2d(in_channels=1, out_channels=3, kernel_size=7),\n",
    "            nn.ReLU(),\n",
    "            nn.MaxPool2d(kernel_size=2)\n",
    "        )\n",
    "        self.conv2 = nn.Sequential(\n",
    "            nn.Conv2d(in_channels=3, out_channels=6, kernel_size=7),\n",
    "            nn.ReLU(),\n",
    "            nn.MaxPool2d(kernel_size=2)\n",
    "        )\n",
    "        self.out=nn.Linear(960, 50)\n",
    "\n",
    "    def forward(self, x):\n",
    "        x= self.conv1(x)\n",
    "        # print(x.shape)\n",
    "        x= self.conv2(x)\n",
    "        # print(x.shape)\n",
    "        x= x.view(-1, x.size(0) * x.size(1) * x.size(2))\n",
    "        # print(x.shape)\n",
    "        out = self.out(x)\n",
    "        return out\n",
    "\n",
    "\n",
    "# 位置编码类\n",
    "class PositionalEncoding(nn.Module):\n",
    "    def __init__(self, d_model, max_len=5000):\n",
    "        super(PositionalEncoding, self).__init__()\n",
    "        pe = torch.zeros(max_len, d_model)\n",
    "        position = torch.arange(0, max_len, dtype=torch.float).unsqueeze(1)\n",
    "        div_term = torch.exp(torch.arange(0, d_model, 2).float() * (-math.log(10000.0) / d_model))\n",
    "        pe[:, 0::2] = torch.sin(position * div_term)\n",
    "        pe[:, 1::2] = torch.cos(position * div_term)\n",
    "        pe = pe.unsqueeze(0).transpose(0, 1)\n",
    "        self.register_buffer('pe', pe)\n",
    "\n",
    "    def forward(self, x):\n",
    "        out = x + self.pe[:x.size(0), :]\n",
    "        return out\n",
    "\n",
    "\n",
    "# 教师模型类\n",
    "class TeacherTransformer(nn.Module):\n",
    "    def __init__(self):\n",
    "        super(TeacherTransformer, self).__init__()\n",
    "        self.cnn = CNN()\n",
    "        self.d_model = 128  # 词向量维度\n",
    "        self.embedding_enc = nn.Linear(50, self.d_model)\n",
    "        self.embedding_dec = nn.Linear(2, self.d_model)\n",
    "        self.pos_encoding = PositionalEncoding(self.d_model)\n",
    "        self.Transformer_layer = nn.Transformer(d_model=128, num_encoder_layers=3, num_decoder_layers=3, batch_first=True)\n",
    "        self.FC_layer = nn.Linear(128, 2)\n",
    "\n",
    "    def forward(self, src, tgt):\n",
    "        # rssi进行cnn特征提取\n",
    "        src = src.unsqueeze(0)\n",
    "        src = self.cnn(src)\n",
    "        # print(src.shape)\n",
    "        # 使用线性层代替embedding\n",
    "        src = self.embedding_enc(src).unsqueeze(0)\n",
    "        tgt = self.embedding_dec(tgt).unsqueeze(0)\n",
    "        src = self.pos_encoding(src)\n",
    "        out = self.Transformer_layer(src, tgt)\n",
    "        out = self.FC_layer(out)\n",
    "        return out\n"
   ]
  },
  {
   "cell_type": "markdown",
   "metadata": {},
   "source": [
    "### 教师模型设置"
   ]
  },
  {
   "cell_type": "code",
   "execution_count": 8,
   "metadata": {
    "collapsed": false,
    "jupyter": {
     "outputs_hidden": false
    }
   },
   "outputs": [],
   "source": [
    "model = TeacherTransformer().to(device)\n",
    "criterion = nn.MSELoss()\n",
    "optimizer = optim.SGD(model.parameters(), lr=1e-3, momentum=0.99)"
   ]
  },
  {
   "cell_type": "markdown",
   "metadata": {},
   "source": [
    "### 教师模型信息"
   ]
  },
  {
   "cell_type": "code",
   "execution_count": 9,
   "metadata": {
    "collapsed": false,
    "jupyter": {
     "outputs_hidden": false
    }
   },
   "outputs": [
    {
     "name": "stdout",
     "output_type": "stream",
     "text": [
      "torchinfo信息如下：\n",
      "===============================================================================================\n",
      "Layer (type:depth-idx)                                                 Param #\n",
      "===============================================================================================\n",
      "TeacherTransformer                                                     --\n",
      "├─CNN: 1-1                                                             --\n",
      "│    └─Sequential: 2-1                                                 --\n",
      "│    │    └─Conv2d: 3-1                                                150\n",
      "│    │    └─ReLU: 3-2                                                  --\n",
      "│    │    └─MaxPool2d: 3-3                                             --\n",
      "│    └─Sequential: 2-2                                                 --\n",
      "│    │    └─Conv2d: 3-4                                                888\n",
      "│    │    └─ReLU: 3-5                                                  --\n",
      "│    │    └─MaxPool2d: 3-6                                             --\n",
      "│    └─Linear: 2-3                                                     48,050\n",
      "├─Linear: 1-2                                                          6,528\n",
      "├─Linear: 1-3                                                          384\n",
      "├─PositionalEncoding: 1-4                                              --\n",
      "├─Transformer: 1-5                                                     --\n",
      "│    └─TransformerEncoder: 2-4                                         --\n",
      "│    │    └─ModuleList: 3-7                                            1,779,072\n",
      "│    │    └─LayerNorm: 3-8                                             256\n",
      "│    └─TransformerDecoder: 2-5                                         --\n",
      "│    │    └─ModuleList: 3-9                                            1,977,984\n",
      "│    │    └─LayerNorm: 3-10                                            256\n",
      "├─Linear: 1-6                                                          258\n",
      "===============================================================================================\n",
      "Total params: 3,813,826\n",
      "Trainable params: 3,813,826\n",
      "Non-trainable params: 0\n",
      "===============================================================================================\n"
     ]
    }
   ],
   "source": [
    "# 输出教师模型的参数信息-380w参数\n",
    "cp.get_summary(model, input_size=None)"
   ]
  },
  {
   "cell_type": "markdown",
   "metadata": {},
   "source": [
    "### 教师模型训练"
   ]
  },
  {
   "cell_type": "code",
   "execution_count": 10,
   "metadata": {
    "collapsed": false,
    "jupyter": {
     "outputs_hidden": false
    }
   },
   "outputs": [
    {
     "name": "stdout",
     "output_type": "stream",
     "text": [
      "Epoch: 0001 loss = 48.209963\n",
      "Epoch: 0002 loss = 32.398098\n",
      "Epoch: 0003 loss = 56.208129\n",
      "Epoch: 0004 loss = 44.791168\n",
      "Epoch: 0005 loss = 30.543414\n",
      "Epoch: 0006 loss = 20.042283\n",
      "Epoch: 0007 loss = 19.167069\n",
      "Epoch: 0008 loss = 15.489157\n",
      "Epoch: 0009 loss = 14.397269\n",
      "Epoch: 0010 loss = 14.471877\n",
      "Epoch: 0011 loss = 13.984460\n",
      "Epoch: 0012 loss = 13.399434\n",
      "Epoch: 0013 loss = 9.966894\n",
      "Epoch: 0014 loss = 8.511494\n",
      "Epoch: 0015 loss = 7.465411\n",
      "Epoch: 0016 loss = 5.833348\n",
      "Epoch: 0017 loss = 4.991610\n",
      "Epoch: 0018 loss = 4.091716\n",
      "Epoch: 0019 loss = 3.264026\n",
      "Epoch: 0020 loss = 3.147040\n",
      "Epoch: 0021 loss = 2.568625\n",
      "Epoch: 0022 loss = 2.691803\n",
      "Epoch: 0023 loss = 2.313695\n",
      "Epoch: 0024 loss = 2.286685\n",
      "Epoch: 0025 loss = 1.923788\n",
      "Epoch: 0026 loss = 1.723067\n",
      "Epoch: 0027 loss = 1.705054\n",
      "Epoch: 0028 loss = 1.579330\n",
      "Epoch: 0029 loss = 1.393907\n",
      "Epoch: 0030 loss = 1.449995\n",
      "Epoch: 0031 loss = 1.183111\n",
      "Epoch: 0032 loss = 1.247393\n",
      "Epoch: 0033 loss = 1.231591\n",
      "Epoch: 0034 loss = 1.074970\n",
      "Epoch: 0035 loss = 1.102134\n",
      "Epoch: 0036 loss = 1.092003\n",
      "Epoch: 0037 loss = 1.005918\n",
      "Epoch: 0038 loss = 1.000958\n",
      "Epoch: 0039 loss = 1.050301\n",
      "Epoch: 0040 loss = 0.870412\n",
      "Epoch: 0041 loss = 0.954537\n",
      "Epoch: 0042 loss = 0.842906\n",
      "Epoch: 0043 loss = 0.851145\n",
      "Epoch: 0044 loss = 0.854029\n",
      "Epoch: 0045 loss = 0.841629\n",
      "Epoch: 0046 loss = 0.768511\n",
      "Epoch: 0047 loss = 0.861443\n",
      "Epoch: 0048 loss = 0.772779\n",
      "Epoch: 0049 loss = 0.793892\n",
      "Epoch: 0050 loss = 0.731716\n",
      "Epoch: 0051 loss = 0.778566\n",
      "Epoch: 0052 loss = 0.712454\n",
      "Epoch: 0053 loss = 0.773225\n",
      "Epoch: 0054 loss = 0.730750\n",
      "Epoch: 0055 loss = 0.692185\n",
      "Epoch: 0056 loss = 0.750948\n",
      "Epoch: 0057 loss = 0.672671\n",
      "Epoch: 0058 loss = 0.674410\n",
      "Epoch: 0059 loss = 0.722736\n",
      "Epoch: 0060 loss = 0.647906\n",
      "Epoch: 0061 loss = 0.668856\n",
      "Epoch: 0062 loss = 0.673487\n",
      "Epoch: 0063 loss = 0.656685\n",
      "Epoch: 0064 loss = 0.690087\n",
      "Epoch: 0065 loss = 0.659688\n",
      "Epoch: 0066 loss = 0.666657\n",
      "Epoch: 0067 loss = 0.603870\n",
      "Epoch: 0068 loss = 0.626550\n",
      "Epoch: 0069 loss = 0.591257\n",
      "Epoch: 0070 loss = 0.587163\n",
      "Epoch: 0071 loss = 0.605650\n",
      "Epoch: 0072 loss = 0.558899\n",
      "Epoch: 0073 loss = 0.574535\n",
      "Epoch: 0074 loss = 0.596490\n",
      "Epoch: 0075 loss = 0.565764\n",
      "Epoch: 0076 loss = 0.568329\n",
      "Epoch: 0077 loss = 0.530110\n",
      "Epoch: 0078 loss = 0.565170\n",
      "Epoch: 0079 loss = 0.549352\n",
      "Epoch: 0080 loss = 0.566994\n",
      "Epoch: 0081 loss = 0.575315\n",
      "Epoch: 0082 loss = 0.554805\n",
      "Epoch: 0083 loss = 0.543287\n",
      "Epoch: 0084 loss = 0.551737\n",
      "Epoch: 0085 loss = 0.527860\n",
      "Epoch: 0086 loss = 0.495552\n",
      "Epoch: 0087 loss = 0.505172\n",
      "Epoch: 0088 loss = 0.506707\n",
      "Epoch: 0089 loss = 0.506555\n",
      "Epoch: 0090 loss = 0.529407\n",
      "Epoch: 0091 loss = 0.504595\n",
      "Epoch: 0092 loss = 0.497481\n",
      "Epoch: 0093 loss = 0.505493\n",
      "Epoch: 0094 loss = 0.490027\n",
      "Epoch: 0095 loss = 0.489754\n",
      "Epoch: 0096 loss = 0.498182\n",
      "Epoch: 0097 loss = 0.490264\n",
      "Epoch: 0098 loss = 0.485922\n",
      "Epoch: 0099 loss = 0.503889\n",
      "Epoch: 0100 loss = 0.452172\n",
      "Epoch: 0101 loss = 0.487524\n",
      "Epoch: 0102 loss = 0.464525\n",
      "Epoch: 0103 loss = 0.478319\n",
      "Epoch: 0104 loss = 0.467033\n",
      "Epoch: 0105 loss = 0.447392\n",
      "Epoch: 0106 loss = 0.455016\n",
      "Epoch: 0107 loss = 0.469918\n",
      "Epoch: 0108 loss = 0.473159\n",
      "Epoch: 0109 loss = 0.469785\n",
      "Epoch: 0110 loss = 0.487671\n",
      "Epoch: 0111 loss = 0.465544\n",
      "Epoch: 0112 loss = 0.479214\n",
      "Epoch: 0113 loss = 0.417202\n",
      "Epoch: 0114 loss = 0.448340\n",
      "Epoch: 0115 loss = 0.427637\n",
      "Epoch: 0116 loss = 0.439524\n",
      "Epoch: 0117 loss = 0.420578\n",
      "Epoch: 0118 loss = 0.424686\n",
      "Epoch: 0119 loss = 0.448725\n",
      "Epoch: 0120 loss = 0.447350\n",
      "Epoch: 0121 loss = 0.460321\n",
      "Epoch: 0122 loss = 0.447836\n",
      "Epoch: 0123 loss = 0.442910\n",
      "Epoch: 0124 loss = 0.444977\n",
      "Epoch: 0125 loss = 0.435709\n",
      "Epoch: 0126 loss = 0.410281\n",
      "Epoch: 0127 loss = 0.447395\n",
      "Epoch: 0128 loss = 0.394031\n",
      "Epoch: 0129 loss = 0.404418\n",
      "Epoch: 0130 loss = 0.413019\n",
      "Epoch: 0131 loss = 0.386433\n",
      "Epoch: 0132 loss = 0.380052\n",
      "Epoch: 0133 loss = 0.407537\n",
      "Epoch: 0134 loss = 0.400518\n",
      "Epoch: 0135 loss = 0.406979\n",
      "Epoch: 0136 loss = 0.396128\n",
      "Epoch: 0137 loss = 0.394886\n",
      "Epoch: 0138 loss = 0.404549\n",
      "Epoch: 0139 loss = 0.387787\n",
      "Epoch: 0140 loss = 0.390723\n",
      "Epoch: 0141 loss = 0.363292\n",
      "Epoch: 0142 loss = 0.388695\n",
      "Epoch: 0143 loss = 0.386955\n",
      "Epoch: 0144 loss = 0.385725\n",
      "Epoch: 0145 loss = 0.406040\n",
      "Epoch: 0146 loss = 0.431048\n",
      "Epoch: 0147 loss = 0.395230\n",
      "Epoch: 0148 loss = 0.410290\n",
      "Epoch: 0149 loss = 0.370993\n",
      "Epoch: 0150 loss = 0.378018\n",
      "best_loss::| 0.3632924798876047 ---best_epoch::| 140\n",
      "CPU times: user 3min 47s, sys: 32.5 s, total: 4min 19s\n",
      "Wall time: 2min 15s\n"
     ]
    }
   ],
   "source": [
    "%%time\n",
    "\n",
    "best_loss = 100000\n",
    "best_epoch = 0\n",
    "for epoch in range(150):\n",
    "    epoch_loss = 0\n",
    "    for X, y in train_data_loader:  # enc_inputs : [len * feature]->[2000 * 50]\n",
    "        # print(X.shape)  # [100 * 50]\n",
    "        # print(y.shape)  # [100 * 50]\n",
    "        outputs = model(X, y)\n",
    "        outputs = outputs.squeeze()  # [100 * 2]\n",
    "        # print(outputs.shape)\n",
    "        loss = criterion(outputs, y)\n",
    "        loss_num = loss.item()\n",
    "        epoch_loss += loss_num\n",
    "        optimizer.zero_grad()\n",
    "        loss.backward()\n",
    "        # torch.nn.utils.clip_grad_norm_(model.parameters(), 0.5)\n",
    "        optimizer.step()\n",
    "\n",
    "    if epoch_loss < best_loss:\n",
    "        best_loss = epoch_loss\n",
    "        best_epoch = epoch\n",
    "        best_model_wts = copy.deepcopy(model.state_dict())\n",
    "        torch.save(best_model_wts, './result/ctt_weight.pth')\n",
    "\n",
    "    print('Epoch:', '%04d' % (epoch + 1), 'loss =', '{:.6f}'.format(epoch_loss))\n",
    "\n",
    "# 打印最佳的结果\n",
    "print('best_loss::|',best_loss,'---best_epoch::|',best_epoch)\n"
   ]
  },
  {
   "cell_type": "markdown",
   "source": [
    "### 教师模型评估"
   ],
   "metadata": {
    "collapsed": false
   }
  },
  {
   "cell_type": "code",
   "execution_count": 10,
   "outputs": [
    {
     "name": "stdout",
     "output_type": "stream",
     "text": [
      "{'mae': 0.083563276, 'mse': 0.009755993, 'rmse': 0.09877243168988666, 'evs': 0.998113363981247, 'r2': 0.9952863212685581, 'mmax': 0.23729467, 'mmin': 0.017131537}\n",
      "       X     y        PX        Py\n",
      "0   0.21  3.47  0.245147  3.529120\n",
      "1   1.13  1.96  1.196976  2.037458\n",
      "2   3.38  2.58  3.509076  2.693891\n",
      "3   4.07  2.72  4.230471  2.845829\n",
      "4   1.58  2.47  1.647689  2.543962\n",
      "5   3.43  1.61  3.568917  1.697960\n",
      "6   1.22  0.74  1.316422  0.784526\n",
      "7   2.33  1.97  2.433043  2.037741\n",
      "8   0.33  3.56  0.355676  3.628693\n",
      "9   3.53  4.28  3.655198  4.490645\n",
      "10  4.42  3.69  4.636249  3.866905\n",
      "11  3.67  0.34  3.831290  0.339497\n",
      "12  2.57  0.37  2.694048  0.397630\n",
      "13  3.14  3.22  3.244254  3.332000\n",
      "14  4.76  3.34  4.918339  3.465530\n",
      "15  1.70  3.71  1.770001  3.785635\n",
      "16  3.50  1.20  3.626587  1.278121\n",
      "17  0.68  4.65  0.639596  4.752783\n",
      "18  1.09  4.59  1.075465  4.723710\n",
      "19  0.25  3.70  0.270644  3.772177\n"
     ]
    }
   ],
   "source": [
    "model = TeacherTransformer().to(device)\n",
    "# 暂存教师模型为teacher_model\n",
    "teacher_model = model\n",
    "model.load_state_dict(torch.load('./result/ctt_weight.pth'))\n",
    "model.eval()\n",
    "\n",
    "pxy_all = []\n",
    "y_all = []\n",
    "for X, y in test_data_loader:\n",
    "    pxy = model(X, y)\n",
    "    pxy = pxy.cpu().detach().numpy().squeeze(0)\n",
    "    y = y.cpu().detach().numpy()\n",
    "    pxy_all.append(pxy)\n",
    "    y_all.append(y)\n",
    "\n",
    "# 计算指标\n",
    "pxy_all = np.array(pxy_all).reshape(-1, 2)\n",
    "y_all = np.array(y_all).reshape(-1, 2)\n",
    "mae = mean_absolute_error(y_all, pxy_all)\n",
    "mse = mean_squared_error(y_all, pxy_all)\n",
    "rmse = mse ** 0.5\n",
    "evs = explained_variance_score(y_all, pxy_all)\n",
    "r2 = r2_score(y_all, pxy_all)\n",
    "\n",
    "mmax = 0\n",
    "mmin = 10000\n",
    "for i in range(len(pxy_all)):\n",
    "    mmax = max(mean_absolute_error(y_all[i], pxy_all[i]), mmax)\n",
    "    mmin = min(mean_absolute_error(y_all[i], pxy_all[i]), mmin)\n",
    "\n",
    "print({'mae': mae, 'mse': mse, 'rmse': rmse, 'evs': evs, 'r2': r2, 'mmax': mmax, 'mmin': mmin})\n",
    "\n",
    "y_teacher = y_all[:20]\n",
    "pxy = pxy_all[:20]\n",
    "coor1 = pd.DataFrame(y_teacher)\n",
    "coor1.columns = ['X', 'y']\n",
    "\n",
    "coor2 = pd.DataFrame(pxy)\n",
    "coor2.columns = ['PX', 'Py']\n",
    "\n",
    "coor = pd.concat([coor1, coor2], axis=1)\n",
    "coor.to_csv('./result/coordinate_all_ctt.csv')\n",
    "print(coor)"
   ],
   "metadata": {
    "collapsed": false
   }
  },
  {
   "cell_type": "markdown",
   "source": [
    "### 教师模型定位效果可视化"
   ],
   "metadata": {
    "collapsed": false
   }
  },
  {
   "cell_type": "code",
   "execution_count": 11,
   "outputs": [
    {
     "data": {
      "text/plain": "<Figure size 720x720 with 1 Axes>",
      "image/png": "[encoded data removed]"
     },
     "metadata": {
      "needs_background": "light"
     },
     "output_type": "display_data"
    }
   ],
   "source": [
    "plt.figure(figsize=[10, 10])\n",
    "plt.xlim((0, 6))\n",
    "plt.ylim((0, 6))\n",
    "plt.ylabel('RFID reader')\n",
    "plt.title('Coordinate Comparison')\n",
    "# 画图-标准坐标\n",
    "plt.scatter(y_teacher[:, 0], y_teacher[:, 1], c='black', marker='^', label='real position of RFID tag')\n",
    "\n",
    "# 画图-预测EA坐标\n",
    "plt.scatter(pxy[:, 0], pxy[:, 1], c='red', marker='x', label = 'predict position with CTT-Transformer')\n",
    "\n",
    "plt.legend()\n",
    "plt.grid('True')\n",
    "plt.savefig('./result/compare_coordinate_ctt.jpg', dpi=750, bbox_inches = 'tight')"
   ],
   "metadata": {
    "collapsed": false
   }
  },
  {
   "cell_type": "markdown",
   "metadata": {},
   "source": [
    "### 定义学生模型-Trans模型"
   ]
  },
  {
   "cell_type": "code",
   "execution_count": 12,
   "metadata": {
    "collapsed": false,
    "jupyter": {
     "outputs_hidden": false
    }
   },
   "outputs": [],
   "source": [
    "class StudentTransformer(nn.Module):\n",
    "    def __init__(self):\n",
    "        super(StudentTransformer, self).__init__()\n",
    "        self.d_model = 3  # 词向量维度\n",
    "        self.embedding_enc = nn.Linear(50, self.d_model)\n",
    "        self.embedding_dec = nn.Linear(2, self.d_model)\n",
    "        self.Transformer_layer = nn.Transformer(nhead=1, d_model=self.d_model, num_encoder_layers=1, num_decoder_layers=1, batch_first=True)\n",
    "        self.FC_layer = nn.Linear(self.d_model, 2)\n",
    "\n",
    "    def forward(self, src, tgt):\n",
    "        # 使用线性层代替embedding\n",
    "        src = self.embedding_enc(src).unsqueeze(0)\n",
    "        tgt = self.embedding_dec(tgt).unsqueeze(0)\n",
    "        out = self.Transformer_layer(src, tgt)\n",
    "        out = self.FC_layer(out)\n",
    "        return out"
   ]
  },
  {
   "cell_type": "markdown",
   "metadata": {},
   "source": [
    "### 学生模型设置"
   ]
  },
  {
   "cell_type": "code",
   "execution_count": 13,
   "metadata": {
    "collapsed": false,
    "jupyter": {
     "outputs_hidden": false
    }
   },
   "outputs": [],
   "source": [
    "# 从头先训练一下学生模型\n",
    "model = StudentTransformer().to(device)\n",
    "criterion = torch.nn.MSELoss()\n",
    "optimizer = optim.Adam(model.parameters(), lr=1e-3)"
   ]
  },
  {
   "cell_type": "markdown",
   "metadata": {},
   "source": [
    "### 学生模型信息"
   ]
  },
  {
   "cell_type": "code",
   "execution_count": 14,
   "metadata": {
    "collapsed": false,
    "jupyter": {
     "outputs_hidden": false
    }
   },
   "outputs": [
    {
     "name": "stdout",
     "output_type": "stream",
     "text": [
      "torchinfo信息如下：\n",
      "===============================================================================================\n",
      "Layer (type:depth-idx)                                                 Param #\n",
      "===============================================================================================\n",
      "StudentTransformer                                                     --\n",
      "├─Linear: 1-1                                                          153\n",
      "├─Linear: 1-2                                                          9\n",
      "├─Transformer: 1-3                                                     --\n",
      "│    └─TransformerEncoder: 2-1                                         --\n",
      "│    │    └─ModuleList: 3-1                                            14,399\n",
      "│    │    └─LayerNorm: 3-2                                             6\n",
      "│    └─TransformerDecoder: 2-2                                         --\n",
      "│    │    └─ModuleList: 3-3                                            14,453\n",
      "│    │    └─LayerNorm: 3-4                                             6\n",
      "├─Linear: 1-4                                                          8\n",
      "===============================================================================================\n",
      "Total params: 29,034\n",
      "Trainable params: 29,034\n",
      "Non-trainable params: 0\n",
      "===============================================================================================\n"
     ]
    }
   ],
   "source": [
    "# 输出学生模型的参数信息-7w参数\n",
    "cp.get_summary(model, input_size=None)"
   ]
  },
  {
   "cell_type": "markdown",
   "metadata": {},
   "source": [
    "### 学生模型训练"
   ]
  },
  {
   "cell_type": "code",
   "execution_count": 36,
   "metadata": {
    "collapsed": false,
    "jupyter": {
     "outputs_hidden": false
    }
   },
   "outputs": [
    {
     "name": "stdout",
     "output_type": "stream",
     "text": [
      "Epoch: 0001 loss = 101.212175\n",
      "Epoch: 0002 loss = 86.490384\n",
      "Epoch: 0003 loss = 77.981261\n",
      "Epoch: 0004 loss = 71.346139\n",
      "Epoch: 0005 loss = 63.942382\n",
      "Epoch: 0006 loss = 57.855831\n",
      "Epoch: 0007 loss = 51.626078\n",
      "Epoch: 0008 loss = 46.379466\n",
      "Epoch: 0009 loss = 41.276074\n",
      "Epoch: 0010 loss = 36.352409\n",
      "Epoch: 0011 loss = 31.852759\n",
      "Epoch: 0012 loss = 27.952296\n",
      "Epoch: 0013 loss = 25.311315\n",
      "Epoch: 0014 loss = 22.504377\n",
      "Epoch: 0015 loss = 20.623116\n",
      "Epoch: 0016 loss = 19.435793\n",
      "Epoch: 0017 loss = 18.418738\n",
      "Epoch: 0018 loss = 17.453343\n",
      "Epoch: 0019 loss = 16.214275\n",
      "Epoch: 0020 loss = 15.703834\n",
      "Epoch: 0021 loss = 15.428774\n",
      "Epoch: 0022 loss = 15.028601\n",
      "Epoch: 0023 loss = 14.124627\n",
      "Epoch: 0024 loss = 13.556917\n",
      "Epoch: 0025 loss = 13.915006\n",
      "Epoch: 0026 loss = 13.622550\n",
      "Epoch: 0027 loss = 13.076172\n",
      "Epoch: 0028 loss = 13.211884\n",
      "Epoch: 0029 loss = 12.922375\n",
      "Epoch: 0030 loss = 12.635593\n",
      "Epoch: 0031 loss = 12.514713\n",
      "Epoch: 0032 loss = 12.759451\n",
      "Epoch: 0033 loss = 12.771022\n",
      "Epoch: 0034 loss = 12.168550\n",
      "Epoch: 0035 loss = 12.207741\n",
      "Epoch: 0036 loss = 12.012733\n",
      "Epoch: 0037 loss = 12.104117\n",
      "Epoch: 0038 loss = 11.899204\n",
      "Epoch: 0039 loss = 11.927907\n",
      "Epoch: 0040 loss = 11.926712\n",
      "Epoch: 0041 loss = 11.750892\n",
      "Epoch: 0042 loss = 11.409559\n",
      "Epoch: 0043 loss = 11.336450\n",
      "Epoch: 0044 loss = 11.919098\n",
      "Epoch: 0045 loss = 11.872244\n",
      "Epoch: 0046 loss = 12.000659\n",
      "Epoch: 0047 loss = 11.559146\n",
      "Epoch: 0048 loss = 11.172735\n",
      "Epoch: 0049 loss = 11.462650\n",
      "Epoch: 0050 loss = 10.852984\n",
      "Epoch: 0051 loss = 11.327674\n",
      "Epoch: 0052 loss = 11.191018\n",
      "Epoch: 0053 loss = 11.042857\n",
      "Epoch: 0054 loss = 11.021799\n",
      "Epoch: 0055 loss = 11.411411\n",
      "Epoch: 0056 loss = 10.996880\n",
      "Epoch: 0057 loss = 10.792507\n",
      "Epoch: 0058 loss = 10.894026\n",
      "Epoch: 0059 loss = 10.821672\n",
      "Epoch: 0060 loss = 10.874676\n",
      "Epoch: 0061 loss = 11.124450\n",
      "Epoch: 0062 loss = 10.725644\n",
      "Epoch: 0063 loss = 10.374027\n",
      "Epoch: 0064 loss = 10.817272\n",
      "Epoch: 0065 loss = 10.823313\n",
      "Epoch: 0066 loss = 10.768113\n",
      "Epoch: 0067 loss = 10.705528\n",
      "Epoch: 0068 loss = 10.516424\n",
      "Epoch: 0069 loss = 10.477751\n",
      "Epoch: 0070 loss = 10.343999\n",
      "Epoch: 0071 loss = 10.524086\n",
      "Epoch: 0072 loss = 10.374623\n",
      "Epoch: 0073 loss = 10.540624\n",
      "Epoch: 0074 loss = 10.212121\n",
      "Epoch: 0075 loss = 10.508449\n",
      "Epoch: 0076 loss = 10.315958\n",
      "Epoch: 0077 loss = 10.306571\n",
      "Epoch: 0078 loss = 10.181674\n",
      "Epoch: 0079 loss = 10.382450\n",
      "Epoch: 0080 loss = 10.504703\n",
      "Epoch: 0081 loss = 10.294157\n",
      "Epoch: 0082 loss = 10.153747\n",
      "Epoch: 0083 loss = 10.062647\n",
      "Epoch: 0084 loss = 10.202837\n",
      "Epoch: 0085 loss = 9.953073\n",
      "Epoch: 0086 loss = 10.043142\n",
      "Epoch: 0087 loss = 10.237541\n",
      "Epoch: 0088 loss = 9.876941\n",
      "Epoch: 0089 loss = 9.847289\n",
      "Epoch: 0090 loss = 10.080870\n",
      "Epoch: 0091 loss = 10.420791\n",
      "Epoch: 0092 loss = 10.542083\n",
      "Epoch: 0093 loss = 10.438651\n",
      "Epoch: 0094 loss = 10.264927\n",
      "Epoch: 0095 loss = 10.008931\n",
      "Epoch: 0096 loss = 10.585763\n",
      "Epoch: 0097 loss = 10.037486\n",
      "Epoch: 0098 loss = 9.978130\n",
      "Epoch: 0099 loss = 9.760733\n",
      "Epoch: 0100 loss = 9.645032\n",
      "best_loss::| 9.645031750202179 ---best_epoch::| 99\n",
      "CPU times: user 37.2 s, sys: 1.54 s, total: 38.7 s\n",
      "Wall time: 23.8 s\n"
     ]
    }
   ],
   "source": [
    "%%time\n",
    "best_loss = 100000\n",
    "best_epoch = 0\n",
    "for epoch in range(100):\n",
    "    epoch_loss = 0\n",
    "    for X, y in train_data_loader:  # enc_inputs : [len * feature]->[2000 * 50]\n",
    "        outputs = model(X, y)\n",
    "        outputs = outputs.squeeze()  # [100 * 2]\n",
    "        loss = criterion(outputs, y)\n",
    "        loss_num = loss.item()\n",
    "        epoch_loss += loss_num\n",
    "        optimizer.zero_grad()\n",
    "        loss.backward()\n",
    "        torch.nn.utils.clip_grad_norm_(model.parameters(), 0.5)\n",
    "        optimizer.step()\n",
    "\n",
    "    if epoch_loss < best_loss:\n",
    "        best_loss = epoch_loss\n",
    "        best_epoch = epoch\n",
    "        best_model_wts = copy.deepcopy(model.state_dict())\n",
    "        torch.save(best_model_wts, './result/student_weight.pth')\n",
    "\n",
    "    print('Epoch:', '%04d' % (epoch + 1), 'loss =', '{:.6f}'.format(epoch_loss))\n",
    "\n",
    "# 打印最佳的结果\n",
    "print('best_loss::|', best_loss, '---best_epoch::|', best_epoch)\n"
   ]
  },
  {
   "cell_type": "markdown",
   "source": [
    "### 学生模型评估"
   ],
   "metadata": {
    "collapsed": false
   }
  },
  {
   "cell_type": "code",
   "execution_count": 15,
   "outputs": [
    {
     "name": "stdout",
     "output_type": "stream",
     "text": [
      "{'mae': 0.50351256, 'mse': 0.38939306, 'rmse': 0.6240136708434038, 'evs': 0.8137162327766418, 'r2': 0.8115150827694991, 'mmax': 1.3295649, 'mmin': 0.052773297}\n",
      "       X     y        PX        Py\n",
      "0   0.21  3.47  0.985192  2.971538\n",
      "1   1.13  1.96  0.335635  2.430167\n",
      "2   3.38  2.58  4.358854  3.121175\n",
      "3   4.07  2.72  4.273503  2.658647\n",
      "4   1.58  2.47  1.001470  2.983622\n",
      "5   3.43  1.61  3.759949  1.652072\n",
      "6   1.22  0.74  2.026583 -0.079644\n",
      "7   2.33  1.97  1.354956  3.229698\n",
      "8   0.33  3.56  1.059654  3.026262\n",
      "9   3.53  4.28  3.705998  3.982297\n",
      "10  4.42  3.69  4.353628  3.294033\n",
      "11  3.67  0.34  3.203012  0.958580\n",
      "12  2.57  0.37  2.782704  0.537177\n",
      "13  3.14  3.22  3.787905  3.963034\n",
      "14  4.76  3.34  4.308675  2.784966\n",
      "15  1.70  3.71  1.864414  3.531085\n",
      "16  3.50  1.20  3.504825  1.309543\n",
      "17  0.68  4.65  1.554432  3.355132\n",
      "18  1.09  4.59  1.727665  3.456317\n",
      "19  0.25  3.70  1.087991  3.046719\n"
     ]
    }
   ],
   "source": [
    "model = StudentTransformer().to(device)\n",
    "student_model = model\n",
    "model.load_state_dict(torch.load('./result/student_weight.pth'))\n",
    "model.eval()\n",
    "\n",
    "pxy_all = []\n",
    "y_all = []\n",
    "for X, y in test_data_loader:\n",
    "    pxy = model(X, y)\n",
    "    pxy = pxy.cpu().detach().numpy().squeeze(0)\n",
    "    y = y.cpu().detach().numpy()\n",
    "    pxy_all.append(pxy)\n",
    "    y_all.append(y)\n",
    "\n",
    "# 计算指标\n",
    "pxy_all = np.array(pxy_all).reshape(-1, 2)\n",
    "y_all = np.array(y_all).reshape(-1, 2)\n",
    "mae = mean_absolute_error(y_all, pxy_all)\n",
    "mse = mean_squared_error(y_all, pxy_all)\n",
    "rmse = mse ** 0.5\n",
    "evs = explained_variance_score(y_all, pxy_all)\n",
    "r2 = r2_score(y_all, pxy_all)\n",
    "\n",
    "mmax = 0\n",
    "mmin = 10000\n",
    "for i in range(len(pxy_all)):\n",
    "    mmax = max(mean_absolute_error(y_all[i], pxy_all[i]), mmax)\n",
    "    mmin = min(mean_absolute_error(y_all[i], pxy_all[i]), mmin)\n",
    "\n",
    "print({'mae': mae, 'mse': mse, 'rmse': rmse, 'evs': evs, 'r2': r2, 'mmax': mmax, 'mmin': mmin})\n",
    "\n",
    "y_student = y_all[:20]\n",
    "pxy = pxy_all[:20]\n",
    "coor1 = pd.DataFrame(y_student)\n",
    "coor1.columns = ['X', 'y']\n",
    "\n",
    "coor2 = pd.DataFrame(pxy)\n",
    "coor2.columns = ['PX', 'Py']\n",
    "\n",
    "coor = pd.concat([coor1, coor2], axis=1)\n",
    "coor.to_csv('./result/coordinate_all_student.csv')\n",
    "print(coor)\n"
   ],
   "metadata": {
    "collapsed": false
   }
  },
  {
   "cell_type": "markdown",
   "source": [
    "### 学生模型定位效果可视化"
   ],
   "metadata": {
    "collapsed": false
   }
  },
  {
   "cell_type": "code",
   "execution_count": 16,
   "outputs": [
    {
     "data": {
      "text/plain": "<Figure size 720x720 with 1 Axes>",
      "image/png": "[encoded data removed]"
     },
     "metadata": {
      "needs_background": "light"
     },
     "output_type": "display_data"
    }
   ],
   "source": [
    "plt.figure(figsize=[10, 10])\n",
    "plt.xlim((0, 5))\n",
    "plt.ylim((0, 5))\n",
    "plt.ylabel('RFID reader')\n",
    "plt.title('Coordinate Comparison')\n",
    "# 画图-标准坐标\n",
    "plt.scatter(y_student[:, 0], y_student[:, 1], c='black', marker='^', label='real position of RFID tag')\n",
    "\n",
    "# 画图-预测EA坐标\n",
    "plt.scatter(pxy[:, 0], pxy[:, 1], c='red', marker='x', label = 'predict position with student')\n",
    "\n",
    "plt.legend()\n",
    "plt.grid('True')\n",
    "plt.savefig('./result/compare_coordinate_student.jpg', dpi=750, bbox_inches = 'tight')"
   ],
   "metadata": {
    "collapsed": false
   }
  },
  {
   "cell_type": "markdown",
   "metadata": {},
   "source": [
    "### 知识蒸馏准备与设置"
   ]
  },
  {
   "cell_type": "code",
   "execution_count": 17,
   "metadata": {
    "collapsed": false,
    "jupyter": {
     "outputs_hidden": false
    }
   },
   "outputs": [],
   "source": [
    "# 准备预训练好的教师模型\n",
    "teacher_model.eval()\n",
    "\n",
    "# 准备新的学生模型\n",
    "model = StudentTransformer().to(device)\n",
    "beta = 0.9\n",
    "m = 0.5\n",
    "\n",
    "# 回归分析的损失函数设置 = 平滑l1loss + beta * 范围loss\n",
    "# loss = smoothl1loss + beta * boundloss\n",
    "loss1 = nn.SmoothL1Loss()\n",
    "loss2 = nn.MSELoss()\n",
    "\n",
    "optimizer = torch.optim.Adam(model.parameters(), lr=1e-3)"
   ]
  },
  {
   "cell_type": "markdown",
   "metadata": {},
   "source": [
    "### 知识蒸馏训练"
   ]
  },
  {
   "cell_type": "code",
   "execution_count": 45,
   "metadata": {
    "collapsed": false,
    "jupyter": {
     "outputs_hidden": false
    }
   },
   "outputs": [
    {
     "name": "stdout",
     "output_type": "stream",
     "text": [
      "Epoch: 0001 loss = 169.779580\n",
      "Epoch: 0002 loss = 154.254117\n",
      "Epoch: 0003 loss = 143.579473\n",
      "Epoch: 0004 loss = 135.142330\n",
      "Epoch: 0005 loss = 127.426573\n",
      "Epoch: 0006 loss = 119.634819\n",
      "Epoch: 0007 loss = 112.219255\n",
      "Epoch: 0008 loss = 105.035835\n",
      "Epoch: 0009 loss = 98.019361\n",
      "Epoch: 0010 loss = 90.996622\n",
      "Epoch: 0011 loss = 84.418932\n",
      "Epoch: 0012 loss = 77.730591\n",
      "Epoch: 0013 loss = 71.514447\n",
      "Epoch: 0014 loss = 65.791993\n",
      "Epoch: 0015 loss = 60.120244\n",
      "Epoch: 0016 loss = 54.932724\n",
      "Epoch: 0017 loss = 50.205128\n",
      "Epoch: 0018 loss = 46.008524\n",
      "Epoch: 0019 loss = 42.155789\n",
      "Epoch: 0020 loss = 38.754170\n",
      "Epoch: 0021 loss = 35.692078\n",
      "Epoch: 0022 loss = 33.293505\n",
      "Epoch: 0023 loss = 30.940177\n",
      "Epoch: 0024 loss = 29.057094\n",
      "Epoch: 0025 loss = 27.381386\n",
      "Epoch: 0026 loss = 25.847626\n",
      "Epoch: 0027 loss = 24.738577\n",
      "Epoch: 0028 loss = 23.327516\n",
      "Epoch: 0029 loss = 22.643391\n",
      "Epoch: 0030 loss = 21.805482\n",
      "Epoch: 0031 loss = 21.310588\n",
      "Epoch: 0032 loss = 20.330510\n",
      "Epoch: 0033 loss = 19.596609\n",
      "Epoch: 0034 loss = 19.086791\n",
      "Epoch: 0035 loss = 18.840967\n",
      "Epoch: 0036 loss = 18.427200\n",
      "Epoch: 0037 loss = 17.955987\n",
      "Epoch: 0038 loss = 17.248797\n",
      "Epoch: 0039 loss = 17.282915\n",
      "Epoch: 0040 loss = 17.040217\n",
      "Epoch: 0041 loss = 16.505194\n",
      "Epoch: 0042 loss = 16.625701\n",
      "Epoch: 0043 loss = 16.485464\n",
      "Epoch: 0044 loss = 15.890384\n",
      "Epoch: 0045 loss = 15.915069\n",
      "Epoch: 0046 loss = 18.495620\n",
      "Epoch: 0047 loss = 19.413915\n",
      "Epoch: 0048 loss = 17.452939\n",
      "Epoch: 0049 loss = 15.948863\n",
      "Epoch: 0050 loss = 15.604060\n",
      "Epoch: 0051 loss = 15.357839\n",
      "Epoch: 0052 loss = 15.050843\n",
      "Epoch: 0053 loss = 14.558844\n",
      "Epoch: 0054 loss = 14.445411\n",
      "Epoch: 0055 loss = 13.963940\n",
      "Epoch: 0056 loss = 13.696064\n",
      "Epoch: 0057 loss = 13.951760\n",
      "Epoch: 0058 loss = 14.203493\n",
      "Epoch: 0059 loss = 13.580912\n",
      "Epoch: 0060 loss = 13.498148\n",
      "Epoch: 0061 loss = 13.342825\n",
      "Epoch: 0062 loss = 14.091984\n",
      "Epoch: 0063 loss = 13.417808\n",
      "Epoch: 0064 loss = 13.046156\n",
      "Epoch: 0065 loss = 13.832238\n",
      "Epoch: 0066 loss = 14.240350\n",
      "Epoch: 0067 loss = 13.548039\n",
      "Epoch: 0068 loss = 13.025286\n",
      "Epoch: 0069 loss = 13.260367\n",
      "Epoch: 0070 loss = 13.158846\n",
      "Epoch: 0071 loss = 13.332842\n",
      "Epoch: 0072 loss = 13.180382\n",
      "Epoch: 0073 loss = 13.255534\n",
      "Epoch: 0074 loss = 13.126652\n",
      "Epoch: 0075 loss = 12.688946\n",
      "Epoch: 0076 loss = 12.605889\n",
      "Epoch: 0077 loss = 12.599499\n",
      "Epoch: 0078 loss = 13.193359\n",
      "Epoch: 0079 loss = 13.033043\n",
      "Epoch: 0080 loss = 12.712189\n",
      "Epoch: 0081 loss = 12.878305\n",
      "Epoch: 0082 loss = 12.607452\n",
      "Epoch: 0083 loss = 12.737493\n",
      "Epoch: 0084 loss = 12.574321\n",
      "Epoch: 0085 loss = 12.309514\n",
      "Epoch: 0086 loss = 12.279229\n",
      "Epoch: 0087 loss = 12.439207\n",
      "Epoch: 0088 loss = 12.307585\n",
      "Epoch: 0089 loss = 12.206989\n",
      "Epoch: 0090 loss = 12.336151\n",
      "Epoch: 0091 loss = 12.099917\n",
      "Epoch: 0092 loss = 12.411832\n",
      "Epoch: 0093 loss = 12.160101\n",
      "Epoch: 0094 loss = 12.332780\n",
      "Epoch: 0095 loss = 12.215143\n",
      "Epoch: 0096 loss = 12.482704\n",
      "Epoch: 0097 loss = 11.925143\n",
      "Epoch: 0098 loss = 12.026869\n",
      "Epoch: 0099 loss = 11.804558\n",
      "Epoch: 0100 loss = 11.945889\n",
      "Epoch: 0101 loss = 12.076583\n",
      "Epoch: 0102 loss = 12.147479\n",
      "Epoch: 0103 loss = 11.883159\n",
      "Epoch: 0104 loss = 11.786873\n",
      "Epoch: 0105 loss = 12.147468\n",
      "Epoch: 0106 loss = 11.612767\n",
      "Epoch: 0107 loss = 11.686894\n",
      "Epoch: 0108 loss = 12.008605\n",
      "Epoch: 0109 loss = 11.926669\n",
      "Epoch: 0110 loss = 12.058128\n",
      "Epoch: 0111 loss = 11.913925\n",
      "Epoch: 0112 loss = 11.728799\n",
      "Epoch: 0113 loss = 11.691401\n",
      "Epoch: 0114 loss = 11.639602\n",
      "Epoch: 0115 loss = 11.381739\n",
      "Epoch: 0116 loss = 11.674847\n",
      "Epoch: 0117 loss = 11.757611\n",
      "Epoch: 0118 loss = 12.341650\n",
      "Epoch: 0119 loss = 12.649405\n",
      "Epoch: 0120 loss = 12.409186\n",
      "Epoch: 0121 loss = 12.217468\n",
      "Epoch: 0122 loss = 11.781903\n",
      "Epoch: 0123 loss = 11.336794\n",
      "Epoch: 0124 loss = 11.283365\n",
      "Epoch: 0125 loss = 11.433735\n",
      "Epoch: 0126 loss = 11.469119\n",
      "Epoch: 0127 loss = 11.234040\n",
      "Epoch: 0128 loss = 11.353984\n",
      "Epoch: 0129 loss = 11.598566\n",
      "Epoch: 0130 loss = 11.645568\n",
      "Epoch: 0131 loss = 11.178594\n",
      "Epoch: 0132 loss = 11.244602\n",
      "Epoch: 0133 loss = 11.607250\n",
      "Epoch: 0134 loss = 11.362342\n",
      "Epoch: 0135 loss = 11.058621\n",
      "Epoch: 0136 loss = 11.049158\n",
      "Epoch: 0137 loss = 11.012271\n",
      "Epoch: 0138 loss = 11.107752\n",
      "Epoch: 0139 loss = 11.285904\n",
      "Epoch: 0140 loss = 11.637890\n",
      "Epoch: 0141 loss = 11.532867\n",
      "Epoch: 0142 loss = 11.156284\n",
      "Epoch: 0143 loss = 13.027737\n",
      "Epoch: 0144 loss = 12.563488\n",
      "Epoch: 0145 loss = 11.516898\n",
      "Epoch: 0146 loss = 11.269806\n",
      "Epoch: 0147 loss = 10.941329\n",
      "Epoch: 0148 loss = 10.938588\n",
      "Epoch: 0149 loss = 10.936394\n",
      "Epoch: 0150 loss = 10.986333\n",
      "best_loss::| 10.936393588781357 ---best_epoch::| 148\n",
      "CPU times: user 1min 44s, sys: 8.57 s, total: 1min 52s\n",
      "Wall time: 60 s\n"
     ]
    }
   ],
   "source": [
    "%%time\n",
    "best_loss = 100000\n",
    "best_epoch = 0\n",
    "for epoch in range(150):\n",
    "    epoch_loss = 0\n",
    "    for X, y in train_data_loader:\n",
    "        X, y = X.to(device), y.to(device)\n",
    "        # 教师模型预测\n",
    "        with torch.no_grad():\n",
    "            teacher_outputs = teacher_model(X, y)\n",
    "            teacher_outputs = teacher_outputs.squeeze(0)\n",
    "        # 学生模型预测\n",
    "        student_outputs = model(X, y)\n",
    "        student_outputs = student_outputs.squeeze(0)\n",
    "        # 回归损失\n",
    "        ls = loss2(student_outputs, y)\n",
    "        lt = loss2(teacher_outputs, y)\n",
    "        loss = loss1(student_outputs, y)  # smooth loss\n",
    "        if ls.item() + m > lt.item():  # bound loss\n",
    "            loss += beta * ls\n",
    "        # 反向传播,优化权重\n",
    "        optimizer.zero_grad()\n",
    "        epoch_loss += loss.item()\n",
    "        loss.backward()\n",
    "        optimizer.step()\n",
    "\n",
    "    if epoch_loss < best_loss:\n",
    "        best_loss = epoch_loss\n",
    "        best_epoch = epoch\n",
    "        best_model_wts = copy.deepcopy(model.state_dict())\n",
    "        torch.save(best_model_wts, './result/distillation_weight.pth')\n",
    "\n",
    "    print('Epoch:', '%04d' % (epoch + 1), 'loss =', '{:.6f}'.format(epoch_loss))\n",
    "\n",
    "# 打印最佳的结果\n",
    "print('best_loss::|',best_loss,'---best_epoch::|',best_epoch)\n"
   ]
  },
  {
   "cell_type": "markdown",
   "metadata": {},
   "source": [
    "### 蒸馏模型评估"
   ]
  },
  {
   "cell_type": "code",
   "execution_count": 18,
   "outputs": [
    {
     "name": "stdout",
     "output_type": "stream",
     "text": [
      "{'mae': 0.4528178, 'mse': 0.35159886, 'rmse': 0.5929577209492368, 'evs': 0.8294727206230164, 'r2': 0.8293233253526728, 'mmax': 1.7410696, 'mmin': 0.02195704}\n",
      "       X     y        PX        Py\n",
      "0   0.21  3.47  0.597182  3.453387\n",
      "1   1.13  1.96 -0.761869  0.369730\n",
      "2   3.38  2.58  4.447841  2.760071\n",
      "3   4.07  2.72  4.439410  2.712991\n",
      "4   1.58  2.47  0.593868  3.452060\n",
      "5   3.43  1.61  3.706064  1.642049\n",
      "6   1.22  0.74  1.340622  0.464520\n",
      "7   2.33  1.97  3.511646  1.483641\n",
      "8   0.33  3.56  0.651546  3.474865\n",
      "9   3.53  4.28  3.228709  3.871649\n",
      "10  4.42  3.69  4.199565  3.481768\n",
      "11  3.67  0.34  3.117561  1.212142\n",
      "12  2.57  0.37  2.414230  0.839605\n",
      "13  3.14  3.22  3.786991  3.732840\n",
      "14  4.76  3.34  4.431844  3.106345\n",
      "15  1.70  3.71  1.628835  3.771541\n",
      "16  3.50  1.20  3.485194  1.463527\n",
      "17  0.68  4.65  1.136723  3.642862\n",
      "18  1.09  4.59  1.327056  3.697543\n",
      "19  0.25  3.70  0.674858  3.483907\n"
     ]
    }
   ],
   "source": [
    "model = StudentTransformer().to(device)\n",
    "model.load_state_dict(torch.load('./result/distillation_weight.pth'))\n",
    "model.eval()\n",
    "\n",
    "pxy_all = []\n",
    "y_all = []\n",
    "for X, y in test_data_loader:\n",
    "    pxy = model(X, y)\n",
    "    pxy = pxy.cpu().detach().numpy().squeeze(0)\n",
    "    y = y.cpu().detach().numpy()\n",
    "    pxy_all.append(pxy)\n",
    "    y_all.append(y)\n",
    "\n",
    "# 计算指标\n",
    "pxy_all = np.array(pxy_all).reshape(-1, 2)\n",
    "y_all = np.array(y_all).reshape(-1, 2)\n",
    "mae = mean_absolute_error(y_all, pxy_all)\n",
    "mse = mean_squared_error(y_all, pxy_all)\n",
    "rmse = mse ** 0.5\n",
    "evs = explained_variance_score(y_all, pxy_all)\n",
    "r2 = r2_score(y_all, pxy_all)\n",
    "\n",
    "mmax = 0\n",
    "mmin = 10000\n",
    "for i in range(len(pxy_all)):\n",
    "    mmax = max(mean_absolute_error(y_all[i], pxy_all[i]), mmax)\n",
    "    mmin = min(mean_absolute_error(y_all[i], pxy_all[i]), mmin)\n",
    "\n",
    "print({'mae': mae, 'mse': mse, 'rmse': rmse, 'evs': evs, 'r2': r2, 'mmax': mmax, 'mmin': mmin})\n",
    "\n",
    "y_distill = y_all[:20]\n",
    "pxy = pxy_all[:20]\n",
    "coor1 = pd.DataFrame(y_distill)\n",
    "coor1.columns = ['X', 'y']\n",
    "\n",
    "coor2 = pd.DataFrame(pxy)\n",
    "coor2.columns = ['PX', 'Py']\n",
    "\n",
    "coor = pd.concat([coor1, coor2], axis=1)\n",
    "coor.to_csv('./result/coordinate_all_distill.csv')\n",
    "print(coor)"
   ],
   "metadata": {
    "collapsed": false
   }
  },
  {
   "cell_type": "markdown",
   "source": [
    "### 蒸馏模型定位效果可视化"
   ],
   "metadata": {
    "collapsed": false
   }
  },
  {
   "cell_type": "code",
   "execution_count": 19,
   "outputs": [
    {
     "data": {
      "text/plain": "<Figure size 720x720 with 1 Axes>",
      "image/png": "[encoded data removed]"
     },
     "metadata": {
      "needs_background": "light"
     },
     "output_type": "display_data"
    }
   ],
   "source": [
    "plt.figure(figsize=[10, 10])\n",
    "plt.xlim((0, 6))\n",
    "plt.ylim((0, 6))\n",
    "plt.ylabel('RFID reader')\n",
    "plt.title('Coordinate Comparison')\n",
    "# 画图-标准坐标\n",
    "plt.scatter(y_distill[:, 0], y_distill[:, 1], c='black', marker='^', label='real position of RFID tag')\n",
    "\n",
    "# 画图-预测EA坐标\n",
    "plt.scatter(pxy[:, 0], pxy[:, 1], c='red', marker='x', label = 'predict position with student GRU')\n",
    "\n",
    "plt.legend()\n",
    "plt.grid('True')\n",
    "plt.savefig('./result/compare_coordinate_distill.jpg', dpi=750, bbox_inches = 'tight')"
   ],
   "metadata": {
    "collapsed": false
   }
  },
  {
   "cell_type": "markdown",
   "source": [
    "### 定义问题类"
   ],
   "metadata": {
    "collapsed": false
   }
  },
  {
   "cell_type": "code",
   "execution_count": 20,
   "metadata": {
    "collapsed": false,
    "jupyter": {
     "outputs_hidden": false
    }
   },
   "outputs": [],
   "source": [
    "class MOEA(ea.Problem):\n",
    "    def __init__(self, train_data_loader, test_data_loader):\n",
    "        name = 'MOEA'\n",
    "        M = 1 # 初始化M（目标维数）\n",
    "        maxormins = [1] # 初始化maxormins（目标最小最大化标记列表，1：最小化该目标；-1：最大化该目标）\n",
    "        Dim = 2 # 初始化Dim（决策变量维数）先调节beta和m两个参数\n",
    "        varTypes = np.array([0] * Dim) # 初始化varTypes 0-连续\n",
    "        lb = [0.5, 0.5] # 决策变量下界\n",
    "        ub = [1, 0.9] # 决策变量上界\n",
    "        lbin = [1] * Dim # 决策变量下边界（0表示不包含该变量的下边界，1表示包含）\n",
    "        ubin = [1] * Dim # 决策变量上边界（0表示不包含该变量的上边界，1表示包含）\n",
    "        # 调用父类构造方法完成实例化\n",
    "        ea.Problem.__init__(self, name, M, maxormins, Dim, varTypes, lb, ub, lbin, ubin)\n",
    "        # 数据设置\n",
    "        self.train_data_loader = train_data_loader\n",
    "        self.test_data_loader = test_data_loader\n",
    "\n",
    "\n",
    "    # 目标函数，采用多线程加速计算\n",
    "    def aimFunc(self, pop):\n",
    "        Vars = pop.Phen # 得到决策变量矩阵\n",
    "        # print(Vars)\n",
    "        pop.ObjV = np.zeros((pop.sizes, 1)) # 初始化种群个体目标函数值列向量\n",
    "        def subAimFunc(i):\n",
    "            beta, m = float(Vars[i, 0]), float(Vars[i, 1])\n",
    "            # print('parameters: ', beta, m)\n",
    "            final_loss = 0\n",
    "            for epoch in range(150):\n",
    "                for X, y in train_data_loader:\n",
    "                    X, y = X.to(device), y.to(device)\n",
    "                    # 教师模型预测\n",
    "                    with torch.no_grad():\n",
    "                        teacher_outputs = teacher_model(X, y)\n",
    "                        teacher_outputs = teacher_outputs.squeeze(0)\n",
    "                    # 学生模型预测\n",
    "                    student_outputs = model(X, y)\n",
    "                    student_outputs = student_outputs.squeeze(0)\n",
    "                    # 回归损失\n",
    "                    ls = loss2(student_outputs, y)\n",
    "                    lt = loss2(teacher_outputs, y)\n",
    "                    loss = loss1(student_outputs, y)  # smooth loss\n",
    "                    if ls.item() + m > lt.item():  # bound loss\n",
    "                        loss += beta * ls\n",
    "                    # 反向传播,优化权重\n",
    "                    optimizer.zero_grad()\n",
    "                    final_loss += loss.item()\n",
    "                    loss.backward()\n",
    "                    optimizer.step()\n",
    "\n",
    "            pop.ObjV[i] = final_loss # 最小化最终的损失作为目标函数\n",
    "            print('final loss: ', final_loss)\n",
    "        pool = ThreadPool(processes=2) # 设置池的大小\n",
    "        pool.map(subAimFunc, list(range(pop.sizes))) # 散列种群每个个体进行加速计算\n",
    "\n",
    "\n",
    "    # 代入优化后的参数先训练再对测试集进行检验，计算指标\n",
    "    def test(self, beta, m):\n",
    "        for epoch in range(150):\n",
    "            for X, y in train_data_loader:\n",
    "                X, y = X.to(device), y.to(device)\n",
    "                # 教师模型预测\n",
    "                with torch.no_grad():\n",
    "                    teacher_outputs = teacher_model(X, y)\n",
    "                    teacher_outputs = teacher_outputs.squeeze(0)\n",
    "                # 学生模型预测\n",
    "                student_outputs = model(X, y)\n",
    "                student_outputs = student_outputs.squeeze(0)\n",
    "                # 回归损失\n",
    "                ls = loss2(student_outputs, y)\n",
    "                lt = loss2(teacher_outputs, y)\n",
    "                loss = loss1(student_outputs, y)  # smooth loss\n",
    "                if ls.item() + m > lt.item():  # bound loss\n",
    "                    loss += beta * ls\n",
    "                # 反向传播,优化权重\n",
    "                optimizer.zero_grad()\n",
    "                loss.backward()\n",
    "                optimizer.step()\n",
    "\n",
    "        # 测试集上评估性能\n",
    "        model.eval()\n",
    "        pxy_all = []\n",
    "        y_all = []\n",
    "        for X, y in test_data_loader:\n",
    "            pxy = model(X, y)\n",
    "            pxy = pxy.cpu().detach().numpy().squeeze(0)\n",
    "            y = y.cpu().detach().numpy()\n",
    "            pxy_all.append(pxy)\n",
    "            y_all.append(y)\n",
    "\n",
    "        # 计算指标\n",
    "        pxy_all = np.array(pxy_all).reshape(-1, 2)\n",
    "        y_all = np.array(y_all).reshape(-1, 2)\n",
    "        mae = mean_absolute_error(y_all, pxy_all)\n",
    "        mse = mean_squared_error(y_all, pxy_all)\n",
    "        rmse = mse ** 0.5\n",
    "        evs = explained_variance_score(y_all, pxy_all)\n",
    "        r2 = r2_score(y_all, pxy_all)\n",
    "\n",
    "        mmax = 0\n",
    "        mmin = 10000\n",
    "        for i in range(len(pxy_all)):\n",
    "            mmax = max(mean_absolute_error(y_all[i], pxy_all[i]), mmax)\n",
    "            mmin = min(mean_absolute_error(y_all[i], pxy_all[i]), mmin)\n",
    "\n",
    "        print({'mae': mae, 'mse': mse, 'rmse': rmse, 'evs': evs, 'r2': r2, 'mmax': mmax, 'mmin': mmin})\n",
    "\n",
    "        y_distill = y_all[:20]\n",
    "        pxy = pxy_all[:20]\n",
    "        coor1 = pd.DataFrame(y_distill)\n",
    "        coor1.columns = ['X', 'y']\n",
    "        coor2 = pd.DataFrame(pxy)\n",
    "        coor2.columns = ['PX', 'Py']\n",
    "        coor = pd.concat([coor1, coor2], axis=1)\n",
    "        coor.to_csv('./result/coordinate_final_distill.csv')\n",
    "        print(coor)\n",
    "\n",
    "        plt.figure(figsize=[10, 10])\n",
    "        plt.xlim((0, 6))\n",
    "        plt.ylim((0, 6))\n",
    "        plt.ylabel('RFID reader')\n",
    "        plt.title('Coordinate Comparison')\n",
    "        # 画图-标准坐标\n",
    "        plt.scatter(y_distill[:, 0], y_distill[:, 1], c='black', marker='^', label='real position of RFID tag')\n",
    "        # 画图-预测EA坐标\n",
    "        plt.scatter(pxy[:, 0], pxy[:, 1], c='red', marker='x', label = 'predict position with new student GRU')\n",
    "        plt.legend()\n",
    "        plt.grid('True')\n",
    "        plt.savefig('./result/compare_coordinate_final_distill.jpg', dpi=750, bbox_inches = 'tight')"
   ]
  },
  {
   "cell_type": "markdown",
   "source": [
    "### 参数调优"
   ],
   "metadata": {
    "collapsed": false
   }
  },
  {
   "cell_type": "code",
   "execution_count": 21,
   "outputs": [
    {
     "name": "stdout",
     "output_type": "stream",
     "text": [
      "final loss:  1156.4677700400352\n",
      "final loss:  1194.4751545786858\n",
      "final loss:  1523.3605340123177\n",
      "final loss:  1221.7710122466087\n",
      "final loss:  1471.371205151081\n",
      "==================================================================================\n",
      "gen|  eval  |    f_opt    |    f_max    |    f_avg    |    f_min    |    f_std    \n",
      "----------------------------------------------------------------------------------\n",
      " 0 |   5    | 1.15647E+03 | 1.52336E+03 | 1.31349E+03 | 1.15647E+03 | 1.52450E+02 \n",
      "final loss:  1119.721233844757\n",
      "final loss:  1648.1605678796768\n",
      "final loss: final loss:   1182.4623718857765\n",
      "1313.9194428920746\n",
      "final loss:  1471.371205151081\n",
      " 1 |   10   | 1.11972E+03 | 1.47137E+03 | 1.24879E+03 | 1.11972E+03 | 1.29125E+02 \n",
      "final loss:  1550.0970661640167\n",
      "final loss:  1119.721233844757\n",
      "final loss:  1119.721233844757\n",
      "final loss:  1313.9194428920746\n",
      "final loss:  1235.1935684680939\n",
      " 2 |   15   | 1.11972E+03 | 1.31392E+03 | 1.18166E+03 | 1.11972E+03 | 7.98344E+01 \n",
      "final loss:  1256.1832755804062\n",
      "final loss:  1119.721233844757\n",
      "final loss: final loss:  1292.9297983646393\n",
      " 1119.721233844757\n",
      "final loss:  1177.457383275032\n",
      " 3 |   20   | 1.11972E+03 | 1.11972E+03 | 1.11972E+03 | 1.11972E+03 | 0.00000E+00 \n",
      "final loss:  1119.721233844757\n",
      "final loss:  1119.721233844757\n",
      "final loss:  1119.721233844757\n",
      "final loss:  1119.721233844757\n",
      "final loss:  1119.721233844757\n",
      " 4 |   25   | 1.11972E+03 | 1.11972E+03 | 1.11972E+03 | 1.11972E+03 | 0.00000E+00 \n",
      "final loss:  1119.721233844757\n",
      "final loss:  1119.721233844757\n",
      "final loss: final loss:  1119.721233844757\n",
      " 1119.721233844757\n",
      "final loss:  1119.721233844757\n",
      " 5 |   30   | 1.11972E+03 | 1.11972E+03 | 1.11972E+03 | 1.11972E+03 | 0.00000E+00 \n",
      "final loss: final loss:  1119.721233844757\n",
      " 1119.721233844757\n",
      "final loss:  1119.721233844757\n",
      "final loss:  1119.721233844757\n",
      "final loss:  1119.721233844757\n",
      " 6 |   35   | 1.11972E+03 | 1.11972E+03 | 1.11972E+03 | 1.11972E+03 | 0.00000E+00 \n",
      "final loss:  1119.721233844757\n",
      "final loss:  1119.721233844757\n",
      "final loss: final loss:  1119.721233844757\n",
      " 1119.721233844757\n",
      "final loss:  1119.721233844757\n",
      " 7 |   40   | 1.11972E+03 | 1.11972E+03 | 1.11972E+03 | 1.11972E+03 | 0.00000E+00 \n",
      "final loss:  1119.721233844757\n",
      "final loss:  1119.721233844757\n",
      "final loss:  1119.721233844757\n",
      "final loss:  1119.721233844757\n",
      "final loss:  1119.721233844757\n",
      " 8 |   45   | 1.11972E+03 | 1.11972E+03 | 1.11972E+03 | 1.11972E+03 | 0.00000E+00 \n",
      "final loss:  1119.721233844757\n",
      "final loss:  1119.721233844757\n",
      "final loss: final loss:  1119.721233844757\n",
      " 1119.721233844757\n",
      "final loss:  1119.721233844757\n",
      " 9 |   50   | 1.11972E+03 | 1.11972E+03 | 1.11972E+03 | 1.11972E+03 | 0.00000E+00 \n"
     ]
    },
    {
     "data": {
      "text/plain": "<Figure size 432x288 with 1 Axes>",
      "image/png": "[encoded data removed]"
     },
     "metadata": {
      "needs_background": "light"
     },
     "output_type": "display_data"
    },
    {
     "name": "stdout",
     "output_type": "stream",
     "text": [
      "种群信息导出完毕。\n",
      "用时：2012.308853 秒\n",
      "评价次数：50 次\n",
      "最优的目标函数值为：1119.721233844757\n",
      "最优的控制变量值为：\n",
      "0.5\n",
      "0.5\n",
      "{'mae': 0.4528178, 'mse': 0.35159886, 'rmse': 0.5929577209492368, 'evs': 0.8294727206230164, 'r2': 0.8293233253526728, 'mmax': 1.7410696, 'mmin': 0.02195704}\n",
      "       X     y        PX        Py\n",
      "0   0.21  3.47  0.597182  3.453387\n",
      "1   1.13  1.96 -0.761869  0.369730\n",
      "2   3.38  2.58  4.447841  2.760071\n",
      "3   4.07  2.72  4.439410  2.712991\n",
      "4   1.58  2.47  0.593868  3.452060\n",
      "5   3.43  1.61  3.706064  1.642049\n",
      "6   1.22  0.74  1.340622  0.464520\n",
      "7   2.33  1.97  3.511646  1.483641\n",
      "8   0.33  3.56  0.651546  3.474865\n",
      "9   3.53  4.28  3.228709  3.871649\n",
      "10  4.42  3.69  4.199565  3.481768\n",
      "11  3.67  0.34  3.117561  1.212142\n",
      "12  2.57  0.37  2.414230  0.839605\n",
      "13  3.14  3.22  3.786991  3.732840\n",
      "14  4.76  3.34  4.431844  3.106345\n",
      "15  1.70  3.71  1.628835  3.771541\n",
      "16  3.50  1.20  3.485194  1.463527\n",
      "17  0.68  4.65  1.136723  3.642862\n",
      "18  1.09  4.59  1.327056  3.697543\n",
      "19  0.25  3.70  0.674858  3.483907\n"
     ]
    },
    {
     "data": {
      "text/plain": "<Figure size 720x720 with 1 Axes>",
      "image/png": "[encoded data removed]"
     },
     "metadata": {
      "needs_background": "light"
     },
     "output_type": "display_data"
    }
   ],
   "source": [
    "\"\"\"===============================实例化问题对象===========================\"\"\"\n",
    "\n",
    "problem = MOEA(train_data_loader, test_data_loader) # 生成问题对象\n",
    "\n",
    "\"\"\"=================================种群设置===============================\"\"\"\n",
    "\n",
    "Encoding = 'RI'       # 编码方式\n",
    "NIND = 5             # 种群规模\n",
    "Field = ea.crtfld(Encoding, problem.varTypes, problem.ranges, problem.borders) # 创建区域描述器\n",
    "population = ea.Population(Encoding, Field, NIND) # 实例化种群对象（此时种群还没被初始化，仅仅是完成种群对象的实例化）\n",
    "\n",
    "\"\"\"===============================算法参数设置=============================\"\"\"\n",
    "\n",
    "myAlgorithm = ea.soea_DE_rand_1_bin_templet(problem, population) # 实例化一个算法模板对象\n",
    "myAlgorithm.MAXGEN = 10 # 最大进化代数\n",
    "myAlgorithm.trappedValue = 1e-6 # “进化停滞”判断阈值\n",
    "myAlgorithm.maxTrappedCount = 10 # 进化停滞计数器最大上限值，如果连续maxTrappedCount代被判定进化陷入停滞，则终止进化\n",
    "myAlgorithm.logTras = 1  # 设置每隔多少代记录日志，若设置成0则表示不记录日志\n",
    "myAlgorithm.verbose = True  # 设置是否打印输出日志信息\n",
    "myAlgorithm.drawing = 1  # 设置绘图方式（0：不绘图；1：绘制结果图；2：绘制目标空间过程动画；3：绘制决策空间过程动画）\n",
    "\n",
    "\"\"\"===========================调用算法模板进行种群进化=======================\"\"\"\n",
    "\n",
    "[BestIndi, population] = myAlgorithm.run()  # 执行算法模板，得到最优个体以及最后一代种群\n",
    "BestIndi.save()  # 把最优个体的信息保存到文件中\n",
    "\n",
    "\"\"\"==================================输出结果=============================\"\"\"\n",
    "\n",
    "print('用时：%f 秒' % myAlgorithm.passTime)\n",
    "print('评价次数：%d 次' % myAlgorithm.evalsNum)\n",
    "if BestIndi.sizes != 0:\n",
    "    print('最优的目标函数值为：%s' % BestIndi.ObjV[0][0])\n",
    "    print('最优的控制变量值为：')\n",
    "    for i in range(BestIndi.Phen.shape[1]):\n",
    "        print(BestIndi.Phen[0, i])\n",
    "else:\n",
    "    print('没找到可行解。')\n",
    "\n",
    "\"\"\"=================================检验结果===============================\"\"\"\n",
    "\n",
    "problem.test(beta= float(BestIndi.Phen[0][0]), m= float(BestIndi.Phen[0][1]))\n"
   ],
   "metadata": {
    "collapsed": false
   }
  },
  {
   "cell_type": "code",
   "execution_count": null,
   "outputs": [],
   "source": [],
   "metadata": {
    "collapsed": false
   }
  }
 ],
 "metadata": {
  "kernelspec": {
   "display_name": "pytorch",
   "language": "python",
   "name": "pytorch"
  },
  "language_info": {
   "codemirror_mode": {
    "name": "ipython",
    "version": 3
   },
   "file_extension": ".py",
   "mimetype": "text/x-python",
   "name": "python",
   "nbconvert_exporter": "python",
   "pygments_lexer": "ipython3",
   "version": "3.8.5"
  }
 },
 "nbformat": 4,
 "nbformat_minor": 4
}
