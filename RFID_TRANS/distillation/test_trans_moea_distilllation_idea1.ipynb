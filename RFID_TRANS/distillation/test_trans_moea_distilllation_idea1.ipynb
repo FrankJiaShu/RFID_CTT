{
 "cells": [
  {
   "cell_type": "markdown",
   "metadata": {},
   "source": [
    "## 知识蒸馏-CTT teacher->GRU student"
   ]
  },
  {
   "cell_type": "code",
   "execution_count": 1,
   "metadata": {
    "collapsed": false,
    "jupyter": {
     "outputs_hidden": false
    }
   },
   "outputs": [
    {
     "name": "stdout",
     "output_type": "stream",
     "text": [
      "/Users/frank/Desktop/jupyter/RFID_TRANS/filter/\n"
     ]
    },
    {
     "data": {
      "text/plain": "<Figure size 432x288 with 0 Axes>"
     },
     "metadata": {},
     "output_type": "display_data"
    },
    {
     "data": {
      "text/plain": "<Figure size 432x288 with 0 Axes>"
     },
     "metadata": {},
     "output_type": "display_data"
    }
   ],
   "source": [
    "import copy\n",
    "import math\n",
    "import torch\n",
    "import pickle\n",
    "import numpy as np\n",
    "import pandas as pd\n",
    "import geatpy as ea\n",
    "from tqdm import tqdm\n",
    "from torch import nn\n",
    "from torch import optim\n",
    "from fill.hot_filling import hot_fill\n",
    "from fill.neighbour_filling import neighbour_fill\n",
    "from filter.w_mean_filter import *\n",
    "from filter.rssi_guass_filter import filter_guass\n",
    "from filter.kalman_filter import filter_kalman\n",
    "import torch.nn.functional as F\n",
    "import matplotlib.pyplot as plt\n",
    "import utils.calculate_param as cp\n",
    "from dataset import data_read\n",
    "from torch.utils.data import TensorDataset\n",
    "from torch.utils.data import DataLoader\n",
    "from multiprocessing.dummy import Pool as ThreadPool\n",
    "from sklearn.metrics import mean_absolute_error, explained_variance_score, r2_score, mean_squared_error"
   ]
  },
  {
   "cell_type": "markdown",
   "metadata": {},
   "source": [
    "### 硬件设备准备"
   ]
  },
  {
   "cell_type": "code",
   "execution_count": 2,
   "metadata": {
    "collapsed": false,
    "jupyter": {
     "outputs_hidden": false
    }
   },
   "outputs": [
    {
     "data": {
      "text/plain": "device(type='cpu')"
     },
     "execution_count": 2,
     "metadata": {},
     "output_type": "execute_result"
    }
   ],
   "source": [
    "device = torch.device(\"cuda:0\" if torch.cuda.is_available() else \"cpu\")\n",
    "device"
   ]
  },
  {
   "cell_type": "markdown",
   "source": [
    "### 加载数据集 近邻填充+高斯滤波"
   ],
   "metadata": {
    "collapsed": false
   }
  },
  {
   "cell_type": "code",
   "execution_count": 3,
   "outputs": [],
   "source": [
    "X_train_0, y_train_0 = data_read.load_data('train')\n",
    "X_test_0, y_test_0 = data_read.load_data('test')"
   ],
   "metadata": {
    "collapsed": false
   }
  },
  {
   "cell_type": "code",
   "execution_count": 4,
   "outputs": [
    {
     "data": {
      "text/plain": "(2000, 50)"
     },
     "execution_count": 4,
     "metadata": {},
     "output_type": "execute_result"
    }
   ],
   "source": [
    "X_train_neighbour = [neighbour_fill(xi) for xi in X_train_0]\n",
    "X_test_neighbour = [neighbour_fill(xi) for xi in X_test_0]\n",
    "X_train_guass = [filter_guass(xi) for xi in X_train_neighbour]\n",
    "X_test_guass = [filter_guass(xi) for xi in X_test_neighbour]\n",
    "X_train_guass = np.array(X_train_guass)\n",
    "X_test_guass = np.array(X_test_guass)\n",
    "\n",
    "X_train_guass.shape"
   ],
   "metadata": {
    "collapsed": false
   }
  },
  {
   "cell_type": "code",
   "execution_count": 5,
   "outputs": [
    {
     "data": {
      "text/plain": "torch.Size([2000, 50])"
     },
     "execution_count": 5,
     "metadata": {},
     "output_type": "execute_result"
    }
   ],
   "source": [
    "X_train = torch.from_numpy(X_train_guass).float().to(device) # [len * feature]\n",
    "y_train = torch.from_numpy(y_train_0).float().to(device)\n",
    "X_test = torch.from_numpy(X_test_guass).float().to(device) # [len * feature]\n",
    "y_test = torch.from_numpy(y_test_0).float().to(device)\n",
    "\n",
    "X_train.shape\n"
   ],
   "metadata": {
    "collapsed": false
   }
  },
  {
   "cell_type": "code",
   "execution_count": 6,
   "outputs": [],
   "source": [
    "train_data_loader = DataLoader(TensorDataset(X_train, y_train), batch_size=100, shuffle=False)\n",
    "test_data_loader = DataLoader(TensorDataset(X_test, y_test), batch_size=100, shuffle=False)"
   ],
   "metadata": {
    "collapsed": false
   }
  },
  {
   "cell_type": "markdown",
   "metadata": {},
   "source": [
    "### 定义教师模型-CTT"
   ]
  },
  {
   "cell_type": "code",
   "execution_count": 7,
   "metadata": {
    "collapsed": false,
    "jupyter": {
     "outputs_hidden": false
    }
   },
   "outputs": [],
   "source": [
    "# CNN\n",
    "class CNN(nn.Module):\n",
    "    def __init__(self):\n",
    "        super(CNN,self).__init__()\n",
    "        self.conv1 = nn.Sequential(\n",
    "            nn.Conv2d(in_channels=1, out_channels=3, kernel_size=7),\n",
    "            nn.ReLU(),\n",
    "            nn.MaxPool2d(kernel_size=2)\n",
    "        )\n",
    "        self.conv2 = nn.Sequential(\n",
    "            nn.Conv2d(in_channels=3, out_channels=6, kernel_size=7),\n",
    "            nn.ReLU(),\n",
    "            nn.MaxPool2d(kernel_size=2)\n",
    "        )\n",
    "        self.out=nn.Linear(960, 50)\n",
    "\n",
    "    def forward(self, x):\n",
    "        x= self.conv1(x)\n",
    "        # print(x.shape)\n",
    "        x= self.conv2(x)\n",
    "        # print(x.shape)\n",
    "        x= x.view(-1, x.size(0) * x.size(1) * x.size(2))\n",
    "        # print(x.shape)\n",
    "        out = self.out(x)\n",
    "        return out\n",
    "\n",
    "\n",
    "# 位置编码类\n",
    "class PositionalEncoding(nn.Module):\n",
    "    def __init__(self, d_model, max_len=5000):\n",
    "        super(PositionalEncoding, self).__init__()\n",
    "        pe = torch.zeros(max_len, d_model)\n",
    "        position = torch.arange(0, max_len, dtype=torch.float).unsqueeze(1)\n",
    "        div_term = torch.exp(torch.arange(0, d_model, 2).float() * (-math.log(10000.0) / d_model))\n",
    "        pe[:, 0::2] = torch.sin(position * div_term)\n",
    "        pe[:, 1::2] = torch.cos(position * div_term)\n",
    "        pe = pe.unsqueeze(0).transpose(0, 1)\n",
    "        self.register_buffer('pe', pe)\n",
    "\n",
    "    def forward(self, x):\n",
    "        out = x + self.pe[:x.size(0), :]\n",
    "        return out\n",
    "\n",
    "\n",
    "# 教师模型类\n",
    "class TeacherTransformer(nn.Module):\n",
    "    def __init__(self):\n",
    "        super(TeacherTransformer, self).__init__()\n",
    "        self.cnn = CNN()\n",
    "        self.d_model = 128  # 词向量维度\n",
    "        self.embedding_enc = nn.Linear(50, self.d_model)\n",
    "        self.embedding_dec = nn.Linear(2, self.d_model)\n",
    "        self.pos_encoding = PositionalEncoding(self.d_model)\n",
    "        self.Transformer_layer = nn.Transformer(d_model=128, num_encoder_layers=3, num_decoder_layers=3, batch_first=True)\n",
    "        self.FC_layer = nn.Linear(128, 2)\n",
    "\n",
    "    def forward(self, src, tgt):\n",
    "        # rssi进行cnn特征提取\n",
    "        src = src.unsqueeze(0)\n",
    "        src = self.cnn(src)\n",
    "        # print(src.shape)\n",
    "        # 使用线性层代替embedding\n",
    "        src = self.embedding_enc(src).unsqueeze(0)\n",
    "        tgt = self.embedding_dec(tgt).unsqueeze(0)\n",
    "        src = self.pos_encoding(src)\n",
    "        out = self.Transformer_layer(src, tgt)\n",
    "        out = self.FC_layer(out)\n",
    "        return out\n"
   ]
  },
  {
   "cell_type": "markdown",
   "metadata": {},
   "source": [
    "### 教师模型设置"
   ]
  },
  {
   "cell_type": "code",
   "execution_count": 8,
   "metadata": {
    "collapsed": false,
    "jupyter": {
     "outputs_hidden": false
    }
   },
   "outputs": [],
   "source": [
    "model = TeacherTransformer().to(device)\n",
    "criterion = nn.MSELoss()\n",
    "optimizer = optim.SGD(model.parameters(), lr=1e-3, momentum=0.99)"
   ]
  },
  {
   "cell_type": "markdown",
   "metadata": {},
   "source": [
    "### 教师模型信息"
   ]
  },
  {
   "cell_type": "code",
   "execution_count": 9,
   "metadata": {
    "collapsed": false,
    "jupyter": {
     "outputs_hidden": false
    }
   },
   "outputs": [
    {
     "name": "stdout",
     "output_type": "stream",
     "text": [
      "torchinfo信息如下：\n",
      "===============================================================================================\n",
      "Layer (type:depth-idx)                                                 Param #\n",
      "===============================================================================================\n",
      "TeacherTransformer                                                     --\n",
      "├─CNN: 1-1                                                             --\n",
      "│    └─Sequential: 2-1                                                 --\n",
      "│    │    └─Conv2d: 3-1                                                150\n",
      "│    │    └─ReLU: 3-2                                                  --\n",
      "│    │    └─MaxPool2d: 3-3                                             --\n",
      "│    └─Sequential: 2-2                                                 --\n",
      "│    │    └─Conv2d: 3-4                                                888\n",
      "│    │    └─ReLU: 3-5                                                  --\n",
      "│    │    └─MaxPool2d: 3-6                                             --\n",
      "│    └─Linear: 2-3                                                     48,050\n",
      "├─Linear: 1-2                                                          6,528\n",
      "├─Linear: 1-3                                                          384\n",
      "├─PositionalEncoding: 1-4                                              --\n",
      "├─Transformer: 1-5                                                     --\n",
      "│    └─TransformerEncoder: 2-4                                         --\n",
      "│    │    └─ModuleList: 3-7                                            1,779,072\n",
      "│    │    └─LayerNorm: 3-8                                             256\n",
      "│    └─TransformerDecoder: 2-5                                         --\n",
      "│    │    └─ModuleList: 3-9                                            1,977,984\n",
      "│    │    └─LayerNorm: 3-10                                            256\n",
      "├─Linear: 1-6                                                          258\n",
      "===============================================================================================\n",
      "Total params: 3,813,826\n",
      "Trainable params: 3,813,826\n",
      "Non-trainable params: 0\n",
      "===============================================================================================\n"
     ]
    }
   ],
   "source": [
    "# 输出教师模型的参数信息-380w参数\n",
    "cp.get_summary(model, input_size=None)"
   ]
  },
  {
   "cell_type": "markdown",
   "metadata": {},
   "source": [
    "### 教师模型训练"
   ]
  },
  {
   "cell_type": "code",
   "execution_count": 53,
   "metadata": {
    "collapsed": false,
    "jupyter": {
     "outputs_hidden": false
    }
   },
   "outputs": [
    {
     "name": "stdout",
     "output_type": "stream",
     "text": [
      "Epoch: 0001 loss = 129.998638\n",
      "Epoch: 0002 loss = 47.602817\n",
      "Epoch: 0003 loss = 42.132884\n",
      "Epoch: 0004 loss = 37.284594\n",
      "Epoch: 0005 loss = 28.369028\n",
      "Epoch: 0006 loss = 19.852887\n",
      "Epoch: 0007 loss = 12.045530\n",
      "Epoch: 0008 loss = 10.521668\n",
      "Epoch: 0009 loss = 9.377818\n",
      "Epoch: 0010 loss = 6.554981\n",
      "Epoch: 0011 loss = 4.498675\n",
      "Epoch: 0012 loss = 4.578646\n",
      "Epoch: 0013 loss = 4.446416\n",
      "Epoch: 0014 loss = 3.611479\n",
      "Epoch: 0015 loss = 2.867299\n",
      "Epoch: 0016 loss = 3.022958\n",
      "Epoch: 0017 loss = 2.838755\n",
      "Epoch: 0018 loss = 2.951772\n",
      "Epoch: 0019 loss = 2.784625\n",
      "Epoch: 0020 loss = 2.155868\n",
      "Epoch: 0021 loss = 2.203376\n",
      "Epoch: 0022 loss = 2.301805\n",
      "Epoch: 0023 loss = 1.971854\n",
      "Epoch: 0024 loss = 1.692090\n",
      "Epoch: 0025 loss = 1.646012\n",
      "Epoch: 0026 loss = 1.750359\n",
      "Epoch: 0027 loss = 1.609370\n",
      "Epoch: 0028 loss = 1.515303\n",
      "Epoch: 0029 loss = 1.694549\n",
      "Epoch: 0030 loss = 1.409488\n",
      "Epoch: 0031 loss = 1.695054\n",
      "Epoch: 0032 loss = 1.545713\n",
      "Epoch: 0033 loss = 1.238061\n",
      "Epoch: 0034 loss = 1.355181\n",
      "Epoch: 0035 loss = 1.561455\n",
      "Epoch: 0036 loss = 1.368315\n",
      "Epoch: 0037 loss = 1.546901\n",
      "Epoch: 0038 loss = 1.275472\n",
      "Epoch: 0039 loss = 1.438899\n",
      "Epoch: 0040 loss = 1.412673\n",
      "Epoch: 0041 loss = 1.195435\n",
      "Epoch: 0042 loss = 1.264765\n",
      "Epoch: 0043 loss = 1.022746\n",
      "Epoch: 0044 loss = 1.424889\n",
      "Epoch: 0045 loss = 1.263793\n",
      "Epoch: 0046 loss = 1.224316\n",
      "Epoch: 0047 loss = 1.610114\n",
      "Epoch: 0048 loss = 1.053449\n",
      "Epoch: 0049 loss = 1.489212\n",
      "Epoch: 0050 loss = 1.113748\n",
      "Epoch: 0051 loss = 1.087312\n",
      "Epoch: 0052 loss = 1.023827\n",
      "Epoch: 0053 loss = 1.453509\n",
      "Epoch: 0054 loss = 0.959628\n",
      "Epoch: 0055 loss = 0.958852\n",
      "Epoch: 0056 loss = 0.990558\n",
      "Epoch: 0057 loss = 0.886309\n",
      "Epoch: 0058 loss = 1.076164\n",
      "Epoch: 0059 loss = 0.776812\n",
      "Epoch: 0060 loss = 0.919512\n",
      "Epoch: 0061 loss = 0.775212\n",
      "Epoch: 0062 loss = 0.880738\n",
      "Epoch: 0063 loss = 1.314704\n",
      "Epoch: 0064 loss = 0.867333\n",
      "Epoch: 0065 loss = 1.063016\n",
      "Epoch: 0066 loss = 0.727401\n",
      "Epoch: 0067 loss = 0.865515\n",
      "Epoch: 0068 loss = 1.036492\n",
      "Epoch: 0069 loss = 0.653579\n",
      "Epoch: 0070 loss = 0.754254\n",
      "Epoch: 0071 loss = 0.820335\n",
      "Epoch: 0072 loss = 0.666480\n",
      "Epoch: 0073 loss = 0.712258\n",
      "Epoch: 0074 loss = 0.828233\n",
      "Epoch: 0075 loss = 0.760632\n",
      "Epoch: 0076 loss = 0.774088\n",
      "Epoch: 0077 loss = 0.890112\n",
      "Epoch: 0078 loss = 0.701167\n",
      "Epoch: 0079 loss = 0.889438\n",
      "Epoch: 0080 loss = 0.738146\n",
      "Epoch: 0081 loss = 0.812608\n",
      "Epoch: 0082 loss = 0.702160\n",
      "Epoch: 0083 loss = 0.724608\n",
      "Epoch: 0084 loss = 0.835625\n",
      "Epoch: 0085 loss = 0.700521\n",
      "Epoch: 0086 loss = 0.722783\n",
      "Epoch: 0087 loss = 0.682001\n",
      "Epoch: 0088 loss = 0.555516\n",
      "Epoch: 0089 loss = 0.639852\n",
      "Epoch: 0090 loss = 0.588225\n",
      "Epoch: 0091 loss = 0.540306\n",
      "Epoch: 0092 loss = 0.658678\n",
      "Epoch: 0093 loss = 0.551455\n",
      "Epoch: 0094 loss = 0.479596\n",
      "Epoch: 0095 loss = 0.596112\n",
      "Epoch: 0096 loss = 0.589762\n",
      "Epoch: 0097 loss = 0.498059\n",
      "Epoch: 0098 loss = 0.589896\n",
      "Epoch: 0099 loss = 0.615938\n",
      "Epoch: 0100 loss = 0.455460\n",
      "Epoch: 0101 loss = 0.515866\n",
      "Epoch: 0102 loss = 0.525588\n",
      "Epoch: 0103 loss = 0.465951\n",
      "Epoch: 0104 loss = 0.442867\n",
      "Epoch: 0105 loss = 0.514599\n",
      "Epoch: 0106 loss = 0.530417\n",
      "Epoch: 0107 loss = 0.428340\n",
      "Epoch: 0108 loss = 0.460240\n",
      "Epoch: 0109 loss = 0.478471\n",
      "Epoch: 0110 loss = 0.463980\n",
      "Epoch: 0111 loss = 0.488955\n",
      "Epoch: 0112 loss = 0.428229\n",
      "Epoch: 0113 loss = 0.428529\n",
      "Epoch: 0114 loss = 0.498273\n",
      "Epoch: 0115 loss = 0.485399\n",
      "Epoch: 0116 loss = 0.545738\n",
      "Epoch: 0117 loss = 0.861583\n",
      "Epoch: 0118 loss = 0.896138\n",
      "Epoch: 0119 loss = 0.876337\n",
      "Epoch: 0120 loss = 0.762446\n",
      "Epoch: 0121 loss = 0.815631\n",
      "Epoch: 0122 loss = 0.640203\n",
      "Epoch: 0123 loss = 0.765752\n",
      "Epoch: 0124 loss = 0.775983\n",
      "Epoch: 0125 loss = 0.677901\n",
      "Epoch: 0126 loss = 0.644342\n",
      "Epoch: 0127 loss = 0.577997\n",
      "Epoch: 0128 loss = 0.537642\n",
      "Epoch: 0129 loss = 0.513315\n",
      "Epoch: 0130 loss = 0.585135\n",
      "Epoch: 0131 loss = 0.414298\n",
      "Epoch: 0132 loss = 0.556984\n",
      "Epoch: 0133 loss = 0.618039\n",
      "Epoch: 0134 loss = 0.596420\n",
      "Epoch: 0135 loss = 0.618626\n",
      "Epoch: 0136 loss = 0.571470\n",
      "Epoch: 0137 loss = 0.486200\n",
      "Epoch: 0138 loss = 0.505683\n",
      "Epoch: 0139 loss = 0.487620\n",
      "Epoch: 0140 loss = 0.391893\n",
      "Epoch: 0141 loss = 0.425257\n",
      "Epoch: 0142 loss = 0.419430\n",
      "Epoch: 0143 loss = 0.470431\n",
      "Epoch: 0144 loss = 0.396604\n",
      "Epoch: 0145 loss = 0.419095\n",
      "Epoch: 0146 loss = 0.473992\n",
      "Epoch: 0147 loss = 0.370350\n",
      "Epoch: 0148 loss = 0.415096\n",
      "Epoch: 0149 loss = 0.398022\n",
      "Epoch: 0150 loss = 0.489525\n",
      "best_loss::| 0.37034968938678503 ---best_epoch::| 146\n",
      "CPU times: user 4min 10s, sys: 31.8 s, total: 4min 42s\n",
      "Wall time: 2min 26s\n"
     ]
    }
   ],
   "source": [
    "%%time\n",
    "\n",
    "best_loss = 100000\n",
    "best_epoch = 0\n",
    "for epoch in range(150):\n",
    "    epoch_loss = 0\n",
    "    for X, y in train_data_loader:  # enc_inputs : [len * feature]->[2000 * 50]\n",
    "        # print(X.shape)  # [100 * 50]\n",
    "        # print(y.shape)  # [100 * 50]\n",
    "        outputs = model(X, y)\n",
    "        outputs = outputs.squeeze()  # [100 * 2]\n",
    "        # print(outputs.shape)\n",
    "        loss = criterion(outputs, y)\n",
    "        loss_num = loss.item()\n",
    "        epoch_loss += loss_num\n",
    "        optimizer.zero_grad()\n",
    "        loss.backward()\n",
    "        torch.nn.utils.clip_grad_norm_(model.parameters(), 0.5)\n",
    "        optimizer.step()\n",
    "\n",
    "    if epoch_loss < best_loss:\n",
    "        best_loss = epoch_loss\n",
    "        best_epoch = epoch\n",
    "        best_model_wts = copy.deepcopy(model.state_dict())\n",
    "        torch.save(best_model_wts, './result/ctt_weight.pth')\n",
    "\n",
    "    print('Epoch:', '%04d' % (epoch + 1), 'loss =', '{:.6f}'.format(epoch_loss))\n",
    "\n",
    "# 打印最佳的结果\n",
    "print('best_loss::|',best_loss,'---best_epoch::|',best_epoch)\n"
   ]
  },
  {
   "cell_type": "markdown",
   "source": [
    "### 教师模型评估"
   ],
   "metadata": {
    "collapsed": false
   }
  },
  {
   "cell_type": "code",
   "execution_count": 10,
   "outputs": [
    {
     "name": "stdout",
     "output_type": "stream",
     "text": [
      "{'mae': 0.13338129, 'mse': 0.028472332, 'rmse': 0.16873746556071798, 'evs': 0.9949590265750885, 'r2': 0.9860217061275907, 'mmax': 0.35820603, 'mmin': 0.017809458}\n",
      "       X     y        PX        Py\n",
      "0   0.21  3.47  0.124531  3.715504\n",
      "1   1.13  1.96  1.084291  2.080899\n",
      "2   3.38  2.58  3.346277  2.748064\n",
      "3   4.07  2.72  4.168088  2.933629\n",
      "4   1.58  2.47  1.576717  2.598555\n",
      "5   3.43  1.61  3.406310  1.756241\n",
      "6   1.22  0.74  1.135537  0.773024\n",
      "7   2.33  1.97  2.292284  2.134232\n",
      "8   0.33  3.56  0.246293  3.826063\n",
      "9   3.53  4.28  3.744175  4.694170\n",
      "10  4.42  3.69  4.702496  4.065153\n",
      "11  3.67  0.34  3.764961  0.363934\n",
      "12  2.57  0.37  2.540435  0.417595\n",
      "13  3.14  3.22  3.148333  3.386683\n",
      "14  4.76  3.34  4.985601  3.633575\n",
      "15  1.70  3.71  1.709826  3.943636\n",
      "16  3.50  1.20  3.539850  1.304910\n",
      "17  0.68  4.65  0.656825  4.929386\n",
      "18  1.09  4.59  1.065913  4.934533\n",
      "19  0.25  3.70  0.169071  3.974638\n"
     ]
    }
   ],
   "source": [
    "model = TeacherTransformer().to(device)\n",
    "# 暂存教师模型为teacher_model\n",
    "teacher_model = model\n",
    "model.load_state_dict(torch.load('./result/ctt_weight.pth'))\n",
    "model.eval()\n",
    "\n",
    "pxy_all = []\n",
    "y_all = []\n",
    "for X, y in test_data_loader:\n",
    "    pxy = model(X, y)\n",
    "    pxy = pxy.cpu().detach().numpy().squeeze(0)\n",
    "    y = y.cpu().detach().numpy()\n",
    "    pxy_all.append(pxy)\n",
    "    y_all.append(y)\n",
    "\n",
    "# 计算指标\n",
    "pxy_all = np.array(pxy_all).reshape(-1, 2)\n",
    "y_all = np.array(y_all).reshape(-1, 2)\n",
    "mae = mean_absolute_error(y_all, pxy_all)\n",
    "mse = mean_squared_error(y_all, pxy_all)\n",
    "rmse = mse ** 0.5\n",
    "evs = explained_variance_score(y_all, pxy_all)\n",
    "r2 = r2_score(y_all, pxy_all)\n",
    "\n",
    "mmax = 0\n",
    "mmin = 10000\n",
    "for i in range(len(pxy_all)):\n",
    "    mmax = max(mean_absolute_error(y_all[i], pxy_all[i]), mmax)\n",
    "    mmin = min(mean_absolute_error(y_all[i], pxy_all[i]), mmin)\n",
    "\n",
    "print({'mae': mae, 'mse': mse, 'rmse': rmse, 'evs': evs, 'r2': r2, 'mmax': mmax, 'mmin': mmin})\n",
    "\n",
    "y_teacher = y_all[:20]\n",
    "pxy = pxy_all[:20]\n",
    "coor1 = pd.DataFrame(y_teacher)\n",
    "coor1.columns = ['X', 'y']\n",
    "\n",
    "coor2 = pd.DataFrame(pxy)\n",
    "coor2.columns = ['PX', 'Py']\n",
    "\n",
    "coor = pd.concat([coor1, coor2], axis=1)\n",
    "coor.to_csv('./result/coordinate_all_ctt.csv')\n",
    "print(coor)"
   ],
   "metadata": {
    "collapsed": false
   }
  },
  {
   "cell_type": "markdown",
   "source": [
    "### 教师模型定位效果可视化"
   ],
   "metadata": {
    "collapsed": false
   }
  },
  {
   "cell_type": "code",
   "execution_count": 11,
   "outputs": [
    {
     "data": {
      "text/plain": "<Figure size 720x720 with 1 Axes>",
      "image/png": "[encoded data removed]"
     },
     "metadata": {
      "needs_background": "light"
     },
     "output_type": "display_data"
    }
   ],
   "source": [
    "plt.figure(figsize=[10, 10])\n",
    "plt.xlim((0, 6))\n",
    "plt.ylim((0, 6))\n",
    "plt.ylabel('RFID reader')\n",
    "plt.title('Coordinate Comparison')\n",
    "# 画图-标准坐标\n",
    "plt.scatter(y_teacher[:, 0], y_teacher[:, 1], c='black', marker='^', label='real position of RFID tag')\n",
    "\n",
    "# 画图-预测EA坐标\n",
    "plt.scatter(pxy[:, 0], pxy[:, 1], c='red', marker='x', label = 'predict position with CTT-Transformer')\n",
    "\n",
    "plt.legend()\n",
    "plt.grid('True')\n",
    "plt.savefig('./result/compare_coordinate_ctt.jpg', dpi=750, bbox_inches = 'tight')"
   ],
   "metadata": {
    "collapsed": false
   }
  },
  {
   "cell_type": "markdown",
   "metadata": {},
   "source": [
    "### 定义学生模型-GRU模型"
   ]
  },
  {
   "cell_type": "code",
   "execution_count": 12,
   "metadata": {
    "collapsed": false,
    "jupyter": {
     "outputs_hidden": false
    }
   },
   "outputs": [],
   "source": [
    "class StudentGRU(nn.Module):\n",
    "    def __init__(self):\n",
    "        super(StudentGRU, self).__init__()\n",
    "        self.time_step = 50\n",
    "        self.x_dim = 1\n",
    "        self.h_dim = 60\n",
    "        self.gru_layers = 1\n",
    "        self.GRU_layer = nn.GRU(self.x_dim, self.h_dim, self.gru_layers, batch_first=True)\n",
    "        self.FC = nn.Linear(self.h_dim, 2)\n",
    "\n",
    "\n",
    "    def forward(self, x):\n",
    "        batch, time_step, x_dim = x.size()\n",
    "        h0 = torch.zeros((self.gru_layers, batch, self.h_dim)).to(device)\n",
    "        output, hn = self.GRU_layer(x, h0)\n",
    "        res = hn.squeeze(0)\n",
    "        res = self.FC(res)\n",
    "        return res"
   ]
  },
  {
   "cell_type": "markdown",
   "metadata": {},
   "source": [
    "### 学生模型设置"
   ]
  },
  {
   "cell_type": "code",
   "execution_count": 13,
   "metadata": {
    "collapsed": false,
    "jupyter": {
     "outputs_hidden": false
    }
   },
   "outputs": [],
   "source": [
    "# 从头先训练一下学生模型\n",
    "model = StudentGRU().to(device)\n",
    "criterion = torch.nn.MSELoss()\n",
    "optimizer = optim.Adam(model.parameters(), lr=1e-3)"
   ]
  },
  {
   "cell_type": "markdown",
   "metadata": {},
   "source": [
    "### 学生模型信息"
   ]
  },
  {
   "cell_type": "code",
   "execution_count": 14,
   "metadata": {
    "collapsed": false,
    "jupyter": {
     "outputs_hidden": false
    }
   },
   "outputs": [
    {
     "name": "stdout",
     "output_type": "stream",
     "text": [
      "torchinfo信息如下：\n",
      "=================================================================\n",
      "Layer (type:depth-idx)                   Param #\n",
      "=================================================================\n",
      "StudentGRU                               --\n",
      "├─GRU: 1-1                               11,340\n",
      "├─Linear: 1-2                            122\n",
      "=================================================================\n",
      "Total params: 11,462\n",
      "Trainable params: 11,462\n",
      "Non-trainable params: 0\n",
      "=================================================================\n"
     ]
    }
   ],
   "source": [
    "# 输出学生模型的参数信息-1w参数\n",
    "cp.get_summary(model, input_size=None)"
   ]
  },
  {
   "cell_type": "markdown",
   "metadata": {},
   "source": [
    "### 学生模型训练"
   ]
  },
  {
   "cell_type": "code",
   "execution_count": 15,
   "metadata": {
    "collapsed": false,
    "jupyter": {
     "outputs_hidden": false
    }
   },
   "outputs": [
    {
     "name": "stdout",
     "output_type": "stream",
     "text": [
      "Epoch: 0001 loss = 122.107428\n",
      "Epoch: 0002 loss = 47.278068\n",
      "Epoch: 0003 loss = 37.876312\n",
      "Epoch: 0004 loss = 32.536261\n",
      "Epoch: 0005 loss = 26.213305\n",
      "Epoch: 0006 loss = 22.373122\n",
      "Epoch: 0007 loss = 21.071169\n",
      "Epoch: 0008 loss = 20.120149\n",
      "Epoch: 0009 loss = 19.141215\n",
      "Epoch: 0010 loss = 17.978291\n",
      "Epoch: 0011 loss = 16.451362\n",
      "Epoch: 0012 loss = 14.423084\n",
      "Epoch: 0013 loss = 12.214550\n",
      "Epoch: 0014 loss = 10.656858\n",
      "Epoch: 0015 loss = 9.471471\n",
      "Epoch: 0016 loss = 8.668101\n",
      "Epoch: 0017 loss = 7.969093\n",
      "Epoch: 0018 loss = 7.692502\n",
      "Epoch: 0019 loss = 7.541159\n",
      "Epoch: 0020 loss = 7.283013\n",
      "Epoch: 0021 loss = 6.562838\n",
      "Epoch: 0022 loss = 6.500648\n",
      "Epoch: 0023 loss = 6.023684\n",
      "Epoch: 0024 loss = 5.855993\n",
      "Epoch: 0025 loss = 5.425782\n",
      "Epoch: 0026 loss = 4.998297\n",
      "Epoch: 0027 loss = 5.450473\n",
      "Epoch: 0028 loss = 4.806328\n",
      "Epoch: 0029 loss = 4.540754\n",
      "Epoch: 0030 loss = 4.441662\n",
      "Epoch: 0031 loss = 4.421530\n",
      "Epoch: 0032 loss = 4.619637\n",
      "Epoch: 0033 loss = 4.207857\n",
      "Epoch: 0034 loss = 3.999857\n",
      "Epoch: 0035 loss = 3.925165\n",
      "Epoch: 0036 loss = 4.065345\n",
      "Epoch: 0037 loss = 4.039112\n",
      "Epoch: 0038 loss = 4.015137\n",
      "Epoch: 0039 loss = 3.778138\n",
      "Epoch: 0040 loss = 4.498711\n",
      "Epoch: 0041 loss = 3.807512\n",
      "Epoch: 0042 loss = 3.803072\n",
      "Epoch: 0043 loss = 3.998379\n",
      "Epoch: 0044 loss = 4.131376\n",
      "Epoch: 0045 loss = 3.779418\n",
      "Epoch: 0046 loss = 4.474978\n",
      "Epoch: 0047 loss = 3.978818\n",
      "Epoch: 0048 loss = 4.104301\n",
      "Epoch: 0049 loss = 3.712051\n",
      "Epoch: 0050 loss = 3.891951\n",
      "Epoch: 0051 loss = 3.648251\n",
      "Epoch: 0052 loss = 3.940166\n",
      "Epoch: 0053 loss = 3.595357\n",
      "Epoch: 0054 loss = 3.534784\n",
      "Epoch: 0055 loss = 3.591487\n",
      "Epoch: 0056 loss = 3.657569\n",
      "Epoch: 0057 loss = 3.595334\n",
      "Epoch: 0058 loss = 3.592813\n",
      "Epoch: 0059 loss = 3.651546\n",
      "Epoch: 0060 loss = 3.559948\n",
      "Epoch: 0061 loss = 3.577400\n",
      "Epoch: 0062 loss = 3.522298\n",
      "Epoch: 0063 loss = 3.496811\n",
      "Epoch: 0064 loss = 3.531794\n",
      "Epoch: 0065 loss = 3.522546\n",
      "Epoch: 0066 loss = 3.394125\n",
      "Epoch: 0067 loss = 3.649234\n",
      "Epoch: 0068 loss = 3.438058\n",
      "Epoch: 0069 loss = 3.485333\n",
      "Epoch: 0070 loss = 3.519564\n",
      "Epoch: 0071 loss = 4.061465\n",
      "Epoch: 0072 loss = 3.386618\n",
      "Epoch: 0073 loss = 3.479975\n",
      "Epoch: 0074 loss = 3.515420\n",
      "Epoch: 0075 loss = 3.292569\n",
      "Epoch: 0076 loss = 4.480096\n",
      "Epoch: 0077 loss = 3.922786\n",
      "Epoch: 0078 loss = 3.360727\n",
      "Epoch: 0079 loss = 3.292527\n",
      "Epoch: 0080 loss = 3.194933\n",
      "Epoch: 0081 loss = 3.156140\n",
      "Epoch: 0082 loss = 3.353348\n",
      "Epoch: 0083 loss = 3.811617\n",
      "Epoch: 0084 loss = 3.217041\n",
      "Epoch: 0085 loss = 3.112940\n",
      "Epoch: 0086 loss = 3.223364\n",
      "Epoch: 0087 loss = 3.267219\n",
      "Epoch: 0088 loss = 3.175053\n",
      "Epoch: 0089 loss = 3.228271\n",
      "Epoch: 0090 loss = 3.236632\n",
      "Epoch: 0091 loss = 3.159504\n",
      "Epoch: 0092 loss = 3.349805\n",
      "Epoch: 0093 loss = 3.287089\n",
      "Epoch: 0094 loss = 3.203870\n",
      "Epoch: 0095 loss = 3.086938\n",
      "Epoch: 0096 loss = 3.041942\n",
      "Epoch: 0097 loss = 3.391975\n",
      "Epoch: 0098 loss = 3.258879\n",
      "Epoch: 0099 loss = 3.088117\n",
      "Epoch: 0100 loss = 3.029989\n",
      "best_loss::| 3.029989145696163 ---best_epoch::| 99\n",
      "CPU times: user 1min 30s, sys: 4.65 s, total: 1min 34s\n",
      "Wall time: 52.4 s\n"
     ]
    }
   ],
   "source": [
    "%%time\n",
    "best_loss = 100000\n",
    "best_epoch = 0\n",
    "for epoch in range(100):\n",
    "    epoch_loss = 0\n",
    "    for X, y in train_data_loader:\n",
    "        outputs = model(X.unsqueeze(2))\n",
    "        loss = criterion(outputs, y)\n",
    "        loss_num = loss.item()\n",
    "        epoch_loss += loss_num\n",
    "        optimizer.zero_grad()\n",
    "        loss.backward()\n",
    "        torch.nn.utils.clip_grad_norm_(model.parameters(), 0.5)\n",
    "        optimizer.step()\n",
    "\n",
    "    if epoch_loss < best_loss:\n",
    "        best_loss = epoch_loss\n",
    "        best_epoch = epoch\n",
    "        best_model_wts = copy.deepcopy(model.state_dict())\n",
    "        torch.save(best_model_wts, './result/student_weight.pth')\n",
    "\n",
    "    print('Epoch:', '%04d' % (epoch + 1), 'loss =', '{:.6f}'.format(epoch_loss))\n",
    "\n",
    "# 打印最佳的结果\n",
    "print('best_loss::|',best_loss,'---best_epoch::|',best_epoch)\n"
   ]
  },
  {
   "cell_type": "markdown",
   "source": [
    "### 学生模型评估"
   ],
   "metadata": {
    "collapsed": false
   }
  },
  {
   "cell_type": "code",
   "execution_count": 17,
   "outputs": [
    {
     "name": "stdout",
     "output_type": "stream",
     "text": [
      "{'mae': 0.30248207, 'mse': 0.17594299, 'rmse': 0.41945558430374724, 'evs': 0.9139597117900848, 'r2': 0.9137655269198061, 'mmax': 1.4075177, 'mmin': 0.020872474}\n"
     ]
    }
   ],
   "source": [
    "model = StudentGRU()\n",
    "# 暂存不加蒸馏学生模型为student_model\n",
    "student_model = model\n",
    "\n",
    "model.load_state_dict(torch.load('./result/student_weight.pth'))\n",
    "model.eval()\n",
    "\n",
    "pxy = model(X_test.unsqueeze(2))\n",
    "pxy = pxy.cpu().detach().numpy()\n",
    "# 计算指标\n",
    "mae = mean_absolute_error(y_test, pxy)\n",
    "mse = mean_squared_error(y_test, pxy)\n",
    "rmse = mse ** 0.5\n",
    "evs = explained_variance_score(y_test, pxy)\n",
    "r2 = r2_score(y_test, pxy)\n",
    "\n",
    "mmax = 0\n",
    "mmin = 10000\n",
    "for i in range(len(pxy)):\n",
    "    mmax = max(mean_absolute_error(y_test[i], pxy[i]), mmax)\n",
    "    mmin = min(mean_absolute_error(y_test[i], pxy[i]), mmin)\n",
    "\n",
    "print({'mae': mae, 'mse': mse, 'rmse': rmse, 'evs': evs, 'r2': r2, 'mmax': mmax, 'mmin': mmin})\n"
   ],
   "metadata": {
    "collapsed": false
   }
  },
  {
   "cell_type": "markdown",
   "source": [
    "### 学生模型定位效果可视化"
   ],
   "metadata": {
    "collapsed": false
   }
  },
  {
   "cell_type": "code",
   "execution_count": 18,
   "outputs": [
    {
     "data": {
      "text/plain": "       X     y        PX        Py\n0   0.21  3.47  0.529556  3.653620\n1   1.13  1.96  1.155327  0.791723\n2   3.38  2.58  3.175576  1.932925\n3   4.07  2.72  4.124848  3.070251\n4   1.58  2.47  1.583962  1.589060\n5   3.43  1.61  2.916111  1.182419\n6   1.22  0.74  1.341990  0.820726\n7   2.33  1.97  2.216176  1.262219\n8   0.33  3.56  0.479064  3.963069\n9   3.53  4.28  3.488793  4.035165\n10  4.42  3.69  4.544202  3.829434\n11  3.67  0.34  3.236455  0.531363\n12  2.57  0.37  2.338730  0.455886\n13  3.14  3.22  3.058084  3.226279\n14  4.76  3.34  4.606451  3.300981\n15  1.70  3.71  1.666711  4.173429\n16  3.50  1.20  3.186293  1.350095\n17  0.68  4.65  0.737427  4.363190\n18  1.09  4.59  1.184054  4.197122\n19  0.25  3.70  0.517788  3.638619",
      "text/html": "<div>\n<style scoped>\n    .dataframe tbody tr th:only-of-type {\n        vertical-align: middle;\n    }\n\n    .dataframe tbody tr th {\n        vertical-align: top;\n    }\n\n    .dataframe thead th {\n        text-align: right;\n    }\n</style>\n<table border=\"1\" class=\"dataframe\">\n  <thead>\n    <tr style=\"text-align: right;\">\n      <th></th>\n      <th>X</th>\n      <th>y</th>\n      <th>PX</th>\n      <th>Py</th>\n    </tr>\n  </thead>\n  <tbody>\n    <tr>\n      <th>0</th>\n      <td>0.21</td>\n      <td>3.47</td>\n      <td>0.529556</td>\n      <td>3.653620</td>\n    </tr>\n    <tr>\n      <th>1</th>\n      <td>1.13</td>\n      <td>1.96</td>\n      <td>1.155327</td>\n      <td>0.791723</td>\n    </tr>\n    <tr>\n      <th>2</th>\n      <td>3.38</td>\n      <td>2.58</td>\n      <td>3.175576</td>\n      <td>1.932925</td>\n    </tr>\n    <tr>\n      <th>3</th>\n      <td>4.07</td>\n      <td>2.72</td>\n      <td>4.124848</td>\n      <td>3.070251</td>\n    </tr>\n    <tr>\n      <th>4</th>\n      <td>1.58</td>\n      <td>2.47</td>\n      <td>1.583962</td>\n      <td>1.589060</td>\n    </tr>\n    <tr>\n      <th>5</th>\n      <td>3.43</td>\n      <td>1.61</td>\n      <td>2.916111</td>\n      <td>1.182419</td>\n    </tr>\n    <tr>\n      <th>6</th>\n      <td>1.22</td>\n      <td>0.74</td>\n      <td>1.341990</td>\n      <td>0.820726</td>\n    </tr>\n    <tr>\n      <th>7</th>\n      <td>2.33</td>\n      <td>1.97</td>\n      <td>2.216176</td>\n      <td>1.262219</td>\n    </tr>\n    <tr>\n      <th>8</th>\n      <td>0.33</td>\n      <td>3.56</td>\n      <td>0.479064</td>\n      <td>3.963069</td>\n    </tr>\n    <tr>\n      <th>9</th>\n      <td>3.53</td>\n      <td>4.28</td>\n      <td>3.488793</td>\n      <td>4.035165</td>\n    </tr>\n    <tr>\n      <th>10</th>\n      <td>4.42</td>\n      <td>3.69</td>\n      <td>4.544202</td>\n      <td>3.829434</td>\n    </tr>\n    <tr>\n      <th>11</th>\n      <td>3.67</td>\n      <td>0.34</td>\n      <td>3.236455</td>\n      <td>0.531363</td>\n    </tr>\n    <tr>\n      <th>12</th>\n      <td>2.57</td>\n      <td>0.37</td>\n      <td>2.338730</td>\n      <td>0.455886</td>\n    </tr>\n    <tr>\n      <th>13</th>\n      <td>3.14</td>\n      <td>3.22</td>\n      <td>3.058084</td>\n      <td>3.226279</td>\n    </tr>\n    <tr>\n      <th>14</th>\n      <td>4.76</td>\n      <td>3.34</td>\n      <td>4.606451</td>\n      <td>3.300981</td>\n    </tr>\n    <tr>\n      <th>15</th>\n      <td>1.70</td>\n      <td>3.71</td>\n      <td>1.666711</td>\n      <td>4.173429</td>\n    </tr>\n    <tr>\n      <th>16</th>\n      <td>3.50</td>\n      <td>1.20</td>\n      <td>3.186293</td>\n      <td>1.350095</td>\n    </tr>\n    <tr>\n      <th>17</th>\n      <td>0.68</td>\n      <td>4.65</td>\n      <td>0.737427</td>\n      <td>4.363190</td>\n    </tr>\n    <tr>\n      <th>18</th>\n      <td>1.09</td>\n      <td>4.59</td>\n      <td>1.184054</td>\n      <td>4.197122</td>\n    </tr>\n    <tr>\n      <th>19</th>\n      <td>0.25</td>\n      <td>3.70</td>\n      <td>0.517788</td>\n      <td>3.638619</td>\n    </tr>\n  </tbody>\n</table>\n</div>"
     },
     "execution_count": 18,
     "metadata": {},
     "output_type": "execute_result"
    }
   ],
   "source": [
    "y_test = np.array(y_test)\n",
    "y_student = y_test[:20]\n",
    "pxy = pxy[:20]\n",
    "coor1 = pd.DataFrame(y_student)\n",
    "coor1.columns = ['X', 'y']\n",
    "\n",
    "coor2 = pd.DataFrame(pxy)\n",
    "coor2.columns = ['PX', 'Py']\n",
    "\n",
    "coor = pd.concat([coor1, coor2], axis=1)\n",
    "coor.to_csv('./result/coordinate_all_student.csv')\n",
    "coor"
   ],
   "metadata": {
    "collapsed": false
   }
  },
  {
   "cell_type": "code",
   "execution_count": 19,
   "outputs": [
    {
     "data": {
      "text/plain": "<Figure size 720x720 with 1 Axes>",
      "image/png": "[encoded data removed]"
     },
     "metadata": {
      "needs_background": "light"
     },
     "output_type": "display_data"
    }
   ],
   "source": [
    "plt.figure(figsize=[10, 10])\n",
    "plt.xlim((0, 6))\n",
    "plt.ylim((0, 6))\n",
    "plt.ylabel('RFID reader')\n",
    "plt.title('Coordinate Comparison')\n",
    "# 画图-标准坐标\n",
    "plt.scatter(y_student[:, 0], y_student[:, 1], c='black', marker='^', label='real position of RFID tag')\n",
    "\n",
    "# 画图-预测EA坐标\n",
    "plt.scatter(pxy[:, 0], pxy[:, 1], c='red', marker='x', label = 'predict position with GRU')\n",
    "\n",
    "plt.legend()\n",
    "plt.grid('True')\n",
    "plt.savefig('./result/compare_coordinate_student.jpg', dpi=750, bbox_inches = 'tight')"
   ],
   "metadata": {
    "collapsed": false
   }
  },
  {
   "cell_type": "markdown",
   "metadata": {},
   "source": [
    "### 知识蒸馏准备与设置"
   ]
  },
  {
   "cell_type": "code",
   "execution_count": 25,
   "metadata": {
    "collapsed": false,
    "jupyter": {
     "outputs_hidden": false
    }
   },
   "outputs": [],
   "source": [
    "# 准备预训练好的教师模型\n",
    "teacher_model.eval()\n",
    "\n",
    "# 准备新的学生模型\n",
    "model = StudentGRU().to(device)\n",
    "\n",
    "# 蒸馏温度\n",
    "T = 7\n",
    "\n",
    "# 参数设置\n",
    "# hard_loss\n",
    "hard_loss = nn.MSELoss()\n",
    "# soft_loss kl散度\n",
    "soft_loss = nn.KLDivLoss(reduction='batchmean')\n",
    "\n",
    "alpha = 0.5\n",
    "beta = 1\n",
    "m = 0.8\n",
    "\n",
    "# 回归分析的损失函数设置 = 平滑l1loss + beta * 范围loss\n",
    "# loss = smoothl1loss + alpha * boundloss\n",
    "loss1 = nn.SmoothL1Loss()\n",
    "loss2 = nn.MSELoss()\n",
    "\n",
    "optimizer = torch.optim.Adam(model.parameters(), lr=1e-2)"
   ]
  },
  {
   "cell_type": "markdown",
   "metadata": {},
   "source": [
    "### 知识蒸馏训练"
   ]
  },
  {
   "cell_type": "code",
   "execution_count": 26,
   "metadata": {
    "collapsed": false,
    "jupyter": {
     "outputs_hidden": false
    }
   },
   "outputs": [
    {
     "name": "stderr",
     "output_type": "stream",
     "text": [
      "/Users/frank/anaconda3/envs/pytorch/lib/python3.8/site-packages/torch/nn/modules/loss.py:530: UserWarning: Using a target size (torch.Size([100, 2])) that is different to the input size (torch.Size([1, 100, 2])). This will likely lead to incorrect results due to broadcasting. Please ensure they have the same size.\n",
      "  return F.mse_loss(input, target, reduction=self.reduction)\n"
     ]
    },
    {
     "name": "stdout",
     "output_type": "stream",
     "text": [
      "Epoch: 0001 loss = 75.443349\n",
      "Epoch: 0002 loss = 35.368917\n",
      "Epoch: 0003 loss = 31.604799\n",
      "Epoch: 0004 loss = 28.821428\n",
      "Epoch: 0005 loss = 21.056590\n",
      "Epoch: 0006 loss = 8.849128\n",
      "Epoch: 0007 loss = 11.018884\n",
      "Epoch: 0008 loss = 7.571817\n",
      "Epoch: 0009 loss = 4.529858\n",
      "Epoch: 0010 loss = 5.104319\n",
      "Epoch: 0011 loss = 7.241560\n",
      "Epoch: 0012 loss = 9.588407\n",
      "Epoch: 0013 loss = 4.976638\n",
      "Epoch: 0014 loss = 12.513511\n",
      "Epoch: 0015 loss = 8.326972\n",
      "Epoch: 0016 loss = 4.388624\n",
      "Epoch: 0017 loss = 5.973000\n",
      "Epoch: 0018 loss = 5.087734\n",
      "Epoch: 0019 loss = 3.920780\n",
      "Epoch: 0020 loss = 5.168916\n",
      "Epoch: 0021 loss = 4.361026\n",
      "Epoch: 0022 loss = 4.022118\n",
      "Epoch: 0023 loss = 3.802086\n",
      "Epoch: 0024 loss = 3.747198\n",
      "Epoch: 0025 loss = 4.249961\n",
      "Epoch: 0026 loss = 3.650098\n",
      "Epoch: 0027 loss = 4.818716\n",
      "Epoch: 0028 loss = 3.397717\n",
      "Epoch: 0029 loss = 3.451383\n",
      "Epoch: 0030 loss = 3.217734\n",
      "Epoch: 0031 loss = 3.549889\n",
      "Epoch: 0032 loss = 3.307137\n",
      "Epoch: 0033 loss = 3.246635\n",
      "Epoch: 0034 loss = 3.587788\n",
      "Epoch: 0035 loss = 3.514326\n",
      "Epoch: 0036 loss = 3.970959\n",
      "Epoch: 0037 loss = 3.102093\n",
      "Epoch: 0038 loss = 2.955266\n",
      "Epoch: 0039 loss = 3.061220\n",
      "Epoch: 0040 loss = 3.145689\n",
      "Epoch: 0041 loss = 2.503674\n",
      "Epoch: 0042 loss = 3.463078\n",
      "Epoch: 0043 loss = 3.405315\n",
      "Epoch: 0044 loss = 3.234756\n",
      "Epoch: 0045 loss = 3.021896\n",
      "Epoch: 0046 loss = 3.085210\n",
      "Epoch: 0047 loss = 2.740014\n",
      "Epoch: 0048 loss = 2.991381\n",
      "Epoch: 0049 loss = 3.546784\n",
      "Epoch: 0050 loss = 3.292034\n",
      "Epoch: 0051 loss = 2.942007\n",
      "Epoch: 0052 loss = 2.829054\n",
      "Epoch: 0053 loss = 2.728831\n",
      "Epoch: 0054 loss = 2.898006\n",
      "Epoch: 0055 loss = 2.598999\n",
      "Epoch: 0056 loss = 2.652430\n",
      "Epoch: 0057 loss = 4.085315\n",
      "Epoch: 0058 loss = 5.183331\n",
      "Epoch: 0059 loss = 3.010032\n",
      "Epoch: 0060 loss = 2.986659\n",
      "Epoch: 0061 loss = 2.637362\n",
      "Epoch: 0062 loss = 3.016973\n",
      "Epoch: 0063 loss = 2.604040\n",
      "Epoch: 0064 loss = 2.667296\n",
      "Epoch: 0065 loss = 2.662838\n",
      "Epoch: 0066 loss = 2.357621\n",
      "Epoch: 0067 loss = 2.759859\n",
      "Epoch: 0068 loss = 3.189110\n",
      "Epoch: 0069 loss = 3.098943\n",
      "Epoch: 0070 loss = 3.764125\n",
      "Epoch: 0071 loss = 2.921093\n",
      "Epoch: 0072 loss = 3.313129\n",
      "Epoch: 0073 loss = 2.973269\n",
      "Epoch: 0074 loss = 6.426015\n",
      "Epoch: 0075 loss = 4.682194\n",
      "Epoch: 0076 loss = 2.989047\n",
      "Epoch: 0077 loss = 3.108366\n",
      "Epoch: 0078 loss = 3.054040\n",
      "Epoch: 0079 loss = 2.806576\n",
      "Epoch: 0080 loss = 2.440431\n",
      "Epoch: 0081 loss = 2.379243\n",
      "Epoch: 0082 loss = 2.515496\n",
      "Epoch: 0083 loss = 3.428440\n",
      "Epoch: 0084 loss = 2.957371\n",
      "Epoch: 0085 loss = 3.142323\n",
      "Epoch: 0086 loss = 2.892736\n",
      "Epoch: 0087 loss = 3.033677\n",
      "Epoch: 0088 loss = 2.632245\n",
      "Epoch: 0089 loss = 2.336428\n",
      "Epoch: 0090 loss = 2.617559\n",
      "Epoch: 0091 loss = 2.869314\n",
      "Epoch: 0092 loss = 2.638078\n",
      "Epoch: 0093 loss = 2.401360\n",
      "Epoch: 0094 loss = 3.578840\n",
      "Epoch: 0095 loss = 2.921975\n",
      "Epoch: 0096 loss = 3.805697\n",
      "Epoch: 0097 loss = 2.757019\n",
      "Epoch: 0098 loss = 3.367722\n",
      "Epoch: 0099 loss = 3.173411\n",
      "Epoch: 0100 loss = 2.896213\n",
      "best_loss::| 2.3364275693893433 ---best_epoch::| 88\n",
      "CPU times: user 2min 3s, sys: 7.08 s, total: 2min 10s\n",
      "Wall time: 1min 7s\n"
     ]
    }
   ],
   "source": [
    "%%time\n",
    "best_loss = 100000\n",
    "best_epoch = 0\n",
    "for epoch in range(100):\n",
    "    epoch_loss = 0\n",
    "    for X, y in train_data_loader:\n",
    "        X, y = X.to(device), y.to(device)\n",
    "        # 教师模型预测\n",
    "        with torch.no_grad():\n",
    "            teacher_outputs = teacher_model(X, y)\n",
    "            # print(teacher_outputs)\n",
    "        # 学生模型预测\n",
    "        student_outputs = model(X.unsqueeze(2))\n",
    "        # print(student_outputs)\n",
    "        # student_loss = hard_loss(student_outputs, y)\n",
    "        # # 计算蒸馏后的预测结果及soft_loss\n",
    "        # distillation_loss = soft_loss(\n",
    "        #     F.softmax(student_outputs/T, dim=1),\n",
    "        #     F.softmax(teacher_outputs/T, dim=1)\n",
    "        # )\n",
    "        # # 将 hard_loss 和 soft_loss 加权求和\n",
    "        # loss = alpha * student_loss + (1-alpha) * distillation_loss\n",
    "        # 回归损失\n",
    "        ls = loss2(student_outputs, y)\n",
    "        lt = loss2(teacher_outputs, y)\n",
    "        loss = loss1(student_outputs, y)  # smooth loss\n",
    "        if ls.item() - lt.item() > m:  # bound loss\n",
    "            loss += beta * ls.item()\n",
    "        # 反向传播,优化权重\n",
    "        optimizer.zero_grad()\n",
    "        epoch_loss += loss.item()\n",
    "        loss.backward()\n",
    "        torch.nn.utils.clip_grad_norm_(model.parameters(), 0.5)\n",
    "        optimizer.step()\n",
    "\n",
    "    if epoch_loss < best_loss:\n",
    "        best_loss = epoch_loss\n",
    "        best_epoch = epoch\n",
    "        best_model_wts = copy.deepcopy(model.state_dict())\n",
    "        torch.save(best_model_wts, './result/distillation_weight.pth')\n",
    "\n",
    "    print('Epoch:', '%04d' % (epoch + 1), 'loss =', '{:.6f}'.format(epoch_loss))\n",
    "\n",
    "# 打印最佳的结果\n",
    "print('best_loss::|',best_loss,'---best_epoch::|',best_epoch)\n"
   ]
  },
  {
   "cell_type": "markdown",
   "metadata": {},
   "source": [
    "### 蒸馏模型评估"
   ]
  },
  {
   "cell_type": "code",
   "execution_count": 27,
   "outputs": [
    {
     "name": "stdout",
     "output_type": "stream",
     "text": [
      "{'mae': 0.4365049, 'mse': 0.3368034, 'rmse': 0.5803476600081838, 'evs': 0.8657798767089844, 'r2': 0.834821027995134, 'mmax': 1.6381856, 'mmin': 0.014838576}\n"
     ]
    }
   ],
   "source": [
    "model = StudentGRU()\n",
    "model.load_state_dict(torch.load('./result/distillation_weight.pth'))\n",
    "model.eval()\n",
    "\n",
    "pxy = model(X_test.unsqueeze(2))\n",
    "pxy = pxy.cpu().detach().numpy()\n",
    "\n",
    "# 计算指标\n",
    "mae = mean_absolute_error(y_test, pxy)\n",
    "mse = mean_squared_error(y_test, pxy)\n",
    "rmse = mse ** 0.5\n",
    "evs = explained_variance_score(y_test, pxy)\n",
    "r2 = r2_score(y_test, pxy)\n",
    "\n",
    "mmax = 0\n",
    "mmin = 10000\n",
    "for i in range(len(pxy)):\n",
    "    mmax = max(mean_absolute_error(y_test[i], pxy[i]), mmax)\n",
    "    mmin = min(mean_absolute_error(y_test[i], pxy[i]), mmin)\n",
    "\n",
    "print({'mae': mae, 'mse': mse, 'rmse': rmse, 'evs': evs, 'r2': r2, 'mmax': mmax, 'mmin': mmin})\n"
   ],
   "metadata": {
    "collapsed": false
   }
  },
  {
   "cell_type": "markdown",
   "source": [
    "### 蒸馏模型定位效果可视化"
   ],
   "metadata": {
    "collapsed": false
   }
  },
  {
   "cell_type": "code",
   "execution_count": 23,
   "outputs": [
    {
     "data": {
      "text/plain": "       X     y        PX        Py\n0   0.21  3.47  0.774119  4.020876\n1   1.13  1.96  1.297446  1.467357\n2   3.38  2.58  3.103426  2.311676\n3   4.07  2.72  3.918773  3.422728\n4   1.58  2.47  1.670892  1.882996\n5   3.43  1.61  2.977580  1.745612\n6   1.22  0.74  1.221253  1.090062\n7   2.33  1.97  2.219710  1.498234\n8   0.33  3.56  0.652521  4.032351\n9   3.53  4.28  3.649781  4.448157\n10  4.42  3.69  4.451579  4.251191\n11  3.67  0.34  3.292423  1.095391\n12  2.57  0.37  2.433049  0.819706\n13  3.14  3.22  3.176925  3.648560\n14  4.76  3.34  4.369631  3.562084\n15  1.70  3.71  1.665144  4.359976\n16  3.50  1.20  3.337479  1.836402\n17  0.68  4.65  0.725935  4.317009\n18  1.09  4.59  1.298518  4.511485\n19  0.25  3.70  0.848336  4.148268",
      "text/html": "<div>\n<style scoped>\n    .dataframe tbody tr th:only-of-type {\n        vertical-align: middle;\n    }\n\n    .dataframe tbody tr th {\n        vertical-align: top;\n    }\n\n    .dataframe thead th {\n        text-align: right;\n    }\n</style>\n<table border=\"1\" class=\"dataframe\">\n  <thead>\n    <tr style=\"text-align: right;\">\n      <th></th>\n      <th>X</th>\n      <th>y</th>\n      <th>PX</th>\n      <th>Py</th>\n    </tr>\n  </thead>\n  <tbody>\n    <tr>\n      <th>0</th>\n      <td>0.21</td>\n      <td>3.47</td>\n      <td>0.774119</td>\n      <td>4.020876</td>\n    </tr>\n    <tr>\n      <th>1</th>\n      <td>1.13</td>\n      <td>1.96</td>\n      <td>1.297446</td>\n      <td>1.467357</td>\n    </tr>\n    <tr>\n      <th>2</th>\n      <td>3.38</td>\n      <td>2.58</td>\n      <td>3.103426</td>\n      <td>2.311676</td>\n    </tr>\n    <tr>\n      <th>3</th>\n      <td>4.07</td>\n      <td>2.72</td>\n      <td>3.918773</td>\n      <td>3.422728</td>\n    </tr>\n    <tr>\n      <th>4</th>\n      <td>1.58</td>\n      <td>2.47</td>\n      <td>1.670892</td>\n      <td>1.882996</td>\n    </tr>\n    <tr>\n      <th>5</th>\n      <td>3.43</td>\n      <td>1.61</td>\n      <td>2.977580</td>\n      <td>1.745612</td>\n    </tr>\n    <tr>\n      <th>6</th>\n      <td>1.22</td>\n      <td>0.74</td>\n      <td>1.221253</td>\n      <td>1.090062</td>\n    </tr>\n    <tr>\n      <th>7</th>\n      <td>2.33</td>\n      <td>1.97</td>\n      <td>2.219710</td>\n      <td>1.498234</td>\n    </tr>\n    <tr>\n      <th>8</th>\n      <td>0.33</td>\n      <td>3.56</td>\n      <td>0.652521</td>\n      <td>4.032351</td>\n    </tr>\n    <tr>\n      <th>9</th>\n      <td>3.53</td>\n      <td>4.28</td>\n      <td>3.649781</td>\n      <td>4.448157</td>\n    </tr>\n    <tr>\n      <th>10</th>\n      <td>4.42</td>\n      <td>3.69</td>\n      <td>4.451579</td>\n      <td>4.251191</td>\n    </tr>\n    <tr>\n      <th>11</th>\n      <td>3.67</td>\n      <td>0.34</td>\n      <td>3.292423</td>\n      <td>1.095391</td>\n    </tr>\n    <tr>\n      <th>12</th>\n      <td>2.57</td>\n      <td>0.37</td>\n      <td>2.433049</td>\n      <td>0.819706</td>\n    </tr>\n    <tr>\n      <th>13</th>\n      <td>3.14</td>\n      <td>3.22</td>\n      <td>3.176925</td>\n      <td>3.648560</td>\n    </tr>\n    <tr>\n      <th>14</th>\n      <td>4.76</td>\n      <td>3.34</td>\n      <td>4.369631</td>\n      <td>3.562084</td>\n    </tr>\n    <tr>\n      <th>15</th>\n      <td>1.70</td>\n      <td>3.71</td>\n      <td>1.665144</td>\n      <td>4.359976</td>\n    </tr>\n    <tr>\n      <th>16</th>\n      <td>3.50</td>\n      <td>1.20</td>\n      <td>3.337479</td>\n      <td>1.836402</td>\n    </tr>\n    <tr>\n      <th>17</th>\n      <td>0.68</td>\n      <td>4.65</td>\n      <td>0.725935</td>\n      <td>4.317009</td>\n    </tr>\n    <tr>\n      <th>18</th>\n      <td>1.09</td>\n      <td>4.59</td>\n      <td>1.298518</td>\n      <td>4.511485</td>\n    </tr>\n    <tr>\n      <th>19</th>\n      <td>0.25</td>\n      <td>3.70</td>\n      <td>0.848336</td>\n      <td>4.148268</td>\n    </tr>\n  </tbody>\n</table>\n</div>"
     },
     "execution_count": 23,
     "metadata": {},
     "output_type": "execute_result"
    }
   ],
   "source": [
    "y_distill = y_test[:20]\n",
    "pxy = pxy[:20]\n",
    "coor1 = pd.DataFrame(y_distill)\n",
    "coor1.columns = ['X', 'y']\n",
    "\n",
    "coor2 = pd.DataFrame(pxy)\n",
    "coor2.columns = ['PX', 'Py']\n",
    "\n",
    "coor = pd.concat([coor1, coor2], axis=1)\n",
    "coor.to_csv('./result/coordinate_all_distill.csv')\n",
    "coor"
   ],
   "metadata": {
    "collapsed": false
   }
  },
  {
   "cell_type": "code",
   "execution_count": 24,
   "outputs": [
    {
     "data": {
      "text/plain": "<Figure size 720x720 with 1 Axes>",
      "image/png": "[encoded data removed]"
     },
     "metadata": {
      "needs_background": "light"
     },
     "output_type": "display_data"
    }
   ],
   "source": [
    "plt.figure(figsize=[10, 10])\n",
    "plt.xlim((0, 6))\n",
    "plt.ylim((0, 6))\n",
    "plt.ylabel('RFID reader')\n",
    "plt.title('Coordinate Comparison')\n",
    "# 画图-标准坐标\n",
    "plt.scatter(y_distill[:, 0], y_distill[:, 1], c='black', marker='^', label='real position of RFID tag')\n",
    "\n",
    "# 画图-预测EA坐标\n",
    "plt.scatter(pxy[:, 0], pxy[:, 1], c='red', marker='x', label = 'predict position with student GRU')\n",
    "\n",
    "plt.legend()\n",
    "plt.grid('True')\n",
    "plt.savefig('./result/compare_coordinate_distill.jpg', dpi=750, bbox_inches = 'tight')"
   ],
   "metadata": {
    "collapsed": false
   }
  },
  {
   "cell_type": "markdown",
   "source": [
    "### 定义问题类"
   ],
   "metadata": {
    "collapsed": false
   }
  },
  {
   "cell_type": "code",
   "execution_count": 19,
   "metadata": {
    "collapsed": false,
    "jupyter": {
     "outputs_hidden": false
    }
   },
   "outputs": [],
   "source": [
    "class MOEA(ea.Problem):\n",
    "    def __init__(self, train_data_loader, test_data_loader):\n",
    "        name = 'MOEA'\n",
    "        M = 1 # 初始化M（目标维数）\n",
    "        maxormins = [-1] # 初始化maxormins（目标最小最大化标记列表，1：最小化该目标；-1：最大化该目标）\n",
    "        Dim = 2 # 初始化Dim（决策变量维数）\n",
    "        varTypes = np.array([0] * Dim) # 初始化varTypes 0-连续\n",
    "        lb = [5, 0.1] # 决策变量下界\n",
    "        ub = [10, 0.9] # 决策变量上界\n",
    "        lbin = [1] * Dim # 决策变量下边界（0表示不包含该变量的下边界，1表示包含）\n",
    "        ubin = [1] * Dim # 决策变量上边界（0表示不包含该变量的上边界，1表示包含）\n",
    "        # 调用父类构造方法完成实例化\n",
    "        ea.Problem.__init__(self, name, M, maxormins, Dim, varTypes, lb, ub, lbin, ubin)\n",
    "        # 数据设置\n",
    "        self.train_data_loader = train_data_loader\n",
    "        self.test_data_loader = test_data_loader\n",
    "\n",
    "\n",
    "    # 目标函数，采用多线程加速计算\n",
    "    def aimFunc(self, pop):\n",
    "        Vars = pop.Phen # 得到决策变量矩阵\n",
    "        # print(Vars)\n",
    "        pop.ObjV = np.zeros((pop.sizes, 1)) # 初始化种群个体目标函数值列向量\n",
    "        def subAimFunc(i):\n",
    "            epochs, alpha = int(Vars[i, 0]), float(Vars[i, 1])\n",
    "            print(epochs, alpha)\n",
    "            final_loss = 0\n",
    "            for epoch in range(epochs):\n",
    "                for data,targets in tqdm(train_data_loader):\n",
    "                    data, targets = data.to(device), targets.to(device)\n",
    "                    # 教师模型预测\n",
    "                    with torch.no_grad():\n",
    "                        teacher_outputs = teacher_model(data)\n",
    "                    # 学生模型预测\n",
    "                    student_outputs = model(data)\n",
    "                    student_loss = hard_loss(student_outputs, targets)\n",
    "                    # 计算蒸馏后的预测结果及soft_loss\n",
    "                    distillation_loss = soft_loss(\n",
    "                        F.softmax(student_outputs/T, dim=1),\n",
    "                        F.softmax(teacher_outputs/T, dim=1)\n",
    "                    )\n",
    "                    # 将 hard_loss 和 soft_loss 加权求和\n",
    "                    loss = alpha * student_loss + (1-alpha) * distillation_loss\n",
    "                    final_loss = loss.item()\n",
    "                    # 反向传播,优化权重\n",
    "                    optimizer.zero_grad()\n",
    "                    loss.backward()\n",
    "                    optimizer.step()\n",
    "\n",
    "            pop.ObjV[i] = final_loss # 最小化最终的损失作为目标函数\n",
    "        pool = ThreadPool(processes=2) # 设置池的大小\n",
    "        pool.map(subAimFunc, list(range(pop.sizes))) # 散列种群每个个体进行加速计算\n",
    "\n",
    "\n",
    "    # 代入优化后的参数先训练再对测试集进行检验，计算指标\n",
    "    def test(self, epochs, alpha):\n",
    "        for epoch in range(epochs):\n",
    "            for data,targets in tqdm(train_data_loader):\n",
    "                data, targets = data.to(device), targets.to(device)\n",
    "                # 教师模型预测\n",
    "                with torch.no_grad():\n",
    "                    teacher_outputs = teacher_model(data)\n",
    "                # 学生模型预测\n",
    "                student_outputs = model(data)\n",
    "                student_loss = hard_loss(student_outputs, targets)\n",
    "                # 计算蒸馏后的预测结果及soft_loss\n",
    "                distillation_loss = soft_loss(\n",
    "                    F.softmax(student_outputs/T, dim=1),\n",
    "                    F.softmax(teacher_outputs/T, dim=1)\n",
    "                )\n",
    "                # 将 hard_loss 和 soft_loss 加权求和\n",
    "                loss = alpha * student_loss + (1-alpha) * distillation_loss\n",
    "                # 反向传播,优化权重\n",
    "                optimizer.zero_grad()\n",
    "                loss.backward()\n",
    "                optimizer.step()\n",
    "\n",
    "            # 测试集上评估性能\n",
    "            model.eval()\n",
    "            num_correct = 0\n",
    "            num_samples = 0\n",
    "\n",
    "            with torch.no_grad():\n",
    "                for x,y in test_data_loader:\n",
    "                    x, y = x.to(device), y.to(device)\n",
    "                    outputs = model(x)\n",
    "                    pred = outputs.max(1).indices\n",
    "                    num_correct += (pred == y).sum()\n",
    "                    num_samples += pred.size(0)\n",
    "                acc = (num_correct/num_samples).item()\n",
    "\n",
    "            model.train()\n",
    "            print(\"Epoch:{}\\t Accuracy:{:4f}\".format(epoch + 1, acc))\n",
    "\n",
    "        torch.save(model.state_dict(), \"./models/moea_distillation.pth\")\n",
    "\n"
   ]
  },
  {
   "cell_type": "markdown",
   "source": [
    "### 参数调优"
   ],
   "metadata": {
    "collapsed": false
   }
  },
  {
   "cell_type": "code",
   "execution_count": 20,
   "outputs": [
    {
     "name": "stdout",
     "output_type": "stream",
     "text": [
      "7 0.3189171239733696\n"
     ]
    },
    {
     "name": "stderr",
     "output_type": "stream",
     "text": [
      "\n"
     ]
    },
    {
     "name": "stdout",
     "output_type": "stream",
     "text": [
      "6 0.2855765145272017\n"
     ]
    },
    {
     "name": "stderr",
     "output_type": "stream",
     "text": [
      "  0%|          | 0/938 [00:00<?, ?it/s]\u001B[A\n",
      "\n",
      "  0%|          | 2/938 [00:00<00:54, 17.05it/s]\n"
     ]
    },
    {
     "name": "stdout",
     "output_type": "stream",
     "text": [
      "6 0.8424268286675215\n"
     ]
    },
    {
     "name": "stderr",
     "output_type": "stream",
     "text": [
      "\n",
      "  0%|          | 0/938 [00:00<?, ?it/s]\u001B[A\n",
      "\n",
      "  0%|          | 3/938 [00:00<00:39, 23.75it/s]\u001B[A\u001B[A\n",
      "  0%|          | 2/938 [00:00<00:52, 17.78it/s]\u001B[A\n",
      "\n",
      "  1%|          | 6/938 [00:00<00:44, 20.86it/s]\u001B[A\u001B[A\n",
      "  0%|          | 4/938 [00:00<00:51, 18.15it/s]\u001B[A\n",
      "\n",
      " 94%|█████████▎| 878/938 [00:08<00:01, 36.62it/s]A\u001B[A\n",
      " 94%|█████████▎| 878/938 [00:08<00:00, 102.62it/s]\n",
      "\n",
      "\n",
      "  1%|          | 9/938 [00:00<00:48, 19.11it/s]]\u001B[A\u001B[A\n"
     ]
    },
    {
     "name": "stdout",
     "output_type": "stream",
     "text": [
      "6 0.8656420316547155\n"
     ]
    },
    {
     "name": "stderr",
     "output_type": "stream",
     "text": [
      "  0%|          | 0/938 [00:00<?, ?it/s]\n",
      "\n",
      "  0%|          | 1/938 [00:00<01:05, 14.39it/s]]\u001B[A\u001B[A\n"
     ]
    },
    {
     "name": "stdout",
     "output_type": "stream",
     "text": [
      "9 0.6277091335505247\n"
     ]
    },
    {
     "name": "stderr",
     "output_type": "stream",
     "text": [
      "  0%|          | 0/938 [00:00<?, ?it/s]\n",
      "\n",
      "  0%|          | 4/938 [00:00<00:25, 37.06it/s]]\u001B[A\u001B[A\n",
      "\n",
      "  1%|          | 10/938 [00:00<00:26, 34.80it/s]\u001B[A\u001B[A\n",
      "\n",
      "\n",
      "  3%|▎         | 31/938 [00:00<00:23, 38.58it/s]\u001B[A\u001B[A\n",
      "\n",
      "  4%|▍         | 38/938 [00:01<00:19, 45.81it/s]\u001B[A\u001B[A\n",
      "\n",
      "  5%|▍         | 46/938 [00:01<00:16, 54.51it/s]\u001B[A\u001B[A\n",
      "\n",
      "  6%|▌         | 54/938 [00:01<00:14, 61.32it/s]\u001B[A\u001B[A\n",
      "\n",
      "  7%|▋         | 65/938 [00:01<00:11, 74.37it/s]\u001B[A\u001B[A\n",
      "\n",
      "  8%|▊         | 76/938 [00:01<00:10, 83.75it/s]\u001B[A\u001B[A\n",
      "\n",
      "  9%|▉         | 86/938 [00:01<00:09, 88.29it/s]\u001B[A\u001B[A\n",
      "\n",
      " 10%|█         | 96/938 [00:01<00:09, 89.71it/s]\u001B[A\u001B[A\n",
      "\n",
      " 11%|█▏        | 106/938 [00:01<00:09, 85.26it/s]\u001B[A\u001B[A\n",
      "\n",
      " 12%|█▏        | 116/938 [00:01<00:09, 87.53it/s]\u001B[A\u001B[A\n",
      "\n",
      " 13%|█▎        | 125/938 [00:02<00:09, 87.56it/s]\u001B[A\u001B[A\n",
      "\n",
      " 14%|█▍        | 134/938 [00:02<00:09, 86.86it/s]\u001B[A\u001B[A\n",
      "\n",
      " 15%|█▌        | 143/938 [00:02<00:09, 87.52it/s]\u001B[A\u001B[A\n",
      "\n",
      " 16%|█▌        | 152/938 [00:02<00:09, 86.56it/s]\u001B[A\u001B[A\n",
      "\n",
      " 17%|█▋        | 163/938 [00:02<00:08, 92.49it/s]\u001B[A\u001B[A\n",
      "\n",
      " 19%|█▊        | 174/938 [00:02<00:08, 95.28it/s]\u001B[A\u001B[A\n",
      "\n",
      " 20%|█▉        | 184/938 [00:02<00:08, 92.35it/s]\u001B[A\u001B[A\n",
      "\n",
      " 21%|██        | 194/938 [00:02<00:08, 92.09it/s]\u001B[A\u001B[A\n",
      "\n",
      " 22%|██▏       | 205/938 [00:02<00:07, 96.28it/s]\u001B[A\u001B[A\n",
      "\n",
      " 23%|██▎       | 216/938 [00:03<00:07, 99.24it/s]\u001B[A\u001B[A\n",
      "\n",
      " 24%|██▍       | 226/938 [00:03<00:07, 97.81it/s]\u001B[A\u001B[A\n",
      "\n",
      " 25%|██▌       | 237/938 [00:03<00:07, 100.07it/s]\u001B[A\u001B[A\n",
      "\n",
      " 26%|██▋       | 248/938 [00:03<00:06, 101.80it/s]\u001B[A\u001B[A\n",
      "\n",
      " 28%|██▊       | 260/938 [00:03<00:06, 104.55it/s]\u001B[A\u001B[A\n",
      "\n",
      " 29%|██▉       | 272/938 [00:03<00:06, 106.73it/s]\u001B[A\u001B[A\n",
      "\n",
      " 30%|███       | 283/938 [00:03<00:06, 105.86it/s]\u001B[A\u001B[A\n",
      "\n",
      " 31%|███▏      | 295/938 [00:03<00:05, 107.48it/s]\u001B[A\u001B[A\n",
      "\n",
      " 33%|███▎      | 306/938 [00:03<00:05, 107.78it/s]\u001B[A\u001B[A\n",
      "\n",
      " 34%|███▍      | 317/938 [00:03<00:05, 106.38it/s]\u001B[A\u001B[A\n",
      "\n",
      " 35%|███▍      | 328/938 [00:04<00:05, 105.85it/s]\u001B[A\u001B[A\n",
      "\n",
      " 36%|███▌      | 339/938 [00:04<00:05, 107.02it/s]\u001B[A\u001B[A\n",
      "\n",
      " 37%|███▋      | 351/938 [00:04<00:05, 108.31it/s]\u001B[A\u001B[A\n",
      "\n",
      " 39%|███▊      | 362/938 [00:04<00:05, 106.19it/s]\u001B[A\u001B[A\n",
      "\n",
      " 40%|███▉      | 374/938 [00:04<00:05, 107.98it/s]\u001B[A\u001B[A\n",
      "\n",
      " 41%|████      | 385/938 [00:04<00:05, 106.42it/s]\u001B[A\u001B[A\n",
      "\n",
      " 42%|████▏     | 397/938 [00:04<00:04, 108.32it/s]\u001B[A\u001B[A\n",
      "\n",
      " 44%|████▎     | 409/938 [00:04<00:04, 109.17it/s]\u001B[A\u001B[A\n",
      "\n",
      " 45%|████▍     | 421/938 [00:04<00:04, 111.22it/s]\u001B[A\u001B[A\n",
      "\n",
      " 46%|████▌     | 433/938 [00:05<00:04, 112.78it/s]\u001B[A\u001B[A\n",
      "\n",
      " 47%|████▋     | 445/938 [00:05<00:04, 111.32it/s]\u001B[A\u001B[A\n",
      "\n",
      " 49%|████▊     | 457/938 [00:05<00:04, 112.26it/s]\u001B[A\u001B[A\n",
      "\n",
      " 50%|█████     | 469/938 [00:05<00:04, 108.13it/s]\u001B[A\u001B[A\n",
      "\n",
      " 51%|█████▏    | 481/938 [00:05<00:04, 110.86it/s]\u001B[A\u001B[A\n",
      "\n",
      " 53%|█████▎    | 493/938 [00:05<00:03, 111.45it/s]\u001B[A\u001B[A\n",
      "\n",
      " 54%|█████▍    | 505/938 [00:05<00:03, 111.51it/s]\u001B[A\u001B[A\n",
      "\n",
      " 55%|█████▌    | 517/938 [00:05<00:03, 112.92it/s]\u001B[A\u001B[A\n",
      "\n",
      " 56%|█████▋    | 529/938 [00:05<00:03, 113.03it/s]\u001B[A\u001B[A\n",
      "\n",
      " 58%|█████▊    | 541/938 [00:05<00:03, 113.82it/s]\u001B[A\u001B[A\n",
      "\n",
      " 59%|█████▉    | 553/938 [00:06<00:03, 112.10it/s]\u001B[A\u001B[A\n",
      "\n",
      " 60%|██████    | 565/938 [00:06<00:03, 113.01it/s]\u001B[A\u001B[A\n",
      "\n",
      " 62%|██████▏   | 577/938 [00:06<00:03, 113.99it/s]\u001B[A\u001B[A\n",
      "\n",
      " 63%|██████▎   | 589/938 [00:06<00:03, 114.94it/s]\u001B[A\u001B[A\n",
      "\n",
      " 64%|██████▍   | 601/938 [00:06<00:02, 115.34it/s]\u001B[A\u001B[A\n",
      "\n",
      " 65%|██████▌   | 613/938 [00:06<00:02, 112.19it/s]\u001B[A\u001B[A\n",
      "\n",
      " 67%|██████▋   | 625/938 [00:06<00:02, 113.47it/s]\u001B[A\u001B[A\n",
      "\n",
      " 68%|██████▊   | 637/938 [00:06<00:02, 114.37it/s]\u001B[A\u001B[A\n",
      "\n",
      " 69%|██████▉   | 649/938 [00:06<00:02, 114.63it/s]\u001B[A\u001B[A\n",
      "\n",
      " 70%|███████   | 661/938 [00:07<00:02, 115.88it/s]\u001B[A\u001B[A\n",
      "\n",
      " 72%|███████▏  | 673/938 [00:07<00:02, 115.04it/s]\u001B[A\u001B[A\n",
      "\n",
      " 73%|███████▎  | 685/938 [00:07<00:02, 106.64it/s]\u001B[A\u001B[A\n",
      "\n",
      " 74%|███████▍  | 696/938 [00:07<00:02, 105.78it/s]\u001B[A\u001B[A\n",
      "\n",
      " 75%|███████▌  | 708/938 [00:07<00:02, 109.10it/s]\u001B[A\u001B[A\n",
      "\n",
      " 77%|███████▋  | 719/938 [00:07<00:02, 106.84it/s]\u001B[A\u001B[A\n",
      "\n",
      " 78%|███████▊  | 731/938 [00:07<00:01, 109.64it/s]\u001B[A\u001B[A\n",
      "\n",
      " 79%|███████▉  | 743/938 [00:07<00:01, 112.57it/s]\u001B[A\u001B[A\n",
      "\n",
      " 80%|████████  | 755/938 [00:07<00:01, 113.94it/s]\u001B[A\u001B[A\n",
      "\n",
      " 82%|████████▏ | 767/938 [00:08<00:01, 110.85it/s]\u001B[A\u001B[A\n",
      "\n",
      " 83%|████████▎ | 779/938 [00:08<00:01, 109.68it/s]\u001B[A\u001B[A\n",
      "\n",
      " 84%|████████▍ | 791/938 [00:08<00:01, 112.01it/s]\u001B[A\u001B[A\n",
      "\n",
      " 86%|████████▌ | 803/938 [00:08<00:01, 105.82it/s]\u001B[A\u001B[A\n",
      "\n",
      " 87%|████████▋ | 814/938 [00:08<00:01, 103.05it/s]\u001B[A\u001B[A\n",
      "\n",
      " 88%|████████▊ | 825/938 [00:08<00:01, 103.50it/s]\u001B[A\u001B[A\n",
      "\n",
      " 89%|████████▉ | 836/938 [00:08<00:00, 104.69it/s]\u001B[A\u001B[A\n",
      "\n",
      " 90%|█████████ | 848/938 [00:08<00:00, 106.85it/s]\u001B[A\u001B[A\n",
      "\n",
      " 92%|█████████▏| 859/938 [00:08<00:00, 106.82it/s]\u001B[A\u001B[A\n",
      "\n",
      " 93%|█████████▎| 871/938 [00:09<00:00, 108.03it/s]\u001B[A\u001B[A\n",
      "\n",
      " 94%|█████████▍| 882/938 [00:09<00:00, 104.92it/s]\u001B[A\u001B[A\n",
      "\n",
      " 95%|█████████▌| 893/938 [00:09<00:00, 104.17it/s]\u001B[A\u001B[A\n",
      "\n",
      " 96%|█████████▋| 904/938 [00:09<00:00, 99.99it/s] \u001B[A\u001B[A\n",
      "\n",
      " 98%|█████████▊| 915/938 [00:09<00:00, 100.10it/s]\u001B[A\u001B[A\n",
      "\n",
      " 99%|█████████▊| 926/938 [00:09<00:00, 101.01it/s]\u001B[A\u001B[A\n",
      "\n",
      "100%|██████████| 938/938 [00:09<00:00, 96.68it/s] \u001B[A\u001B[A\n",
      "100%|██████████| 938/938 [00:08<00:00, 114.38it/s]\n",
      "100%|██████████| 938/938 [00:08<00:00, 105.10it/s]\n",
      "100%|██████████| 938/938 [00:08<00:00, 112.47it/s]\n",
      "100%|██████████| 938/938 [00:08<00:00, 114.13it/s]\n",
      "100%|██████████| 938/938 [00:08<00:00, 110.99it/s]\n"
     ]
    },
    {
     "name": "stdout",
     "output_type": "stream",
     "text": [
      "8 0.2740337282419205\n"
     ]
    },
    {
     "name": "stderr",
     "output_type": "stream",
     "text": [
      "100%|██████████| 938/938 [00:08<00:00, 109.97it/s]\n",
      "100%|██████████| 938/938 [00:07<00:00, 118.57it/s]\n",
      "100%|██████████| 938/938 [00:08<00:00, 108.56it/s]\n",
      "100%|██████████| 938/938 [00:08<00:00, 114.24it/s]\n",
      "100%|██████████| 938/938 [00:08<00:00, 104.54it/s]\n",
      "100%|██████████| 938/938 [00:08<00:00, 114.32it/s]\n",
      "100%|██████████| 938/938 [00:08<00:00, 106.33it/s]\n",
      "100%|██████████| 938/938 [00:08<00:00, 116.82it/s]\n"
     ]
    },
    {
     "ename": "RuntimeError",
     "evalue": "one of the variables needed for gradient computation has been modified by an inplace operation: [torch.FloatTensor [20, 10]], which is output 0 of AsStridedBackward0, is at version 23416; expected version 23415 instead. Hint: enable anomaly detection to find the operation that failed to compute its gradient, with torch.autograd.set_detect_anomaly(True).",
     "output_type": "error",
     "traceback": [
      "\u001B[0;31m---------------------------------------------------------------------------\u001B[0m",
      "\u001B[0;31mRuntimeError\u001B[0m                              Traceback (most recent call last)",
      "\u001B[0;32m<ipython-input-20-e006b3843ce3>\u001B[0m in \u001B[0;36m<module>\u001B[0;34m\u001B[0m\n\u001B[1;32m     22\u001B[0m \u001B[0;34m\"\"\"===========================调用算法模板进行种群进化=======================\"\"\"\u001B[0m\u001B[0;34m\u001B[0m\u001B[0;34m\u001B[0m\u001B[0m\n\u001B[1;32m     23\u001B[0m \u001B[0;34m\u001B[0m\u001B[0m\n\u001B[0;32m---> 24\u001B[0;31m \u001B[0;34m[\u001B[0m\u001B[0mBestIndi\u001B[0m\u001B[0;34m,\u001B[0m \u001B[0mpopulation\u001B[0m\u001B[0;34m]\u001B[0m \u001B[0;34m=\u001B[0m \u001B[0mmyAlgorithm\u001B[0m\u001B[0;34m.\u001B[0m\u001B[0mrun\u001B[0m\u001B[0;34m(\u001B[0m\u001B[0;34m)\u001B[0m  \u001B[0;31m# 执行算法模板，得到最优个体以及最后一代种群\u001B[0m\u001B[0;34m\u001B[0m\u001B[0;34m\u001B[0m\u001B[0m\n\u001B[0m\u001B[1;32m     25\u001B[0m \u001B[0mBestIndi\u001B[0m\u001B[0;34m.\u001B[0m\u001B[0msave\u001B[0m\u001B[0;34m(\u001B[0m\u001B[0;34m)\u001B[0m  \u001B[0;31m# 把最优个体的信息保存到文件中\u001B[0m\u001B[0;34m\u001B[0m\u001B[0;34m\u001B[0m\u001B[0m\n\u001B[1;32m     26\u001B[0m \u001B[0;34m\u001B[0m\u001B[0m\n",
      "\u001B[0;32m~/anaconda3/envs/pytorch/lib/python3.8/site-packages/geatpy/templates/soeas/DE/DE_rand_1_bin/soea_DE_rand_1_bin_templet.py\u001B[0m in \u001B[0;36mrun\u001B[0;34m(self, prophetPop)\u001B[0m\n\u001B[1;32m     47\u001B[0m         \u001B[0;31m# ===========================准备进化============================\u001B[0m\u001B[0;34m\u001B[0m\u001B[0;34m\u001B[0m\u001B[0;34m\u001B[0m\u001B[0m\n\u001B[1;32m     48\u001B[0m         \u001B[0mpopulation\u001B[0m\u001B[0;34m.\u001B[0m\u001B[0minitChrom\u001B[0m\u001B[0;34m(\u001B[0m\u001B[0mNIND\u001B[0m\u001B[0;34m)\u001B[0m  \u001B[0;31m# 初始化种群染色体矩阵\u001B[0m\u001B[0;34m\u001B[0m\u001B[0;34m\u001B[0m\u001B[0m\n\u001B[0;32m---> 49\u001B[0;31m         \u001B[0mself\u001B[0m\u001B[0;34m.\u001B[0m\u001B[0mcall_aimFunc\u001B[0m\u001B[0;34m(\u001B[0m\u001B[0mpopulation\u001B[0m\u001B[0;34m)\u001B[0m  \u001B[0;31m# 计算种群的目标函数值\u001B[0m\u001B[0;34m\u001B[0m\u001B[0;34m\u001B[0m\u001B[0m\n\u001B[0m\u001B[1;32m     50\u001B[0m         \u001B[0;31m# 插入先验知识（注意：这里不会对先知种群prophetPop的合法性进行检查，故应确保prophetPop是一个种群类且拥有合法的Chrom、ObjV、Phen等属性）\u001B[0m\u001B[0;34m\u001B[0m\u001B[0;34m\u001B[0m\u001B[0;34m\u001B[0m\u001B[0m\n\u001B[1;32m     51\u001B[0m         \u001B[0;32mif\u001B[0m \u001B[0mprophetPop\u001B[0m \u001B[0;32mis\u001B[0m \u001B[0;32mnot\u001B[0m \u001B[0;32mNone\u001B[0m\u001B[0;34m:\u001B[0m\u001B[0;34m\u001B[0m\u001B[0;34m\u001B[0m\u001B[0m\n",
      "\u001B[0;32m~/anaconda3/envs/pytorch/lib/python3.8/site-packages/geatpy/Algorithm.py\u001B[0m in \u001B[0;36mcall_aimFunc\u001B[0;34m(self, pop)\u001B[0m\n\u001B[1;32m    172\u001B[0m         \u001B[0;32mif\u001B[0m \u001B[0mself\u001B[0m\u001B[0;34m.\u001B[0m\u001B[0mproblem\u001B[0m \u001B[0;32mis\u001B[0m \u001B[0;32mNone\u001B[0m\u001B[0;34m:\u001B[0m\u001B[0;34m\u001B[0m\u001B[0;34m\u001B[0m\u001B[0m\n\u001B[1;32m    173\u001B[0m             \u001B[0;32mraise\u001B[0m \u001B[0mRuntimeError\u001B[0m\u001B[0;34m(\u001B[0m\u001B[0;34m'error: problem has not been initialized. (算法模板中的问题对象未被初始化。)'\u001B[0m\u001B[0;34m)\u001B[0m\u001B[0;34m\u001B[0m\u001B[0;34m\u001B[0m\u001B[0m\n\u001B[0;32m--> 174\u001B[0;31m         \u001B[0mself\u001B[0m\u001B[0;34m.\u001B[0m\u001B[0mproblem\u001B[0m\u001B[0;34m.\u001B[0m\u001B[0maimFunc\u001B[0m\u001B[0;34m(\u001B[0m\u001B[0mpop\u001B[0m\u001B[0;34m)\u001B[0m  \u001B[0;31m# 调用问题类的aimFunc()\u001B[0m\u001B[0;34m\u001B[0m\u001B[0;34m\u001B[0m\u001B[0m\n\u001B[0m\u001B[1;32m    175\u001B[0m         \u001B[0mself\u001B[0m\u001B[0;34m.\u001B[0m\u001B[0mevalsNum\u001B[0m \u001B[0;34m=\u001B[0m \u001B[0mself\u001B[0m\u001B[0;34m.\u001B[0m\u001B[0mevalsNum\u001B[0m \u001B[0;34m+\u001B[0m \u001B[0mpop\u001B[0m\u001B[0;34m.\u001B[0m\u001B[0msizes\u001B[0m \u001B[0;32mif\u001B[0m \u001B[0mself\u001B[0m\u001B[0;34m.\u001B[0m\u001B[0mevalsNum\u001B[0m \u001B[0;32mis\u001B[0m \u001B[0;32mnot\u001B[0m \u001B[0;32mNone\u001B[0m \u001B[0;32melse\u001B[0m \u001B[0mpop\u001B[0m\u001B[0;34m.\u001B[0m\u001B[0msizes\u001B[0m  \u001B[0;31m# 更新评价次数\u001B[0m\u001B[0;34m\u001B[0m\u001B[0;34m\u001B[0m\u001B[0m\n\u001B[1;32m    176\u001B[0m         \u001B[0;31m# 格式检查\u001B[0m\u001B[0;34m\u001B[0m\u001B[0;34m\u001B[0m\u001B[0;34m\u001B[0m\u001B[0m\n",
      "\u001B[0;32m<ipython-input-19-29ea1f645391>\u001B[0m in \u001B[0;36maimFunc\u001B[0;34m(self, pop)\u001B[0m\n\u001B[1;32m     50\u001B[0m             \u001B[0mpop\u001B[0m\u001B[0;34m.\u001B[0m\u001B[0mObjV\u001B[0m\u001B[0;34m[\u001B[0m\u001B[0mi\u001B[0m\u001B[0;34m]\u001B[0m \u001B[0;34m=\u001B[0m \u001B[0mfinal_loss\u001B[0m \u001B[0;31m# 最小化最终的损失作为目标函数\u001B[0m\u001B[0;34m\u001B[0m\u001B[0;34m\u001B[0m\u001B[0m\n\u001B[1;32m     51\u001B[0m         \u001B[0mpool\u001B[0m \u001B[0;34m=\u001B[0m \u001B[0mThreadPool\u001B[0m\u001B[0;34m(\u001B[0m\u001B[0mprocesses\u001B[0m\u001B[0;34m=\u001B[0m\u001B[0;36m2\u001B[0m\u001B[0;34m)\u001B[0m \u001B[0;31m# 设置池的大小\u001B[0m\u001B[0;34m\u001B[0m\u001B[0;34m\u001B[0m\u001B[0m\n\u001B[0;32m---> 52\u001B[0;31m         \u001B[0mpool\u001B[0m\u001B[0;34m.\u001B[0m\u001B[0mmap\u001B[0m\u001B[0;34m(\u001B[0m\u001B[0msubAimFunc\u001B[0m\u001B[0;34m,\u001B[0m \u001B[0mlist\u001B[0m\u001B[0;34m(\u001B[0m\u001B[0mrange\u001B[0m\u001B[0;34m(\u001B[0m\u001B[0mpop\u001B[0m\u001B[0;34m.\u001B[0m\u001B[0msizes\u001B[0m\u001B[0;34m)\u001B[0m\u001B[0;34m)\u001B[0m\u001B[0;34m)\u001B[0m \u001B[0;31m# 散列种群每个个体进行加速计算\u001B[0m\u001B[0;34m\u001B[0m\u001B[0;34m\u001B[0m\u001B[0m\n\u001B[0m\u001B[1;32m     53\u001B[0m \u001B[0;34m\u001B[0m\u001B[0m\n\u001B[1;32m     54\u001B[0m \u001B[0;34m\u001B[0m\u001B[0m\n",
      "\u001B[0;32m~/anaconda3/envs/pytorch/lib/python3.8/multiprocessing/pool.py\u001B[0m in \u001B[0;36mmap\u001B[0;34m(self, func, iterable, chunksize)\u001B[0m\n\u001B[1;32m    362\u001B[0m         \u001B[0;32min\u001B[0m \u001B[0ma\u001B[0m \u001B[0mlist\u001B[0m \u001B[0mthat\u001B[0m \u001B[0;32mis\u001B[0m \u001B[0mreturned\u001B[0m\u001B[0;34m.\u001B[0m\u001B[0;34m\u001B[0m\u001B[0;34m\u001B[0m\u001B[0m\n\u001B[1;32m    363\u001B[0m         '''\n\u001B[0;32m--> 364\u001B[0;31m         \u001B[0;32mreturn\u001B[0m \u001B[0mself\u001B[0m\u001B[0;34m.\u001B[0m\u001B[0m_map_async\u001B[0m\u001B[0;34m(\u001B[0m\u001B[0mfunc\u001B[0m\u001B[0;34m,\u001B[0m \u001B[0miterable\u001B[0m\u001B[0;34m,\u001B[0m \u001B[0mmapstar\u001B[0m\u001B[0;34m,\u001B[0m \u001B[0mchunksize\u001B[0m\u001B[0;34m)\u001B[0m\u001B[0;34m.\u001B[0m\u001B[0mget\u001B[0m\u001B[0;34m(\u001B[0m\u001B[0;34m)\u001B[0m\u001B[0;34m\u001B[0m\u001B[0;34m\u001B[0m\u001B[0m\n\u001B[0m\u001B[1;32m    365\u001B[0m \u001B[0;34m\u001B[0m\u001B[0m\n\u001B[1;32m    366\u001B[0m     \u001B[0;32mdef\u001B[0m \u001B[0mstarmap\u001B[0m\u001B[0;34m(\u001B[0m\u001B[0mself\u001B[0m\u001B[0;34m,\u001B[0m \u001B[0mfunc\u001B[0m\u001B[0;34m,\u001B[0m \u001B[0miterable\u001B[0m\u001B[0;34m,\u001B[0m \u001B[0mchunksize\u001B[0m\u001B[0;34m=\u001B[0m\u001B[0;32mNone\u001B[0m\u001B[0;34m)\u001B[0m\u001B[0;34m:\u001B[0m\u001B[0;34m\u001B[0m\u001B[0;34m\u001B[0m\u001B[0m\n",
      "\u001B[0;32m~/anaconda3/envs/pytorch/lib/python3.8/multiprocessing/pool.py\u001B[0m in \u001B[0;36mget\u001B[0;34m(self, timeout)\u001B[0m\n\u001B[1;32m    769\u001B[0m             \u001B[0;32mreturn\u001B[0m \u001B[0mself\u001B[0m\u001B[0;34m.\u001B[0m\u001B[0m_value\u001B[0m\u001B[0;34m\u001B[0m\u001B[0;34m\u001B[0m\u001B[0m\n\u001B[1;32m    770\u001B[0m         \u001B[0;32melse\u001B[0m\u001B[0;34m:\u001B[0m\u001B[0;34m\u001B[0m\u001B[0;34m\u001B[0m\u001B[0m\n\u001B[0;32m--> 771\u001B[0;31m             \u001B[0;32mraise\u001B[0m \u001B[0mself\u001B[0m\u001B[0;34m.\u001B[0m\u001B[0m_value\u001B[0m\u001B[0;34m\u001B[0m\u001B[0;34m\u001B[0m\u001B[0m\n\u001B[0m\u001B[1;32m    772\u001B[0m \u001B[0;34m\u001B[0m\u001B[0m\n\u001B[1;32m    773\u001B[0m     \u001B[0;32mdef\u001B[0m \u001B[0m_set\u001B[0m\u001B[0;34m(\u001B[0m\u001B[0mself\u001B[0m\u001B[0;34m,\u001B[0m \u001B[0mi\u001B[0m\u001B[0;34m,\u001B[0m \u001B[0mobj\u001B[0m\u001B[0;34m)\u001B[0m\u001B[0;34m:\u001B[0m\u001B[0;34m\u001B[0m\u001B[0;34m\u001B[0m\u001B[0m\n",
      "\u001B[0;32m~/anaconda3/envs/pytorch/lib/python3.8/multiprocessing/pool.py\u001B[0m in \u001B[0;36mworker\u001B[0;34m(inqueue, outqueue, initializer, initargs, maxtasks, wrap_exception)\u001B[0m\n\u001B[1;32m    123\u001B[0m         \u001B[0mjob\u001B[0m\u001B[0;34m,\u001B[0m \u001B[0mi\u001B[0m\u001B[0;34m,\u001B[0m \u001B[0mfunc\u001B[0m\u001B[0;34m,\u001B[0m \u001B[0margs\u001B[0m\u001B[0;34m,\u001B[0m \u001B[0mkwds\u001B[0m \u001B[0;34m=\u001B[0m \u001B[0mtask\u001B[0m\u001B[0;34m\u001B[0m\u001B[0;34m\u001B[0m\u001B[0m\n\u001B[1;32m    124\u001B[0m         \u001B[0;32mtry\u001B[0m\u001B[0;34m:\u001B[0m\u001B[0;34m\u001B[0m\u001B[0;34m\u001B[0m\u001B[0m\n\u001B[0;32m--> 125\u001B[0;31m             \u001B[0mresult\u001B[0m \u001B[0;34m=\u001B[0m \u001B[0;34m(\u001B[0m\u001B[0;32mTrue\u001B[0m\u001B[0;34m,\u001B[0m \u001B[0mfunc\u001B[0m\u001B[0;34m(\u001B[0m\u001B[0;34m*\u001B[0m\u001B[0margs\u001B[0m\u001B[0;34m,\u001B[0m \u001B[0;34m**\u001B[0m\u001B[0mkwds\u001B[0m\u001B[0;34m)\u001B[0m\u001B[0;34m)\u001B[0m\u001B[0;34m\u001B[0m\u001B[0;34m\u001B[0m\u001B[0m\n\u001B[0m\u001B[1;32m    126\u001B[0m         \u001B[0;32mexcept\u001B[0m \u001B[0mException\u001B[0m \u001B[0;32mas\u001B[0m \u001B[0me\u001B[0m\u001B[0;34m:\u001B[0m\u001B[0;34m\u001B[0m\u001B[0;34m\u001B[0m\u001B[0m\n\u001B[1;32m    127\u001B[0m             \u001B[0;32mif\u001B[0m \u001B[0mwrap_exception\u001B[0m \u001B[0;32mand\u001B[0m \u001B[0mfunc\u001B[0m \u001B[0;32mis\u001B[0m \u001B[0;32mnot\u001B[0m \u001B[0m_helper_reraises_exception\u001B[0m\u001B[0;34m:\u001B[0m\u001B[0;34m\u001B[0m\u001B[0;34m\u001B[0m\u001B[0m\n",
      "\u001B[0;32m~/anaconda3/envs/pytorch/lib/python3.8/multiprocessing/pool.py\u001B[0m in \u001B[0;36mmapstar\u001B[0;34m(args)\u001B[0m\n\u001B[1;32m     46\u001B[0m \u001B[0;34m\u001B[0m\u001B[0m\n\u001B[1;32m     47\u001B[0m \u001B[0;32mdef\u001B[0m \u001B[0mmapstar\u001B[0m\u001B[0;34m(\u001B[0m\u001B[0margs\u001B[0m\u001B[0;34m)\u001B[0m\u001B[0;34m:\u001B[0m\u001B[0;34m\u001B[0m\u001B[0;34m\u001B[0m\u001B[0m\n\u001B[0;32m---> 48\u001B[0;31m     \u001B[0;32mreturn\u001B[0m \u001B[0mlist\u001B[0m\u001B[0;34m(\u001B[0m\u001B[0mmap\u001B[0m\u001B[0;34m(\u001B[0m\u001B[0;34m*\u001B[0m\u001B[0margs\u001B[0m\u001B[0;34m)\u001B[0m\u001B[0;34m)\u001B[0m\u001B[0;34m\u001B[0m\u001B[0;34m\u001B[0m\u001B[0m\n\u001B[0m\u001B[1;32m     49\u001B[0m \u001B[0;34m\u001B[0m\u001B[0m\n\u001B[1;32m     50\u001B[0m \u001B[0;32mdef\u001B[0m \u001B[0mstarmapstar\u001B[0m\u001B[0;34m(\u001B[0m\u001B[0margs\u001B[0m\u001B[0;34m)\u001B[0m\u001B[0;34m:\u001B[0m\u001B[0;34m\u001B[0m\u001B[0;34m\u001B[0m\u001B[0m\n",
      "\u001B[0;32m<ipython-input-19-29ea1f645391>\u001B[0m in \u001B[0;36msubAimFunc\u001B[0;34m(i)\u001B[0m\n\u001B[1;32m     45\u001B[0m                     \u001B[0;31m# 反向传播,优化权重\u001B[0m\u001B[0;34m\u001B[0m\u001B[0;34m\u001B[0m\u001B[0;34m\u001B[0m\u001B[0m\n\u001B[1;32m     46\u001B[0m                     \u001B[0moptimizer\u001B[0m\u001B[0;34m.\u001B[0m\u001B[0mzero_grad\u001B[0m\u001B[0;34m(\u001B[0m\u001B[0;34m)\u001B[0m\u001B[0;34m\u001B[0m\u001B[0;34m\u001B[0m\u001B[0m\n\u001B[0;32m---> 47\u001B[0;31m                     \u001B[0mloss\u001B[0m\u001B[0;34m.\u001B[0m\u001B[0mbackward\u001B[0m\u001B[0;34m(\u001B[0m\u001B[0;34m)\u001B[0m\u001B[0;34m\u001B[0m\u001B[0;34m\u001B[0m\u001B[0m\n\u001B[0m\u001B[1;32m     48\u001B[0m                     \u001B[0moptimizer\u001B[0m\u001B[0;34m.\u001B[0m\u001B[0mstep\u001B[0m\u001B[0;34m(\u001B[0m\u001B[0;34m)\u001B[0m\u001B[0;34m\u001B[0m\u001B[0;34m\u001B[0m\u001B[0m\n\u001B[1;32m     49\u001B[0m \u001B[0;34m\u001B[0m\u001B[0m\n",
      "\u001B[0;32m~/anaconda3/envs/pytorch/lib/python3.8/site-packages/torch/_tensor.py\u001B[0m in \u001B[0;36mbackward\u001B[0;34m(self, gradient, retain_graph, create_graph, inputs)\u001B[0m\n\u001B[1;32m    394\u001B[0m                 \u001B[0mcreate_graph\u001B[0m\u001B[0;34m=\u001B[0m\u001B[0mcreate_graph\u001B[0m\u001B[0;34m,\u001B[0m\u001B[0;34m\u001B[0m\u001B[0;34m\u001B[0m\u001B[0m\n\u001B[1;32m    395\u001B[0m                 inputs=inputs)\n\u001B[0;32m--> 396\u001B[0;31m         \u001B[0mtorch\u001B[0m\u001B[0;34m.\u001B[0m\u001B[0mautograd\u001B[0m\u001B[0;34m.\u001B[0m\u001B[0mbackward\u001B[0m\u001B[0;34m(\u001B[0m\u001B[0mself\u001B[0m\u001B[0;34m,\u001B[0m \u001B[0mgradient\u001B[0m\u001B[0;34m,\u001B[0m \u001B[0mretain_graph\u001B[0m\u001B[0;34m,\u001B[0m \u001B[0mcreate_graph\u001B[0m\u001B[0;34m,\u001B[0m \u001B[0minputs\u001B[0m\u001B[0;34m=\u001B[0m\u001B[0minputs\u001B[0m\u001B[0;34m)\u001B[0m\u001B[0;34m\u001B[0m\u001B[0;34m\u001B[0m\u001B[0m\n\u001B[0m\u001B[1;32m    397\u001B[0m \u001B[0;34m\u001B[0m\u001B[0m\n\u001B[1;32m    398\u001B[0m     \u001B[0;32mdef\u001B[0m \u001B[0mregister_hook\u001B[0m\u001B[0;34m(\u001B[0m\u001B[0mself\u001B[0m\u001B[0;34m,\u001B[0m \u001B[0mhook\u001B[0m\u001B[0;34m)\u001B[0m\u001B[0;34m:\u001B[0m\u001B[0;34m\u001B[0m\u001B[0;34m\u001B[0m\u001B[0m\n",
      "\u001B[0;32m~/anaconda3/envs/pytorch/lib/python3.8/site-packages/torch/autograd/__init__.py\u001B[0m in \u001B[0;36mbackward\u001B[0;34m(tensors, grad_tensors, retain_graph, create_graph, grad_variables, inputs)\u001B[0m\n\u001B[1;32m    171\u001B[0m     \u001B[0;31m# some Python versions print out the first line of a multi-line function\u001B[0m\u001B[0;34m\u001B[0m\u001B[0;34m\u001B[0m\u001B[0;34m\u001B[0m\u001B[0m\n\u001B[1;32m    172\u001B[0m     \u001B[0;31m# calls in the traceback and some print out the last line\u001B[0m\u001B[0;34m\u001B[0m\u001B[0;34m\u001B[0m\u001B[0;34m\u001B[0m\u001B[0m\n\u001B[0;32m--> 173\u001B[0;31m     Variable._execution_engine.run_backward(  # Calls into the C++ engine to run the backward pass\n\u001B[0m\u001B[1;32m    174\u001B[0m         \u001B[0mtensors\u001B[0m\u001B[0;34m,\u001B[0m \u001B[0mgrad_tensors_\u001B[0m\u001B[0;34m,\u001B[0m \u001B[0mretain_graph\u001B[0m\u001B[0;34m,\u001B[0m \u001B[0mcreate_graph\u001B[0m\u001B[0;34m,\u001B[0m \u001B[0minputs\u001B[0m\u001B[0;34m,\u001B[0m\u001B[0;34m\u001B[0m\u001B[0;34m\u001B[0m\u001B[0m\n\u001B[1;32m    175\u001B[0m         allow_unreachable=True, accumulate_grad=True)  # Calls into the C++ engine to run the backward pass\n",
      "\u001B[0;31mRuntimeError\u001B[0m: one of the variables needed for gradient computation has been modified by an inplace operation: [torch.FloatTensor [20, 10]], which is output 0 of AsStridedBackward0, is at version 23416; expected version 23415 instead. Hint: enable anomaly detection to find the operation that failed to compute its gradient, with torch.autograd.set_detect_anomaly(True)."
     ]
    }
   ],
   "source": [
    "\"\"\"===============================实例化问题对象===========================\"\"\"\n",
    "\n",
    "problem = MOEA(train_data_loader, test_data_loader) # 生成问题对象\n",
    "\n",
    "\"\"\"=================================种群设置===============================\"\"\"\n",
    "\n",
    "Encoding = 'RI'       # 编码方式\n",
    "NIND = 10             # 种群规模\n",
    "Field = ea.crtfld(Encoding, problem.varTypes, problem.ranges, problem.borders) # 创建区域描述器\n",
    "population = ea.Population(Encoding, Field, NIND) # 实例化种群对象（此时种群还没被初始化，仅仅是完成种群对象的实例化）\n",
    "\n",
    "\"\"\"===============================算法参数设置=============================\"\"\"\n",
    "\n",
    "myAlgorithm = ea.soea_DE_rand_1_bin_templet(problem, population) # 实例化一个算法模板对象\n",
    "myAlgorithm.MAXGEN = 10 # 最大进化代数\n",
    "myAlgorithm.trappedValue = 1e-6 # “进化停滞”判断阈值\n",
    "myAlgorithm.maxTrappedCount = 10 # 进化停滞计数器最大上限值，如果连续maxTrappedCount代被判定进化陷入停滞，则终止进化\n",
    "myAlgorithm.logTras = 1  # 设置每隔多少代记录日志，若设置成0则表示不记录日志\n",
    "myAlgorithm.verbose = True  # 设置是否打印输出日志信息\n",
    "myAlgorithm.drawing = 1  # 设置绘图方式（0：不绘图；1：绘制结果图；2：绘制目标空间过程动画；3：绘制决策空间过程动画）\n",
    "\n",
    "\"\"\"===========================调用算法模板进行种群进化=======================\"\"\"\n",
    "\n",
    "[BestIndi, population] = myAlgorithm.run()  # 执行算法模板，得到最优个体以及最后一代种群\n",
    "BestIndi.save()  # 把最优个体的信息保存到文件中\n",
    "\n",
    "\"\"\"==================================输出结果=============================\"\"\"\n",
    "\n",
    "print('用时：%f 秒' % myAlgorithm.passTime)\n",
    "print('评价次数：%d 次' % myAlgorithm.evalsNum)\n",
    "if BestIndi.sizes != 0:\n",
    "    print('最优的目标函数值为：%s' % BestIndi.ObjV[0][0])\n",
    "    print('最优的控制变量值为：')\n",
    "    for i in range(BestIndi.Phen.shape[1]):\n",
    "        print(BestIndi.Phen[0, i])\n",
    "else:\n",
    "    print('没找到可行解。')\n",
    "\n",
    "\"\"\"=================================检验结果===============================\"\"\"\n",
    "\n",
    "problem.test(epochs= int(BestIndi.Phen[0][0]), alpha= float(BestIndi.Phen[0][1]))\n"
   ],
   "metadata": {
    "collapsed": false
   }
  },
  {
   "cell_type": "code",
   "execution_count": null,
   "outputs": [],
   "source": [],
   "metadata": {
    "collapsed": false
   }
  }
 ],
 "metadata": {
  "kernelspec": {
   "display_name": "pytorch",
   "language": "python",
   "name": "pytorch"
  },
  "language_info": {
   "codemirror_mode": {
    "name": "ipython",
    "version": 3
   },
   "file_extension": ".py",
   "mimetype": "text/x-python",
   "name": "python",
   "nbconvert_exporter": "python",
   "pygments_lexer": "ipython3",
   "version": "3.8.5"
  }
 },
 "nbformat": 4,
 "nbformat_minor": 4
}
