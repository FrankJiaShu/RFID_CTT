{
 "cells": [
  {
   "cell_type": "markdown",
   "metadata": {},
   "source": [
    "## 知识蒸馏-CTT teacher->DGRU student"
   ]
  },
  {
   "cell_type": "code",
   "execution_count": 1,
   "metadata": {
    "collapsed": false,
    "jupyter": {
     "outputs_hidden": false
    }
   },
   "outputs": [
    {
     "name": "stdout",
     "output_type": "stream",
     "text": [
      "/Users/frank/Desktop/jupyter/RFID_TRANS/filter/\n"
     ]
    },
    {
     "data": {
      "text/plain": "<Figure size 432x288 with 0 Axes>"
     },
     "metadata": {},
     "output_type": "display_data"
    },
    {
     "data": {
      "text/plain": "<Figure size 432x288 with 0 Axes>"
     },
     "metadata": {},
     "output_type": "display_data"
    }
   ],
   "source": [
    "import copy\n",
    "import math\n",
    "import torch\n",
    "import pickle\n",
    "import numpy as np\n",
    "import pandas as pd\n",
    "import geatpy as ea\n",
    "from tqdm import tqdm\n",
    "from torch import nn\n",
    "from torch import optim\n",
    "from fill.hot_filling import hot_fill\n",
    "from fill.neighbour_filling import neighbour_fill\n",
    "from filter.w_mean_filter import *\n",
    "from filter.rssi_guass_filter import filter_guass\n",
    "from filter.kalman_filter import filter_kalman\n",
    "import torch.nn.functional as F\n",
    "import matplotlib.pyplot as plt\n",
    "import utils.calculate_param as cp\n",
    "from dataset import data_read\n",
    "from torch.utils.data import TensorDataset\n",
    "from torch.utils.data import DataLoader\n",
    "from multiprocessing.dummy import Pool as ThreadPool\n",
    "from sklearn.metrics import mean_absolute_error, explained_variance_score, r2_score, mean_squared_error"
   ]
  },
  {
   "cell_type": "markdown",
   "metadata": {},
   "source": [
    "### 硬件设备准备"
   ]
  },
  {
   "cell_type": "code",
   "execution_count": 2,
   "metadata": {
    "collapsed": false,
    "jupyter": {
     "outputs_hidden": false
    }
   },
   "outputs": [
    {
     "data": {
      "text/plain": "device(type='cpu')"
     },
     "execution_count": 2,
     "metadata": {},
     "output_type": "execute_result"
    }
   ],
   "source": [
    "device = torch.device(\"cuda:0\" if torch.cuda.is_available() else \"cpu\")\n",
    "device"
   ]
  },
  {
   "cell_type": "markdown",
   "source": [
    "### 加载数据集 近邻填充+高斯滤波"
   ],
   "metadata": {
    "collapsed": false
   }
  },
  {
   "cell_type": "code",
   "execution_count": 3,
   "outputs": [],
   "source": [
    "X_train_0, y_train_0 = data_read.load_data('train')\n",
    "X_test_0, y_test_0 = data_read.load_data('test')"
   ],
   "metadata": {
    "collapsed": false
   }
  },
  {
   "cell_type": "code",
   "execution_count": 4,
   "outputs": [
    {
     "data": {
      "text/plain": "(2000, 50)"
     },
     "execution_count": 4,
     "metadata": {},
     "output_type": "execute_result"
    }
   ],
   "source": [
    "X_train_neighbour = [neighbour_fill(xi) for xi in X_train_0]\n",
    "X_test_neighbour = [neighbour_fill(xi) for xi in X_test_0]\n",
    "X_train_guass = [filter_guass(xi) for xi in X_train_neighbour]\n",
    "X_test_guass = [filter_guass(xi) for xi in X_test_neighbour]\n",
    "X_train_guass = np.array(X_train_guass)\n",
    "X_test_guass = np.array(X_test_guass)\n",
    "\n",
    "X_train_guass.shape"
   ],
   "metadata": {
    "collapsed": false
   }
  },
  {
   "cell_type": "code",
   "execution_count": 5,
   "outputs": [
    {
     "data": {
      "text/plain": "torch.Size([2000, 50])"
     },
     "execution_count": 5,
     "metadata": {},
     "output_type": "execute_result"
    }
   ],
   "source": [
    "X_train = torch.from_numpy(X_train_guass).float().to(device) # [len * feature]\n",
    "y_train = torch.from_numpy(y_train_0).float().to(device)\n",
    "X_test = torch.from_numpy(X_test_guass).float().to(device) # [len * feature]\n",
    "y_test = torch.from_numpy(y_test_0).float().to(device)\n",
    "\n",
    "X_train.shape\n"
   ],
   "metadata": {
    "collapsed": false
   }
  },
  {
   "cell_type": "code",
   "execution_count": 6,
   "outputs": [],
   "source": [
    "train_data_loader = DataLoader(TensorDataset(X_train, y_train), batch_size=100, shuffle=False)\n",
    "test_data_loader = DataLoader(TensorDataset(X_test, y_test), batch_size=100, shuffle=False)"
   ],
   "metadata": {
    "collapsed": false
   }
  },
  {
   "cell_type": "markdown",
   "metadata": {},
   "source": [
    "### 定义教师模型-CTT"
   ]
  },
  {
   "cell_type": "code",
   "execution_count": 7,
   "metadata": {
    "collapsed": false,
    "jupyter": {
     "outputs_hidden": false
    }
   },
   "outputs": [],
   "source": [
    "# CNN\n",
    "class CNN(nn.Module):\n",
    "    def __init__(self):\n",
    "        super(CNN,self).__init__()\n",
    "        self.conv1 = nn.Sequential(\n",
    "            nn.Conv2d(in_channels=1, out_channels=3, kernel_size=7),\n",
    "            nn.ReLU(),\n",
    "            nn.MaxPool2d(kernel_size=2)\n",
    "        )\n",
    "        self.conv2 = nn.Sequential(\n",
    "            nn.Conv2d(in_channels=3, out_channels=6, kernel_size=7),\n",
    "            nn.ReLU(),\n",
    "            nn.MaxPool2d(kernel_size=2)\n",
    "        )\n",
    "        self.out=nn.Linear(960, 50)\n",
    "\n",
    "    def forward(self, x):\n",
    "        x= self.conv1(x)\n",
    "        # print(x.shape)\n",
    "        x= self.conv2(x)\n",
    "        # print(x.shape)\n",
    "        x= x.view(-1, x.size(0) * x.size(1) * x.size(2))\n",
    "        # print(x.shape)\n",
    "        out = self.out(x)\n",
    "        return out\n",
    "\n",
    "\n",
    "# 位置编码类\n",
    "class PositionalEncoding(nn.Module):\n",
    "    def __init__(self, d_model, max_len=5000):\n",
    "        super(PositionalEncoding, self).__init__()\n",
    "        pe = torch.zeros(max_len, d_model)\n",
    "        position = torch.arange(0, max_len, dtype=torch.float).unsqueeze(1)\n",
    "        div_term = torch.exp(torch.arange(0, d_model, 2).float() * (-math.log(10000.0) / d_model))\n",
    "        pe[:, 0::2] = torch.sin(position * div_term)\n",
    "        pe[:, 1::2] = torch.cos(position * div_term)\n",
    "        pe = pe.unsqueeze(0).transpose(0, 1)\n",
    "        self.register_buffer('pe', pe)\n",
    "\n",
    "    def forward(self, x):\n",
    "        out = x + self.pe[:x.size(0), :]\n",
    "        return out\n",
    "\n",
    "\n",
    "# 教师模型类\n",
    "class TeacherTransformer(nn.Module):\n",
    "    def __init__(self):\n",
    "        super(TeacherTransformer, self).__init__()\n",
    "        self.cnn = CNN()\n",
    "        self.d_model = 128  # 词向量维度\n",
    "        self.embedding_enc = nn.Linear(50, self.d_model)\n",
    "        self.embedding_dec = nn.Linear(2, self.d_model)\n",
    "        self.pos_encoding = PositionalEncoding(self.d_model)\n",
    "        self.Transformer_layer = nn.Transformer(d_model=128, num_encoder_layers=3, num_decoder_layers=3, batch_first=True)\n",
    "        self.FC_layer = nn.Linear(128, 2)\n",
    "\n",
    "    def forward(self, src, tgt):\n",
    "        # rssi进行cnn特征提取\n",
    "        src = src.unsqueeze(0)\n",
    "        src = self.cnn(src)\n",
    "        # print(src.shape)\n",
    "        # 使用线性层代替embedding\n",
    "        src = self.embedding_enc(src).unsqueeze(0)\n",
    "        tgt = self.embedding_dec(tgt).unsqueeze(0)\n",
    "        src = self.pos_encoding(src)\n",
    "        out = self.Transformer_layer(src, tgt)\n",
    "        out = self.FC_layer(out)\n",
    "        return out\n"
   ]
  },
  {
   "cell_type": "markdown",
   "metadata": {},
   "source": [
    "### 教师模型设置"
   ]
  },
  {
   "cell_type": "code",
   "execution_count": 8,
   "metadata": {
    "collapsed": false,
    "jupyter": {
     "outputs_hidden": false
    }
   },
   "outputs": [],
   "source": [
    "model = TeacherTransformer().to(device)\n",
    "criterion = nn.MSELoss()\n",
    "optimizer = optim.SGD(model.parameters(), lr=1e-3, momentum=0.99)"
   ]
  },
  {
   "cell_type": "markdown",
   "metadata": {},
   "source": [
    "### 教师模型信息"
   ]
  },
  {
   "cell_type": "code",
   "execution_count": 9,
   "metadata": {
    "collapsed": false,
    "jupyter": {
     "outputs_hidden": false
    }
   },
   "outputs": [
    {
     "name": "stdout",
     "output_type": "stream",
     "text": [
      "torchinfo信息如下：\n",
      "===============================================================================================\n",
      "Layer (type:depth-idx)                                                 Param #\n",
      "===============================================================================================\n",
      "TeacherTransformer                                                     --\n",
      "├─CNN: 1-1                                                             --\n",
      "│    └─Sequential: 2-1                                                 --\n",
      "│    │    └─Conv2d: 3-1                                                150\n",
      "│    │    └─ReLU: 3-2                                                  --\n",
      "│    │    └─MaxPool2d: 3-3                                             --\n",
      "│    └─Sequential: 2-2                                                 --\n",
      "│    │    └─Conv2d: 3-4                                                888\n",
      "│    │    └─ReLU: 3-5                                                  --\n",
      "│    │    └─MaxPool2d: 3-6                                             --\n",
      "│    └─Linear: 2-3                                                     48,050\n",
      "├─Linear: 1-2                                                          6,528\n",
      "├─Linear: 1-3                                                          384\n",
      "├─PositionalEncoding: 1-4                                              --\n",
      "├─Transformer: 1-5                                                     --\n",
      "│    └─TransformerEncoder: 2-4                                         --\n",
      "│    │    └─ModuleList: 3-7                                            1,779,072\n",
      "│    │    └─LayerNorm: 3-8                                             256\n",
      "│    └─TransformerDecoder: 2-5                                         --\n",
      "│    │    └─ModuleList: 3-9                                            1,977,984\n",
      "│    │    └─LayerNorm: 3-10                                            256\n",
      "├─Linear: 1-6                                                          258\n",
      "===============================================================================================\n",
      "Total params: 3,813,826\n",
      "Trainable params: 3,813,826\n",
      "Non-trainable params: 0\n",
      "===============================================================================================\n"
     ]
    }
   ],
   "source": [
    "# 输出教师模型的参数信息-380w参数\n",
    "cp.get_summary(model, input_size=None)"
   ]
  },
  {
   "cell_type": "markdown",
   "metadata": {},
   "source": [
    "### 教师模型训练"
   ]
  },
  {
   "cell_type": "code",
   "execution_count": 53,
   "metadata": {
    "collapsed": false,
    "jupyter": {
     "outputs_hidden": false
    }
   },
   "outputs": [
    {
     "name": "stdout",
     "output_type": "stream",
     "text": [
      "Epoch: 0001 loss = 129.998638\n",
      "Epoch: 0002 loss = 47.602817\n",
      "Epoch: 0003 loss = 42.132884\n",
      "Epoch: 0004 loss = 37.284594\n",
      "Epoch: 0005 loss = 28.369028\n",
      "Epoch: 0006 loss = 19.852887\n",
      "Epoch: 0007 loss = 12.045530\n",
      "Epoch: 0008 loss = 10.521668\n",
      "Epoch: 0009 loss = 9.377818\n",
      "Epoch: 0010 loss = 6.554981\n",
      "Epoch: 0011 loss = 4.498675\n",
      "Epoch: 0012 loss = 4.578646\n",
      "Epoch: 0013 loss = 4.446416\n",
      "Epoch: 0014 loss = 3.611479\n",
      "Epoch: 0015 loss = 2.867299\n",
      "Epoch: 0016 loss = 3.022958\n",
      "Epoch: 0017 loss = 2.838755\n",
      "Epoch: 0018 loss = 2.951772\n",
      "Epoch: 0019 loss = 2.784625\n",
      "Epoch: 0020 loss = 2.155868\n",
      "Epoch: 0021 loss = 2.203376\n",
      "Epoch: 0022 loss = 2.301805\n",
      "Epoch: 0023 loss = 1.971854\n",
      "Epoch: 0024 loss = 1.692090\n",
      "Epoch: 0025 loss = 1.646012\n",
      "Epoch: 0026 loss = 1.750359\n",
      "Epoch: 0027 loss = 1.609370\n",
      "Epoch: 0028 loss = 1.515303\n",
      "Epoch: 0029 loss = 1.694549\n",
      "Epoch: 0030 loss = 1.409488\n",
      "Epoch: 0031 loss = 1.695054\n",
      "Epoch: 0032 loss = 1.545713\n",
      "Epoch: 0033 loss = 1.238061\n",
      "Epoch: 0034 loss = 1.355181\n",
      "Epoch: 0035 loss = 1.561455\n",
      "Epoch: 0036 loss = 1.368315\n",
      "Epoch: 0037 loss = 1.546901\n",
      "Epoch: 0038 loss = 1.275472\n",
      "Epoch: 0039 loss = 1.438899\n",
      "Epoch: 0040 loss = 1.412673\n",
      "Epoch: 0041 loss = 1.195435\n",
      "Epoch: 0042 loss = 1.264765\n",
      "Epoch: 0043 loss = 1.022746\n",
      "Epoch: 0044 loss = 1.424889\n",
      "Epoch: 0045 loss = 1.263793\n",
      "Epoch: 0046 loss = 1.224316\n",
      "Epoch: 0047 loss = 1.610114\n",
      "Epoch: 0048 loss = 1.053449\n",
      "Epoch: 0049 loss = 1.489212\n",
      "Epoch: 0050 loss = 1.113748\n",
      "Epoch: 0051 loss = 1.087312\n",
      "Epoch: 0052 loss = 1.023827\n",
      "Epoch: 0053 loss = 1.453509\n",
      "Epoch: 0054 loss = 0.959628\n",
      "Epoch: 0055 loss = 0.958852\n",
      "Epoch: 0056 loss = 0.990558\n",
      "Epoch: 0057 loss = 0.886309\n",
      "Epoch: 0058 loss = 1.076164\n",
      "Epoch: 0059 loss = 0.776812\n",
      "Epoch: 0060 loss = 0.919512\n",
      "Epoch: 0061 loss = 0.775212\n",
      "Epoch: 0062 loss = 0.880738\n",
      "Epoch: 0063 loss = 1.314704\n",
      "Epoch: 0064 loss = 0.867333\n",
      "Epoch: 0065 loss = 1.063016\n",
      "Epoch: 0066 loss = 0.727401\n",
      "Epoch: 0067 loss = 0.865515\n",
      "Epoch: 0068 loss = 1.036492\n",
      "Epoch: 0069 loss = 0.653579\n",
      "Epoch: 0070 loss = 0.754254\n",
      "Epoch: 0071 loss = 0.820335\n",
      "Epoch: 0072 loss = 0.666480\n",
      "Epoch: 0073 loss = 0.712258\n",
      "Epoch: 0074 loss = 0.828233\n",
      "Epoch: 0075 loss = 0.760632\n",
      "Epoch: 0076 loss = 0.774088\n",
      "Epoch: 0077 loss = 0.890112\n",
      "Epoch: 0078 loss = 0.701167\n",
      "Epoch: 0079 loss = 0.889438\n",
      "Epoch: 0080 loss = 0.738146\n",
      "Epoch: 0081 loss = 0.812608\n",
      "Epoch: 0082 loss = 0.702160\n",
      "Epoch: 0083 loss = 0.724608\n",
      "Epoch: 0084 loss = 0.835625\n",
      "Epoch: 0085 loss = 0.700521\n",
      "Epoch: 0086 loss = 0.722783\n",
      "Epoch: 0087 loss = 0.682001\n",
      "Epoch: 0088 loss = 0.555516\n",
      "Epoch: 0089 loss = 0.639852\n",
      "Epoch: 0090 loss = 0.588225\n",
      "Epoch: 0091 loss = 0.540306\n",
      "Epoch: 0092 loss = 0.658678\n",
      "Epoch: 0093 loss = 0.551455\n",
      "Epoch: 0094 loss = 0.479596\n",
      "Epoch: 0095 loss = 0.596112\n",
      "Epoch: 0096 loss = 0.589762\n",
      "Epoch: 0097 loss = 0.498059\n",
      "Epoch: 0098 loss = 0.589896\n",
      "Epoch: 0099 loss = 0.615938\n",
      "Epoch: 0100 loss = 0.455460\n",
      "Epoch: 0101 loss = 0.515866\n",
      "Epoch: 0102 loss = 0.525588\n",
      "Epoch: 0103 loss = 0.465951\n",
      "Epoch: 0104 loss = 0.442867\n",
      "Epoch: 0105 loss = 0.514599\n",
      "Epoch: 0106 loss = 0.530417\n",
      "Epoch: 0107 loss = 0.428340\n",
      "Epoch: 0108 loss = 0.460240\n",
      "Epoch: 0109 loss = 0.478471\n",
      "Epoch: 0110 loss = 0.463980\n",
      "Epoch: 0111 loss = 0.488955\n",
      "Epoch: 0112 loss = 0.428229\n",
      "Epoch: 0113 loss = 0.428529\n",
      "Epoch: 0114 loss = 0.498273\n",
      "Epoch: 0115 loss = 0.485399\n",
      "Epoch: 0116 loss = 0.545738\n",
      "Epoch: 0117 loss = 0.861583\n",
      "Epoch: 0118 loss = 0.896138\n",
      "Epoch: 0119 loss = 0.876337\n",
      "Epoch: 0120 loss = 0.762446\n",
      "Epoch: 0121 loss = 0.815631\n",
      "Epoch: 0122 loss = 0.640203\n",
      "Epoch: 0123 loss = 0.765752\n",
      "Epoch: 0124 loss = 0.775983\n",
      "Epoch: 0125 loss = 0.677901\n",
      "Epoch: 0126 loss = 0.644342\n",
      "Epoch: 0127 loss = 0.577997\n",
      "Epoch: 0128 loss = 0.537642\n",
      "Epoch: 0129 loss = 0.513315\n",
      "Epoch: 0130 loss = 0.585135\n",
      "Epoch: 0131 loss = 0.414298\n",
      "Epoch: 0132 loss = 0.556984\n",
      "Epoch: 0133 loss = 0.618039\n",
      "Epoch: 0134 loss = 0.596420\n",
      "Epoch: 0135 loss = 0.618626\n",
      "Epoch: 0136 loss = 0.571470\n",
      "Epoch: 0137 loss = 0.486200\n",
      "Epoch: 0138 loss = 0.505683\n",
      "Epoch: 0139 loss = 0.487620\n",
      "Epoch: 0140 loss = 0.391893\n",
      "Epoch: 0141 loss = 0.425257\n",
      "Epoch: 0142 loss = 0.419430\n",
      "Epoch: 0143 loss = 0.470431\n",
      "Epoch: 0144 loss = 0.396604\n",
      "Epoch: 0145 loss = 0.419095\n",
      "Epoch: 0146 loss = 0.473992\n",
      "Epoch: 0147 loss = 0.370350\n",
      "Epoch: 0148 loss = 0.415096\n",
      "Epoch: 0149 loss = 0.398022\n",
      "Epoch: 0150 loss = 0.489525\n",
      "best_loss::| 0.37034968938678503 ---best_epoch::| 146\n",
      "CPU times: user 4min 10s, sys: 31.8 s, total: 4min 42s\n",
      "Wall time: 2min 26s\n"
     ]
    }
   ],
   "source": [
    "%%time\n",
    "\n",
    "best_loss = 100000\n",
    "best_epoch = 0\n",
    "for epoch in range(150):\n",
    "    epoch_loss = 0\n",
    "    for X, y in train_data_loader:  # enc_inputs : [len * feature]->[2000 * 50]\n",
    "        # print(X.shape)  # [100 * 50]\n",
    "        # print(y.shape)  # [100 * 50]\n",
    "        outputs = model(X, y)\n",
    "        outputs = outputs.squeeze()  # [100 * 2]\n",
    "        # print(outputs.shape)\n",
    "        loss = criterion(outputs, y)\n",
    "        loss_num = loss.item()\n",
    "        epoch_loss += loss_num\n",
    "        optimizer.zero_grad()\n",
    "        loss.backward()\n",
    "        torch.nn.utils.clip_grad_norm_(model.parameters(), 0.5)\n",
    "        optimizer.step()\n",
    "\n",
    "    if epoch_loss < best_loss:\n",
    "        best_loss = epoch_loss\n",
    "        best_epoch = epoch\n",
    "        best_model_wts = copy.deepcopy(model.state_dict())\n",
    "        torch.save(best_model_wts, './result/ctt_weight.pth')\n",
    "\n",
    "    print('Epoch:', '%04d' % (epoch + 1), 'loss =', '{:.6f}'.format(epoch_loss))\n",
    "\n",
    "# 打印最佳的结果\n",
    "print('best_loss::|',best_loss,'---best_epoch::|',best_epoch)\n"
   ]
  },
  {
   "cell_type": "markdown",
   "source": [
    "### 教师模型评估"
   ],
   "metadata": {
    "collapsed": false
   }
  },
  {
   "cell_type": "code",
   "execution_count": 10,
   "outputs": [
    {
     "name": "stdout",
     "output_type": "stream",
     "text": [
      "{'mae': 0.13338129, 'mse': 0.028472332, 'rmse': 0.16873746556071798, 'evs': 0.9949590265750885, 'r2': 0.9860217061275907, 'mmax': 0.35820603, 'mmin': 0.017809458}\n",
      "       X     y        PX        Py\n",
      "0   0.21  3.47  0.124531  3.715504\n",
      "1   1.13  1.96  1.084291  2.080899\n",
      "2   3.38  2.58  3.346277  2.748064\n",
      "3   4.07  2.72  4.168088  2.933629\n",
      "4   1.58  2.47  1.576717  2.598555\n",
      "5   3.43  1.61  3.406310  1.756241\n",
      "6   1.22  0.74  1.135537  0.773024\n",
      "7   2.33  1.97  2.292284  2.134232\n",
      "8   0.33  3.56  0.246293  3.826063\n",
      "9   3.53  4.28  3.744175  4.694170\n",
      "10  4.42  3.69  4.702496  4.065153\n",
      "11  3.67  0.34  3.764961  0.363934\n",
      "12  2.57  0.37  2.540435  0.417595\n",
      "13  3.14  3.22  3.148333  3.386683\n",
      "14  4.76  3.34  4.985601  3.633575\n",
      "15  1.70  3.71  1.709826  3.943636\n",
      "16  3.50  1.20  3.539850  1.304910\n",
      "17  0.68  4.65  0.656825  4.929386\n",
      "18  1.09  4.59  1.065913  4.934533\n",
      "19  0.25  3.70  0.169071  3.974638\n"
     ]
    }
   ],
   "source": [
    "model = TeacherTransformer().to(device)\n",
    "# 暂存教师模型为teacher_model\n",
    "teacher_model = model\n",
    "model.load_state_dict(torch.load('./result/ctt_weight.pth'))\n",
    "model.eval()\n",
    "\n",
    "pxy_all = []\n",
    "y_all = []\n",
    "for X, y in test_data_loader:\n",
    "    pxy = model(X, y)\n",
    "    pxy = pxy.cpu().detach().numpy().squeeze(0)\n",
    "    y = y.cpu().detach().numpy()\n",
    "    pxy_all.append(pxy)\n",
    "    y_all.append(y)\n",
    "\n",
    "# 计算指标\n",
    "pxy_all = np.array(pxy_all).reshape(-1, 2)\n",
    "y_all = np.array(y_all).reshape(-1, 2)\n",
    "mae = mean_absolute_error(y_all, pxy_all)\n",
    "mse = mean_squared_error(y_all, pxy_all)\n",
    "rmse = mse ** 0.5\n",
    "evs = explained_variance_score(y_all, pxy_all)\n",
    "r2 = r2_score(y_all, pxy_all)\n",
    "\n",
    "mmax = 0\n",
    "mmin = 10000\n",
    "for i in range(len(pxy_all)):\n",
    "    mmax = max(mean_absolute_error(y_all[i], pxy_all[i]), mmax)\n",
    "    mmin = min(mean_absolute_error(y_all[i], pxy_all[i]), mmin)\n",
    "\n",
    "print({'mae': mae, 'mse': mse, 'rmse': rmse, 'evs': evs, 'r2': r2, 'mmax': mmax, 'mmin': mmin})\n",
    "\n",
    "y_teacher = y_all[:20]\n",
    "pxy = pxy_all[:20]\n",
    "coor1 = pd.DataFrame(y_teacher)\n",
    "coor1.columns = ['X', 'y']\n",
    "\n",
    "coor2 = pd.DataFrame(pxy)\n",
    "coor2.columns = ['PX', 'Py']\n",
    "\n",
    "coor = pd.concat([coor1, coor2], axis=1)\n",
    "coor.to_csv('./result/coordinate_all_ctt.csv')\n",
    "print(coor)"
   ],
   "metadata": {
    "collapsed": false
   }
  },
  {
   "cell_type": "markdown",
   "source": [
    "### 教师模型定位效果可视化"
   ],
   "metadata": {
    "collapsed": false
   }
  },
  {
   "cell_type": "code",
   "execution_count": 11,
   "outputs": [
    {
     "data": {
      "text/plain": "<Figure size 720x720 with 1 Axes>",
      "image/png": "[encoded data removed]"
     },
     "metadata": {
      "needs_background": "light"
     },
     "output_type": "display_data"
    }
   ],
   "source": [
    "plt.figure(figsize=[10, 10])\n",
    "plt.xlim((0, 6))\n",
    "plt.ylim((0, 6))\n",
    "plt.ylabel('RFID reader')\n",
    "plt.title('Coordinate Comparison')\n",
    "# 画图-标准坐标\n",
    "plt.scatter(y_teacher[:, 0], y_teacher[:, 1], c='black', marker='^', label='real position of RFID tag')\n",
    "\n",
    "# 画图-预测EA坐标\n",
    "plt.scatter(pxy[:, 0], pxy[:, 1], c='red', marker='x', label = 'predict position with CTT-Transformer')\n",
    "\n",
    "plt.legend()\n",
    "plt.grid('True')\n",
    "plt.savefig('./result/compare_coordinate_ctt.jpg', dpi=750, bbox_inches = 'tight')"
   ],
   "metadata": {
    "collapsed": false
   }
  },
  {
   "cell_type": "markdown",
   "metadata": {},
   "source": [
    "### 定义学生模型-GRU模型"
   ]
  },
  {
   "cell_type": "code",
   "execution_count": 12,
   "metadata": {
    "collapsed": false,
    "jupyter": {
     "outputs_hidden": false
    }
   },
   "outputs": [],
   "source": [
    "class StudentGRU(nn.Module):\n",
    "    def __init__(self):\n",
    "        super(StudentGRU, self).__init__()\n",
    "        self.time_step = 50\n",
    "        self.x_dim = 1\n",
    "        self.h_dim = 60\n",
    "        self.gru_layers = 1\n",
    "\n",
    "        self.GRU_layer1 = nn.GRU(self.x_dim, self.h_dim, self.gru_layers, batch_first=True)\n",
    "        self.GRU_layer2 = nn.GRU(self.x_dim, self.h_dim, self.gru_layers, batch_first=True)\n",
    "        self.FC = nn.Linear(self.h_dim * 2, 2)\n",
    "\n",
    "    def forward(self, x):\n",
    "        a = x.cpu().detach().numpy()\n",
    "        x2 = a[:, 1:, :] - a[:, :-1, :]\n",
    "        # print(x2.shape)\n",
    "        x2 = torch.from_numpy(x2).float().to(device)\n",
    "        batch, time_step, x_dim = x.size()\n",
    "        h0 = torch.zeros((self.gru_layers, batch, self.h_dim)).to(device)\n",
    "        h0_2 = torch.zeros((self.gru_layers, batch, self.h_dim)).to(device)\n",
    "        output, hn = self.GRU_layer1(x, h0)\n",
    "        output2, hn2 = self.GRU_layer2(x2, h0)\n",
    "        # print(hn.size(), hn2.size())\n",
    "        res = hn.squeeze(0)\n",
    "        res2 = hn2.squeeze(0)\n",
    "        # print(res.size(), res2.size())\n",
    "        out = torch.cat((res, res2), 1)\n",
    "        # print(out.size())\n",
    "        out = self.FC(out)\n",
    "        return out\n"
   ]
  },
  {
   "cell_type": "markdown",
   "metadata": {},
   "source": [
    "### 学生模型设置"
   ]
  },
  {
   "cell_type": "code",
   "execution_count": 13,
   "metadata": {
    "collapsed": false,
    "jupyter": {
     "outputs_hidden": false
    }
   },
   "outputs": [],
   "source": [
    "# 从头先训练一下学生模型\n",
    "model = StudentGRU().to(device)\n",
    "criterion = torch.nn.MSELoss()\n",
    "optimizer = optim.Adam(model.parameters(), lr=1e-3)"
   ]
  },
  {
   "cell_type": "markdown",
   "metadata": {},
   "source": [
    "### 学生模型信息"
   ]
  },
  {
   "cell_type": "code",
   "execution_count": 14,
   "metadata": {
    "collapsed": false,
    "jupyter": {
     "outputs_hidden": false
    }
   },
   "outputs": [
    {
     "name": "stdout",
     "output_type": "stream",
     "text": [
      "torchinfo信息如下：\n",
      "=================================================================\n",
      "Layer (type:depth-idx)                   Param #\n",
      "=================================================================\n",
      "StudentGRU                               --\n",
      "├─GRU: 1-1                               11,340\n",
      "├─GRU: 1-2                               11,340\n",
      "├─Linear: 1-3                            242\n",
      "=================================================================\n",
      "Total params: 22,922\n",
      "Trainable params: 22,922\n",
      "Non-trainable params: 0\n",
      "=================================================================\n"
     ]
    }
   ],
   "source": [
    "# 输出学生模型的参数信息-1w参数\n",
    "cp.get_summary(model, input_size=None)"
   ]
  },
  {
   "cell_type": "markdown",
   "metadata": {},
   "source": [
    "### 学生模型训练"
   ]
  },
  {
   "cell_type": "code",
   "execution_count": 15,
   "metadata": {
    "collapsed": false,
    "jupyter": {
     "outputs_hidden": false
    }
   },
   "outputs": [
    {
     "name": "stdout",
     "output_type": "stream",
     "text": [
      "Epoch: 0001 loss = 95.708259\n",
      "Epoch: 0002 loss = 37.272622\n",
      "Epoch: 0003 loss = 28.609212\n",
      "Epoch: 0004 loss = 18.956577\n",
      "Epoch: 0005 loss = 10.280211\n",
      "Epoch: 0006 loss = 7.076562\n",
      "Epoch: 0007 loss = 6.068010\n",
      "Epoch: 0008 loss = 5.755755\n",
      "Epoch: 0009 loss = 5.907609\n",
      "Epoch: 0010 loss = 5.150517\n",
      "Epoch: 0011 loss = 4.909596\n",
      "Epoch: 0012 loss = 4.890093\n",
      "Epoch: 0013 loss = 4.908761\n",
      "Epoch: 0014 loss = 4.551522\n",
      "Epoch: 0015 loss = 4.364404\n",
      "Epoch: 0016 loss = 4.559141\n",
      "Epoch: 0017 loss = 4.280133\n",
      "Epoch: 0018 loss = 4.529616\n",
      "Epoch: 0019 loss = 4.228133\n",
      "Epoch: 0020 loss = 4.087405\n",
      "Epoch: 0021 loss = 4.422421\n",
      "Epoch: 0022 loss = 4.775093\n",
      "Epoch: 0023 loss = 3.998182\n",
      "Epoch: 0024 loss = 4.074812\n",
      "Epoch: 0025 loss = 3.987837\n",
      "Epoch: 0026 loss = 3.952612\n",
      "Epoch: 0027 loss = 4.013371\n",
      "Epoch: 0028 loss = 3.848284\n",
      "Epoch: 0029 loss = 3.894264\n",
      "Epoch: 0030 loss = 3.752950\n",
      "Epoch: 0031 loss = 3.797682\n",
      "Epoch: 0032 loss = 4.442583\n",
      "Epoch: 0033 loss = 3.730355\n",
      "Epoch: 0034 loss = 3.779921\n",
      "Epoch: 0035 loss = 4.036580\n",
      "Epoch: 0036 loss = 4.188938\n",
      "Epoch: 0037 loss = 3.983800\n",
      "Epoch: 0038 loss = 3.863783\n",
      "Epoch: 0039 loss = 4.327394\n",
      "Epoch: 0040 loss = 4.023360\n",
      "Epoch: 0041 loss = 4.196890\n",
      "Epoch: 0042 loss = 4.326440\n",
      "Epoch: 0043 loss = 3.789923\n",
      "Epoch: 0044 loss = 3.621032\n",
      "Epoch: 0045 loss = 4.031772\n",
      "Epoch: 0046 loss = 4.022479\n",
      "Epoch: 0047 loss = 3.882976\n",
      "Epoch: 0048 loss = 3.807072\n",
      "Epoch: 0049 loss = 3.720231\n",
      "Epoch: 0050 loss = 3.662319\n",
      "Epoch: 0051 loss = 3.517989\n",
      "Epoch: 0052 loss = 3.614337\n",
      "Epoch: 0053 loss = 3.786662\n",
      "Epoch: 0054 loss = 3.630331\n",
      "Epoch: 0055 loss = 3.503300\n",
      "Epoch: 0056 loss = 3.532355\n",
      "Epoch: 0057 loss = 3.620849\n",
      "Epoch: 0058 loss = 3.567845\n",
      "Epoch: 0059 loss = 3.493759\n",
      "Epoch: 0060 loss = 3.448030\n",
      "Epoch: 0061 loss = 3.626875\n",
      "Epoch: 0062 loss = 3.851168\n",
      "Epoch: 0063 loss = 3.684284\n",
      "Epoch: 0064 loss = 3.497735\n",
      "Epoch: 0065 loss = 3.719076\n",
      "Epoch: 0066 loss = 3.504383\n",
      "Epoch: 0067 loss = 3.537606\n",
      "Epoch: 0068 loss = 3.479248\n",
      "Epoch: 0069 loss = 3.736178\n",
      "Epoch: 0070 loss = 3.642571\n",
      "Epoch: 0071 loss = 3.729555\n",
      "Epoch: 0072 loss = 3.555665\n",
      "Epoch: 0073 loss = 3.476242\n",
      "Epoch: 0074 loss = 3.661175\n",
      "Epoch: 0075 loss = 3.410689\n",
      "Epoch: 0076 loss = 3.601796\n",
      "Epoch: 0077 loss = 3.528956\n",
      "Epoch: 0078 loss = 3.345476\n",
      "Epoch: 0079 loss = 3.543561\n",
      "Epoch: 0080 loss = 3.557558\n",
      "Epoch: 0081 loss = 3.375712\n",
      "Epoch: 0082 loss = 3.483088\n",
      "Epoch: 0083 loss = 3.767137\n",
      "Epoch: 0084 loss = 3.607049\n",
      "Epoch: 0085 loss = 3.579506\n",
      "Epoch: 0086 loss = 3.570348\n",
      "Epoch: 0087 loss = 3.675973\n",
      "Epoch: 0088 loss = 3.504664\n",
      "Epoch: 0089 loss = 3.649912\n",
      "Epoch: 0090 loss = 3.599394\n",
      "Epoch: 0091 loss = 3.720503\n",
      "Epoch: 0092 loss = 3.440113\n",
      "Epoch: 0093 loss = 3.320069\n",
      "Epoch: 0094 loss = 3.535628\n",
      "Epoch: 0095 loss = 3.423542\n",
      "Epoch: 0096 loss = 3.574334\n",
      "Epoch: 0097 loss = 3.507477\n",
      "Epoch: 0098 loss = 3.470616\n",
      "Epoch: 0099 loss = 3.391345\n",
      "Epoch: 0100 loss = 3.607213\n",
      "best_loss::| 3.3200692385435104 ---best_epoch::| 92\n",
      "CPU times: user 2min 54s, sys: 10.5 s, total: 3min 5s\n",
      "Wall time: 1min 36s\n"
     ]
    }
   ],
   "source": [
    "%%time\n",
    "best_loss = 100000\n",
    "best_epoch = 0\n",
    "for epoch in range(100):\n",
    "    epoch_loss = 0\n",
    "    for X, y in train_data_loader:\n",
    "        outputs = model(X.unsqueeze(2))\n",
    "        loss = criterion(outputs, y)\n",
    "        loss_num = loss.item()\n",
    "        epoch_loss += loss_num\n",
    "        optimizer.zero_grad()\n",
    "        loss.backward()\n",
    "        torch.nn.utils.clip_grad_norm_(model.parameters(), 0.5)\n",
    "        optimizer.step()\n",
    "\n",
    "    if epoch_loss < best_loss:\n",
    "        best_loss = epoch_loss\n",
    "        best_epoch = epoch\n",
    "        best_model_wts = copy.deepcopy(model.state_dict())\n",
    "        torch.save(best_model_wts, './result/student_weight.pth')\n",
    "\n",
    "    print('Epoch:', '%04d' % (epoch + 1), 'loss =', '{:.6f}'.format(epoch_loss))\n",
    "\n",
    "# 打印最佳的结果\n",
    "print('best_loss::|',best_loss,'---best_epoch::|',best_epoch)\n"
   ]
  },
  {
   "cell_type": "markdown",
   "source": [
    "### 学生模型评估"
   ],
   "metadata": {
    "collapsed": false
   }
  },
  {
   "cell_type": "code",
   "execution_count": 18,
   "outputs": [
    {
     "name": "stdout",
     "output_type": "stream",
     "text": [
      "{'mae': 0.326116, 'mse': 0.20153688, 'rmse': 0.4489285900267918, 'evs': 0.9022361040115356, 'r2': 0.9010476883174683, 'mmax': 1.6254778, 'mmin': 0.017549396}\n"
     ]
    }
   ],
   "source": [
    "model = StudentGRU()\n",
    "# 暂存不加蒸馏学生模型为student_model\n",
    "student_model = model\n",
    "\n",
    "model.load_state_dict(torch.load('./result/student_weight.pth'))\n",
    "model.eval()\n",
    "\n",
    "pxy = model(X_test.unsqueeze(2))\n",
    "pxy = pxy.cpu().detach().numpy()\n",
    "# 计算指标\n",
    "mae = mean_absolute_error(y_test, pxy)\n",
    "mse = mean_squared_error(y_test, pxy)\n",
    "rmse = mse ** 0.5\n",
    "evs = explained_variance_score(y_test, pxy)\n",
    "r2 = r2_score(y_test, pxy)\n",
    "\n",
    "mmax = 0\n",
    "mmin = 10000\n",
    "for i in range(len(pxy)):\n",
    "    mmax = max(mean_absolute_error(y_test[i], pxy[i]), mmax)\n",
    "    mmin = min(mean_absolute_error(y_test[i], pxy[i]), mmin)\n",
    "\n",
    "print({'mae': mae, 'mse': mse, 'rmse': rmse, 'evs': evs, 'r2': r2, 'mmax': mmax, 'mmin': mmin})\n"
   ],
   "metadata": {
    "collapsed": false
   }
  },
  {
   "cell_type": "markdown",
   "source": [
    "### 学生模型定位效果可视化"
   ],
   "metadata": {
    "collapsed": false
   }
  },
  {
   "cell_type": "code",
   "execution_count": 19,
   "outputs": [
    {
     "data": {
      "text/plain": "       X     y        PX        Py\n0   0.21  3.47  0.377913  3.443006\n1   1.13  1.96  1.114493  1.314993\n2   3.38  2.58  3.239875  1.367922\n3   4.07  2.72  3.897378  3.380611\n4   1.58  2.47  1.591813  1.781291\n5   3.43  1.61  2.937770  0.936035\n6   1.22  0.74  1.401620  0.741646\n7   2.33  1.97  2.187461  1.053290\n8   0.33  3.56  0.399906  3.901588\n9   3.53  4.28  3.447359  3.755456\n10  4.42  3.69  4.287542  3.684915\n11  3.67  0.34  3.361178  0.620644\n12  2.57  0.37  2.372967  0.487592\n13  3.14  3.22  2.909541  3.324786\n14  4.76  3.34  4.624617  3.430236\n15  1.70  3.71  1.611147  4.312972\n16  3.50  1.20  3.115095  1.595628\n17  0.68  4.65  0.621850  4.301576\n18  1.09  4.59  1.092946  3.918913\n19  0.25  3.70  0.401939  3.058924",
      "text/html": "<div>\n<style scoped>\n    .dataframe tbody tr th:only-of-type {\n        vertical-align: middle;\n    }\n\n    .dataframe tbody tr th {\n        vertical-align: top;\n    }\n\n    .dataframe thead th {\n        text-align: right;\n    }\n</style>\n<table border=\"1\" class=\"dataframe\">\n  <thead>\n    <tr style=\"text-align: right;\">\n      <th></th>\n      <th>X</th>\n      <th>y</th>\n      <th>PX</th>\n      <th>Py</th>\n    </tr>\n  </thead>\n  <tbody>\n    <tr>\n      <th>0</th>\n      <td>0.21</td>\n      <td>3.47</td>\n      <td>0.377913</td>\n      <td>3.443006</td>\n    </tr>\n    <tr>\n      <th>1</th>\n      <td>1.13</td>\n      <td>1.96</td>\n      <td>1.114493</td>\n      <td>1.314993</td>\n    </tr>\n    <tr>\n      <th>2</th>\n      <td>3.38</td>\n      <td>2.58</td>\n      <td>3.239875</td>\n      <td>1.367922</td>\n    </tr>\n    <tr>\n      <th>3</th>\n      <td>4.07</td>\n      <td>2.72</td>\n      <td>3.897378</td>\n      <td>3.380611</td>\n    </tr>\n    <tr>\n      <th>4</th>\n      <td>1.58</td>\n      <td>2.47</td>\n      <td>1.591813</td>\n      <td>1.781291</td>\n    </tr>\n    <tr>\n      <th>5</th>\n      <td>3.43</td>\n      <td>1.61</td>\n      <td>2.937770</td>\n      <td>0.936035</td>\n    </tr>\n    <tr>\n      <th>6</th>\n      <td>1.22</td>\n      <td>0.74</td>\n      <td>1.401620</td>\n      <td>0.741646</td>\n    </tr>\n    <tr>\n      <th>7</th>\n      <td>2.33</td>\n      <td>1.97</td>\n      <td>2.187461</td>\n      <td>1.053290</td>\n    </tr>\n    <tr>\n      <th>8</th>\n      <td>0.33</td>\n      <td>3.56</td>\n      <td>0.399906</td>\n      <td>3.901588</td>\n    </tr>\n    <tr>\n      <th>9</th>\n      <td>3.53</td>\n      <td>4.28</td>\n      <td>3.447359</td>\n      <td>3.755456</td>\n    </tr>\n    <tr>\n      <th>10</th>\n      <td>4.42</td>\n      <td>3.69</td>\n      <td>4.287542</td>\n      <td>3.684915</td>\n    </tr>\n    <tr>\n      <th>11</th>\n      <td>3.67</td>\n      <td>0.34</td>\n      <td>3.361178</td>\n      <td>0.620644</td>\n    </tr>\n    <tr>\n      <th>12</th>\n      <td>2.57</td>\n      <td>0.37</td>\n      <td>2.372967</td>\n      <td>0.487592</td>\n    </tr>\n    <tr>\n      <th>13</th>\n      <td>3.14</td>\n      <td>3.22</td>\n      <td>2.909541</td>\n      <td>3.324786</td>\n    </tr>\n    <tr>\n      <th>14</th>\n      <td>4.76</td>\n      <td>3.34</td>\n      <td>4.624617</td>\n      <td>3.430236</td>\n    </tr>\n    <tr>\n      <th>15</th>\n      <td>1.70</td>\n      <td>3.71</td>\n      <td>1.611147</td>\n      <td>4.312972</td>\n    </tr>\n    <tr>\n      <th>16</th>\n      <td>3.50</td>\n      <td>1.20</td>\n      <td>3.115095</td>\n      <td>1.595628</td>\n    </tr>\n    <tr>\n      <th>17</th>\n      <td>0.68</td>\n      <td>4.65</td>\n      <td>0.621850</td>\n      <td>4.301576</td>\n    </tr>\n    <tr>\n      <th>18</th>\n      <td>1.09</td>\n      <td>4.59</td>\n      <td>1.092946</td>\n      <td>3.918913</td>\n    </tr>\n    <tr>\n      <th>19</th>\n      <td>0.25</td>\n      <td>3.70</td>\n      <td>0.401939</td>\n      <td>3.058924</td>\n    </tr>\n  </tbody>\n</table>\n</div>"
     },
     "execution_count": 19,
     "metadata": {},
     "output_type": "execute_result"
    }
   ],
   "source": [
    "y_test = np.array(y_test)\n",
    "y_student = y_test[:20]\n",
    "pxy = pxy[:20]\n",
    "coor1 = pd.DataFrame(y_student)\n",
    "coor1.columns = ['X', 'y']\n",
    "\n",
    "coor2 = pd.DataFrame(pxy)\n",
    "coor2.columns = ['PX', 'Py']\n",
    "\n",
    "coor = pd.concat([coor1, coor2], axis=1)\n",
    "coor.to_csv('./result/coordinate_all_student.csv')\n",
    "coor"
   ],
   "metadata": {
    "collapsed": false
   }
  },
  {
   "cell_type": "code",
   "execution_count": 20,
   "outputs": [
    {
     "data": {
      "text/plain": "<Figure size 720x720 with 1 Axes>",
      "image/png": "[encoded data removed]"
     },
     "metadata": {
      "needs_background": "light"
     },
     "output_type": "display_data"
    }
   ],
   "source": [
    "plt.figure(figsize=[10, 10])\n",
    "plt.xlim((0, 6))\n",
    "plt.ylim((0, 6))\n",
    "plt.ylabel('RFID reader')\n",
    "plt.title('Coordinate Comparison')\n",
    "# 画图-标准坐标\n",
    "plt.scatter(y_student[:, 0], y_student[:, 1], c='black', marker='^', label='real position of RFID tag')\n",
    "\n",
    "# 画图-预测EA坐标\n",
    "plt.scatter(pxy[:, 0], pxy[:, 1], c='red', marker='x', label = 'predict position with GRU')\n",
    "\n",
    "plt.legend()\n",
    "plt.grid('True')\n",
    "plt.savefig('./result/compare_coordinate_student.jpg', dpi=750, bbox_inches = 'tight')"
   ],
   "metadata": {
    "collapsed": false
   }
  },
  {
   "cell_type": "markdown",
   "metadata": {},
   "source": [
    "### 知识蒸馏准备与设置"
   ]
  },
  {
   "cell_type": "code",
   "execution_count": 26,
   "metadata": {
    "collapsed": false,
    "jupyter": {
     "outputs_hidden": false
    }
   },
   "outputs": [],
   "source": [
    "# 准备预训练好的教师模型\n",
    "teacher_model.eval()\n",
    "\n",
    "# 准备新的学生模型\n",
    "model = StudentGRU().to(device)\n",
    "\n",
    "# 蒸馏温度\n",
    "T = 7\n",
    "\n",
    "# 参数设置\n",
    "# hard_loss\n",
    "hard_loss = nn.MSELoss()\n",
    "# soft_loss kl散度\n",
    "soft_loss = nn.KLDivLoss(reduction='batchmean')\n",
    "\n",
    "alpha = 0.5\n",
    "beta = 0.7\n",
    "m = 0.9\n",
    "\n",
    "# 回归分析的损失函数设置 = 平滑l1loss + beta * 范围loss\n",
    "# loss = smoothl1loss + alpha * boundloss\n",
    "loss1 = nn.SmoothL1Loss()\n",
    "loss2 = nn.MSELoss()\n",
    "\n",
    "optimizer = torch.optim.Adam(model.parameters(), lr=1e-3)"
   ]
  },
  {
   "cell_type": "markdown",
   "metadata": {},
   "source": [
    "### 知识蒸馏训练"
   ]
  },
  {
   "cell_type": "code",
   "execution_count": 27,
   "metadata": {
    "collapsed": false,
    "jupyter": {
     "outputs_hidden": false
    }
   },
   "outputs": [
    {
     "name": "stdout",
     "output_type": "stream",
     "text": [
      "Epoch: 0001 loss = 78.357907\n",
      "Epoch: 0002 loss = 40.074273\n",
      "Epoch: 0003 loss = 31.879605\n",
      "Epoch: 0004 loss = 22.124946\n",
      "Epoch: 0005 loss = 14.857875\n",
      "Epoch: 0006 loss = 11.885685\n",
      "Epoch: 0007 loss = 8.865809\n",
      "Epoch: 0008 loss = 7.810835\n",
      "Epoch: 0009 loss = 7.327664\n",
      "Epoch: 0010 loss = 6.800116\n",
      "Epoch: 0011 loss = 6.337935\n",
      "Epoch: 0012 loss = 6.165665\n",
      "Epoch: 0013 loss = 5.898129\n",
      "Epoch: 0014 loss = 5.828645\n",
      "Epoch: 0015 loss = 5.606550\n",
      "Epoch: 0016 loss = 5.525194\n",
      "Epoch: 0017 loss = 5.310095\n",
      "Epoch: 0018 loss = 5.240070\n",
      "Epoch: 0019 loss = 5.205168\n",
      "Epoch: 0020 loss = 5.028372\n",
      "Epoch: 0021 loss = 5.000242\n",
      "Epoch: 0022 loss = 4.912551\n",
      "Epoch: 0023 loss = 4.866844\n",
      "Epoch: 0024 loss = 4.808741\n",
      "Epoch: 0025 loss = 4.734767\n",
      "Epoch: 0026 loss = 4.811490\n",
      "Epoch: 0027 loss = 4.637875\n",
      "Epoch: 0028 loss = 4.597332\n",
      "Epoch: 0029 loss = 4.606039\n",
      "Epoch: 0030 loss = 4.520107\n",
      "Epoch: 0031 loss = 4.455851\n",
      "Epoch: 0032 loss = 4.495187\n",
      "Epoch: 0033 loss = 4.725837\n",
      "Epoch: 0034 loss = 5.000397\n",
      "Epoch: 0035 loss = 5.183834\n",
      "Epoch: 0036 loss = 4.907179\n",
      "Epoch: 0037 loss = 4.742211\n",
      "Epoch: 0038 loss = 4.424788\n",
      "Epoch: 0039 loss = 4.193208\n",
      "Epoch: 0040 loss = 4.306204\n",
      "Epoch: 0041 loss = 4.361516\n",
      "Epoch: 0042 loss = 4.221238\n",
      "Epoch: 0043 loss = 4.343393\n",
      "Epoch: 0044 loss = 4.115577\n",
      "Epoch: 0045 loss = 4.383294\n",
      "Epoch: 0046 loss = 4.461224\n",
      "Epoch: 0047 loss = 4.196252\n",
      "Epoch: 0048 loss = 4.136340\n",
      "Epoch: 0049 loss = 4.935732\n",
      "Epoch: 0050 loss = 4.215615\n",
      "Epoch: 0051 loss = 4.409335\n",
      "Epoch: 0052 loss = 4.261002\n",
      "Epoch: 0053 loss = 4.183228\n",
      "Epoch: 0054 loss = 4.017663\n",
      "Epoch: 0055 loss = 3.987621\n",
      "Epoch: 0056 loss = 4.024811\n",
      "Epoch: 0057 loss = 3.994486\n",
      "Epoch: 0058 loss = 4.205828\n",
      "Epoch: 0059 loss = 4.064998\n",
      "Epoch: 0060 loss = 4.112037\n",
      "Epoch: 0061 loss = 4.203604\n",
      "Epoch: 0062 loss = 3.925278\n",
      "Epoch: 0063 loss = 4.199159\n",
      "Epoch: 0064 loss = 3.970383\n",
      "Epoch: 0065 loss = 4.257420\n",
      "Epoch: 0066 loss = 4.860774\n",
      "Epoch: 0067 loss = 4.398466\n",
      "Epoch: 0068 loss = 4.675474\n",
      "Epoch: 0069 loss = 4.040465\n",
      "Epoch: 0070 loss = 4.394453\n",
      "Epoch: 0071 loss = 4.125273\n",
      "Epoch: 0072 loss = 4.050708\n",
      "Epoch: 0073 loss = 3.942549\n",
      "Epoch: 0074 loss = 4.202658\n",
      "Epoch: 0075 loss = 4.596604\n",
      "Epoch: 0076 loss = 3.980060\n",
      "Epoch: 0077 loss = 4.634047\n",
      "Epoch: 0078 loss = 4.039700\n",
      "Epoch: 0079 loss = 4.000593\n",
      "Epoch: 0080 loss = 4.344740\n",
      "Epoch: 0081 loss = 4.895820\n",
      "Epoch: 0082 loss = 3.958120\n",
      "Epoch: 0083 loss = 4.260721\n",
      "Epoch: 0084 loss = 4.058965\n",
      "Epoch: 0085 loss = 3.877272\n",
      "Epoch: 0086 loss = 3.902039\n",
      "Epoch: 0087 loss = 4.105318\n",
      "Epoch: 0088 loss = 3.859956\n",
      "Epoch: 0089 loss = 3.956426\n",
      "Epoch: 0090 loss = 3.984031\n",
      "Epoch: 0091 loss = 3.963805\n",
      "Epoch: 0092 loss = 3.817023\n",
      "Epoch: 0093 loss = 3.958049\n",
      "Epoch: 0094 loss = 3.779856\n",
      "Epoch: 0095 loss = 3.934688\n",
      "Epoch: 0096 loss = 4.056383\n",
      "Epoch: 0097 loss = 4.104520\n",
      "Epoch: 0098 loss = 4.561491\n",
      "Epoch: 0099 loss = 4.010351\n",
      "Epoch: 0100 loss = 3.969906\n",
      "Epoch: 0101 loss = 3.801766\n",
      "Epoch: 0102 loss = 4.093255\n",
      "Epoch: 0103 loss = 4.478009\n",
      "Epoch: 0104 loss = 3.764153\n",
      "Epoch: 0105 loss = 3.705149\n",
      "Epoch: 0106 loss = 4.102653\n",
      "Epoch: 0107 loss = 3.766253\n",
      "Epoch: 0108 loss = 3.768733\n",
      "Epoch: 0109 loss = 4.099114\n",
      "Epoch: 0110 loss = 3.738477\n",
      "Epoch: 0111 loss = 3.871451\n",
      "Epoch: 0112 loss = 3.844799\n",
      "Epoch: 0113 loss = 4.158759\n",
      "Epoch: 0114 loss = 3.657961\n",
      "Epoch: 0115 loss = 3.634711\n",
      "Epoch: 0116 loss = 3.939961\n",
      "Epoch: 0117 loss = 3.620371\n",
      "Epoch: 0118 loss = 3.737265\n",
      "Epoch: 0119 loss = 4.280618\n",
      "Epoch: 0120 loss = 3.625437\n",
      "Epoch: 0121 loss = 3.719497\n",
      "Epoch: 0122 loss = 3.720293\n",
      "Epoch: 0123 loss = 3.681683\n",
      "Epoch: 0124 loss = 3.651378\n",
      "Epoch: 0125 loss = 3.729222\n",
      "Epoch: 0126 loss = 3.709957\n",
      "Epoch: 0127 loss = 4.186714\n",
      "Epoch: 0128 loss = 3.581055\n",
      "Epoch: 0129 loss = 3.545193\n",
      "Epoch: 0130 loss = 3.869305\n",
      "Epoch: 0131 loss = 3.686232\n",
      "Epoch: 0132 loss = 3.650549\n",
      "Epoch: 0133 loss = 3.531657\n",
      "Epoch: 0134 loss = 3.678414\n",
      "Epoch: 0135 loss = 3.620096\n",
      "Epoch: 0136 loss = 3.561967\n",
      "Epoch: 0137 loss = 3.530575\n",
      "Epoch: 0138 loss = 3.552576\n",
      "Epoch: 0139 loss = 3.484983\n",
      "Epoch: 0140 loss = 3.550504\n",
      "Epoch: 0141 loss = 3.572016\n",
      "Epoch: 0142 loss = 3.539838\n",
      "Epoch: 0143 loss = 3.658468\n",
      "Epoch: 0144 loss = 4.048871\n",
      "Epoch: 0145 loss = 3.602885\n",
      "Epoch: 0146 loss = 3.540921\n",
      "Epoch: 0147 loss = 3.573377\n",
      "Epoch: 0148 loss = 3.500143\n",
      "Epoch: 0149 loss = 3.553544\n",
      "Epoch: 0150 loss = 3.558819\n",
      "best_loss::| 3.4849830716848373 ---best_epoch::| 138\n",
      "CPU times: user 5min 14s, sys: 20.8 s, total: 5min 34s\n",
      "Wall time: 2min 52s\n"
     ]
    }
   ],
   "source": [
    "%%time\n",
    "best_loss = 100000\n",
    "best_epoch = 0\n",
    "for epoch in range(150):\n",
    "    epoch_loss = 0\n",
    "    for X, y in train_data_loader:\n",
    "        X, y = X.to(device), y.to(device)\n",
    "        # 教师模型预测\n",
    "        with torch.no_grad():\n",
    "            teacher_outputs = teacher_model(X, y)\n",
    "            teacher_outputs = teacher_outputs.squeeze(0)\n",
    "        # 学生模型预测\n",
    "        student_outputs = model(X.unsqueeze(2))\n",
    "        # student_outputs = student_outputs[0]\n",
    "\n",
    "        # student_loss = hard_loss(student_outputs, y)\n",
    "        # # 计算蒸馏后的预测结果及soft_loss\n",
    "        # distillation_loss = soft_loss(\n",
    "        #     F.softmax(student_outputs/T, dim=1),\n",
    "        #     F.softmax(teacher_outputs/T, dim=1)\n",
    "        # )\n",
    "        # # 将 hard_loss 和 soft_loss 加权求和\n",
    "        # loss = alpha * student_loss + (1-alpha) * distillation_loss\n",
    "        # 回归损失\n",
    "        ls = loss2(student_outputs, y)\n",
    "        lt = loss2(teacher_outputs, y)\n",
    "        loss = loss1(student_outputs, y)  # smooth loss\n",
    "        if ls.item() + m > lt.item():  # bound loss\n",
    "            loss += beta * ls\n",
    "        # 反向传播,优化权重\n",
    "        optimizer.zero_grad()\n",
    "        epoch_loss += loss.item()\n",
    "        loss.backward()\n",
    "        torch.nn.utils.clip_grad_norm_(model.parameters(), 0.5)\n",
    "        optimizer.step()\n",
    "\n",
    "    if epoch_loss < best_loss:\n",
    "        best_loss = epoch_loss\n",
    "        best_epoch = epoch\n",
    "        best_model_wts = copy.deepcopy(model.state_dict())\n",
    "        torch.save(best_model_wts, './result/distillation_weight.pth')\n",
    "\n",
    "    print('Epoch:', '%04d' % (epoch + 1), 'loss =', '{:.6f}'.format(epoch_loss))\n",
    "\n",
    "# 打印最佳的结果\n",
    "print('best_loss::|',best_loss,'---best_epoch::|',best_epoch)\n"
   ]
  },
  {
   "cell_type": "markdown",
   "metadata": {},
   "source": [
    "### 蒸馏模型评估"
   ]
  },
  {
   "cell_type": "code",
   "execution_count": 28,
   "outputs": [
    {
     "name": "stdout",
     "output_type": "stream",
     "text": [
      "{'mae': 0.3189649, 'mse': 0.19230638, 'rmse': 0.43852751845720783, 'evs': 0.9072008430957794, 'r2': 0.9057464743449262, 'mmax': 1.3549786, 'mmin': 0.0070975423}\n"
     ]
    }
   ],
   "source": [
    "model = StudentGRU()\n",
    "model.load_state_dict(torch.load('./result/distillation_weight.pth'))\n",
    "model.eval()\n",
    "\n",
    "pxy = model(X_test.unsqueeze(2))\n",
    "pxy = pxy.cpu().detach().numpy()\n",
    "# 计算指标\n",
    "mae = mean_absolute_error(y_test, pxy)\n",
    "mse = mean_squared_error(y_test, pxy)\n",
    "rmse = mse ** 0.5\n",
    "evs = explained_variance_score(y_test, pxy)\n",
    "r2 = r2_score(y_test, pxy)\n",
    "\n",
    "mmax = 0\n",
    "mmin = 10000\n",
    "for i in range(len(pxy)):\n",
    "    mmax = max(mean_absolute_error(y_test[i], pxy[i]), mmax)\n",
    "    mmin = min(mean_absolute_error(y_test[i], pxy[i]), mmin)\n",
    "\n",
    "print({'mae': mae, 'mse': mse, 'rmse': rmse, 'evs': evs, 'r2': r2, 'mmax': mmax, 'mmin': mmin})\n"
   ],
   "metadata": {
    "collapsed": false
   }
  },
  {
   "cell_type": "markdown",
   "source": [
    "### 蒸馏模型定位效果可视化"
   ],
   "metadata": {
    "collapsed": false
   }
  },
  {
   "cell_type": "code",
   "execution_count": 29,
   "outputs": [
    {
     "data": {
      "text/plain": "       X     y        PX        Py\n0   0.21  3.47  0.772327  3.905186\n1   1.13  1.96  1.234808  1.544316\n2   3.38  2.58  3.269284  1.728631\n3   4.07  2.72  3.970196  3.178779\n4   1.58  2.47  1.762700  1.832177\n5   3.43  1.61  2.762077  1.688652\n6   1.22  0.74  1.591895  0.707517\n7   2.33  1.97  2.265127  1.450960\n8   0.33  3.56  0.733696  4.180948\n9   3.53  4.28  3.489599  3.862355\n10  4.42  3.69  4.277150  3.577917\n11  3.67  0.34  3.348949  0.625456\n12  2.57  0.37  2.503411  0.392482\n13  3.14  3.22  2.958080  3.402953\n14  4.76  3.34  4.522445  3.203265\n15  1.70  3.71  1.839262  4.375645\n16  3.50  1.20  3.185382  1.491223\n17  0.68  4.65  0.883293  4.517286\n18  1.09  4.59  1.396120  4.161543\n19  0.25  3.70  0.728156  3.398778",
      "text/html": "<div>\n<style scoped>\n    .dataframe tbody tr th:only-of-type {\n        vertical-align: middle;\n    }\n\n    .dataframe tbody tr th {\n        vertical-align: top;\n    }\n\n    .dataframe thead th {\n        text-align: right;\n    }\n</style>\n<table border=\"1\" class=\"dataframe\">\n  <thead>\n    <tr style=\"text-align: right;\">\n      <th></th>\n      <th>X</th>\n      <th>y</th>\n      <th>PX</th>\n      <th>Py</th>\n    </tr>\n  </thead>\n  <tbody>\n    <tr>\n      <th>0</th>\n      <td>0.21</td>\n      <td>3.47</td>\n      <td>0.772327</td>\n      <td>3.905186</td>\n    </tr>\n    <tr>\n      <th>1</th>\n      <td>1.13</td>\n      <td>1.96</td>\n      <td>1.234808</td>\n      <td>1.544316</td>\n    </tr>\n    <tr>\n      <th>2</th>\n      <td>3.38</td>\n      <td>2.58</td>\n      <td>3.269284</td>\n      <td>1.728631</td>\n    </tr>\n    <tr>\n      <th>3</th>\n      <td>4.07</td>\n      <td>2.72</td>\n      <td>3.970196</td>\n      <td>3.178779</td>\n    </tr>\n    <tr>\n      <th>4</th>\n      <td>1.58</td>\n      <td>2.47</td>\n      <td>1.762700</td>\n      <td>1.832177</td>\n    </tr>\n    <tr>\n      <th>5</th>\n      <td>3.43</td>\n      <td>1.61</td>\n      <td>2.762077</td>\n      <td>1.688652</td>\n    </tr>\n    <tr>\n      <th>6</th>\n      <td>1.22</td>\n      <td>0.74</td>\n      <td>1.591895</td>\n      <td>0.707517</td>\n    </tr>\n    <tr>\n      <th>7</th>\n      <td>2.33</td>\n      <td>1.97</td>\n      <td>2.265127</td>\n      <td>1.450960</td>\n    </tr>\n    <tr>\n      <th>8</th>\n      <td>0.33</td>\n      <td>3.56</td>\n      <td>0.733696</td>\n      <td>4.180948</td>\n    </tr>\n    <tr>\n      <th>9</th>\n      <td>3.53</td>\n      <td>4.28</td>\n      <td>3.489599</td>\n      <td>3.862355</td>\n    </tr>\n    <tr>\n      <th>10</th>\n      <td>4.42</td>\n      <td>3.69</td>\n      <td>4.277150</td>\n      <td>3.577917</td>\n    </tr>\n    <tr>\n      <th>11</th>\n      <td>3.67</td>\n      <td>0.34</td>\n      <td>3.348949</td>\n      <td>0.625456</td>\n    </tr>\n    <tr>\n      <th>12</th>\n      <td>2.57</td>\n      <td>0.37</td>\n      <td>2.503411</td>\n      <td>0.392482</td>\n    </tr>\n    <tr>\n      <th>13</th>\n      <td>3.14</td>\n      <td>3.22</td>\n      <td>2.958080</td>\n      <td>3.402953</td>\n    </tr>\n    <tr>\n      <th>14</th>\n      <td>4.76</td>\n      <td>3.34</td>\n      <td>4.522445</td>\n      <td>3.203265</td>\n    </tr>\n    <tr>\n      <th>15</th>\n      <td>1.70</td>\n      <td>3.71</td>\n      <td>1.839262</td>\n      <td>4.375645</td>\n    </tr>\n    <tr>\n      <th>16</th>\n      <td>3.50</td>\n      <td>1.20</td>\n      <td>3.185382</td>\n      <td>1.491223</td>\n    </tr>\n    <tr>\n      <th>17</th>\n      <td>0.68</td>\n      <td>4.65</td>\n      <td>0.883293</td>\n      <td>4.517286</td>\n    </tr>\n    <tr>\n      <th>18</th>\n      <td>1.09</td>\n      <td>4.59</td>\n      <td>1.396120</td>\n      <td>4.161543</td>\n    </tr>\n    <tr>\n      <th>19</th>\n      <td>0.25</td>\n      <td>3.70</td>\n      <td>0.728156</td>\n      <td>3.398778</td>\n    </tr>\n  </tbody>\n</table>\n</div>"
     },
     "execution_count": 29,
     "metadata": {},
     "output_type": "execute_result"
    }
   ],
   "source": [
    "y_distill = y_test[:20]\n",
    "pxy = pxy[:20]\n",
    "coor1 = pd.DataFrame(y_distill)\n",
    "coor1.columns = ['X', 'y']\n",
    "\n",
    "coor2 = pd.DataFrame(pxy)\n",
    "coor2.columns = ['PX', 'Py']\n",
    "\n",
    "coor = pd.concat([coor1, coor2], axis=1)\n",
    "coor.to_csv('./result/coordinate_all_distill.csv')\n",
    "coor"
   ],
   "metadata": {
    "collapsed": false
   }
  },
  {
   "cell_type": "code",
   "execution_count": 30,
   "outputs": [
    {
     "data": {
      "text/plain": "<Figure size 720x720 with 1 Axes>",
      "image/png": "[encoded data removed]"
     },
     "metadata": {
      "needs_background": "light"
     },
     "output_type": "display_data"
    }
   ],
   "source": [
    "plt.figure(figsize=[10, 10])\n",
    "plt.xlim((0, 6))\n",
    "plt.ylim((0, 6))\n",
    "plt.ylabel('RFID reader')\n",
    "plt.title('Coordinate Comparison')\n",
    "# 画图-标准坐标\n",
    "plt.scatter(y_distill[:, 0], y_distill[:, 1], c='black', marker='^', label='real position of RFID tag')\n",
    "\n",
    "# 画图-预测EA坐标\n",
    "plt.scatter(pxy[:, 0], pxy[:, 1], c='red', marker='x', label = 'predict position with student GRU')\n",
    "\n",
    "plt.legend()\n",
    "plt.grid('True')\n",
    "plt.savefig('./result/compare_coordinate_distill.jpg', dpi=750, bbox_inches = 'tight')"
   ],
   "metadata": {
    "collapsed": false
   }
  },
  {
   "cell_type": "markdown",
   "source": [
    "|### 定义问题类"
   ],
   "metadata": {
    "collapsed": false
   }
  },
  {
   "cell_type": "code",
   "execution_count": 19,
   "metadata": {
    "collapsed": false,
    "jupyter": {
     "outputs_hidden": false
    }
   },
   "outputs": [],
   "source": [
    "class MOEA(ea.Problem):\n",
    "    def __init__(self, train_data_loader, test_data_loader):\n",
    "        name = 'MOEA'\n",
    "        M = 1 # 初始化M（目标维数）\n",
    "        maxormins = [-1] # 初始化maxormins（目标最小最大化标记列表，1：最小化该目标；-1：最大化该目标）\n",
    "        Dim = 2 # 初始化Dim（决策变量维数）\n",
    "        varTypes = np.array([0] * Dim) # 初始化varTypes 0-连续\n",
    "        lb = [5, 0.1] # 决策变量下界\n",
    "        ub = [10, 0.9] # 决策变量上界\n",
    "        lbin = [1] * Dim # 决策变量下边界（0表示不包含该变量的下边界，1表示包含）\n",
    "        ubin = [1] * Dim # 决策变量上边界（0表示不包含该变量的上边界，1表示包含）\n",
    "        # 调用父类构造方法完成实例化\n",
    "        ea.Problem.__init__(self, name, M, maxormins, Dim, varTypes, lb, ub, lbin, ubin)\n",
    "        # 数据设置\n",
    "        self.train_data_loader = train_data_loader\n",
    "        self.test_data_loader = test_data_loader\n",
    "\n",
    "\n",
    "    # 目标函数，采用多线程加速计算\n",
    "    def aimFunc(self, pop):\n",
    "        Vars = pop.Phen # 得到决策变量矩阵\n",
    "        # print(Vars)\n",
    "        pop.ObjV = np.zeros((pop.sizes, 1)) # 初始化种群个体目标函数值列向量\n",
    "        def subAimFunc(i):\n",
    "            epochs, alpha = int(Vars[i, 0]), float(Vars[i, 1])\n",
    "            print(epochs, alpha)\n",
    "            final_loss = 0\n",
    "            for epoch in range(epochs):\n",
    "                for data,targets in tqdm(train_data_loader):\n",
    "                    data, targets = data.to(device), targets.to(device)\n",
    "                    # 教师模型预测\n",
    "                    with torch.no_grad():\n",
    "                        teacher_outputs = teacher_model(data)\n",
    "                    # 学生模型预测\n",
    "                    student_outputs = model(data)\n",
    "                    student_loss = hard_loss(student_outputs, targets)\n",
    "                    # 计算蒸馏后的预测结果及soft_loss\n",
    "                    distillation_loss = soft_loss(\n",
    "                        F.softmax(student_outputs/T, dim=1),\n",
    "                        F.softmax(teacher_outputs/T, dim=1)\n",
    "                    )\n",
    "                    # 将 hard_loss 和 soft_loss 加权求和\n",
    "                    loss = alpha * student_loss + (1-alpha) * distillation_loss\n",
    "                    final_loss = loss.item()\n",
    "                    # 反向传播,优化权重\n",
    "                    optimizer.zero_grad()\n",
    "                    loss.backward()\n",
    "                    optimizer.step()\n",
    "\n",
    "            pop.ObjV[i] = final_loss # 最小化最终的损失作为目标函数\n",
    "        pool = ThreadPool(processes=2) # 设置池的大小\n",
    "        pool.map(subAimFunc, list(range(pop.sizes))) # 散列种群每个个体进行加速计算\n",
    "\n",
    "\n",
    "    # 代入优化后的参数先训练再对测试集进行检验，计算指标\n",
    "    def test(self, epochs, alpha):\n",
    "        for epoch in range(epochs):\n",
    "            for data,targets in tqdm(train_data_loader):\n",
    "                data, targets = data.to(device), targets.to(device)\n",
    "                # 教师模型预测\n",
    "                with torch.no_grad():\n",
    "                    teacher_outputs = teacher_model(data)\n",
    "                # 学生模型预测\n",
    "                student_outputs = model(data)\n",
    "                student_loss = hard_loss(student_outputs, targets)\n",
    "                # 计算蒸馏后的预测结果及soft_loss\n",
    "                distillation_loss = soft_loss(\n",
    "                    F.softmax(student_outputs/T, dim=1),\n",
    "                    F.softmax(teacher_outputs/T, dim=1)\n",
    "                )\n",
    "                # 将 hard_loss 和 soft_loss 加权求和\n",
    "                loss = alpha * student_loss + (1-alpha) * distillation_loss\n",
    "                # 反向传播,优化权重\n",
    "                optimizer.zero_grad()\n",
    "                loss.backward()\n",
    "                optimizer.step()\n",
    "\n",
    "            # 测试集上评估性能\n",
    "            model.eval()\n",
    "            num_correct = 0\n",
    "            num_samples = 0\n",
    "\n",
    "            with torch.no_grad():\n",
    "                for x,y in test_data_loader:\n",
    "                    x, y = x.to(device), y.to(device)\n",
    "                    outputs = model(x)\n",
    "                    pred = outputs.max(1).indices\n",
    "                    num_correct += (pred == y).sum()\n",
    "                    num_samples += pred.size(0)\n",
    "                acc = (num_correct/num_samples).item()\n",
    "\n",
    "            model.train()\n",
    "            print(\"Epoch:{}\\t Accuracy:{:4f}\".format(epoch + 1, acc))\n",
    "\n",
    "        torch.save(model.state_dict(), \"./models/moea_distillation.pth\")\n",
    "\n"
   ]
  },
  {
   "cell_type": "markdown",
   "source": [
    "### 参数调优"
   ],
   "metadata": {
    "collapsed": false
   }
  },
  {
   "cell_type": "code",
   "execution_count": 20,
   "outputs": [
    {
     "name": "stdout",
     "output_type": "stream",
     "text": [
      "7 0.3189171239733696\n"
     ]
    },
    {
     "name": "stderr",
     "output_type": "stream",
     "text": [
      "\n"
     ]
    },
    {
     "name": "stdout",
     "output_type": "stream",
     "text": [
      "6 0.2855765145272017\n"
     ]
    },
    {
     "name": "stderr",
     "output_type": "stream",
     "text": [
      "  0%|          | 0/938 [00:00<?, ?it/s]\u001B[A\n",
      "\n",
      "  0%|          | 2/938 [00:00<00:54, 17.05it/s]\n"
     ]
    },
    {
     "name": "stdout",
     "output_type": "stream",
     "text": [
      "6 0.8424268286675215\n"
     ]
    },
    {
     "name": "stderr",
     "output_type": "stream",
     "text": [
      "\n",
      "  0%|          | 0/938 [00:00<?, ?it/s]\u001B[A\n",
      "\n",
      "  0%|          | 3/938 [00:00<00:39, 23.75it/s]\u001B[A\u001B[A\n",
      "  0%|          | 2/938 [00:00<00:52, 17.78it/s]\u001B[A\n",
      "\n",
      "  1%|          | 6/938 [00:00<00:44, 20.86it/s]\u001B[A\u001B[A\n",
      "  0%|          | 4/938 [00:00<00:51, 18.15it/s]\u001B[A\n",
      "\n",
      " 94%|█████████▎| 878/938 [00:08<00:01, 36.62it/s]A\u001B[A\n",
      " 94%|█████████▎| 878/938 [00:08<00:00, 102.62it/s]\n",
      "\n",
      "\n",
      "  1%|          | 9/938 [00:00<00:48, 19.11it/s]]\u001B[A\u001B[A\n"
     ]
    },
    {
     "name": "stdout",
     "output_type": "stream",
     "text": [
      "6 0.8656420316547155\n"
     ]
    },
    {
     "name": "stderr",
     "output_type": "stream",
     "text": [
      "  0%|          | 0/938 [00:00<?, ?it/s]\n",
      "\n",
      "  0%|          | 1/938 [00:00<01:05, 14.39it/s]]\u001B[A\u001B[A\n"
     ]
    },
    {
     "name": "stdout",
     "output_type": "stream",
     "text": [
      "9 0.6277091335505247\n"
     ]
    },
    {
     "name": "stderr",
     "output_type": "stream",
     "text": [
      "  0%|          | 0/938 [00:00<?, ?it/s]\n",
      "\n",
      "  0%|          | 4/938 [00:00<00:25, 37.06it/s]]\u001B[A\u001B[A\n",
      "\n",
      "  1%|          | 10/938 [00:00<00:26, 34.80it/s]\u001B[A\u001B[A\n",
      "\n",
      "\n",
      "  3%|▎         | 31/938 [00:00<00:23, 38.58it/s]\u001B[A\u001B[A\n",
      "\n",
      "  4%|▍         | 38/938 [00:01<00:19, 45.81it/s]\u001B[A\u001B[A\n",
      "\n",
      "  5%|▍         | 46/938 [00:01<00:16, 54.51it/s]\u001B[A\u001B[A\n",
      "\n",
      "  6%|▌         | 54/938 [00:01<00:14, 61.32it/s]\u001B[A\u001B[A\n",
      "\n",
      "  7%|▋         | 65/938 [00:01<00:11, 74.37it/s]\u001B[A\u001B[A\n",
      "\n",
      "  8%|▊         | 76/938 [00:01<00:10, 83.75it/s]\u001B[A\u001B[A\n",
      "\n",
      "  9%|▉         | 86/938 [00:01<00:09, 88.29it/s]\u001B[A\u001B[A\n",
      "\n",
      " 10%|█         | 96/938 [00:01<00:09, 89.71it/s]\u001B[A\u001B[A\n",
      "\n",
      " 11%|█▏        | 106/938 [00:01<00:09, 85.26it/s]\u001B[A\u001B[A\n",
      "\n",
      " 12%|█▏        | 116/938 [00:01<00:09, 87.53it/s]\u001B[A\u001B[A\n",
      "\n",
      " 13%|█▎        | 125/938 [00:02<00:09, 87.56it/s]\u001B[A\u001B[A\n",
      "\n",
      " 14%|█▍        | 134/938 [00:02<00:09, 86.86it/s]\u001B[A\u001B[A\n",
      "\n",
      " 15%|█▌        | 143/938 [00:02<00:09, 87.52it/s]\u001B[A\u001B[A\n",
      "\n",
      " 16%|█▌        | 152/938 [00:02<00:09, 86.56it/s]\u001B[A\u001B[A\n",
      "\n",
      " 17%|█▋        | 163/938 [00:02<00:08, 92.49it/s]\u001B[A\u001B[A\n",
      "\n",
      " 19%|█▊        | 174/938 [00:02<00:08, 95.28it/s]\u001B[A\u001B[A\n",
      "\n",
      " 20%|█▉        | 184/938 [00:02<00:08, 92.35it/s]\u001B[A\u001B[A\n",
      "\n",
      " 21%|██        | 194/938 [00:02<00:08, 92.09it/s]\u001B[A\u001B[A\n",
      "\n",
      " 22%|██▏       | 205/938 [00:02<00:07, 96.28it/s]\u001B[A\u001B[A\n",
      "\n",
      " 23%|██▎       | 216/938 [00:03<00:07, 99.24it/s]\u001B[A\u001B[A\n",
      "\n",
      " 24%|██▍       | 226/938 [00:03<00:07, 97.81it/s]\u001B[A\u001B[A\n",
      "\n",
      " 25%|██▌       | 237/938 [00:03<00:07, 100.07it/s]\u001B[A\u001B[A\n",
      "\n",
      " 26%|██▋       | 248/938 [00:03<00:06, 101.80it/s]\u001B[A\u001B[A\n",
      "\n",
      " 28%|██▊       | 260/938 [00:03<00:06, 104.55it/s]\u001B[A\u001B[A\n",
      "\n",
      " 29%|██▉       | 272/938 [00:03<00:06, 106.73it/s]\u001B[A\u001B[A\n",
      "\n",
      " 30%|███       | 283/938 [00:03<00:06, 105.86it/s]\u001B[A\u001B[A\n",
      "\n",
      " 31%|███▏      | 295/938 [00:03<00:05, 107.48it/s]\u001B[A\u001B[A\n",
      "\n",
      " 33%|███▎      | 306/938 [00:03<00:05, 107.78it/s]\u001B[A\u001B[A\n",
      "\n",
      " 34%|███▍      | 317/938 [00:03<00:05, 106.38it/s]\u001B[A\u001B[A\n",
      "\n",
      " 35%|███▍      | 328/938 [00:04<00:05, 105.85it/s]\u001B[A\u001B[A\n",
      "\n",
      " 36%|███▌      | 339/938 [00:04<00:05, 107.02it/s]\u001B[A\u001B[A\n",
      "\n",
      " 37%|███▋      | 351/938 [00:04<00:05, 108.31it/s]\u001B[A\u001B[A\n",
      "\n",
      " 39%|███▊      | 362/938 [00:04<00:05, 106.19it/s]\u001B[A\u001B[A\n",
      "\n",
      " 40%|███▉      | 374/938 [00:04<00:05, 107.98it/s]\u001B[A\u001B[A\n",
      "\n",
      " 41%|████      | 385/938 [00:04<00:05, 106.42it/s]\u001B[A\u001B[A\n",
      "\n",
      " 42%|████▏     | 397/938 [00:04<00:04, 108.32it/s]\u001B[A\u001B[A\n",
      "\n",
      " 44%|████▎     | 409/938 [00:04<00:04, 109.17it/s]\u001B[A\u001B[A\n",
      "\n",
      " 45%|████▍     | 421/938 [00:04<00:04, 111.22it/s]\u001B[A\u001B[A\n",
      "\n",
      " 46%|████▌     | 433/938 [00:05<00:04, 112.78it/s]\u001B[A\u001B[A\n",
      "\n",
      " 47%|████▋     | 445/938 [00:05<00:04, 111.32it/s]\u001B[A\u001B[A\n",
      "\n",
      " 49%|████▊     | 457/938 [00:05<00:04, 112.26it/s]\u001B[A\u001B[A\n",
      "\n",
      " 50%|█████     | 469/938 [00:05<00:04, 108.13it/s]\u001B[A\u001B[A\n",
      "\n",
      " 51%|█████▏    | 481/938 [00:05<00:04, 110.86it/s]\u001B[A\u001B[A\n",
      "\n",
      " 53%|█████▎    | 493/938 [00:05<00:03, 111.45it/s]\u001B[A\u001B[A\n",
      "\n",
      " 54%|█████▍    | 505/938 [00:05<00:03, 111.51it/s]\u001B[A\u001B[A\n",
      "\n",
      " 55%|█████▌    | 517/938 [00:05<00:03, 112.92it/s]\u001B[A\u001B[A\n",
      "\n",
      " 56%|█████▋    | 529/938 [00:05<00:03, 113.03it/s]\u001B[A\u001B[A\n",
      "\n",
      " 58%|█████▊    | 541/938 [00:05<00:03, 113.82it/s]\u001B[A\u001B[A\n",
      "\n",
      " 59%|█████▉    | 553/938 [00:06<00:03, 112.10it/s]\u001B[A\u001B[A\n",
      "\n",
      " 60%|██████    | 565/938 [00:06<00:03, 113.01it/s]\u001B[A\u001B[A\n",
      "\n",
      " 62%|██████▏   | 577/938 [00:06<00:03, 113.99it/s]\u001B[A\u001B[A\n",
      "\n",
      " 63%|██████▎   | 589/938 [00:06<00:03, 114.94it/s]\u001B[A\u001B[A\n",
      "\n",
      " 64%|██████▍   | 601/938 [00:06<00:02, 115.34it/s]\u001B[A\u001B[A\n",
      "\n",
      " 65%|██████▌   | 613/938 [00:06<00:02, 112.19it/s]\u001B[A\u001B[A\n",
      "\n",
      " 67%|██████▋   | 625/938 [00:06<00:02, 113.47it/s]\u001B[A\u001B[A\n",
      "\n",
      " 68%|██████▊   | 637/938 [00:06<00:02, 114.37it/s]\u001B[A\u001B[A\n",
      "\n",
      " 69%|██████▉   | 649/938 [00:06<00:02, 114.63it/s]\u001B[A\u001B[A\n",
      "\n",
      " 70%|███████   | 661/938 [00:07<00:02, 115.88it/s]\u001B[A\u001B[A\n",
      "\n",
      " 72%|███████▏  | 673/938 [00:07<00:02, 115.04it/s]\u001B[A\u001B[A\n",
      "\n",
      " 73%|███████▎  | 685/938 [00:07<00:02, 106.64it/s]\u001B[A\u001B[A\n",
      "\n",
      " 74%|███████▍  | 696/938 [00:07<00:02, 105.78it/s]\u001B[A\u001B[A\n",
      "\n",
      " 75%|███████▌  | 708/938 [00:07<00:02, 109.10it/s]\u001B[A\u001B[A\n",
      "\n",
      " 77%|███████▋  | 719/938 [00:07<00:02, 106.84it/s]\u001B[A\u001B[A\n",
      "\n",
      " 78%|███████▊  | 731/938 [00:07<00:01, 109.64it/s]\u001B[A\u001B[A\n",
      "\n",
      " 79%|███████▉  | 743/938 [00:07<00:01, 112.57it/s]\u001B[A\u001B[A\n",
      "\n",
      " 80%|████████  | 755/938 [00:07<00:01, 113.94it/s]\u001B[A\u001B[A\n",
      "\n",
      " 82%|████████▏ | 767/938 [00:08<00:01, 110.85it/s]\u001B[A\u001B[A\n",
      "\n",
      " 83%|████████▎ | 779/938 [00:08<00:01, 109.68it/s]\u001B[A\u001B[A\n",
      "\n",
      " 84%|████████▍ | 791/938 [00:08<00:01, 112.01it/s]\u001B[A\u001B[A\n",
      "\n",
      " 86%|████████▌ | 803/938 [00:08<00:01, 105.82it/s]\u001B[A\u001B[A\n",
      "\n",
      " 87%|████████▋ | 814/938 [00:08<00:01, 103.05it/s]\u001B[A\u001B[A\n",
      "\n",
      " 88%|████████▊ | 825/938 [00:08<00:01, 103.50it/s]\u001B[A\u001B[A\n",
      "\n",
      " 89%|████████▉ | 836/938 [00:08<00:00, 104.69it/s]\u001B[A\u001B[A\n",
      "\n",
      " 90%|█████████ | 848/938 [00:08<00:00, 106.85it/s]\u001B[A\u001B[A\n",
      "\n",
      " 92%|█████████▏| 859/938 [00:08<00:00, 106.82it/s]\u001B[A\u001B[A\n",
      "\n",
      " 93%|█████████▎| 871/938 [00:09<00:00, 108.03it/s]\u001B[A\u001B[A\n",
      "\n",
      " 94%|█████████▍| 882/938 [00:09<00:00, 104.92it/s]\u001B[A\u001B[A\n",
      "\n",
      " 95%|█████████▌| 893/938 [00:09<00:00, 104.17it/s]\u001B[A\u001B[A\n",
      "\n",
      " 96%|█████████▋| 904/938 [00:09<00:00, 99.99it/s] \u001B[A\u001B[A\n",
      "\n",
      " 98%|█████████▊| 915/938 [00:09<00:00, 100.10it/s]\u001B[A\u001B[A\n",
      "\n",
      " 99%|█████████▊| 926/938 [00:09<00:00, 101.01it/s]\u001B[A\u001B[A\n",
      "\n",
      "100%|██████████| 938/938 [00:09<00:00, 96.68it/s] \u001B[A\u001B[A\n",
      "100%|██████████| 938/938 [00:08<00:00, 114.38it/s]\n",
      "100%|██████████| 938/938 [00:08<00:00, 105.10it/s]\n",
      "100%|██████████| 938/938 [00:08<00:00, 112.47it/s]\n",
      "100%|██████████| 938/938 [00:08<00:00, 114.13it/s]\n",
      "100%|██████████| 938/938 [00:08<00:00, 110.99it/s]\n"
     ]
    },
    {
     "name": "stdout",
     "output_type": "stream",
     "text": [
      "8 0.2740337282419205\n"
     ]
    },
    {
     "name": "stderr",
     "output_type": "stream",
     "text": [
      "100%|██████████| 938/938 [00:08<00:00, 109.97it/s]\n",
      "100%|██████████| 938/938 [00:07<00:00, 118.57it/s]\n",
      "100%|██████████| 938/938 [00:08<00:00, 108.56it/s]\n",
      "100%|██████████| 938/938 [00:08<00:00, 114.24it/s]\n",
      "100%|██████████| 938/938 [00:08<00:00, 104.54it/s]\n",
      "100%|██████████| 938/938 [00:08<00:00, 114.32it/s]\n",
      "100%|██████████| 938/938 [00:08<00:00, 106.33it/s]\n",
      "100%|██████████| 938/938 [00:08<00:00, 116.82it/s]\n"
     ]
    },
    {
     "ename": "RuntimeError",
     "evalue": "one of the variables needed for gradient computation has been modified by an inplace operation: [torch.FloatTensor [20, 10]], which is output 0 of AsStridedBackward0, is at version 23416; expected version 23415 instead. Hint: enable anomaly detection to find the operation that failed to compute its gradient, with torch.autograd.set_detect_anomaly(True).",
     "output_type": "error",
     "traceback": [
      "\u001B[0;31m---------------------------------------------------------------------------\u001B[0m",
      "\u001B[0;31mRuntimeError\u001B[0m                              Traceback (most recent call last)",
      "\u001B[0;32m<ipython-input-20-e006b3843ce3>\u001B[0m in \u001B[0;36m<module>\u001B[0;34m\u001B[0m\n\u001B[1;32m     22\u001B[0m \u001B[0;34m\"\"\"===========================调用算法模板进行种群进化=======================\"\"\"\u001B[0m\u001B[0;34m\u001B[0m\u001B[0;34m\u001B[0m\u001B[0m\n\u001B[1;32m     23\u001B[0m \u001B[0;34m\u001B[0m\u001B[0m\n\u001B[0;32m---> 24\u001B[0;31m \u001B[0;34m[\u001B[0m\u001B[0mBestIndi\u001B[0m\u001B[0;34m,\u001B[0m \u001B[0mpopulation\u001B[0m\u001B[0;34m]\u001B[0m \u001B[0;34m=\u001B[0m \u001B[0mmyAlgorithm\u001B[0m\u001B[0;34m.\u001B[0m\u001B[0mrun\u001B[0m\u001B[0;34m(\u001B[0m\u001B[0;34m)\u001B[0m  \u001B[0;31m# 执行算法模板，得到最优个体以及最后一代种群\u001B[0m\u001B[0;34m\u001B[0m\u001B[0;34m\u001B[0m\u001B[0m\n\u001B[0m\u001B[1;32m     25\u001B[0m \u001B[0mBestIndi\u001B[0m\u001B[0;34m.\u001B[0m\u001B[0msave\u001B[0m\u001B[0;34m(\u001B[0m\u001B[0;34m)\u001B[0m  \u001B[0;31m# 把最优个体的信息保存到文件中\u001B[0m\u001B[0;34m\u001B[0m\u001B[0;34m\u001B[0m\u001B[0m\n\u001B[1;32m     26\u001B[0m \u001B[0;34m\u001B[0m\u001B[0m\n",
      "\u001B[0;32m~/anaconda3/envs/pytorch/lib/python3.8/site-packages/geatpy/templates/soeas/DE/DE_rand_1_bin/soea_DE_rand_1_bin_templet.py\u001B[0m in \u001B[0;36mrun\u001B[0;34m(self, prophetPop)\u001B[0m\n\u001B[1;32m     47\u001B[0m         \u001B[0;31m# ===========================准备进化============================\u001B[0m\u001B[0;34m\u001B[0m\u001B[0;34m\u001B[0m\u001B[0;34m\u001B[0m\u001B[0m\n\u001B[1;32m     48\u001B[0m         \u001B[0mpopulation\u001B[0m\u001B[0;34m.\u001B[0m\u001B[0minitChrom\u001B[0m\u001B[0;34m(\u001B[0m\u001B[0mNIND\u001B[0m\u001B[0;34m)\u001B[0m  \u001B[0;31m# 初始化种群染色体矩阵\u001B[0m\u001B[0;34m\u001B[0m\u001B[0;34m\u001B[0m\u001B[0m\n\u001B[0;32m---> 49\u001B[0;31m         \u001B[0mself\u001B[0m\u001B[0;34m.\u001B[0m\u001B[0mcall_aimFunc\u001B[0m\u001B[0;34m(\u001B[0m\u001B[0mpopulation\u001B[0m\u001B[0;34m)\u001B[0m  \u001B[0;31m# 计算种群的目标函数值\u001B[0m\u001B[0;34m\u001B[0m\u001B[0;34m\u001B[0m\u001B[0m\n\u001B[0m\u001B[1;32m     50\u001B[0m         \u001B[0;31m# 插入先验知识（注意：这里不会对先知种群prophetPop的合法性进行检查，故应确保prophetPop是一个种群类且拥有合法的Chrom、ObjV、Phen等属性）\u001B[0m\u001B[0;34m\u001B[0m\u001B[0;34m\u001B[0m\u001B[0;34m\u001B[0m\u001B[0m\n\u001B[1;32m     51\u001B[0m         \u001B[0;32mif\u001B[0m \u001B[0mprophetPop\u001B[0m \u001B[0;32mis\u001B[0m \u001B[0;32mnot\u001B[0m \u001B[0;32mNone\u001B[0m\u001B[0;34m:\u001B[0m\u001B[0;34m\u001B[0m\u001B[0;34m\u001B[0m\u001B[0m\n",
      "\u001B[0;32m~/anaconda3/envs/pytorch/lib/python3.8/site-packages/geatpy/Algorithm.py\u001B[0m in \u001B[0;36mcall_aimFunc\u001B[0;34m(self, pop)\u001B[0m\n\u001B[1;32m    172\u001B[0m         \u001B[0;32mif\u001B[0m \u001B[0mself\u001B[0m\u001B[0;34m.\u001B[0m\u001B[0mproblem\u001B[0m \u001B[0;32mis\u001B[0m \u001B[0;32mNone\u001B[0m\u001B[0;34m:\u001B[0m\u001B[0;34m\u001B[0m\u001B[0;34m\u001B[0m\u001B[0m\n\u001B[1;32m    173\u001B[0m             \u001B[0;32mraise\u001B[0m \u001B[0mRuntimeError\u001B[0m\u001B[0;34m(\u001B[0m\u001B[0;34m'error: problem has not been initialized. (算法模板中的问题对象未被初始化。)'\u001B[0m\u001B[0;34m)\u001B[0m\u001B[0;34m\u001B[0m\u001B[0;34m\u001B[0m\u001B[0m\n\u001B[0;32m--> 174\u001B[0;31m         \u001B[0mself\u001B[0m\u001B[0;34m.\u001B[0m\u001B[0mproblem\u001B[0m\u001B[0;34m.\u001B[0m\u001B[0maimFunc\u001B[0m\u001B[0;34m(\u001B[0m\u001B[0mpop\u001B[0m\u001B[0;34m)\u001B[0m  \u001B[0;31m# 调用问题类的aimFunc()\u001B[0m\u001B[0;34m\u001B[0m\u001B[0;34m\u001B[0m\u001B[0m\n\u001B[0m\u001B[1;32m    175\u001B[0m         \u001B[0mself\u001B[0m\u001B[0;34m.\u001B[0m\u001B[0mevalsNum\u001B[0m \u001B[0;34m=\u001B[0m \u001B[0mself\u001B[0m\u001B[0;34m.\u001B[0m\u001B[0mevalsNum\u001B[0m \u001B[0;34m+\u001B[0m \u001B[0mpop\u001B[0m\u001B[0;34m.\u001B[0m\u001B[0msizes\u001B[0m \u001B[0;32mif\u001B[0m \u001B[0mself\u001B[0m\u001B[0;34m.\u001B[0m\u001B[0mevalsNum\u001B[0m \u001B[0;32mis\u001B[0m \u001B[0;32mnot\u001B[0m \u001B[0;32mNone\u001B[0m \u001B[0;32melse\u001B[0m \u001B[0mpop\u001B[0m\u001B[0;34m.\u001B[0m\u001B[0msizes\u001B[0m  \u001B[0;31m# 更新评价次数\u001B[0m\u001B[0;34m\u001B[0m\u001B[0;34m\u001B[0m\u001B[0m\n\u001B[1;32m    176\u001B[0m         \u001B[0;31m# 格式检查\u001B[0m\u001B[0;34m\u001B[0m\u001B[0;34m\u001B[0m\u001B[0;34m\u001B[0m\u001B[0m\n",
      "\u001B[0;32m<ipython-input-19-29ea1f645391>\u001B[0m in \u001B[0;36maimFunc\u001B[0;34m(self, pop)\u001B[0m\n\u001B[1;32m     50\u001B[0m             \u001B[0mpop\u001B[0m\u001B[0;34m.\u001B[0m\u001B[0mObjV\u001B[0m\u001B[0;34m[\u001B[0m\u001B[0mi\u001B[0m\u001B[0;34m]\u001B[0m \u001B[0;34m=\u001B[0m \u001B[0mfinal_loss\u001B[0m \u001B[0;31m# 最小化最终的损失作为目标函数\u001B[0m\u001B[0;34m\u001B[0m\u001B[0;34m\u001B[0m\u001B[0m\n\u001B[1;32m     51\u001B[0m         \u001B[0mpool\u001B[0m \u001B[0;34m=\u001B[0m \u001B[0mThreadPool\u001B[0m\u001B[0;34m(\u001B[0m\u001B[0mprocesses\u001B[0m\u001B[0;34m=\u001B[0m\u001B[0;36m2\u001B[0m\u001B[0;34m)\u001B[0m \u001B[0;31m# 设置池的大小\u001B[0m\u001B[0;34m\u001B[0m\u001B[0;34m\u001B[0m\u001B[0m\n\u001B[0;32m---> 52\u001B[0;31m         \u001B[0mpool\u001B[0m\u001B[0;34m.\u001B[0m\u001B[0mmap\u001B[0m\u001B[0;34m(\u001B[0m\u001B[0msubAimFunc\u001B[0m\u001B[0;34m,\u001B[0m \u001B[0mlist\u001B[0m\u001B[0;34m(\u001B[0m\u001B[0mrange\u001B[0m\u001B[0;34m(\u001B[0m\u001B[0mpop\u001B[0m\u001B[0;34m.\u001B[0m\u001B[0msizes\u001B[0m\u001B[0;34m)\u001B[0m\u001B[0;34m)\u001B[0m\u001B[0;34m)\u001B[0m \u001B[0;31m# 散列种群每个个体进行加速计算\u001B[0m\u001B[0;34m\u001B[0m\u001B[0;34m\u001B[0m\u001B[0m\n\u001B[0m\u001B[1;32m     53\u001B[0m \u001B[0;34m\u001B[0m\u001B[0m\n\u001B[1;32m     54\u001B[0m \u001B[0;34m\u001B[0m\u001B[0m\n",
      "\u001B[0;32m~/anaconda3/envs/pytorch/lib/python3.8/multiprocessing/pool.py\u001B[0m in \u001B[0;36mmap\u001B[0;34m(self, func, iterable, chunksize)\u001B[0m\n\u001B[1;32m    362\u001B[0m         \u001B[0;32min\u001B[0m \u001B[0ma\u001B[0m \u001B[0mlist\u001B[0m \u001B[0mthat\u001B[0m \u001B[0;32mis\u001B[0m \u001B[0mreturned\u001B[0m\u001B[0;34m.\u001B[0m\u001B[0;34m\u001B[0m\u001B[0;34m\u001B[0m\u001B[0m\n\u001B[1;32m    363\u001B[0m         '''\n\u001B[0;32m--> 364\u001B[0;31m         \u001B[0;32mreturn\u001B[0m \u001B[0mself\u001B[0m\u001B[0;34m.\u001B[0m\u001B[0m_map_async\u001B[0m\u001B[0;34m(\u001B[0m\u001B[0mfunc\u001B[0m\u001B[0;34m,\u001B[0m \u001B[0miterable\u001B[0m\u001B[0;34m,\u001B[0m \u001B[0mmapstar\u001B[0m\u001B[0;34m,\u001B[0m \u001B[0mchunksize\u001B[0m\u001B[0;34m)\u001B[0m\u001B[0;34m.\u001B[0m\u001B[0mget\u001B[0m\u001B[0;34m(\u001B[0m\u001B[0;34m)\u001B[0m\u001B[0;34m\u001B[0m\u001B[0;34m\u001B[0m\u001B[0m\n\u001B[0m\u001B[1;32m    365\u001B[0m \u001B[0;34m\u001B[0m\u001B[0m\n\u001B[1;32m    366\u001B[0m     \u001B[0;32mdef\u001B[0m \u001B[0mstarmap\u001B[0m\u001B[0;34m(\u001B[0m\u001B[0mself\u001B[0m\u001B[0;34m,\u001B[0m \u001B[0mfunc\u001B[0m\u001B[0;34m,\u001B[0m \u001B[0miterable\u001B[0m\u001B[0;34m,\u001B[0m \u001B[0mchunksize\u001B[0m\u001B[0;34m=\u001B[0m\u001B[0;32mNone\u001B[0m\u001B[0;34m)\u001B[0m\u001B[0;34m:\u001B[0m\u001B[0;34m\u001B[0m\u001B[0;34m\u001B[0m\u001B[0m\n",
      "\u001B[0;32m~/anaconda3/envs/pytorch/lib/python3.8/multiprocessing/pool.py\u001B[0m in \u001B[0;36mget\u001B[0;34m(self, timeout)\u001B[0m\n\u001B[1;32m    769\u001B[0m             \u001B[0;32mreturn\u001B[0m \u001B[0mself\u001B[0m\u001B[0;34m.\u001B[0m\u001B[0m_value\u001B[0m\u001B[0;34m\u001B[0m\u001B[0;34m\u001B[0m\u001B[0m\n\u001B[1;32m    770\u001B[0m         \u001B[0;32melse\u001B[0m\u001B[0;34m:\u001B[0m\u001B[0;34m\u001B[0m\u001B[0;34m\u001B[0m\u001B[0m\n\u001B[0;32m--> 771\u001B[0;31m             \u001B[0;32mraise\u001B[0m \u001B[0mself\u001B[0m\u001B[0;34m.\u001B[0m\u001B[0m_value\u001B[0m\u001B[0;34m\u001B[0m\u001B[0;34m\u001B[0m\u001B[0m\n\u001B[0m\u001B[1;32m    772\u001B[0m \u001B[0;34m\u001B[0m\u001B[0m\n\u001B[1;32m    773\u001B[0m     \u001B[0;32mdef\u001B[0m \u001B[0m_set\u001B[0m\u001B[0;34m(\u001B[0m\u001B[0mself\u001B[0m\u001B[0;34m,\u001B[0m \u001B[0mi\u001B[0m\u001B[0;34m,\u001B[0m \u001B[0mobj\u001B[0m\u001B[0;34m)\u001B[0m\u001B[0;34m:\u001B[0m\u001B[0;34m\u001B[0m\u001B[0;34m\u001B[0m\u001B[0m\n",
      "\u001B[0;32m~/anaconda3/envs/pytorch/lib/python3.8/multiprocessing/pool.py\u001B[0m in \u001B[0;36mworker\u001B[0;34m(inqueue, outqueue, initializer, initargs, maxtasks, wrap_exception)\u001B[0m\n\u001B[1;32m    123\u001B[0m         \u001B[0mjob\u001B[0m\u001B[0;34m,\u001B[0m \u001B[0mi\u001B[0m\u001B[0;34m,\u001B[0m \u001B[0mfunc\u001B[0m\u001B[0;34m,\u001B[0m \u001B[0margs\u001B[0m\u001B[0;34m,\u001B[0m \u001B[0mkwds\u001B[0m \u001B[0;34m=\u001B[0m \u001B[0mtask\u001B[0m\u001B[0;34m\u001B[0m\u001B[0;34m\u001B[0m\u001B[0m\n\u001B[1;32m    124\u001B[0m         \u001B[0;32mtry\u001B[0m\u001B[0;34m:\u001B[0m\u001B[0;34m\u001B[0m\u001B[0;34m\u001B[0m\u001B[0m\n\u001B[0;32m--> 125\u001B[0;31m             \u001B[0mresult\u001B[0m \u001B[0;34m=\u001B[0m \u001B[0;34m(\u001B[0m\u001B[0;32mTrue\u001B[0m\u001B[0;34m,\u001B[0m \u001B[0mfunc\u001B[0m\u001B[0;34m(\u001B[0m\u001B[0;34m*\u001B[0m\u001B[0margs\u001B[0m\u001B[0;34m,\u001B[0m \u001B[0;34m**\u001B[0m\u001B[0mkwds\u001B[0m\u001B[0;34m)\u001B[0m\u001B[0;34m)\u001B[0m\u001B[0;34m\u001B[0m\u001B[0;34m\u001B[0m\u001B[0m\n\u001B[0m\u001B[1;32m    126\u001B[0m         \u001B[0;32mexcept\u001B[0m \u001B[0mException\u001B[0m \u001B[0;32mas\u001B[0m \u001B[0me\u001B[0m\u001B[0;34m:\u001B[0m\u001B[0;34m\u001B[0m\u001B[0;34m\u001B[0m\u001B[0m\n\u001B[1;32m    127\u001B[0m             \u001B[0;32mif\u001B[0m \u001B[0mwrap_exception\u001B[0m \u001B[0;32mand\u001B[0m \u001B[0mfunc\u001B[0m \u001B[0;32mis\u001B[0m \u001B[0;32mnot\u001B[0m \u001B[0m_helper_reraises_exception\u001B[0m\u001B[0;34m:\u001B[0m\u001B[0;34m\u001B[0m\u001B[0;34m\u001B[0m\u001B[0m\n",
      "\u001B[0;32m~/anaconda3/envs/pytorch/lib/python3.8/multiprocessing/pool.py\u001B[0m in \u001B[0;36mmapstar\u001B[0;34m(args)\u001B[0m\n\u001B[1;32m     46\u001B[0m \u001B[0;34m\u001B[0m\u001B[0m\n\u001B[1;32m     47\u001B[0m \u001B[0;32mdef\u001B[0m \u001B[0mmapstar\u001B[0m\u001B[0;34m(\u001B[0m\u001B[0margs\u001B[0m\u001B[0;34m)\u001B[0m\u001B[0;34m:\u001B[0m\u001B[0;34m\u001B[0m\u001B[0;34m\u001B[0m\u001B[0m\n\u001B[0;32m---> 48\u001B[0;31m     \u001B[0;32mreturn\u001B[0m \u001B[0mlist\u001B[0m\u001B[0;34m(\u001B[0m\u001B[0mmap\u001B[0m\u001B[0;34m(\u001B[0m\u001B[0;34m*\u001B[0m\u001B[0margs\u001B[0m\u001B[0;34m)\u001B[0m\u001B[0;34m)\u001B[0m\u001B[0;34m\u001B[0m\u001B[0;34m\u001B[0m\u001B[0m\n\u001B[0m\u001B[1;32m     49\u001B[0m \u001B[0;34m\u001B[0m\u001B[0m\n\u001B[1;32m     50\u001B[0m \u001B[0;32mdef\u001B[0m \u001B[0mstarmapstar\u001B[0m\u001B[0;34m(\u001B[0m\u001B[0margs\u001B[0m\u001B[0;34m)\u001B[0m\u001B[0;34m:\u001B[0m\u001B[0;34m\u001B[0m\u001B[0;34m\u001B[0m\u001B[0m\n",
      "\u001B[0;32m<ipython-input-19-29ea1f645391>\u001B[0m in \u001B[0;36msubAimFunc\u001B[0;34m(i)\u001B[0m\n\u001B[1;32m     45\u001B[0m                     \u001B[0;31m# 反向传播,优化权重\u001B[0m\u001B[0;34m\u001B[0m\u001B[0;34m\u001B[0m\u001B[0;34m\u001B[0m\u001B[0m\n\u001B[1;32m     46\u001B[0m                     \u001B[0moptimizer\u001B[0m\u001B[0;34m.\u001B[0m\u001B[0mzero_grad\u001B[0m\u001B[0;34m(\u001B[0m\u001B[0;34m)\u001B[0m\u001B[0;34m\u001B[0m\u001B[0;34m\u001B[0m\u001B[0m\n\u001B[0;32m---> 47\u001B[0;31m                     \u001B[0mloss\u001B[0m\u001B[0;34m.\u001B[0m\u001B[0mbackward\u001B[0m\u001B[0;34m(\u001B[0m\u001B[0;34m)\u001B[0m\u001B[0;34m\u001B[0m\u001B[0;34m\u001B[0m\u001B[0m\n\u001B[0m\u001B[1;32m     48\u001B[0m                     \u001B[0moptimizer\u001B[0m\u001B[0;34m.\u001B[0m\u001B[0mstep\u001B[0m\u001B[0;34m(\u001B[0m\u001B[0;34m)\u001B[0m\u001B[0;34m\u001B[0m\u001B[0;34m\u001B[0m\u001B[0m\n\u001B[1;32m     49\u001B[0m \u001B[0;34m\u001B[0m\u001B[0m\n",
      "\u001B[0;32m~/anaconda3/envs/pytorch/lib/python3.8/site-packages/torch/_tensor.py\u001B[0m in \u001B[0;36mbackward\u001B[0;34m(self, gradient, retain_graph, create_graph, inputs)\u001B[0m\n\u001B[1;32m    394\u001B[0m                 \u001B[0mcreate_graph\u001B[0m\u001B[0;34m=\u001B[0m\u001B[0mcreate_graph\u001B[0m\u001B[0;34m,\u001B[0m\u001B[0;34m\u001B[0m\u001B[0;34m\u001B[0m\u001B[0m\n\u001B[1;32m    395\u001B[0m                 inputs=inputs)\n\u001B[0;32m--> 396\u001B[0;31m         \u001B[0mtorch\u001B[0m\u001B[0;34m.\u001B[0m\u001B[0mautograd\u001B[0m\u001B[0;34m.\u001B[0m\u001B[0mbackward\u001B[0m\u001B[0;34m(\u001B[0m\u001B[0mself\u001B[0m\u001B[0;34m,\u001B[0m \u001B[0mgradient\u001B[0m\u001B[0;34m,\u001B[0m \u001B[0mretain_graph\u001B[0m\u001B[0;34m,\u001B[0m \u001B[0mcreate_graph\u001B[0m\u001B[0;34m,\u001B[0m \u001B[0minputs\u001B[0m\u001B[0;34m=\u001B[0m\u001B[0minputs\u001B[0m\u001B[0;34m)\u001B[0m\u001B[0;34m\u001B[0m\u001B[0;34m\u001B[0m\u001B[0m\n\u001B[0m\u001B[1;32m    397\u001B[0m \u001B[0;34m\u001B[0m\u001B[0m\n\u001B[1;32m    398\u001B[0m     \u001B[0;32mdef\u001B[0m \u001B[0mregister_hook\u001B[0m\u001B[0;34m(\u001B[0m\u001B[0mself\u001B[0m\u001B[0;34m,\u001B[0m \u001B[0mhook\u001B[0m\u001B[0;34m)\u001B[0m\u001B[0;34m:\u001B[0m\u001B[0;34m\u001B[0m\u001B[0;34m\u001B[0m\u001B[0m\n",
      "\u001B[0;32m~/anaconda3/envs/pytorch/lib/python3.8/site-packages/torch/autograd/__init__.py\u001B[0m in \u001B[0;36mbackward\u001B[0;34m(tensors, grad_tensors, retain_graph, create_graph, grad_variables, inputs)\u001B[0m\n\u001B[1;32m    171\u001B[0m     \u001B[0;31m# some Python versions print out the first line of a multi-line function\u001B[0m\u001B[0;34m\u001B[0m\u001B[0;34m\u001B[0m\u001B[0;34m\u001B[0m\u001B[0m\n\u001B[1;32m    172\u001B[0m     \u001B[0;31m# calls in the traceback and some print out the last line\u001B[0m\u001B[0;34m\u001B[0m\u001B[0;34m\u001B[0m\u001B[0;34m\u001B[0m\u001B[0m\n\u001B[0;32m--> 173\u001B[0;31m     Variable._execution_engine.run_backward(  # Calls into the C++ engine to run the backward pass\n\u001B[0m\u001B[1;32m    174\u001B[0m         \u001B[0mtensors\u001B[0m\u001B[0;34m,\u001B[0m \u001B[0mgrad_tensors_\u001B[0m\u001B[0;34m,\u001B[0m \u001B[0mretain_graph\u001B[0m\u001B[0;34m,\u001B[0m \u001B[0mcreate_graph\u001B[0m\u001B[0;34m,\u001B[0m \u001B[0minputs\u001B[0m\u001B[0;34m,\u001B[0m\u001B[0;34m\u001B[0m\u001B[0;34m\u001B[0m\u001B[0m\n\u001B[1;32m    175\u001B[0m         allow_unreachable=True, accumulate_grad=True)  # Calls into the C++ engine to run the backward pass\n",
      "\u001B[0;31mRuntimeError\u001B[0m: one of the variables needed for gradient computation has been modified by an inplace operation: [torch.FloatTensor [20, 10]], which is output 0 of AsStridedBackward0, is at version 23416; expected version 23415 instead. Hint: enable anomaly detection to find the operation that failed to compute its gradient, with torch.autograd.set_detect_anomaly(True)."
     ]
    }
   ],
   "source": [
    "\"\"\"===============================实例化问题对象===========================\"\"\"\n",
    "\n",
    "problem = MOEA(train_data_loader, test_data_loader) # 生成问题对象\n",
    "\n",
    "\"\"\"=================================种群设置===============================\"\"\"\n",
    "\n",
    "Encoding = 'RI'       # 编码方式\n",
    "NIND = 10             # 种群规模\n",
    "Field = ea.crtfld(Encoding, problem.varTypes, problem.ranges, problem.borders) # 创建区域描述器\n",
    "population = ea.Population(Encoding, Field, NIND) # 实例化种群对象（此时种群还没被初始化，仅仅是完成种群对象的实例化）\n",
    "\n",
    "\"\"\"===============================算法参数设置=============================\"\"\"\n",
    "\n",
    "myAlgorithm = ea.soea_DE_rand_1_bin_templet(problem, population) # 实例化一个算法模板对象\n",
    "myAlgorithm.MAXGEN = 10 # 最大进化代数\n",
    "myAlgorithm.trappedValue = 1e-6 # “进化停滞”判断阈值\n",
    "myAlgorithm.maxTrappedCount = 10 # 进化停滞计数器最大上限值，如果连续maxTrappedCount代被判定进化陷入停滞，则终止进化\n",
    "myAlgorithm.logTras = 1  # 设置每隔多少代记录日志，若设置成0则表示不记录日志\n",
    "myAlgorithm.verbose = True  # 设置是否打印输出日志信息\n",
    "myAlgorithm.drawing = 1  # 设置绘图方式（0：不绘图；1：绘制结果图；2：绘制目标空间过程动画；3：绘制决策空间过程动画）\n",
    "\n",
    "\"\"\"===========================调用算法模板进行种群进化=======================\"\"\"\n",
    "\n",
    "[BestIndi, population] = myAlgorithm.run()  # 执行算法模板，得到最优个体以及最后一代种群\n",
    "BestIndi.save()  # 把最优个体的信息保存到文件中\n",
    "\n",
    "\"\"\"==================================输出结果=============================\"\"\"\n",
    "\n",
    "print('用时：%f 秒' % myAlgorithm.passTime)\n",
    "print('评价次数：%d 次' % myAlgorithm.evalsNum)\n",
    "if BestIndi.sizes != 0:\n",
    "    print('最优的目标函数值为：%s' % BestIndi.ObjV[0][0])\n",
    "    print('最优的控制变量值为：')\n",
    "    for i in range(BestIndi.Phen.shape[1]):\n",
    "        print(BestIndi.Phen[0, i])\n",
    "else:\n",
    "    print('没找到可行解。')\n",
    "\n",
    "\"\"\"=================================检验结果===============================\"\"\"\n",
    "\n",
    "problem.test(epochs= int(BestIndi.Phen[0][0]), alpha= float(BestIndi.Phen[0][1]))\n"
   ],
   "metadata": {
    "collapsed": false
   }
  },
  {
   "cell_type": "code",
   "execution_count": null,
   "outputs": [],
   "source": [],
   "metadata": {
    "collapsed": false
   }
  }
 ],
 "metadata": {
  "kernelspec": {
   "display_name": "pytorch",
   "language": "python",
   "name": "pytorch"
  },
  "language_info": {
   "codemirror_mode": {
    "name": "ipython",
    "version": 3
   },
   "file_extension": ".py",
   "mimetype": "text/x-python",
   "name": "python",
   "nbconvert_exporter": "python",
   "pygments_lexer": "ipython3",
   "version": "3.8.5"
  }
 },
 "nbformat": 4,
 "nbformat_minor": 4
}
